{
 "cells": [
  {
   "cell_type": "code",
   "execution_count": 1,
   "id": "7cd33bbc",
   "metadata": {},
   "outputs": [],
   "source": [
    "%load_ext autoreload\n",
    "%autoreload 2"
   ]
  },
  {
   "cell_type": "markdown",
   "id": "2ec950c6",
   "metadata": {},
   "source": [
    "# MNIST"
   ]
  },
  {
   "cell_type": "code",
   "execution_count": 6,
   "id": "135af252",
   "metadata": {},
   "outputs": [],
   "source": [
    "from sklearn.datasets import fetch_openml\n",
    "from sklearn.model_selection import train_test_split\n",
    "\n",
    "X, y = fetch_openml('mnist_784', version=1, return_X_y=True, as_frame=False)"
   ]
  },
  {
   "cell_type": "code",
   "execution_count": 7,
   "id": "0ab6d741",
   "metadata": {},
   "outputs": [],
   "source": [
    "X_trainval, X_test, y_trainval, y_test = train_test_split(\n",
    "    X, y, test_size=10000, random_state=42, stratify=y\n",
    ")\n",
    "\n",
    "X_train, X_val, y_train, y_val = train_test_split(\n",
    "    X_trainval, y_trainval, test_size=10000, random_state=42, stratify=y_trainval\n",
    ")"
   ]
  },
  {
   "cell_type": "code",
   "execution_count": 10,
   "id": "e2df52fa",
   "metadata": {},
   "outputs": [
    {
     "name": "stderr",
     "output_type": "stream",
     "text": [
      "Training:  10%|█         | 1615/15620 [00:02<00:29, 467.81it/s]"
     ]
    },
    {
     "name": "stdout",
     "output_type": "stream",
     "text": [
      "Epoch:   1, train loss: 0.563306, train accuracy: 85.37%, validation loss: 0.309056, validation accuracy: 91.11%\n"
     ]
    },
    {
     "name": "stderr",
     "output_type": "stream",
     "text": [
      "Training:  20%|██        | 3170/15620 [00:05<00:23, 530.34it/s]"
     ]
    },
    {
     "name": "stdout",
     "output_type": "stream",
     "text": [
      "Epoch:   2, train loss: 0.276264, train accuracy: 92.22%, validation loss: 0.245097, validation accuracy: 93.06%\n"
     ]
    },
    {
     "name": "stderr",
     "output_type": "stream",
     "text": [
      "Training:  31%|███       | 4766/15620 [00:08<00:21, 500.87it/s]"
     ]
    },
    {
     "name": "stdout",
     "output_type": "stream",
     "text": [
      "Epoch:   3, train loss: 0.226034, train accuracy: 93.53%, validation loss: 0.210444, validation accuracy: 93.88%\n"
     ]
    },
    {
     "name": "stderr",
     "output_type": "stream",
     "text": [
      "Training:  40%|████      | 6316/15620 [00:10<00:16, 552.71it/s]"
     ]
    },
    {
     "name": "stdout",
     "output_type": "stream",
     "text": [
      "Epoch:   4, train loss: 0.194962, train accuracy: 94.43%, validation loss: 0.187245, validation accuracy: 94.53%\n"
     ]
    },
    {
     "name": "stderr",
     "output_type": "stream",
     "text": [
      "Training:  51%|█████     | 7895/15620 [00:12<00:13, 570.27it/s]"
     ]
    },
    {
     "name": "stdout",
     "output_type": "stream",
     "text": [
      "Epoch:   5, train loss: 0.171285, train accuracy: 95.16%, validation loss: 0.168982, validation accuracy: 94.92%\n"
     ]
    },
    {
     "name": "stderr",
     "output_type": "stream",
     "text": [
      "Training:  60%|██████    | 9434/15620 [00:15<00:11, 549.93it/s]"
     ]
    },
    {
     "name": "stdout",
     "output_type": "stream",
     "text": [
      "Epoch:   6, train loss: 0.152623, train accuracy: 95.59%, validation loss: 0.153901, validation accuracy: 95.42%\n"
     ]
    },
    {
     "name": "stderr",
     "output_type": "stream",
     "text": [
      "Training:  70%|███████   | 10994/15620 [00:17<00:08, 566.53it/s]"
     ]
    },
    {
     "name": "stdout",
     "output_type": "stream",
     "text": [
      "Epoch:   7, train loss: 0.138257, train accuracy: 95.98%, validation loss: 0.139032, validation accuracy: 95.98%\n"
     ]
    },
    {
     "name": "stderr",
     "output_type": "stream",
     "text": [
      "Training:  80%|████████  | 12551/15620 [00:20<00:07, 433.89it/s]"
     ]
    },
    {
     "name": "stdout",
     "output_type": "stream",
     "text": [
      "Epoch:   8, train loss: 0.125806, train accuracy: 96.33%, validation loss: 0.132256, validation accuracy: 95.99%\n"
     ]
    },
    {
     "name": "stderr",
     "output_type": "stream",
     "text": [
      "Training:  90%|█████████ | 14114/15620 [00:23<00:03, 422.60it/s]"
     ]
    },
    {
     "name": "stdout",
     "output_type": "stream",
     "text": [
      "Epoch:   9, train loss: 0.114847, train accuracy: 96.71%, validation loss: 0.126151, validation accuracy: 96.33%\n"
     ]
    },
    {
     "name": "stderr",
     "output_type": "stream",
     "text": [
      "Training: 100%|██████████| 15620/15620 [00:25<00:00, 608.76it/s]\n"
     ]
    },
    {
     "name": "stdout",
     "output_type": "stream",
     "text": [
      "Epoch:  10, train loss: 0.105822, train accuracy: 97.01%, validation loss: 0.120719, validation accuracy: 96.41%\n",
      "\n"
     ]
    },
    {
     "data": {
      "text/plain": [
       "(0.12451177127669814, np.float64(0.9648))"
      ]
     },
     "execution_count": 10,
     "metadata": {},
     "output_type": "execute_result"
    }
   ],
   "source": [
    "from dl_modules import train_mnist_model\n",
    "import numpy as np\n",
    "\n",
    "model = train_mnist_model(X_train, y_train, X_val, y_val)\n",
    "y_test_ohe = np.eye(10)[y_test.astype(int)]\n",
    "model.evaluate(X_test.astype(np.float32)/255.0, y_test_ohe, 200)"
   ]
  },
  {
   "cell_type": "code",
   "execution_count": 11,
   "id": "601f27b8",
   "metadata": {},
   "outputs": [
    {
     "name": "stdout",
     "output_type": "stream",
     "text": [
      "               Dense | input: (784,)               output: (256,)               | params:          200,960\n",
      "                ReLU | input: (256,)               output: (256,)               | params:                0\n",
      "               Dense | input: (256,)               output: (256,)               | params:           65,792\n",
      "                ReLU | input: (256,)               output: (256,)               | params:                0\n",
      "               Dense | input: (256,)               output: (10,)                | params:            2,570\n",
      "             Softmax | input: (10,)                output: (10,)                | params:                0\n",
      "----------------------------------------------------------------------------------------------------------\n",
      "               Total | total parameters:              269,322\n"
     ]
    }
   ],
   "source": [
    "print(model)"
   ]
  },
  {
   "cell_type": "markdown",
   "id": "c2f60067",
   "metadata": {},
   "source": [
    "# CIFAR10"
   ]
  },
  {
   "cell_type": "code",
   "execution_count": 1,
   "id": "bd8511a9",
   "metadata": {},
   "outputs": [],
   "source": [
    "%load_ext autoreload\n",
    "%autoreload 2"
   ]
  },
  {
   "cell_type": "code",
   "execution_count": 2,
   "id": "095afca9",
   "metadata": {},
   "outputs": [
    {
     "name": "stderr",
     "output_type": "stream",
     "text": [
      "/Users/ruslanf/Library/Python/3.9/lib/python/site-packages/urllib3/__init__.py:35: NotOpenSSLWarning: urllib3 v2 only supports OpenSSL 1.1.1+, currently the 'ssl' module is compiled with 'LibreSSL 2.8.3'. See: https://github.com/urllib3/urllib3/issues/3020\n",
      "  warnings.warn(\n"
     ]
    },
    {
     "name": "stdout",
     "output_type": "stream",
     "text": [
      "Train: (50000, 32, 32, 3) (50000, 1)\n",
      "Test: (10000, 32, 32, 3) (10000, 1)\n",
      "\n",
      "Number of classes: 10\n"
     ]
    }
   ],
   "source": [
    "\n",
    "import numpy as np\n",
    "from sklearn.model_selection import train_test_split\n",
    "from tensorflow.keras.datasets import cifar10\n",
    "\n",
    "\n",
    "(x_train, y_train), (x_test, y_test) = cifar10.load_data()\n",
    "\n",
    "cifar_mean = np.array([0.4914, 0.4822, 0.4465])\n",
    "cifar_std = np.array([0.2470, 0.2435, 0.2616])\n",
    "\n",
    "x_train = (x_train.astype(np.float32)/255.0 - cifar_mean) / cifar_std\n",
    "x_test = (x_test.astype(np.float32)/255.0 - cifar_mean) / cifar_std\n",
    "\n",
    "\n",
    "print(\"Train:\", x_train.shape, y_train.shape)\n",
    "print(\"Test:\", x_test.shape, y_test.shape)\n",
    "print(\"\\nNumber of classes:\", len(np.unique(y_train)))"
   ]
  },
  {
   "cell_type": "code",
   "execution_count": 3,
   "id": "3652dc22",
   "metadata": {},
   "outputs": [
    {
     "name": "stdout",
     "output_type": "stream",
     "text": [
      "Training set: (50000, 3, 32, 32) (50000, 10)\n",
      "Test set: (10000, 3, 32, 32) (10000, 10)\n"
     ]
    }
   ],
   "source": [
    "number_of_classes = 10\n",
    "\n",
    "x_train_ = x_train.transpose(0,3,1,2)\n",
    "x_test_ = x_test.transpose(0,3,1,2)\n",
    "y_train_ohe = np.eye(number_of_classes, dtype=np.float32)[y_train.ravel()]\n",
    "y_test_ohe = np.eye(number_of_classes, dtype=np.float32)[y_test.ravel()]\n",
    "\n",
    "print('Training set:', x_train_.shape, y_train_ohe.shape)\n",
    "print('Test set:', x_test_.shape, y_test_ohe.shape)"
   ]
  },
  {
   "cell_type": "code",
   "execution_count": 4,
   "id": "d5672c52",
   "metadata": {},
   "outputs": [
    {
     "name": "stdout",
     "output_type": "stream",
     "text": [
      "Learning rate:  0.01 , momentum:  0.9 , batch size:  128 , epochs:  10 , weight_decay: 0.001\n"
     ]
    },
    {
     "name": "stderr",
     "output_type": "stream",
     "text": [
      "Training:  10%|█         | 390/3900 [01:58<23:14,  2.52it/s]"
     ]
    },
    {
     "name": "stdout",
     "output_type": "stream",
     "text": [
      "Epoch:   1, train loss: 1.540034, train accuracy: 44.78%, validation loss: 1.259351, validation accuracy: 55.70%\n"
     ]
    },
    {
     "name": "stderr",
     "output_type": "stream",
     "text": [
      "Training:  20%|██        | 780/3900 [04:05<17:35,  2.96it/s]  "
     ]
    },
    {
     "name": "stdout",
     "output_type": "stream",
     "text": [
      "Epoch:   2, train loss: 1.220602, train accuracy: 56.52%, validation loss: 1.092741, validation accuracy: 60.43%\n"
     ]
    },
    {
     "name": "stderr",
     "output_type": "stream",
     "text": [
      "Training:  30%|███       | 1170/3900 [06:10<12:11,  3.73it/s] "
     ]
    },
    {
     "name": "stdout",
     "output_type": "stream",
     "text": [
      "Epoch:   3, train loss: 1.079972, train accuracy: 61.61%, validation loss: 0.961158, validation accuracy: 66.85%\n"
     ]
    },
    {
     "name": "stderr",
     "output_type": "stream",
     "text": [
      "Training:  40%|████      | 1560/3900 [08:11<11:05,  3.52it/s]  "
     ]
    },
    {
     "name": "stdout",
     "output_type": "stream",
     "text": [
      "Epoch:   4, train loss: 0.984053, train accuracy: 65.20%, validation loss: 0.912132, validation accuracy: 68.03%\n"
     ]
    },
    {
     "name": "stderr",
     "output_type": "stream",
     "text": [
      "Training:  50%|█████     | 1950/3900 [10:13<09:35,  3.39it/s]  "
     ]
    },
    {
     "name": "stdout",
     "output_type": "stream",
     "text": [
      "Epoch:   5, train loss: 0.900539, train accuracy: 68.18%, validation loss: 0.905999, validation accuracy: 68.85%\n"
     ]
    },
    {
     "name": "stderr",
     "output_type": "stream",
     "text": [
      "Training:  60%|██████    | 2340/3900 [12:23<07:17,  3.57it/s]  "
     ]
    },
    {
     "name": "stdout",
     "output_type": "stream",
     "text": [
      "Epoch:   6, train loss: 0.835204, train accuracy: 70.45%, validation loss: 0.824331, validation accuracy: 71.56%\n"
     ]
    },
    {
     "name": "stderr",
     "output_type": "stream",
     "text": [
      "Training:  70%|███████   | 2730/3900 [14:26<05:16,  3.70it/s]  "
     ]
    },
    {
     "name": "stdout",
     "output_type": "stream",
     "text": [
      "Epoch:   7, train loss: 0.780159, train accuracy: 72.60%, validation loss: 0.888020, validation accuracy: 69.69%\n"
     ]
    },
    {
     "name": "stderr",
     "output_type": "stream",
     "text": [
      "Training:  80%|████████  | 3120/3900 [16:33<03:45,  3.46it/s]  "
     ]
    },
    {
     "name": "stdout",
     "output_type": "stream",
     "text": [
      "Epoch:   8, train loss: 0.724700, train accuracy: 74.58%, validation loss: 0.785224, validation accuracy: 72.78%\n"
     ]
    },
    {
     "name": "stderr",
     "output_type": "stream",
     "text": [
      "Training:  90%|█████████ | 3510/3900 [18:47<01:50,  3.54it/s]"
     ]
    },
    {
     "name": "stdout",
     "output_type": "stream",
     "text": [
      "Epoch:   9, train loss: 0.686290, train accuracy: 75.82%, validation loss: 0.775161, validation accuracy: 73.37%\n"
     ]
    },
    {
     "name": "stderr",
     "output_type": "stream",
     "text": [
      "Training: 100%|██████████| 3900/3900 [20:48<00:00,  3.12it/s]\n"
     ]
    },
    {
     "name": "stdout",
     "output_type": "stream",
     "text": [
      "Epoch:  10, train loss: 0.644922, train accuracy: 77.27%, validation loss: 0.787044, validation accuracy: 72.94%\n",
      "\n"
     ]
    }
   ],
   "source": [
    "from dl_modules import train_cifar10_model\n",
    "\n",
    "model = train_cifar10_model(x_train_, y_train_ohe, x_test_, y_test_ohe)"
   ]
  },
  {
   "cell_type": "code",
   "execution_count": 5,
   "id": "9f187d56",
   "metadata": {},
   "outputs": [
    {
     "name": "stdout",
     "output_type": "stream",
     "text": [
      "              Conv2D | input: (3, 32, 32)          output: (16, 32, 32)         | params:              448\n",
      "                ReLU | input: (16, 32, 32)         output: (16, 32, 32)         | params:                0\n",
      "           BatchNorm | input: (16, 32, 32)         output: (16, 32, 32)         | params:               32\n",
      "           Pooling2D | input: (16, 32, 32)         output: (16, 16, 16)         | params:                0\n",
      "      SpatialDropout | input: (16, 16, 16)         output: (16, 16, 16)         | params:                0\n",
      "              Conv2D | input: (16, 16, 16)         output: (64, 16, 16)         | params:            9,280\n",
      "                ReLU | input: (64, 16, 16)         output: (64, 16, 16)         | params:                0\n",
      "           BatchNorm | input: (64, 16, 16)         output: (64, 16, 16)         | params:              128\n",
      "           Pooling2D | input: (64, 16, 16)         output: (64, 8, 8)           | params:                0\n",
      "      SpatialDropout | input: (64, 8, 8)           output: (64, 8, 8)           | params:                0\n",
      "             Flatten | input: (64, 8, 8)           output: (np.int64(4096),)    | params:                0\n",
      "               Dense | input: (np.int64(4096),)    output: (256,)               | params:        1,048,832\n",
      "                ReLU | input: (256,)               output: (256,)               | params:                0\n",
      "             Dropout | input: (256,)               output: (256,)               | params:                0\n",
      "               Dense | input: (256,)               output: (10,)                | params:            2,570\n",
      "             Softmax | input: (10,)                output: (10,)                | params:                0\n",
      "----------------------------------------------------------------------------------------------------------\n",
      "               Total | total parameters:            1,061,290\n"
     ]
    }
   ],
   "source": [
    "print(model)"
   ]
  }
 ],
 "metadata": {
  "kernelspec": {
   "display_name": "Python 3",
   "language": "python",
   "name": "python3"
  },
  "language_info": {
   "codemirror_mode": {
    "name": "ipython",
    "version": 3
   },
   "file_extension": ".py",
   "mimetype": "text/x-python",
   "name": "python",
   "nbconvert_exporter": "python",
   "pygments_lexer": "ipython3",
   "version": "3.9.6"
  }
 },
 "nbformat": 4,
 "nbformat_minor": 5
}
