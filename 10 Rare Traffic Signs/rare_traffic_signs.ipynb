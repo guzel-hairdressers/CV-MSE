{
 "cells": [
  {
   "cell_type": "code",
   "execution_count": 1,
   "id": "d1c6bca9",
   "metadata": {},
   "outputs": [],
   "source": [
    "%load_ext autoreload\n",
    "%autoreload 2"
   ]
  },
  {
   "cell_type": "markdown",
   "id": "6526bb27",
   "metadata": {},
   "source": [
    "# Image Transforms"
   ]
  },
  {
   "cell_type": "code",
   "execution_count": 61,
   "id": "a25bc936",
   "metadata": {},
   "outputs": [
    {
     "name": "stderr",
     "output_type": "stream",
     "text": [
      "c:\\Users\\fazul\\AppData\\Local\\Programs\\Python\\Python310\\lib\\site-packages\\albumentations\\core\\validation.py:114: UserWarning: ShiftScaleRotate is a special case of Affine transform. Please use Affine transform instead.\n",
      "  original_init(self, **validated_kwargs)\n"
     ]
    }
   ],
   "source": [
    "import albumentations as A\n",
    "\n",
    "transform = A.Compose([\n",
    "    A.ShiftScaleRotate(shift_limit=.05, scale_limit=.1, rotate_limit=15, p=.7),\n",
    "    A.CoarseDropout(num_holes_range=(2, 4), hole_width_range=(0.05, 0.2), hole_height_range=(0.05, 0.2), p=.5),\n",
    "    A.OneOf([\n",
    "        A.GaussianBlur(blur_limit=(3, 5), p=0.5),\n",
    "        A.MotionBlur(blur_limit=(3, 5), p=0.5),\n",
    "    ], p=0.5),\n",
    "    A.GaussNoise(std_range=(.001, .02), p=0.5),\n",
    "    A.ColorJitter(brightness=(.4, 1.3), contrast=.3, saturation=(.0, 1.0), hue=.05, p=.8),\n",
    "    A.RandomBrightnessContrast(p=0.5),\n",
    "    A.Normalize(mean=[0.485, 0.456, 0.406], std=[0.229, 0.224, 0.225]),\n",
    "    A.pytorch.ToTensorV2()\n",
    "], keypoint_params=A.KeypointParams(format='xy', remove_invisible=False))"
   ]
  },
  {
   "cell_type": "markdown",
   "id": "209785aa",
   "metadata": {},
   "source": [
    "# Dataset without Synthetic Data"
   ]
  },
  {
   "cell_type": "code",
   "execution_count": 65,
   "id": "b9323857",
   "metadata": {},
   "outputs": [
    {
     "name": "stderr",
     "output_type": "stream",
     "text": [
      "c:\\Users\\fazul\\OneDrive\\Рабочий стол\\Мое\\Работа\\Computer Vision\\10 Rare Traffic Signs\\rare_traffic_signs.py:92: UserWarning: Argument(s) 'value' are not valid for transform PadIfNeeded\n",
      "  A.PadIfNeeded(min_height=target_size, min_width=target_size, border_mode=cv2.BORDER_CONSTANT, value=0),\n",
      "c:\\Users\\fazul\\OneDrive\\Рабочий стол\\Мое\\Работа\\Computer Vision\\10 Rare Traffic Signs\\rare_traffic_signs.py:102: FutureWarning: The behavior of 'to_datetime' with 'unit' when parsing strings is deprecated. In a future version, strings will be parsed as datetime strings, matching the behavior without a 'unit'. To retain the old behavior, explicitly cast ints or floats to numeric type before calling to_datetime.\n",
      "  self.classes = pd.read_json(classes_json, orient='index')\n",
      "c:\\Users\\fazul\\OneDrive\\Рабочий стол\\Мое\\Работа\\Computer Vision\\10 Rare Traffic Signs\\rare_traffic_signs.py:102: FutureWarning: The behavior of 'to_datetime' with 'unit' when parsing strings is deprecated. In a future version, strings will be parsed as datetime strings, matching the behavior without a 'unit'. To retain the old behavior, explicitly cast ints or floats to numeric type before calling to_datetime.\n",
      "  self.classes = pd.read_json(classes_json, orient='index')\n",
      "c:\\Users\\fazul\\OneDrive\\Рабочий стол\\Мое\\Работа\\Computer Vision\\10 Rare Traffic Signs\\rare_traffic_signs.py:102: FutureWarning: The behavior of 'to_datetime' with 'unit' when parsing strings is deprecated. In a future version, strings will be parsed as datetime strings, matching the behavior without a 'unit'. To retain the old behavior, explicitly cast ints or floats to numeric type before calling to_datetime.\n",
      "  self.classes = pd.read_json(classes_json, orient='index')\n",
      "c:\\Users\\fazul\\OneDrive\\Рабочий стол\\Мое\\Работа\\Computer Vision\\10 Rare Traffic Signs\\rare_traffic_signs.py:92: UserWarning: Argument(s) 'value' are not valid for transform PadIfNeeded\n",
      "  A.PadIfNeeded(min_height=target_size, min_width=target_size, border_mode=cv2.BORDER_CONSTANT, value=0),\n",
      "c:\\Users\\fazul\\OneDrive\\Рабочий стол\\Мое\\Работа\\Computer Vision\\10 Rare Traffic Signs\\rare_traffic_signs.py:102: FutureWarning: The behavior of 'to_datetime' with 'unit' when parsing strings is deprecated. In a future version, strings will be parsed as datetime strings, matching the behavior without a 'unit'. To retain the old behavior, explicitly cast ints or floats to numeric type before calling to_datetime.\n",
      "  self.classes = pd.read_json(classes_json, orient='index')\n",
      "c:\\Users\\fazul\\OneDrive\\Рабочий стол\\Мое\\Работа\\Computer Vision\\10 Rare Traffic Signs\\rare_traffic_signs.py:102: FutureWarning: The behavior of 'to_datetime' with 'unit' when parsing strings is deprecated. In a future version, strings will be parsed as datetime strings, matching the behavior without a 'unit'. To retain the old behavior, explicitly cast ints or floats to numeric type before calling to_datetime.\n",
      "  self.classes = pd.read_json(classes_json, orient='index')\n",
      "c:\\Users\\fazul\\OneDrive\\Рабочий стол\\Мое\\Работа\\Computer Vision\\10 Rare Traffic Signs\\rare_traffic_signs.py:102: FutureWarning: The behavior of 'to_datetime' with 'unit' when parsing strings is deprecated. In a future version, strings will be parsed as datetime strings, matching the behavior without a 'unit'. To retain the old behavior, explicitly cast ints or floats to numeric type before calling to_datetime.\n",
      "  self.classes = pd.read_json(classes_json, orient='index')\n"
     ]
    }
   ],
   "source": [
    "from rare_traffic_signs import RareTrafficSignsDataset\n",
    "from torch.utils.data import DataLoader, random_split\n",
    "import torch\n",
    "\n",
    "device = torch.device('cuda:0' if torch.cuda.is_available() else 'cpu')\n",
    "\n",
    "batch_size = 256\n",
    "\n",
    "train_small_dataset = RareTrafficSignsDataset('./tests/classes.json', './tests/cropped_train')\n",
    "val_test_small_dataset = RareTrafficSignsDataset('./tests/classes.json', './tests/smalltest', test_classes_csv='./tests/smalltest_annotations.csv')\n",
    "\n",
    "val_small_size = int(.5 * len(val_test_small_dataset))\n",
    "test_small_size = len(val_test_small_dataset) - val_small_size\n",
    "\n",
    "val_small_subset, test_small_subset = random_split(val_test_small_dataset, (val_small_size, test_small_size))\n",
    "\n",
    "train_small_loader = DataLoader(train_small_dataset, batch_size, shuffle=True, num_workers=16, pin_memory=True, persistent_workers=True)\n",
    "val_small_loader = DataLoader(val_small_subset, batch_size, shuffle=False)\n",
    "test_small_loader = DataLoader(test_small_subset, batch_size, shuffle=False)"
   ]
  },
  {
   "cell_type": "markdown",
   "id": "cab335b9",
   "metadata": {},
   "source": [
    "# EfficientNet"
   ]
  },
  {
   "cell_type": "code",
   "execution_count": 72,
   "id": "1688f57e",
   "metadata": {},
   "outputs": [
    {
     "name": "stdout",
     "output_type": "stream",
     "text": [
      "EfficientNet(\n",
      "  (conv_stem): Conv2d(3, 32, kernel_size=(3, 3), stride=(2, 2), padding=(1, 1), bias=False)\n",
      "  (bn1): BatchNormAct2d(\n",
      "    32, eps=1e-05, momentum=0.1, affine=True, track_running_stats=True\n",
      "    (drop): Identity()\n",
      "    (act): SiLU(inplace=True)\n",
      "  )\n",
      "  (blocks): Sequential(\n",
      "    (0): Sequential(\n",
      "      (0): DepthwiseSeparableConv(\n",
      "        (conv_dw): Conv2d(32, 32, kernel_size=(3, 3), stride=(1, 1), padding=(1, 1), groups=32, bias=False)\n",
      "        (bn1): BatchNormAct2d(\n",
      "          32, eps=1e-05, momentum=0.1, affine=True, track_running_stats=True\n",
      "          (drop): Identity()\n",
      "          (act): SiLU(inplace=True)\n",
      "        )\n",
      "        (aa): Identity()\n",
      "        (se): SqueezeExcite(\n",
      "          (conv_reduce): Conv2d(32, 8, kernel_size=(1, 1), stride=(1, 1))\n",
      "          (act1): SiLU(inplace=True)\n",
      "          (conv_expand): Conv2d(8, 32, kernel_size=(1, 1), stride=(1, 1))\n",
      "          (gate): Sigmoid()\n",
      "        )\n",
      "        (conv_pw): Conv2d(32, 16, kernel_size=(1, 1), stride=(1, 1), bias=False)\n",
      "        (bn2): BatchNormAct2d(\n",
      "          16, eps=1e-05, momentum=0.1, affine=True, track_running_stats=True\n",
      "          (drop): Identity()\n",
      "          (act): Identity()\n",
      "        )\n",
      "        (drop_path): Identity()\n",
      "      )\n",
      "    )\n",
      "    (1): Sequential(\n",
      "      (0): InvertedResidual(\n",
      "        (conv_pw): Conv2d(16, 96, kernel_size=(1, 1), stride=(1, 1), bias=False)\n",
      "        (bn1): BatchNormAct2d(\n",
      "          96, eps=1e-05, momentum=0.1, affine=True, track_running_stats=True\n",
      "          (drop): Identity()\n",
      "          (act): SiLU(inplace=True)\n",
      "        )\n",
      "        (conv_dw): Conv2d(96, 96, kernel_size=(3, 3), stride=(2, 2), padding=(1, 1), groups=96, bias=False)\n",
      "        (bn2): BatchNormAct2d(\n",
      "          96, eps=1e-05, momentum=0.1, affine=True, track_running_stats=True\n",
      "          (drop): Identity()\n",
      "          (act): SiLU(inplace=True)\n",
      "        )\n",
      "        (aa): Identity()\n",
      "        (se): SqueezeExcite(\n",
      "          (conv_reduce): Conv2d(96, 4, kernel_size=(1, 1), stride=(1, 1))\n",
      "          (act1): SiLU(inplace=True)\n",
      "          (conv_expand): Conv2d(4, 96, kernel_size=(1, 1), stride=(1, 1))\n",
      "          (gate): Sigmoid()\n",
      "        )\n",
      "        (conv_pwl): Conv2d(96, 24, kernel_size=(1, 1), stride=(1, 1), bias=False)\n",
      "        (bn3): BatchNormAct2d(\n",
      "          24, eps=1e-05, momentum=0.1, affine=True, track_running_stats=True\n",
      "          (drop): Identity()\n",
      "          (act): Identity()\n",
      "        )\n",
      "        (drop_path): Identity()\n",
      "      )\n",
      "      (1): InvertedResidual(\n",
      "        (conv_pw): Conv2d(24, 144, kernel_size=(1, 1), stride=(1, 1), bias=False)\n",
      "        (bn1): BatchNormAct2d(\n",
      "          144, eps=1e-05, momentum=0.1, affine=True, track_running_stats=True\n",
      "          (drop): Identity()\n",
      "          (act): SiLU(inplace=True)\n",
      "        )\n",
      "        (conv_dw): Conv2d(144, 144, kernel_size=(3, 3), stride=(1, 1), padding=(1, 1), groups=144, bias=False)\n",
      "        (bn2): BatchNormAct2d(\n",
      "          144, eps=1e-05, momentum=0.1, affine=True, track_running_stats=True\n",
      "          (drop): Identity()\n",
      "          (act): SiLU(inplace=True)\n",
      "        )\n",
      "        (aa): Identity()\n",
      "        (se): SqueezeExcite(\n",
      "          (conv_reduce): Conv2d(144, 6, kernel_size=(1, 1), stride=(1, 1))\n",
      "          (act1): SiLU(inplace=True)\n",
      "          (conv_expand): Conv2d(6, 144, kernel_size=(1, 1), stride=(1, 1))\n",
      "          (gate): Sigmoid()\n",
      "        )\n",
      "        (conv_pwl): Conv2d(144, 24, kernel_size=(1, 1), stride=(1, 1), bias=False)\n",
      "        (bn3): BatchNormAct2d(\n",
      "          24, eps=1e-05, momentum=0.1, affine=True, track_running_stats=True\n",
      "          (drop): Identity()\n",
      "          (act): Identity()\n",
      "        )\n",
      "        (drop_path): Identity()\n",
      "      )\n",
      "    )\n",
      "    (2): Sequential(\n",
      "      (0): InvertedResidual(\n",
      "        (conv_pw): Conv2d(24, 144, kernel_size=(1, 1), stride=(1, 1), bias=False)\n",
      "        (bn1): BatchNormAct2d(\n",
      "          144, eps=1e-05, momentum=0.1, affine=True, track_running_stats=True\n",
      "          (drop): Identity()\n",
      "          (act): SiLU(inplace=True)\n",
      "        )\n",
      "        (conv_dw): Conv2d(144, 144, kernel_size=(5, 5), stride=(2, 2), padding=(2, 2), groups=144, bias=False)\n",
      "        (bn2): BatchNormAct2d(\n",
      "          144, eps=1e-05, momentum=0.1, affine=True, track_running_stats=True\n",
      "          (drop): Identity()\n",
      "          (act): SiLU(inplace=True)\n",
      "        )\n",
      "        (aa): Identity()\n",
      "        (se): SqueezeExcite(\n",
      "          (conv_reduce): Conv2d(144, 6, kernel_size=(1, 1), stride=(1, 1))\n",
      "          (act1): SiLU(inplace=True)\n",
      "          (conv_expand): Conv2d(6, 144, kernel_size=(1, 1), stride=(1, 1))\n",
      "          (gate): Sigmoid()\n",
      "        )\n",
      "        (conv_pwl): Conv2d(144, 40, kernel_size=(1, 1), stride=(1, 1), bias=False)\n",
      "        (bn3): BatchNormAct2d(\n",
      "          40, eps=1e-05, momentum=0.1, affine=True, track_running_stats=True\n",
      "          (drop): Identity()\n",
      "          (act): Identity()\n",
      "        )\n",
      "        (drop_path): Identity()\n",
      "      )\n",
      "      (1): InvertedResidual(\n",
      "        (conv_pw): Conv2d(40, 240, kernel_size=(1, 1), stride=(1, 1), bias=False)\n",
      "        (bn1): BatchNormAct2d(\n",
      "          240, eps=1e-05, momentum=0.1, affine=True, track_running_stats=True\n",
      "          (drop): Identity()\n",
      "          (act): SiLU(inplace=True)\n",
      "        )\n",
      "        (conv_dw): Conv2d(240, 240, kernel_size=(5, 5), stride=(1, 1), padding=(2, 2), groups=240, bias=False)\n",
      "        (bn2): BatchNormAct2d(\n",
      "          240, eps=1e-05, momentum=0.1, affine=True, track_running_stats=True\n",
      "          (drop): Identity()\n",
      "          (act): SiLU(inplace=True)\n",
      "        )\n",
      "        (aa): Identity()\n",
      "        (se): SqueezeExcite(\n",
      "          (conv_reduce): Conv2d(240, 10, kernel_size=(1, 1), stride=(1, 1))\n",
      "          (act1): SiLU(inplace=True)\n",
      "          (conv_expand): Conv2d(10, 240, kernel_size=(1, 1), stride=(1, 1))\n",
      "          (gate): Sigmoid()\n",
      "        )\n",
      "        (conv_pwl): Conv2d(240, 40, kernel_size=(1, 1), stride=(1, 1), bias=False)\n",
      "        (bn3): BatchNormAct2d(\n",
      "          40, eps=1e-05, momentum=0.1, affine=True, track_running_stats=True\n",
      "          (drop): Identity()\n",
      "          (act): Identity()\n",
      "        )\n",
      "        (drop_path): Identity()\n",
      "      )\n",
      "    )\n",
      "    (3): Sequential(\n",
      "      (0): InvertedResidual(\n",
      "        (conv_pw): Conv2d(40, 240, kernel_size=(1, 1), stride=(1, 1), bias=False)\n",
      "        (bn1): BatchNormAct2d(\n",
      "          240, eps=1e-05, momentum=0.1, affine=True, track_running_stats=True\n",
      "          (drop): Identity()\n",
      "          (act): SiLU(inplace=True)\n",
      "        )\n",
      "        (conv_dw): Conv2d(240, 240, kernel_size=(3, 3), stride=(2, 2), padding=(1, 1), groups=240, bias=False)\n",
      "        (bn2): BatchNormAct2d(\n",
      "          240, eps=1e-05, momentum=0.1, affine=True, track_running_stats=True\n",
      "          (drop): Identity()\n",
      "          (act): SiLU(inplace=True)\n",
      "        )\n",
      "        (aa): Identity()\n",
      "        (se): SqueezeExcite(\n",
      "          (conv_reduce): Conv2d(240, 10, kernel_size=(1, 1), stride=(1, 1))\n",
      "          (act1): SiLU(inplace=True)\n",
      "          (conv_expand): Conv2d(10, 240, kernel_size=(1, 1), stride=(1, 1))\n",
      "          (gate): Sigmoid()\n",
      "        )\n",
      "        (conv_pwl): Conv2d(240, 80, kernel_size=(1, 1), stride=(1, 1), bias=False)\n",
      "        (bn3): BatchNormAct2d(\n",
      "          80, eps=1e-05, momentum=0.1, affine=True, track_running_stats=True\n",
      "          (drop): Identity()\n",
      "          (act): Identity()\n",
      "        )\n",
      "        (drop_path): Identity()\n",
      "      )\n",
      "      (1): InvertedResidual(\n",
      "        (conv_pw): Conv2d(80, 480, kernel_size=(1, 1), stride=(1, 1), bias=False)\n",
      "        (bn1): BatchNormAct2d(\n",
      "          480, eps=1e-05, momentum=0.1, affine=True, track_running_stats=True\n",
      "          (drop): Identity()\n",
      "          (act): SiLU(inplace=True)\n",
      "        )\n",
      "        (conv_dw): Conv2d(480, 480, kernel_size=(3, 3), stride=(1, 1), padding=(1, 1), groups=480, bias=False)\n",
      "        (bn2): BatchNormAct2d(\n",
      "          480, eps=1e-05, momentum=0.1, affine=True, track_running_stats=True\n",
      "          (drop): Identity()\n",
      "          (act): SiLU(inplace=True)\n",
      "        )\n",
      "        (aa): Identity()\n",
      "        (se): SqueezeExcite(\n",
      "          (conv_reduce): Conv2d(480, 20, kernel_size=(1, 1), stride=(1, 1))\n",
      "          (act1): SiLU(inplace=True)\n",
      "          (conv_expand): Conv2d(20, 480, kernel_size=(1, 1), stride=(1, 1))\n",
      "          (gate): Sigmoid()\n",
      "        )\n",
      "        (conv_pwl): Conv2d(480, 80, kernel_size=(1, 1), stride=(1, 1), bias=False)\n",
      "        (bn3): BatchNormAct2d(\n",
      "          80, eps=1e-05, momentum=0.1, affine=True, track_running_stats=True\n",
      "          (drop): Identity()\n",
      "          (act): Identity()\n",
      "        )\n",
      "        (drop_path): Identity()\n",
      "      )\n",
      "      (2): InvertedResidual(\n",
      "        (conv_pw): Conv2d(80, 480, kernel_size=(1, 1), stride=(1, 1), bias=False)\n",
      "        (bn1): BatchNormAct2d(\n",
      "          480, eps=1e-05, momentum=0.1, affine=True, track_running_stats=True\n",
      "          (drop): Identity()\n",
      "          (act): SiLU(inplace=True)\n",
      "        )\n",
      "        (conv_dw): Conv2d(480, 480, kernel_size=(3, 3), stride=(1, 1), padding=(1, 1), groups=480, bias=False)\n",
      "        (bn2): BatchNormAct2d(\n",
      "          480, eps=1e-05, momentum=0.1, affine=True, track_running_stats=True\n",
      "          (drop): Identity()\n",
      "          (act): SiLU(inplace=True)\n",
      "        )\n",
      "        (aa): Identity()\n",
      "        (se): SqueezeExcite(\n",
      "          (conv_reduce): Conv2d(480, 20, kernel_size=(1, 1), stride=(1, 1))\n",
      "          (act1): SiLU(inplace=True)\n",
      "          (conv_expand): Conv2d(20, 480, kernel_size=(1, 1), stride=(1, 1))\n",
      "          (gate): Sigmoid()\n",
      "        )\n",
      "        (conv_pwl): Conv2d(480, 80, kernel_size=(1, 1), stride=(1, 1), bias=False)\n",
      "        (bn3): BatchNormAct2d(\n",
      "          80, eps=1e-05, momentum=0.1, affine=True, track_running_stats=True\n",
      "          (drop): Identity()\n",
      "          (act): Identity()\n",
      "        )\n",
      "        (drop_path): Identity()\n",
      "      )\n",
      "    )\n",
      "    (4): Sequential(\n",
      "      (0): InvertedResidual(\n",
      "        (conv_pw): Conv2d(80, 480, kernel_size=(1, 1), stride=(1, 1), bias=False)\n",
      "        (bn1): BatchNormAct2d(\n",
      "          480, eps=1e-05, momentum=0.1, affine=True, track_running_stats=True\n",
      "          (drop): Identity()\n",
      "          (act): SiLU(inplace=True)\n",
      "        )\n",
      "        (conv_dw): Conv2d(480, 480, kernel_size=(5, 5), stride=(1, 1), padding=(2, 2), groups=480, bias=False)\n",
      "        (bn2): BatchNormAct2d(\n",
      "          480, eps=1e-05, momentum=0.1, affine=True, track_running_stats=True\n",
      "          (drop): Identity()\n",
      "          (act): SiLU(inplace=True)\n",
      "        )\n",
      "        (aa): Identity()\n",
      "        (se): SqueezeExcite(\n",
      "          (conv_reduce): Conv2d(480, 20, kernel_size=(1, 1), stride=(1, 1))\n",
      "          (act1): SiLU(inplace=True)\n",
      "          (conv_expand): Conv2d(20, 480, kernel_size=(1, 1), stride=(1, 1))\n",
      "          (gate): Sigmoid()\n",
      "        )\n",
      "        (conv_pwl): Conv2d(480, 112, kernel_size=(1, 1), stride=(1, 1), bias=False)\n",
      "        (bn3): BatchNormAct2d(\n",
      "          112, eps=1e-05, momentum=0.1, affine=True, track_running_stats=True\n",
      "          (drop): Identity()\n",
      "          (act): Identity()\n",
      "        )\n",
      "        (drop_path): Identity()\n",
      "      )\n",
      "      (1): InvertedResidual(\n",
      "        (conv_pw): Conv2d(112, 672, kernel_size=(1, 1), stride=(1, 1), bias=False)\n",
      "        (bn1): BatchNormAct2d(\n",
      "          672, eps=1e-05, momentum=0.1, affine=True, track_running_stats=True\n",
      "          (drop): Identity()\n",
      "          (act): SiLU(inplace=True)\n",
      "        )\n",
      "        (conv_dw): Conv2d(672, 672, kernel_size=(5, 5), stride=(1, 1), padding=(2, 2), groups=672, bias=False)\n",
      "        (bn2): BatchNormAct2d(\n",
      "          672, eps=1e-05, momentum=0.1, affine=True, track_running_stats=True\n",
      "          (drop): Identity()\n",
      "          (act): SiLU(inplace=True)\n",
      "        )\n",
      "        (aa): Identity()\n",
      "        (se): SqueezeExcite(\n",
      "          (conv_reduce): Conv2d(672, 28, kernel_size=(1, 1), stride=(1, 1))\n",
      "          (act1): SiLU(inplace=True)\n",
      "          (conv_expand): Conv2d(28, 672, kernel_size=(1, 1), stride=(1, 1))\n",
      "          (gate): Sigmoid()\n",
      "        )\n",
      "        (conv_pwl): Conv2d(672, 112, kernel_size=(1, 1), stride=(1, 1), bias=False)\n",
      "        (bn3): BatchNormAct2d(\n",
      "          112, eps=1e-05, momentum=0.1, affine=True, track_running_stats=True\n",
      "          (drop): Identity()\n",
      "          (act): Identity()\n",
      "        )\n",
      "        (drop_path): Identity()\n",
      "      )\n",
      "      (2): InvertedResidual(\n",
      "        (conv_pw): Conv2d(112, 672, kernel_size=(1, 1), stride=(1, 1), bias=False)\n",
      "        (bn1): BatchNormAct2d(\n",
      "          672, eps=1e-05, momentum=0.1, affine=True, track_running_stats=True\n",
      "          (drop): Identity()\n",
      "          (act): SiLU(inplace=True)\n",
      "        )\n",
      "        (conv_dw): Conv2d(672, 672, kernel_size=(5, 5), stride=(1, 1), padding=(2, 2), groups=672, bias=False)\n",
      "        (bn2): BatchNormAct2d(\n",
      "          672, eps=1e-05, momentum=0.1, affine=True, track_running_stats=True\n",
      "          (drop): Identity()\n",
      "          (act): SiLU(inplace=True)\n",
      "        )\n",
      "        (aa): Identity()\n",
      "        (se): SqueezeExcite(\n",
      "          (conv_reduce): Conv2d(672, 28, kernel_size=(1, 1), stride=(1, 1))\n",
      "          (act1): SiLU(inplace=True)\n",
      "          (conv_expand): Conv2d(28, 672, kernel_size=(1, 1), stride=(1, 1))\n",
      "          (gate): Sigmoid()\n",
      "        )\n",
      "        (conv_pwl): Conv2d(672, 112, kernel_size=(1, 1), stride=(1, 1), bias=False)\n",
      "        (bn3): BatchNormAct2d(\n",
      "          112, eps=1e-05, momentum=0.1, affine=True, track_running_stats=True\n",
      "          (drop): Identity()\n",
      "          (act): Identity()\n",
      "        )\n",
      "        (drop_path): Identity()\n",
      "      )\n",
      "    )\n",
      "    (5): Sequential(\n",
      "      (0): InvertedResidual(\n",
      "        (conv_pw): Conv2d(112, 672, kernel_size=(1, 1), stride=(1, 1), bias=False)\n",
      "        (bn1): BatchNormAct2d(\n",
      "          672, eps=1e-05, momentum=0.1, affine=True, track_running_stats=True\n",
      "          (drop): Identity()\n",
      "          (act): SiLU(inplace=True)\n",
      "        )\n",
      "        (conv_dw): Conv2d(672, 672, kernel_size=(5, 5), stride=(2, 2), padding=(2, 2), groups=672, bias=False)\n",
      "        (bn2): BatchNormAct2d(\n",
      "          672, eps=1e-05, momentum=0.1, affine=True, track_running_stats=True\n",
      "          (drop): Identity()\n",
      "          (act): SiLU(inplace=True)\n",
      "        )\n",
      "        (aa): Identity()\n",
      "        (se): SqueezeExcite(\n",
      "          (conv_reduce): Conv2d(672, 28, kernel_size=(1, 1), stride=(1, 1))\n",
      "          (act1): SiLU(inplace=True)\n",
      "          (conv_expand): Conv2d(28, 672, kernel_size=(1, 1), stride=(1, 1))\n",
      "          (gate): Sigmoid()\n",
      "        )\n",
      "        (conv_pwl): Conv2d(672, 192, kernel_size=(1, 1), stride=(1, 1), bias=False)\n",
      "        (bn3): BatchNormAct2d(\n",
      "          192, eps=1e-05, momentum=0.1, affine=True, track_running_stats=True\n",
      "          (drop): Identity()\n",
      "          (act): Identity()\n",
      "        )\n",
      "        (drop_path): Identity()\n",
      "      )\n",
      "      (1): InvertedResidual(\n",
      "        (conv_pw): Conv2d(192, 1152, kernel_size=(1, 1), stride=(1, 1), bias=False)\n",
      "        (bn1): BatchNormAct2d(\n",
      "          1152, eps=1e-05, momentum=0.1, affine=True, track_running_stats=True\n",
      "          (drop): Identity()\n",
      "          (act): SiLU(inplace=True)\n",
      "        )\n",
      "        (conv_dw): Conv2d(1152, 1152, kernel_size=(5, 5), stride=(1, 1), padding=(2, 2), groups=1152, bias=False)\n",
      "        (bn2): BatchNormAct2d(\n",
      "          1152, eps=1e-05, momentum=0.1, affine=True, track_running_stats=True\n",
      "          (drop): Identity()\n",
      "          (act): SiLU(inplace=True)\n",
      "        )\n",
      "        (aa): Identity()\n",
      "        (se): SqueezeExcite(\n",
      "          (conv_reduce): Conv2d(1152, 48, kernel_size=(1, 1), stride=(1, 1))\n",
      "          (act1): SiLU(inplace=True)\n",
      "          (conv_expand): Conv2d(48, 1152, kernel_size=(1, 1), stride=(1, 1))\n",
      "          (gate): Sigmoid()\n",
      "        )\n",
      "        (conv_pwl): Conv2d(1152, 192, kernel_size=(1, 1), stride=(1, 1), bias=False)\n",
      "        (bn3): BatchNormAct2d(\n",
      "          192, eps=1e-05, momentum=0.1, affine=True, track_running_stats=True\n",
      "          (drop): Identity()\n",
      "          (act): Identity()\n",
      "        )\n",
      "        (drop_path): Identity()\n",
      "      )\n",
      "      (2): InvertedResidual(\n",
      "        (conv_pw): Conv2d(192, 1152, kernel_size=(1, 1), stride=(1, 1), bias=False)\n",
      "        (bn1): BatchNormAct2d(\n",
      "          1152, eps=1e-05, momentum=0.1, affine=True, track_running_stats=True\n",
      "          (drop): Identity()\n",
      "          (act): SiLU(inplace=True)\n",
      "        )\n",
      "        (conv_dw): Conv2d(1152, 1152, kernel_size=(5, 5), stride=(1, 1), padding=(2, 2), groups=1152, bias=False)\n",
      "        (bn2): BatchNormAct2d(\n",
      "          1152, eps=1e-05, momentum=0.1, affine=True, track_running_stats=True\n",
      "          (drop): Identity()\n",
      "          (act): SiLU(inplace=True)\n",
      "        )\n",
      "        (aa): Identity()\n",
      "        (se): SqueezeExcite(\n",
      "          (conv_reduce): Conv2d(1152, 48, kernel_size=(1, 1), stride=(1, 1))\n",
      "          (act1): SiLU(inplace=True)\n",
      "          (conv_expand): Conv2d(48, 1152, kernel_size=(1, 1), stride=(1, 1))\n",
      "          (gate): Sigmoid()\n",
      "        )\n",
      "        (conv_pwl): Conv2d(1152, 192, kernel_size=(1, 1), stride=(1, 1), bias=False)\n",
      "        (bn3): BatchNormAct2d(\n",
      "          192, eps=1e-05, momentum=0.1, affine=True, track_running_stats=True\n",
      "          (drop): Identity()\n",
      "          (act): Identity()\n",
      "        )\n",
      "        (drop_path): Identity()\n",
      "      )\n",
      "      (3): InvertedResidual(\n",
      "        (conv_pw): Conv2d(192, 1152, kernel_size=(1, 1), stride=(1, 1), bias=False)\n",
      "        (bn1): BatchNormAct2d(\n",
      "          1152, eps=1e-05, momentum=0.1, affine=True, track_running_stats=True\n",
      "          (drop): Identity()\n",
      "          (act): SiLU(inplace=True)\n",
      "        )\n",
      "        (conv_dw): Conv2d(1152, 1152, kernel_size=(5, 5), stride=(1, 1), padding=(2, 2), groups=1152, bias=False)\n",
      "        (bn2): BatchNormAct2d(\n",
      "          1152, eps=1e-05, momentum=0.1, affine=True, track_running_stats=True\n",
      "          (drop): Identity()\n",
      "          (act): SiLU(inplace=True)\n",
      "        )\n",
      "        (aa): Identity()\n",
      "        (se): SqueezeExcite(\n",
      "          (conv_reduce): Conv2d(1152, 48, kernel_size=(1, 1), stride=(1, 1))\n",
      "          (act1): SiLU(inplace=True)\n",
      "          (conv_expand): Conv2d(48, 1152, kernel_size=(1, 1), stride=(1, 1))\n",
      "          (gate): Sigmoid()\n",
      "        )\n",
      "        (conv_pwl): Conv2d(1152, 192, kernel_size=(1, 1), stride=(1, 1), bias=False)\n",
      "        (bn3): BatchNormAct2d(\n",
      "          192, eps=1e-05, momentum=0.1, affine=True, track_running_stats=True\n",
      "          (drop): Identity()\n",
      "          (act): Identity()\n",
      "        )\n",
      "        (drop_path): Identity()\n",
      "      )\n",
      "    )\n",
      "    (6): Sequential(\n",
      "      (0): InvertedResidual(\n",
      "        (conv_pw): Conv2d(192, 1152, kernel_size=(1, 1), stride=(1, 1), bias=False)\n",
      "        (bn1): BatchNormAct2d(\n",
      "          1152, eps=1e-05, momentum=0.1, affine=True, track_running_stats=True\n",
      "          (drop): Identity()\n",
      "          (act): SiLU(inplace=True)\n",
      "        )\n",
      "        (conv_dw): Conv2d(1152, 1152, kernel_size=(3, 3), stride=(1, 1), padding=(1, 1), groups=1152, bias=False)\n",
      "        (bn2): BatchNormAct2d(\n",
      "          1152, eps=1e-05, momentum=0.1, affine=True, track_running_stats=True\n",
      "          (drop): Identity()\n",
      "          (act): SiLU(inplace=True)\n",
      "        )\n",
      "        (aa): Identity()\n",
      "        (se): SqueezeExcite(\n",
      "          (conv_reduce): Conv2d(1152, 48, kernel_size=(1, 1), stride=(1, 1))\n",
      "          (act1): SiLU(inplace=True)\n",
      "          (conv_expand): Conv2d(48, 1152, kernel_size=(1, 1), stride=(1, 1))\n",
      "          (gate): Sigmoid()\n",
      "        )\n",
      "        (conv_pwl): Conv2d(1152, 320, kernel_size=(1, 1), stride=(1, 1), bias=False)\n",
      "        (bn3): BatchNormAct2d(\n",
      "          320, eps=1e-05, momentum=0.1, affine=True, track_running_stats=True\n",
      "          (drop): Identity()\n",
      "          (act): Identity()\n",
      "        )\n",
      "        (drop_path): Identity()\n",
      "      )\n",
      "    )\n",
      "  )\n",
      "  (conv_head): Conv2d(320, 1280, kernel_size=(1, 1), stride=(1, 1), bias=False)\n",
      "  (bn2): BatchNormAct2d(\n",
      "    1280, eps=1e-05, momentum=0.1, affine=True, track_running_stats=True\n",
      "    (drop): Identity()\n",
      "    (act): SiLU(inplace=True)\n",
      "  )\n",
      "  (global_pool): SelectAdaptivePool2d(pool_type=avg, flatten=Flatten(start_dim=1, end_dim=-1))\n",
      "  (classifier): Sequential(\n",
      "    (0): Dropout(p=0.2, inplace=False)\n",
      "    (1): Linear(in_features=1280, out_features=205, bias=True)\n",
      "  )\n",
      ")\n"
     ]
    }
   ],
   "source": [
    "import torch\n",
    "from torch import nn\n",
    "import timm\n",
    "    \n",
    "model = timm.create_model('efficientnet_b0', pretrained=True)\n",
    "\n",
    "for param in model.parameters():\n",
    "    param.requires_grad = False\n",
    "\n",
    "for block in model.blocks[-2:]:\n",
    "    for param in block.parameters():\n",
    "        param.requires_grad = True\n",
    "\n",
    "for param in model.conv_head.parameters():\n",
    "    param.requires_grad = True\n",
    "for param in model.bn2.parameters():\n",
    "    param.requires_grad = True\n",
    "\n",
    "num_classes = 205\n",
    "\n",
    "model.classifier = nn.Sequential(\n",
    "    nn.Dropout(.2),\n",
    "    nn.Linear(1280, num_classes)\n",
    ")\n",
    "model.to(device)\n",
    "\n",
    "print(model)"
   ]
  },
  {
   "cell_type": "code",
   "execution_count": null,
   "id": "46ab8253",
   "metadata": {},
   "outputs": [
    {
     "data": {
      "application/vnd.jupyter.widget-view+json": {
       "model_id": "c3cbf692f5c54d678ebea982aae8c399",
       "version_major": 2,
       "version_minor": 0
      },
      "text/plain": [
       "Epoch:   0%|          | 0/20 [00:00<?, ?it/s]"
      ]
     },
     "metadata": {},
     "output_type": "display_data"
    },
    {
     "data": {
      "application/vnd.jupyter.widget-view+json": {
       "model_id": "e552fdb301ff40ce9d6270cee50334ea",
       "version_major": 2,
       "version_minor": 0
      },
      "text/plain": [
       "Train:   0%|          | 0/313 [00:00<?, ?it/s]"
      ]
     },
     "metadata": {},
     "output_type": "display_data"
    },
    {
     "name": "stdout",
     "output_type": "stream",
     "text": [
      "Epoch 1 - train accuracy: 0.5625 - train loss: 2.8845 - val accuracy: 0.4541 - val loss: 3.0793\n",
      "Validation accuracy improved (0.0000 --> 0.4541). Saving model...\n"
     ]
    },
    {
     "data": {
      "application/vnd.jupyter.widget-view+json": {
       "model_id": "946aeb8d52014f92a0bcc6ac7d7ca13f",
       "version_major": 2,
       "version_minor": 0
      },
      "text/plain": [
       "Train:   0%|          | 0/313 [00:00<?, ?it/s]"
      ]
     },
     "metadata": {},
     "output_type": "display_data"
    },
    {
     "name": "stdout",
     "output_type": "stream",
     "text": [
      "Epoch 2 - train accuracy: 0.8877 - train loss: 1.2422 - val accuracy: 0.6376 - val loss: 2.3647\n",
      "Validation accuracy improved (0.4541 --> 0.6376). Saving model...\n"
     ]
    },
    {
     "data": {
      "application/vnd.jupyter.widget-view+json": {
       "model_id": "d0ce1f703d654bd190022fa3f725ecbc",
       "version_major": 2,
       "version_minor": 0
      },
      "text/plain": [
       "Train:   0%|          | 0/313 [00:00<?, ?it/s]"
      ]
     },
     "metadata": {},
     "output_type": "display_data"
    },
    {
     "name": "stdout",
     "output_type": "stream",
     "text": [
      "Epoch 3 - train accuracy: 0.9403 - train loss: 1.0681 - val accuracy: 0.6927 - val loss: 2.2627\n",
      "Validation accuracy improved (0.6376 --> 0.6927). Saving model...\n"
     ]
    },
    {
     "data": {
      "application/vnd.jupyter.widget-view+json": {
       "model_id": "335beaa716064f24ba8da379f0c4f570",
       "version_major": 2,
       "version_minor": 0
      },
      "text/plain": [
       "Train:   0%|          | 0/313 [00:00<?, ?it/s]"
      ]
     },
     "metadata": {},
     "output_type": "display_data"
    },
    {
     "name": "stdout",
     "output_type": "stream",
     "text": [
      "Epoch 4 - train accuracy: 0.9649 - train loss: 0.9912 - val accuracy: 0.7156 - val loss: 2.1622\n",
      "Validation accuracy improved (0.6927 --> 0.7156). Saving model...\n"
     ]
    },
    {
     "data": {
      "application/vnd.jupyter.widget-view+json": {
       "model_id": "1b7bd839e6494cdcbbaede509e1c062c",
       "version_major": 2,
       "version_minor": 0
      },
      "text/plain": [
       "Train:   0%|          | 0/313 [00:00<?, ?it/s]"
      ]
     },
     "metadata": {},
     "output_type": "display_data"
    },
    {
     "name": "stdout",
     "output_type": "stream",
     "text": [
      "Epoch 5 - train accuracy: 0.9794 - train loss: 0.9424 - val accuracy: 0.7125 - val loss: 2.1897\n",
      "Validation accuracy did not improve. Counter: 1/10\n"
     ]
    },
    {
     "data": {
      "application/vnd.jupyter.widget-view+json": {
       "model_id": "927df6ea4ffe4f82a4ef31b84a9fd289",
       "version_major": 2,
       "version_minor": 0
      },
      "text/plain": [
       "Train:   0%|          | 0/313 [00:00<?, ?it/s]"
      ]
     },
     "metadata": {},
     "output_type": "display_data"
    },
    {
     "name": "stdout",
     "output_type": "stream",
     "text": [
      "Epoch 6 - train accuracy: 0.9860 - train loss: 0.9191 - val accuracy: 0.7309 - val loss: 2.0975\n",
      "Validation accuracy improved (0.7156 --> 0.7309). Saving model...\n"
     ]
    },
    {
     "data": {
      "application/vnd.jupyter.widget-view+json": {
       "model_id": "7e26a79fac114c2193abdf21a0393e53",
       "version_major": 2,
       "version_minor": 0
      },
      "text/plain": [
       "Train:   0%|          | 0/313 [00:00<?, ?it/s]"
      ]
     },
     "metadata": {},
     "output_type": "display_data"
    },
    {
     "name": "stdout",
     "output_type": "stream",
     "text": [
      "Epoch 7 - train accuracy: 0.9892 - train loss: 0.9082 - val accuracy: 0.7355 - val loss: 2.0807\n",
      "Validation accuracy improved (0.7309 --> 0.7355). Saving model...\n"
     ]
    },
    {
     "data": {
      "application/vnd.jupyter.widget-view+json": {
       "model_id": "b8d4c72c9ea34e908bfdfdc46e908259",
       "version_major": 2,
       "version_minor": 0
      },
      "text/plain": [
       "Train:   0%|          | 0/313 [00:00<?, ?it/s]"
      ]
     },
     "metadata": {},
     "output_type": "display_data"
    },
    {
     "name": "stdout",
     "output_type": "stream",
     "text": [
      "Epoch 8 - train accuracy: 0.9918 - train loss: 0.8975 - val accuracy: 0.7370 - val loss: 2.1126\n",
      "Validation accuracy improved (0.7355 --> 0.7370). Saving model...\n"
     ]
    },
    {
     "data": {
      "application/vnd.jupyter.widget-view+json": {
       "model_id": "678b8102a65548d19896f3f814bce91f",
       "version_major": 2,
       "version_minor": 0
      },
      "text/plain": [
       "Train:   0%|          | 0/313 [00:00<?, ?it/s]"
      ]
     },
     "metadata": {},
     "output_type": "display_data"
    },
    {
     "name": "stdout",
     "output_type": "stream",
     "text": [
      "Epoch 9 - train accuracy: 0.9954 - train loss: 0.8849 - val accuracy: 0.7339 - val loss: 2.0956\n",
      "Validation accuracy did not improve. Counter: 1/10\n"
     ]
    },
    {
     "data": {
      "application/vnd.jupyter.widget-view+json": {
       "model_id": "95e53d74bf484c38b11b61e202fcf5ac",
       "version_major": 2,
       "version_minor": 0
      },
      "text/plain": [
       "Train:   0%|          | 0/313 [00:00<?, ?it/s]"
      ]
     },
     "metadata": {},
     "output_type": "display_data"
    },
    {
     "name": "stdout",
     "output_type": "stream",
     "text": [
      "Epoch 10 - train accuracy: 0.9956 - train loss: 0.8829 - val accuracy: 0.7569 - val loss: 2.0449\n",
      "Validation accuracy improved (0.7370 --> 0.7569). Saving model...\n"
     ]
    },
    {
     "data": {
      "application/vnd.jupyter.widget-view+json": {
       "model_id": "8fa70efa2ec1436cb7ffa74d624a0120",
       "version_major": 2,
       "version_minor": 0
      },
      "text/plain": [
       "Train:   0%|          | 0/313 [00:00<?, ?it/s]"
      ]
     },
     "metadata": {},
     "output_type": "display_data"
    },
    {
     "name": "stdout",
     "output_type": "stream",
     "text": [
      "Epoch 11 - train accuracy: 0.9957 - train loss: 0.8810 - val accuracy: 0.7477 - val loss: 2.0083\n",
      "Validation accuracy did not improve. Counter: 1/10\n"
     ]
    },
    {
     "data": {
      "application/vnd.jupyter.widget-view+json": {
       "model_id": "a805c382db8647fd91652ddee7755601",
       "version_major": 2,
       "version_minor": 0
      },
      "text/plain": [
       "Train:   0%|          | 0/313 [00:00<?, ?it/s]"
      ]
     },
     "metadata": {},
     "output_type": "display_data"
    },
    {
     "name": "stdout",
     "output_type": "stream",
     "text": [
      "Epoch 12 - train accuracy: 0.9981 - train loss: 0.8713 - val accuracy: 0.7584 - val loss: 2.0135\n",
      "Validation accuracy improved (0.7569 --> 0.7584). Saving model...\n"
     ]
    },
    {
     "data": {
      "application/vnd.jupyter.widget-view+json": {
       "model_id": "8d2f1df139244553b862839047089ce7",
       "version_major": 2,
       "version_minor": 0
      },
      "text/plain": [
       "Train:   0%|          | 0/313 [00:00<?, ?it/s]"
      ]
     },
     "metadata": {},
     "output_type": "display_data"
    },
    {
     "name": "stdout",
     "output_type": "stream",
     "text": [
      "Epoch 13 - train accuracy: 0.9990 - train loss: 0.8667 - val accuracy: 0.7584 - val loss: 2.0057\n",
      "Validation accuracy did not improve. Counter: 1/10\n"
     ]
    },
    {
     "data": {
      "application/vnd.jupyter.widget-view+json": {
       "model_id": "f985056d5edf4ff786c6ba96c03835e7",
       "version_major": 2,
       "version_minor": 0
      },
      "text/plain": [
       "Train:   0%|          | 0/313 [00:00<?, ?it/s]"
      ]
     },
     "metadata": {},
     "output_type": "display_data"
    },
    {
     "name": "stdout",
     "output_type": "stream",
     "text": [
      "Epoch 14 - train accuracy: 0.9991 - train loss: 0.8646 - val accuracy: 0.7523 - val loss: 2.0145\n",
      "Validation accuracy did not improve. Counter: 2/10\n"
     ]
    },
    {
     "data": {
      "application/vnd.jupyter.widget-view+json": {
       "model_id": "da3f5d580d8a4c2ab586711df9c6809a",
       "version_major": 2,
       "version_minor": 0
      },
      "text/plain": [
       "Train:   0%|          | 0/313 [00:00<?, ?it/s]"
      ]
     },
     "metadata": {},
     "output_type": "display_data"
    },
    {
     "name": "stdout",
     "output_type": "stream",
     "text": [
      "Epoch 15 - train accuracy: 0.9995 - train loss: 0.8625 - val accuracy: 0.7492 - val loss: 2.0072\n",
      "Validation accuracy did not improve. Counter: 3/10\n"
     ]
    },
    {
     "data": {
      "application/vnd.jupyter.widget-view+json": {
       "model_id": "9415c04ff2b842579e853c522ae096e5",
       "version_major": 2,
       "version_minor": 0
      },
      "text/plain": [
       "Train:   0%|          | 0/313 [00:00<?, ?it/s]"
      ]
     },
     "metadata": {},
     "output_type": "display_data"
    },
    {
     "name": "stdout",
     "output_type": "stream",
     "text": [
      "Epoch 16 - train accuracy: 0.9996 - train loss: 0.8618 - val accuracy: 0.7599 - val loss: 1.9928\n",
      "Validation accuracy improved (0.7584 --> 0.7599). Saving model...\n"
     ]
    },
    {
     "data": {
      "application/vnd.jupyter.widget-view+json": {
       "model_id": "26873d01d5404752b4b00227ce7df337",
       "version_major": 2,
       "version_minor": 0
      },
      "text/plain": [
       "Train:   0%|          | 0/313 [00:00<?, ?it/s]"
      ]
     },
     "metadata": {},
     "output_type": "display_data"
    },
    {
     "name": "stdout",
     "output_type": "stream",
     "text": [
      "Epoch 17 - train accuracy: 0.9997 - train loss: 0.8608 - val accuracy: 0.7554 - val loss: 1.9931\n",
      "Validation accuracy did not improve. Counter: 1/10\n"
     ]
    },
    {
     "data": {
      "application/vnd.jupyter.widget-view+json": {
       "model_id": "236b63a69d8b420c912d759444165f87",
       "version_major": 2,
       "version_minor": 0
      },
      "text/plain": [
       "Train:   0%|          | 0/313 [00:00<?, ?it/s]"
      ]
     },
     "metadata": {},
     "output_type": "display_data"
    },
    {
     "name": "stdout",
     "output_type": "stream",
     "text": [
      "Epoch 18 - train accuracy: 0.9998 - train loss: 0.8598 - val accuracy: 0.7538 - val loss: 2.0022\n",
      "Validation accuracy did not improve. Counter: 2/10\n"
     ]
    },
    {
     "data": {
      "application/vnd.jupyter.widget-view+json": {
       "model_id": "c334d2af12304da787d39bc9bbacabb1",
       "version_major": 2,
       "version_minor": 0
      },
      "text/plain": [
       "Train:   0%|          | 0/313 [00:00<?, ?it/s]"
      ]
     },
     "metadata": {},
     "output_type": "display_data"
    },
    {
     "name": "stdout",
     "output_type": "stream",
     "text": [
      "Epoch 19 - train accuracy: 0.9998 - train loss: 0.8595 - val accuracy: 0.7599 - val loss: 1.9949\n",
      "Validation accuracy did not improve. Counter: 3/10\n"
     ]
    },
    {
     "data": {
      "application/vnd.jupyter.widget-view+json": {
       "model_id": "b793cf56ef7a47efb020c9106dba0276",
       "version_major": 2,
       "version_minor": 0
      },
      "text/plain": [
       "Train:   0%|          | 0/313 [00:00<?, ?it/s]"
      ]
     },
     "metadata": {},
     "output_type": "display_data"
    },
    {
     "name": "stdout",
     "output_type": "stream",
     "text": [
      "Epoch 20 - train accuracy: 0.9998 - train loss: 0.8594 - val accuracy: 0.7584 - val loss: 1.9830\n",
      "Validation accuracy did not improve. Counter: 4/10\n",
      "Finished Training. Loaded best model.\n"
     ]
    },
    {
     "name": "stderr",
     "output_type": "stream",
     "text": [
      "C:\\Users\\fazul\\AppData\\Local\\Temp\\ipykernel_17856\\1163508495.py:93: FutureWarning: You are using `torch.load` with `weights_only=False` (the current default value), which uses the default pickle module implicitly. It is possible to construct malicious pickle data which will execute arbitrary code during unpickling (See https://github.com/pytorch/pytorch/blob/main/SECURITY.md#untrusted-models for more details). In a future release, the default value for `weights_only` will be flipped to `True`. This limits the functions that could be executed during unpickling. Arbitrary objects will no longer be allowed to be loaded via this mode unless they are explicitly allowlisted by the user via `torch.serialization.add_safe_globals`. We recommend you start setting `weights_only=True` for any use case where you don't have full control of the loaded file. Please open an issue on GitHub for any issues related to this experimental feature.\n",
      "  model.load_state_dict(torch.load(model_path_finetune))\n"
     ]
    },
    {
     "data": {
      "image/png": "[encoded data removed]",
      "text/plain": [
       "<Figure size 1200x500 with 2 Axes>"
      ]
     },
     "metadata": {},
     "output_type": "display_data"
    }
   ],
   "source": [
    "from torch import nn, optim\n",
    "import numpy as np\n",
    "from tqdm.notebook import tqdm \n",
    "import os\n",
    "from rare_traffic_signs import plot_metrics\n",
    "\n",
    "lr = 5e-5\n",
    "epochs = 20\n",
    "\n",
    "params_to_update = filter(lambda p: p.requires_grad, model.parameters())\n",
    "optimizer = optim.AdamW(params_to_update, lr=lr)\n",
    "criterion = nn.CrossEntropyLoss(label_smoothing=0.1)\n",
    "scheduler = torch.optim.lr_scheduler.OneCycleLR(\n",
    "    optimizer,\n",
    "    max_lr=1e-3, \n",
    "    steps_per_epoch=len(train_small_loader),\n",
    "    epochs=epochs,\n",
    "    pct_start=0.15,\n",
    ")\n",
    "\n",
    "best_val_loss = np.inf\n",
    "best_val_accuracy = 0\n",
    "epochs_no_improve = 0\n",
    "patience = int(epochs/2)\n",
    "model_path = 'rare_traffic_signs_simple_model_efficientnet.pth'\n",
    "\n",
    "train_accuracies = []\n",
    "train_losses = []\n",
    "val_accuracies = []\n",
    "val_losses = []\n",
    "\n",
    "for epoch in tqdm(range(epochs), position=0, desc='Epoch'):\n",
    "    model.train()\n",
    "    train_loss = train_correct = train_seen = 0\n",
    "    val_loss = val_correct = val_seen = 0\n",
    "\n",
    "    with tqdm(train_small_loader, position=1, leave=False, desc='Train') as pbar:\n",
    "        for i, data in enumerate(pbar):\n",
    "            inputs, targets = data[0].to(device), data[1].to(device).long()\n",
    "\n",
    "            optimizer.zero_grad()\n",
    "\n",
    "            outputs = model(inputs)\n",
    "            loss = criterion(outputs, targets)\n",
    "            loss.backward()\n",
    "            optimizer.step()\n",
    "            scheduler.step()\n",
    "\n",
    "            train_loss += loss.item() * inputs.size(0)\n",
    "            train_correct += torch.sum(outputs.argmax(dim=-1)==targets).item()\n",
    "            train_seen   += inputs.size(0)\n",
    "            pbar.set_postfix(\n",
    "                loss=f'{train_loss/train_seen:.4f}',\n",
    "                accuracy=f'{train_correct/train_seen:.4f}',\n",
    "                lr=f'{optimizer.param_groups[0][\"lr\"]:.6f}'\n",
    "            )\n",
    "\n",
    "    model.eval()\n",
    "    with torch.no_grad():\n",
    "        for data in val_small_loader:\n",
    "            inputs, targets = data[0].to(device), data[1].to(device).long()\n",
    "            outputs = model(inputs)\n",
    "            val_loss += criterion(outputs, targets).item() * inputs.size(0)\n",
    "            val_correct += torch.sum(outputs.argmax(dim=-1)==targets).item()\n",
    "            val_seen += inputs.size(0)\n",
    "    \n",
    "    train_loss /= train_seen\n",
    "    train_accuracy = train_correct / train_seen\n",
    "    val_loss /= val_seen\n",
    "    val_accuracy = val_correct / val_seen\n",
    "    \n",
    "    tqdm.write(f'Epoch {epoch+1} - train accuracy: {train_accuracy:.4f} - train loss: {train_loss:.4f} - val accuracy: {val_accuracy:.4f} - val loss: {val_loss:.4f}')\n",
    "    train_losses.append(train_loss)\n",
    "    train_accuracies.append(train_accuracy)\n",
    "    val_losses.append(val_loss)\n",
    "    val_accuracies.append(val_accuracy)\n",
    "\n",
    "    if val_accuracy > best_val_accuracy:\n",
    "        tqdm.write(f'Validation accuracy improved ({best_val_accuracy:.4f} --> {val_accuracy:.4f}). Saving model...')\n",
    "        torch.save(model.state_dict(), model_path)\n",
    "        best_val_accuracy = val_accuracy\n",
    "        epochs_no_improve = 0\n",
    "    else:\n",
    "        epochs_no_improve += 1\n",
    "        tqdm.write(f'Validation accuracy did not improve. Counter: {epochs_no_improve}/{patience}')\n",
    "\n",
    "    if epochs_no_improve >= patience:\n",
    "        tqdm.write('Early stopping triggered.')\n",
    "        break\n",
    "\n",
    "\n",
    "if os.path.exists(model_path):\n",
    "    model.load_state_dict(torch.load(model_path))\n",
    "    print('Finished Training. Loaded best model.')\n",
    "else:\n",
    "    print('No improvement during training. Using final model.')\n",
    "\n",
    "plot_metrics(train_losses, val_losses, train_accuracies, val_accuracies)"
   ]
  },
  {
   "cell_type": "code",
   "execution_count": null,
   "id": "bfec1655",
   "metadata": {},
   "outputs": [
    {
     "name": "stderr",
     "output_type": "stream",
     "text": [
      "C:\\Users\\fazul\\AppData\\Local\\Temp\\ipykernel_17856\\2984328170.py:2: FutureWarning: You are using `torch.load` with `weights_only=False` (the current default value), which uses the default pickle module implicitly. It is possible to construct malicious pickle data which will execute arbitrary code during unpickling (See https://github.com/pytorch/pytorch/blob/main/SECURITY.md#untrusted-models for more details). In a future release, the default value for `weights_only` will be flipped to `True`. This limits the functions that could be executed during unpickling. Arbitrary objects will no longer be allowed to be loaded via this mode unless they are explicitly allowlisted by the user via `torch.serialization.add_safe_globals`. We recommend you start setting `weights_only=True` for any use case where you don't have full control of the loaded file. Please open an issue on GitHub for any issues related to this experimental feature.\n",
      "  model.load_state_dict(torch.load(model_path_finetune))\n"
     ]
    },
    {
     "name": "stdout",
     "output_type": "stream",
     "text": [
      "Test loss on frequent data: 2.042463, test accuracy on frequent data: 0.751145\n"
     ]
    }
   ],
   "source": [
    "model_path = 'rare_traffic_signs_simple_model_efficientnet.pth'\n",
    "model.load_state_dict(torch.load(model_path))\n",
    "model.to(device=device)\n",
    "model.eval()\n",
    "\n",
    "test_loss = test_correct = test_seen = 0\n",
    "\n",
    "with torch.no_grad():\n",
    "    for data in test_small_loader:\n",
    "        inputs, targets = data[0].to(device), data[1].to(device).long()\n",
    "        outputs = model(inputs)\n",
    "        test_loss += criterion(outputs, targets).item() * inputs.size(0)\n",
    "        test_correct += torch.sum(outputs.argmax(dim=-1)==targets).item()\n",
    "        test_seen += inputs.size(0)\n",
    "\n",
    "test_loss /= test_seen\n",
    "test_accuracy = test_correct / test_seen\n",
    "\n",
    "print(f'Test loss on frequent data: {test_loss:.6f}, test accuracy on frequent data: {test_accuracy:.6f}')"
   ]
  },
  {
   "cell_type": "markdown",
   "id": "cd23533f",
   "metadata": {},
   "source": [
    "# Pregenerate Synthetic Data"
   ]
  },
  {
   "cell_type": "code",
   "execution_count": null,
   "id": "f5b1c526",
   "metadata": {},
   "outputs": [
    {
     "name": "stdout",
     "output_type": "stream",
     "text": [
      "Loading file paths...\n",
      "Generation of 50000 synthetic images...\n"
     ]
    },
    {
     "name": "stderr",
     "output_type": "stream",
     "text": [
      "c:\\Users\\fazul\\OneDrive\\Рабочий стол\\Мое\\Работа\\Computer Vision\\10 Rare Traffic Signs\\rare_traffic_signs.py:155: UserWarning: Argument(s) 'always_apply' are not valid for transform BasicTransform\n",
      "  super().__init__(always_apply=False, p=p)\n",
      "c:\\Users\\fazul\\OneDrive\\Рабочий стол\\Мое\\Работа\\Computer Vision\\10 Rare Traffic Signs\\rare_traffic_signs.py:256: FutureWarning: The behavior of 'to_datetime' with 'unit' when parsing strings is deprecated. In a future version, strings will be parsed as datetime strings, matching the behavior without a 'unit'. To retain the old behavior, explicitly cast ints or floats to numeric type before calling to_datetime.\n",
      "  classes_df = pd.read_json(CLASSES_JSON, orient='index')\n",
      "c:\\Users\\fazul\\OneDrive\\Рабочий стол\\Мое\\Работа\\Computer Vision\\10 Rare Traffic Signs\\rare_traffic_signs.py:256: FutureWarning: The behavior of 'to_datetime' with 'unit' when parsing strings is deprecated. In a future version, strings will be parsed as datetime strings, matching the behavior without a 'unit'. To retain the old behavior, explicitly cast ints or floats to numeric type before calling to_datetime.\n",
      "  classes_df = pd.read_json(CLASSES_JSON, orient='index')\n",
      "c:\\Users\\fazul\\OneDrive\\Рабочий стол\\Мое\\Работа\\Computer Vision\\10 Rare Traffic Signs\\rare_traffic_signs.py:256: FutureWarning: The behavior of 'to_datetime' with 'unit' when parsing strings is deprecated. In a future version, strings will be parsed as datetime strings, matching the behavior without a 'unit'. To retain the old behavior, explicitly cast ints or floats to numeric type before calling to_datetime.\n",
      "  classes_df = pd.read_json(CLASSES_JSON, orient='index')\n"
     ]
    },
    {
     "data": {
      "application/vnd.jupyter.widget-view+json": {
       "model_id": "6193b26a05504ce4aa9fd2713d0a9846",
       "version_major": 2,
       "version_minor": 0
      },
      "text/plain": [
       "  0%|          | 0/50000 [00:00<?, ?it/s]"
      ]
     },
     "metadata": {},
     "output_type": "display_data"
    },
    {
     "name": "stdout",
     "output_type": "stream",
     "text": [
      "Generation Complete!\n"
     ]
    }
   ],
   "source": [
    "from rare_traffic_signs import generate_synthetic_data\n",
    "\n",
    "# generate_synthetic_data()"
   ]
  },
  {
   "cell_type": "markdown",
   "id": "d4ca6402",
   "metadata": {},
   "source": [
    "# Dataset with Synthetic Data"
   ]
  },
  {
   "cell_type": "code",
   "execution_count": 1,
   "id": "38ac8cd5",
   "metadata": {},
   "outputs": [],
   "source": [
    "%load_ext autoreload\n",
    "%autoreload 2"
   ]
  },
  {
   "cell_type": "code",
   "execution_count": 28,
   "id": "3b1a2347",
   "metadata": {},
   "outputs": [
    {
     "name": "stderr",
     "output_type": "stream",
     "text": [
      "c:\\Users\\fazul\\AppData\\Local\\Programs\\Python\\Python310\\lib\\site-packages\\albumentations\\core\\validation.py:114: UserWarning: ShiftScaleRotate is a special case of Affine transform. Please use Affine transform instead.\n",
      "  original_init(self, **validated_kwargs)\n"
     ]
    }
   ],
   "source": [
    "import albumentations as A\n",
    "\n",
    "transform = A.Compose([\n",
    "    A.ShiftScaleRotate(shift_limit=.05, scale_limit=.1, rotate_limit=15, p=.7),\n",
    "    A.CoarseDropout(num_holes_range=(2, 4), hole_width_range=(0.05, 0.2), hole_height_range=(0.05, 0.2), p=.5),\n",
    "    A.OneOf([\n",
    "        A.GaussianBlur(blur_limit=(3, 5), p=0.5),\n",
    "        A.MotionBlur(blur_limit=(3, 5), p=0.5),\n",
    "    ], p=0.5),\n",
    "    A.GaussNoise(std_range=(.001, .02), p=0.5),\n",
    "    A.ColorJitter(brightness=(.4, 1.3), contrast=.3, saturation=(.0, 1.0), hue=.05, p=.8),\n",
    "    A.RandomBrightnessContrast(p=0.5),\n",
    "    A.Normalize(mean=[0.485, 0.456, 0.406], std=[0.229, 0.224, 0.225]),\n",
    "    A.pytorch.ToTensorV2()\n",
    "], keypoint_params=A.KeypointParams(format='xy', remove_invisible=False))"
   ]
  },
  {
   "cell_type": "code",
   "execution_count": 29,
   "id": "fd5af616",
   "metadata": {},
   "outputs": [
    {
     "name": "stderr",
     "output_type": "stream",
     "text": [
      "c:\\Users\\fazul\\OneDrive\\Рабочий стол\\Мое\\Работа\\Computer Vision\\10 Rare Traffic Signs\\rare_traffic_signs.py:92: UserWarning: Argument(s) 'value' are not valid for transform PadIfNeeded\n",
      "  A.PadIfNeeded(min_height=target_size, min_width=target_size, border_mode=cv2.BORDER_CONSTANT, value=0),\n",
      "c:\\Users\\fazul\\OneDrive\\Рабочий стол\\Мое\\Работа\\Computer Vision\\10 Rare Traffic Signs\\rare_traffic_signs.py:102: FutureWarning: The behavior of 'to_datetime' with 'unit' when parsing strings is deprecated. In a future version, strings will be parsed as datetime strings, matching the behavior without a 'unit'. To retain the old behavior, explicitly cast ints or floats to numeric type before calling to_datetime.\n",
      "  self.classes = pd.read_json(classes_json, orient='index')\n",
      "c:\\Users\\fazul\\OneDrive\\Рабочий стол\\Мое\\Работа\\Computer Vision\\10 Rare Traffic Signs\\rare_traffic_signs.py:102: FutureWarning: The behavior of 'to_datetime' with 'unit' when parsing strings is deprecated. In a future version, strings will be parsed as datetime strings, matching the behavior without a 'unit'. To retain the old behavior, explicitly cast ints or floats to numeric type before calling to_datetime.\n",
      "  self.classes = pd.read_json(classes_json, orient='index')\n",
      "c:\\Users\\fazul\\OneDrive\\Рабочий стол\\Мое\\Работа\\Computer Vision\\10 Rare Traffic Signs\\rare_traffic_signs.py:102: FutureWarning: The behavior of 'to_datetime' with 'unit' when parsing strings is deprecated. In a future version, strings will be parsed as datetime strings, matching the behavior without a 'unit'. To retain the old behavior, explicitly cast ints or floats to numeric type before calling to_datetime.\n",
      "  self.classes = pd.read_json(classes_json, orient='index')\n",
      "c:\\Users\\fazul\\OneDrive\\Рабочий стол\\Мое\\Работа\\Computer Vision\\10 Rare Traffic Signs\\rare_traffic_signs.py:92: UserWarning: Argument(s) 'value' are not valid for transform PadIfNeeded\n",
      "  A.PadIfNeeded(min_height=target_size, min_width=target_size, border_mode=cv2.BORDER_CONSTANT, value=0),\n",
      "c:\\Users\\fazul\\OneDrive\\Рабочий стол\\Мое\\Работа\\Computer Vision\\10 Rare Traffic Signs\\rare_traffic_signs.py:102: FutureWarning: The behavior of 'to_datetime' with 'unit' when parsing strings is deprecated. In a future version, strings will be parsed as datetime strings, matching the behavior without a 'unit'. To retain the old behavior, explicitly cast ints or floats to numeric type before calling to_datetime.\n",
      "  self.classes = pd.read_json(classes_json, orient='index')\n",
      "c:\\Users\\fazul\\OneDrive\\Рабочий стол\\Мое\\Работа\\Computer Vision\\10 Rare Traffic Signs\\rare_traffic_signs.py:102: FutureWarning: The behavior of 'to_datetime' with 'unit' when parsing strings is deprecated. In a future version, strings will be parsed as datetime strings, matching the behavior without a 'unit'. To retain the old behavior, explicitly cast ints or floats to numeric type before calling to_datetime.\n",
      "  self.classes = pd.read_json(classes_json, orient='index')\n",
      "c:\\Users\\fazul\\OneDrive\\Рабочий стол\\Мое\\Работа\\Computer Vision\\10 Rare Traffic Signs\\rare_traffic_signs.py:102: FutureWarning: The behavior of 'to_datetime' with 'unit' when parsing strings is deprecated. In a future version, strings will be parsed as datetime strings, matching the behavior without a 'unit'. To retain the old behavior, explicitly cast ints or floats to numeric type before calling to_datetime.\n",
      "  self.classes = pd.read_json(classes_json, orient='index')\n"
     ]
    }
   ],
   "source": [
    "from rare_traffic_signs import RareTrafficSignsDataset\n",
    "from torch.utils.data import DataLoader, random_split\n",
    "import torch\n",
    "\n",
    "device = torch.device('cuda:0' if torch.cuda.is_available() else 'cpu')\n",
    "    \n",
    "batch_size = 256\n",
    "\n",
    "train_full_dataset = RareTrafficSignsDataset('./tests/classes.json', './tests/cropped_train', './tests/generated_images', synthetic_p=0.98, transform=transform)\n",
    "val_test_full_dataset = RareTrafficSignsDataset('./tests/classes.json', './tests/smalltest', test_classes_csv='./tests/smalltest_annotations.csv')\n",
    "\n",
    "val_full_size = int(.5 * len(val_test_full_dataset))\n",
    "test_full_size = len(val_test_full_dataset) - val_full_size\n",
    "\n",
    "val_full_dataset, test_full_dataset = random_split(val_test_full_dataset, (val_full_size, test_full_size))\n",
    "\n",
    "train_full_loader = DataLoader(train_full_dataset, batch_size, shuffle=True, num_workers=16, pin_memory=True, persistent_workers=True)\n",
    "val_full_loader = DataLoader(val_full_dataset, batch_size, shuffle=False)\n",
    "test_full_loader = DataLoader(test_full_dataset, batch_size, shuffle=False)"
   ]
  },
  {
   "cell_type": "code",
   "execution_count": 30,
   "id": "82c06553",
   "metadata": {},
   "outputs": [
    {
     "name": "stderr",
     "output_type": "stream",
     "text": [
      "c:\\Users\\fazul\\OneDrive\\Рабочий стол\\Мое\\Работа\\Computer Vision\\10 Rare Traffic Signs\\rare_traffic_signs.py:92: UserWarning: Argument(s) 'value' are not valid for transform PadIfNeeded\n",
      "  A.PadIfNeeded(min_height=target_size, min_width=target_size, border_mode=cv2.BORDER_CONSTANT, value=0),\n",
      "c:\\Users\\fazul\\OneDrive\\Рабочий стол\\Мое\\Работа\\Computer Vision\\10 Rare Traffic Signs\\rare_traffic_signs.py:102: FutureWarning: The behavior of 'to_datetime' with 'unit' when parsing strings is deprecated. In a future version, strings will be parsed as datetime strings, matching the behavior without a 'unit'. To retain the old behavior, explicitly cast ints or floats to numeric type before calling to_datetime.\n",
      "  self.classes = pd.read_json(classes_json, orient='index')\n",
      "c:\\Users\\fazul\\OneDrive\\Рабочий стол\\Мое\\Работа\\Computer Vision\\10 Rare Traffic Signs\\rare_traffic_signs.py:102: FutureWarning: The behavior of 'to_datetime' with 'unit' when parsing strings is deprecated. In a future version, strings will be parsed as datetime strings, matching the behavior without a 'unit'. To retain the old behavior, explicitly cast ints or floats to numeric type before calling to_datetime.\n",
      "  self.classes = pd.read_json(classes_json, orient='index')\n",
      "c:\\Users\\fazul\\OneDrive\\Рабочий стол\\Мое\\Работа\\Computer Vision\\10 Rare Traffic Signs\\rare_traffic_signs.py:102: FutureWarning: The behavior of 'to_datetime' with 'unit' when parsing strings is deprecated. In a future version, strings will be parsed as datetime strings, matching the behavior without a 'unit'. To retain the old behavior, explicitly cast ints or floats to numeric type before calling to_datetime.\n",
      "  self.classes = pd.read_json(classes_json, orient='index')\n",
      "C:\\Users\\fazul\\AppData\\Local\\Temp\\ipykernel_17856\\2427162968.py:11: FutureWarning: The behavior of 'to_datetime' with 'unit' when parsing strings is deprecated. In a future version, strings will be parsed as datetime strings, matching the behavior without a 'unit'. To retain the old behavior, explicitly cast ints or floats to numeric type before calling to_datetime.\n",
      "  classes_df = pd.read_json('./tests/classes.json', orient='index', convert_dates=False)\n",
      "C:\\Users\\fazul\\AppData\\Local\\Temp\\ipykernel_17856\\2427162968.py:11: FutureWarning: The behavior of 'to_datetime' with 'unit' when parsing strings is deprecated. In a future version, strings will be parsed as datetime strings, matching the behavior without a 'unit'. To retain the old behavior, explicitly cast ints or floats to numeric type before calling to_datetime.\n",
      "  classes_df = pd.read_json('./tests/classes.json', orient='index', convert_dates=False)\n",
      "C:\\Users\\fazul\\AppData\\Local\\Temp\\ipykernel_17856\\2427162968.py:11: FutureWarning: The behavior of 'to_datetime' with 'unit' when parsing strings is deprecated. In a future version, strings will be parsed as datetime strings, matching the behavior without a 'unit'. To retain the old behavior, explicitly cast ints or floats to numeric type before calling to_datetime.\n",
      "  classes_df = pd.read_json('./tests/classes.json', orient='index', convert_dates=False)\n"
     ]
    },
    {
     "data": {
      "image/png": "[encoded data removed]",
      "text/plain": [
       "<Figure size 1200x900 with 12 Axes>"
      ]
     },
     "metadata": {},
     "output_type": "display_data"
    }
   ],
   "source": [
    "import matplotlib.pyplot as plt\n",
    "import numpy as np\n",
    "import pandas as pd\n",
    "import torch\n",
    "\n",
    "synthetic_dataset = RareTrafficSignsDataset('./tests/classes.json', './tests/generated_images', transform=transform)\n",
    "\n",
    "batch_size = 12\n",
    "loader = DataLoader(synthetic_dataset, batch_size=batch_size, shuffle=True, num_workers=0)\n",
    "\n",
    "classes_df = pd.read_json('./tests/classes.json', orient='index', convert_dates=False)\n",
    "id_to_name = pd.Series(classes_df.index, index=classes_df['id']).to_dict()\n",
    "\n",
    "mean = torch.tensor([0.485, 0.456, 0.406]).view(1, 3, 1, 1)\n",
    "std  = torch.tensor([0.229, 0.224, 0.225]).view(1, 3, 1, 1)\n",
    "\n",
    "def denorm(batch):\n",
    "    batch_cpu = batch.cpu()\n",
    "    mean_cpu = mean.cpu()\n",
    "    std_cpu = std.cpu()\n",
    "    return batch_cpu * std_cpu + mean_cpu\n",
    "\n",
    "imgs, labels = next(iter(loader))\n",
    "imgs_denorm = denorm(imgs)\n",
    "\n",
    "cols = 4\n",
    "rows = (batch_size + cols - 1) // cols\n",
    "fig, axes = plt.subplots(rows, cols, figsize=(3 * cols, 3 * rows))\n",
    "axes = axes.flatten()\n",
    "\n",
    "for i, (img, label_id) in enumerate(zip(imgs_denorm, labels)):\n",
    "    ax = axes[i]\n",
    "    \n",
    "    img_np = img.permute(1, 2, 0).numpy()\n",
    "    ax.imshow(img_np)\n",
    "    \n",
    "    class_name = id_to_name.get(label_id.item(), \"Unknown\")\n",
    "    ax.set_title(class_name, fontsize=10)\n",
    "    ax.axis('off')\n",
    "\n",
    "for j in range(i + 1, len(axes)):\n",
    "    axes[j].axis('off')\n",
    "\n",
    "plt.tight_layout()\n",
    "plt.show()"
   ]
  },
  {
   "cell_type": "markdown",
   "id": "0374b4a9",
   "metadata": {},
   "source": [
    "# EfficientNet"
   ]
  },
  {
   "cell_type": "code",
   "execution_count": 45,
   "id": "56d517ec",
   "metadata": {},
   "outputs": [
    {
     "name": "stdout",
     "output_type": "stream",
     "text": [
      "EfficientNet(\n",
      "  (conv_stem): Conv2d(3, 32, kernel_size=(3, 3), stride=(2, 2), padding=(1, 1), bias=False)\n",
      "  (bn1): BatchNormAct2d(\n",
      "    32, eps=1e-05, momentum=0.1, affine=True, track_running_stats=True\n",
      "    (drop): Identity()\n",
      "    (act): SiLU(inplace=True)\n",
      "  )\n",
      "  (blocks): Sequential(\n",
      "    (0): Sequential(\n",
      "      (0): DepthwiseSeparableConv(\n",
      "        (conv_dw): Conv2d(32, 32, kernel_size=(3, 3), stride=(1, 1), padding=(1, 1), groups=32, bias=False)\n",
      "        (bn1): BatchNormAct2d(\n",
      "          32, eps=1e-05, momentum=0.1, affine=True, track_running_stats=True\n",
      "          (drop): Identity()\n",
      "          (act): SiLU(inplace=True)\n",
      "        )\n",
      "        (aa): Identity()\n",
      "        (se): SqueezeExcite(\n",
      "          (conv_reduce): Conv2d(32, 8, kernel_size=(1, 1), stride=(1, 1))\n",
      "          (act1): SiLU(inplace=True)\n",
      "          (conv_expand): Conv2d(8, 32, kernel_size=(1, 1), stride=(1, 1))\n",
      "          (gate): Sigmoid()\n",
      "        )\n",
      "        (conv_pw): Conv2d(32, 16, kernel_size=(1, 1), stride=(1, 1), bias=False)\n",
      "        (bn2): BatchNormAct2d(\n",
      "          16, eps=1e-05, momentum=0.1, affine=True, track_running_stats=True\n",
      "          (drop): Identity()\n",
      "          (act): Identity()\n",
      "        )\n",
      "        (drop_path): Identity()\n",
      "      )\n",
      "    )\n",
      "    (1): Sequential(\n",
      "      (0): InvertedResidual(\n",
      "        (conv_pw): Conv2d(16, 96, kernel_size=(1, 1), stride=(1, 1), bias=False)\n",
      "        (bn1): BatchNormAct2d(\n",
      "          96, eps=1e-05, momentum=0.1, affine=True, track_running_stats=True\n",
      "          (drop): Identity()\n",
      "          (act): SiLU(inplace=True)\n",
      "        )\n",
      "        (conv_dw): Conv2d(96, 96, kernel_size=(3, 3), stride=(2, 2), padding=(1, 1), groups=96, bias=False)\n",
      "        (bn2): BatchNormAct2d(\n",
      "          96, eps=1e-05, momentum=0.1, affine=True, track_running_stats=True\n",
      "          (drop): Identity()\n",
      "          (act): SiLU(inplace=True)\n",
      "        )\n",
      "        (aa): Identity()\n",
      "        (se): SqueezeExcite(\n",
      "          (conv_reduce): Conv2d(96, 4, kernel_size=(1, 1), stride=(1, 1))\n",
      "          (act1): SiLU(inplace=True)\n",
      "          (conv_expand): Conv2d(4, 96, kernel_size=(1, 1), stride=(1, 1))\n",
      "          (gate): Sigmoid()\n",
      "        )\n",
      "        (conv_pwl): Conv2d(96, 24, kernel_size=(1, 1), stride=(1, 1), bias=False)\n",
      "        (bn3): BatchNormAct2d(\n",
      "          24, eps=1e-05, momentum=0.1, affine=True, track_running_stats=True\n",
      "          (drop): Identity()\n",
      "          (act): Identity()\n",
      "        )\n",
      "        (drop_path): Identity()\n",
      "      )\n",
      "      (1): InvertedResidual(\n",
      "        (conv_pw): Conv2d(24, 144, kernel_size=(1, 1), stride=(1, 1), bias=False)\n",
      "        (bn1): BatchNormAct2d(\n",
      "          144, eps=1e-05, momentum=0.1, affine=True, track_running_stats=True\n",
      "          (drop): Identity()\n",
      "          (act): SiLU(inplace=True)\n",
      "        )\n",
      "        (conv_dw): Conv2d(144, 144, kernel_size=(3, 3), stride=(1, 1), padding=(1, 1), groups=144, bias=False)\n",
      "        (bn2): BatchNormAct2d(\n",
      "          144, eps=1e-05, momentum=0.1, affine=True, track_running_stats=True\n",
      "          (drop): Identity()\n",
      "          (act): SiLU(inplace=True)\n",
      "        )\n",
      "        (aa): Identity()\n",
      "        (se): SqueezeExcite(\n",
      "          (conv_reduce): Conv2d(144, 6, kernel_size=(1, 1), stride=(1, 1))\n",
      "          (act1): SiLU(inplace=True)\n",
      "          (conv_expand): Conv2d(6, 144, kernel_size=(1, 1), stride=(1, 1))\n",
      "          (gate): Sigmoid()\n",
      "        )\n",
      "        (conv_pwl): Conv2d(144, 24, kernel_size=(1, 1), stride=(1, 1), bias=False)\n",
      "        (bn3): BatchNormAct2d(\n",
      "          24, eps=1e-05, momentum=0.1, affine=True, track_running_stats=True\n",
      "          (drop): Identity()\n",
      "          (act): Identity()\n",
      "        )\n",
      "        (drop_path): Identity()\n",
      "      )\n",
      "    )\n",
      "    (2): Sequential(\n",
      "      (0): InvertedResidual(\n",
      "        (conv_pw): Conv2d(24, 144, kernel_size=(1, 1), stride=(1, 1), bias=False)\n",
      "        (bn1): BatchNormAct2d(\n",
      "          144, eps=1e-05, momentum=0.1, affine=True, track_running_stats=True\n",
      "          (drop): Identity()\n",
      "          (act): SiLU(inplace=True)\n",
      "        )\n",
      "        (conv_dw): Conv2d(144, 144, kernel_size=(5, 5), stride=(2, 2), padding=(2, 2), groups=144, bias=False)\n",
      "        (bn2): BatchNormAct2d(\n",
      "          144, eps=1e-05, momentum=0.1, affine=True, track_running_stats=True\n",
      "          (drop): Identity()\n",
      "          (act): SiLU(inplace=True)\n",
      "        )\n",
      "        (aa): Identity()\n",
      "        (se): SqueezeExcite(\n",
      "          (conv_reduce): Conv2d(144, 6, kernel_size=(1, 1), stride=(1, 1))\n",
      "          (act1): SiLU(inplace=True)\n",
      "          (conv_expand): Conv2d(6, 144, kernel_size=(1, 1), stride=(1, 1))\n",
      "          (gate): Sigmoid()\n",
      "        )\n",
      "        (conv_pwl): Conv2d(144, 40, kernel_size=(1, 1), stride=(1, 1), bias=False)\n",
      "        (bn3): BatchNormAct2d(\n",
      "          40, eps=1e-05, momentum=0.1, affine=True, track_running_stats=True\n",
      "          (drop): Identity()\n",
      "          (act): Identity()\n",
      "        )\n",
      "        (drop_path): Identity()\n",
      "      )\n",
      "      (1): InvertedResidual(\n",
      "        (conv_pw): Conv2d(40, 240, kernel_size=(1, 1), stride=(1, 1), bias=False)\n",
      "        (bn1): BatchNormAct2d(\n",
      "          240, eps=1e-05, momentum=0.1, affine=True, track_running_stats=True\n",
      "          (drop): Identity()\n",
      "          (act): SiLU(inplace=True)\n",
      "        )\n",
      "        (conv_dw): Conv2d(240, 240, kernel_size=(5, 5), stride=(1, 1), padding=(2, 2), groups=240, bias=False)\n",
      "        (bn2): BatchNormAct2d(\n",
      "          240, eps=1e-05, momentum=0.1, affine=True, track_running_stats=True\n",
      "          (drop): Identity()\n",
      "          (act): SiLU(inplace=True)\n",
      "        )\n",
      "        (aa): Identity()\n",
      "        (se): SqueezeExcite(\n",
      "          (conv_reduce): Conv2d(240, 10, kernel_size=(1, 1), stride=(1, 1))\n",
      "          (act1): SiLU(inplace=True)\n",
      "          (conv_expand): Conv2d(10, 240, kernel_size=(1, 1), stride=(1, 1))\n",
      "          (gate): Sigmoid()\n",
      "        )\n",
      "        (conv_pwl): Conv2d(240, 40, kernel_size=(1, 1), stride=(1, 1), bias=False)\n",
      "        (bn3): BatchNormAct2d(\n",
      "          40, eps=1e-05, momentum=0.1, affine=True, track_running_stats=True\n",
      "          (drop): Identity()\n",
      "          (act): Identity()\n",
      "        )\n",
      "        (drop_path): Identity()\n",
      "      )\n",
      "    )\n",
      "    (3): Sequential(\n",
      "      (0): InvertedResidual(\n",
      "        (conv_pw): Conv2d(40, 240, kernel_size=(1, 1), stride=(1, 1), bias=False)\n",
      "        (bn1): BatchNormAct2d(\n",
      "          240, eps=1e-05, momentum=0.1, affine=True, track_running_stats=True\n",
      "          (drop): Identity()\n",
      "          (act): SiLU(inplace=True)\n",
      "        )\n",
      "        (conv_dw): Conv2d(240, 240, kernel_size=(3, 3), stride=(2, 2), padding=(1, 1), groups=240, bias=False)\n",
      "        (bn2): BatchNormAct2d(\n",
      "          240, eps=1e-05, momentum=0.1, affine=True, track_running_stats=True\n",
      "          (drop): Identity()\n",
      "          (act): SiLU(inplace=True)\n",
      "        )\n",
      "        (aa): Identity()\n",
      "        (se): SqueezeExcite(\n",
      "          (conv_reduce): Conv2d(240, 10, kernel_size=(1, 1), stride=(1, 1))\n",
      "          (act1): SiLU(inplace=True)\n",
      "          (conv_expand): Conv2d(10, 240, kernel_size=(1, 1), stride=(1, 1))\n",
      "          (gate): Sigmoid()\n",
      "        )\n",
      "        (conv_pwl): Conv2d(240, 80, kernel_size=(1, 1), stride=(1, 1), bias=False)\n",
      "        (bn3): BatchNormAct2d(\n",
      "          80, eps=1e-05, momentum=0.1, affine=True, track_running_stats=True\n",
      "          (drop): Identity()\n",
      "          (act): Identity()\n",
      "        )\n",
      "        (drop_path): Identity()\n",
      "      )\n",
      "      (1): InvertedResidual(\n",
      "        (conv_pw): Conv2d(80, 480, kernel_size=(1, 1), stride=(1, 1), bias=False)\n",
      "        (bn1): BatchNormAct2d(\n",
      "          480, eps=1e-05, momentum=0.1, affine=True, track_running_stats=True\n",
      "          (drop): Identity()\n",
      "          (act): SiLU(inplace=True)\n",
      "        )\n",
      "        (conv_dw): Conv2d(480, 480, kernel_size=(3, 3), stride=(1, 1), padding=(1, 1), groups=480, bias=False)\n",
      "        (bn2): BatchNormAct2d(\n",
      "          480, eps=1e-05, momentum=0.1, affine=True, track_running_stats=True\n",
      "          (drop): Identity()\n",
      "          (act): SiLU(inplace=True)\n",
      "        )\n",
      "        (aa): Identity()\n",
      "        (se): SqueezeExcite(\n",
      "          (conv_reduce): Conv2d(480, 20, kernel_size=(1, 1), stride=(1, 1))\n",
      "          (act1): SiLU(inplace=True)\n",
      "          (conv_expand): Conv2d(20, 480, kernel_size=(1, 1), stride=(1, 1))\n",
      "          (gate): Sigmoid()\n",
      "        )\n",
      "        (conv_pwl): Conv2d(480, 80, kernel_size=(1, 1), stride=(1, 1), bias=False)\n",
      "        (bn3): BatchNormAct2d(\n",
      "          80, eps=1e-05, momentum=0.1, affine=True, track_running_stats=True\n",
      "          (drop): Identity()\n",
      "          (act): Identity()\n",
      "        )\n",
      "        (drop_path): Identity()\n",
      "      )\n",
      "      (2): InvertedResidual(\n",
      "        (conv_pw): Conv2d(80, 480, kernel_size=(1, 1), stride=(1, 1), bias=False)\n",
      "        (bn1): BatchNormAct2d(\n",
      "          480, eps=1e-05, momentum=0.1, affine=True, track_running_stats=True\n",
      "          (drop): Identity()\n",
      "          (act): SiLU(inplace=True)\n",
      "        )\n",
      "        (conv_dw): Conv2d(480, 480, kernel_size=(3, 3), stride=(1, 1), padding=(1, 1), groups=480, bias=False)\n",
      "        (bn2): BatchNormAct2d(\n",
      "          480, eps=1e-05, momentum=0.1, affine=True, track_running_stats=True\n",
      "          (drop): Identity()\n",
      "          (act): SiLU(inplace=True)\n",
      "        )\n",
      "        (aa): Identity()\n",
      "        (se): SqueezeExcite(\n",
      "          (conv_reduce): Conv2d(480, 20, kernel_size=(1, 1), stride=(1, 1))\n",
      "          (act1): SiLU(inplace=True)\n",
      "          (conv_expand): Conv2d(20, 480, kernel_size=(1, 1), stride=(1, 1))\n",
      "          (gate): Sigmoid()\n",
      "        )\n",
      "        (conv_pwl): Conv2d(480, 80, kernel_size=(1, 1), stride=(1, 1), bias=False)\n",
      "        (bn3): BatchNormAct2d(\n",
      "          80, eps=1e-05, momentum=0.1, affine=True, track_running_stats=True\n",
      "          (drop): Identity()\n",
      "          (act): Identity()\n",
      "        )\n",
      "        (drop_path): Identity()\n",
      "      )\n",
      "    )\n",
      "    (4): Sequential(\n",
      "      (0): InvertedResidual(\n",
      "        (conv_pw): Conv2d(80, 480, kernel_size=(1, 1), stride=(1, 1), bias=False)\n",
      "        (bn1): BatchNormAct2d(\n",
      "          480, eps=1e-05, momentum=0.1, affine=True, track_running_stats=True\n",
      "          (drop): Identity()\n",
      "          (act): SiLU(inplace=True)\n",
      "        )\n",
      "        (conv_dw): Conv2d(480, 480, kernel_size=(5, 5), stride=(1, 1), padding=(2, 2), groups=480, bias=False)\n",
      "        (bn2): BatchNormAct2d(\n",
      "          480, eps=1e-05, momentum=0.1, affine=True, track_running_stats=True\n",
      "          (drop): Identity()\n",
      "          (act): SiLU(inplace=True)\n",
      "        )\n",
      "        (aa): Identity()\n",
      "        (se): SqueezeExcite(\n",
      "          (conv_reduce): Conv2d(480, 20, kernel_size=(1, 1), stride=(1, 1))\n",
      "          (act1): SiLU(inplace=True)\n",
      "          (conv_expand): Conv2d(20, 480, kernel_size=(1, 1), stride=(1, 1))\n",
      "          (gate): Sigmoid()\n",
      "        )\n",
      "        (conv_pwl): Conv2d(480, 112, kernel_size=(1, 1), stride=(1, 1), bias=False)\n",
      "        (bn3): BatchNormAct2d(\n",
      "          112, eps=1e-05, momentum=0.1, affine=True, track_running_stats=True\n",
      "          (drop): Identity()\n",
      "          (act): Identity()\n",
      "        )\n",
      "        (drop_path): Identity()\n",
      "      )\n",
      "      (1): InvertedResidual(\n",
      "        (conv_pw): Conv2d(112, 672, kernel_size=(1, 1), stride=(1, 1), bias=False)\n",
      "        (bn1): BatchNormAct2d(\n",
      "          672, eps=1e-05, momentum=0.1, affine=True, track_running_stats=True\n",
      "          (drop): Identity()\n",
      "          (act): SiLU(inplace=True)\n",
      "        )\n",
      "        (conv_dw): Conv2d(672, 672, kernel_size=(5, 5), stride=(1, 1), padding=(2, 2), groups=672, bias=False)\n",
      "        (bn2): BatchNormAct2d(\n",
      "          672, eps=1e-05, momentum=0.1, affine=True, track_running_stats=True\n",
      "          (drop): Identity()\n",
      "          (act): SiLU(inplace=True)\n",
      "        )\n",
      "        (aa): Identity()\n",
      "        (se): SqueezeExcite(\n",
      "          (conv_reduce): Conv2d(672, 28, kernel_size=(1, 1), stride=(1, 1))\n",
      "          (act1): SiLU(inplace=True)\n",
      "          (conv_expand): Conv2d(28, 672, kernel_size=(1, 1), stride=(1, 1))\n",
      "          (gate): Sigmoid()\n",
      "        )\n",
      "        (conv_pwl): Conv2d(672, 112, kernel_size=(1, 1), stride=(1, 1), bias=False)\n",
      "        (bn3): BatchNormAct2d(\n",
      "          112, eps=1e-05, momentum=0.1, affine=True, track_running_stats=True\n",
      "          (drop): Identity()\n",
      "          (act): Identity()\n",
      "        )\n",
      "        (drop_path): Identity()\n",
      "      )\n",
      "      (2): InvertedResidual(\n",
      "        (conv_pw): Conv2d(112, 672, kernel_size=(1, 1), stride=(1, 1), bias=False)\n",
      "        (bn1): BatchNormAct2d(\n",
      "          672, eps=1e-05, momentum=0.1, affine=True, track_running_stats=True\n",
      "          (drop): Identity()\n",
      "          (act): SiLU(inplace=True)\n",
      "        )\n",
      "        (conv_dw): Conv2d(672, 672, kernel_size=(5, 5), stride=(1, 1), padding=(2, 2), groups=672, bias=False)\n",
      "        (bn2): BatchNormAct2d(\n",
      "          672, eps=1e-05, momentum=0.1, affine=True, track_running_stats=True\n",
      "          (drop): Identity()\n",
      "          (act): SiLU(inplace=True)\n",
      "        )\n",
      "        (aa): Identity()\n",
      "        (se): SqueezeExcite(\n",
      "          (conv_reduce): Conv2d(672, 28, kernel_size=(1, 1), stride=(1, 1))\n",
      "          (act1): SiLU(inplace=True)\n",
      "          (conv_expand): Conv2d(28, 672, kernel_size=(1, 1), stride=(1, 1))\n",
      "          (gate): Sigmoid()\n",
      "        )\n",
      "        (conv_pwl): Conv2d(672, 112, kernel_size=(1, 1), stride=(1, 1), bias=False)\n",
      "        (bn3): BatchNormAct2d(\n",
      "          112, eps=1e-05, momentum=0.1, affine=True, track_running_stats=True\n",
      "          (drop): Identity()\n",
      "          (act): Identity()\n",
      "        )\n",
      "        (drop_path): Identity()\n",
      "      )\n",
      "    )\n",
      "    (5): Sequential(\n",
      "      (0): InvertedResidual(\n",
      "        (conv_pw): Conv2d(112, 672, kernel_size=(1, 1), stride=(1, 1), bias=False)\n",
      "        (bn1): BatchNormAct2d(\n",
      "          672, eps=1e-05, momentum=0.1, affine=True, track_running_stats=True\n",
      "          (drop): Identity()\n",
      "          (act): SiLU(inplace=True)\n",
      "        )\n",
      "        (conv_dw): Conv2d(672, 672, kernel_size=(5, 5), stride=(2, 2), padding=(2, 2), groups=672, bias=False)\n",
      "        (bn2): BatchNormAct2d(\n",
      "          672, eps=1e-05, momentum=0.1, affine=True, track_running_stats=True\n",
      "          (drop): Identity()\n",
      "          (act): SiLU(inplace=True)\n",
      "        )\n",
      "        (aa): Identity()\n",
      "        (se): SqueezeExcite(\n",
      "          (conv_reduce): Conv2d(672, 28, kernel_size=(1, 1), stride=(1, 1))\n",
      "          (act1): SiLU(inplace=True)\n",
      "          (conv_expand): Conv2d(28, 672, kernel_size=(1, 1), stride=(1, 1))\n",
      "          (gate): Sigmoid()\n",
      "        )\n",
      "        (conv_pwl): Conv2d(672, 192, kernel_size=(1, 1), stride=(1, 1), bias=False)\n",
      "        (bn3): BatchNormAct2d(\n",
      "          192, eps=1e-05, momentum=0.1, affine=True, track_running_stats=True\n",
      "          (drop): Identity()\n",
      "          (act): Identity()\n",
      "        )\n",
      "        (drop_path): Identity()\n",
      "      )\n",
      "      (1): InvertedResidual(\n",
      "        (conv_pw): Conv2d(192, 1152, kernel_size=(1, 1), stride=(1, 1), bias=False)\n",
      "        (bn1): BatchNormAct2d(\n",
      "          1152, eps=1e-05, momentum=0.1, affine=True, track_running_stats=True\n",
      "          (drop): Identity()\n",
      "          (act): SiLU(inplace=True)\n",
      "        )\n",
      "        (conv_dw): Conv2d(1152, 1152, kernel_size=(5, 5), stride=(1, 1), padding=(2, 2), groups=1152, bias=False)\n",
      "        (bn2): BatchNormAct2d(\n",
      "          1152, eps=1e-05, momentum=0.1, affine=True, track_running_stats=True\n",
      "          (drop): Identity()\n",
      "          (act): SiLU(inplace=True)\n",
      "        )\n",
      "        (aa): Identity()\n",
      "        (se): SqueezeExcite(\n",
      "          (conv_reduce): Conv2d(1152, 48, kernel_size=(1, 1), stride=(1, 1))\n",
      "          (act1): SiLU(inplace=True)\n",
      "          (conv_expand): Conv2d(48, 1152, kernel_size=(1, 1), stride=(1, 1))\n",
      "          (gate): Sigmoid()\n",
      "        )\n",
      "        (conv_pwl): Conv2d(1152, 192, kernel_size=(1, 1), stride=(1, 1), bias=False)\n",
      "        (bn3): BatchNormAct2d(\n",
      "          192, eps=1e-05, momentum=0.1, affine=True, track_running_stats=True\n",
      "          (drop): Identity()\n",
      "          (act): Identity()\n",
      "        )\n",
      "        (drop_path): Identity()\n",
      "      )\n",
      "      (2): InvertedResidual(\n",
      "        (conv_pw): Conv2d(192, 1152, kernel_size=(1, 1), stride=(1, 1), bias=False)\n",
      "        (bn1): BatchNormAct2d(\n",
      "          1152, eps=1e-05, momentum=0.1, affine=True, track_running_stats=True\n",
      "          (drop): Identity()\n",
      "          (act): SiLU(inplace=True)\n",
      "        )\n",
      "        (conv_dw): Conv2d(1152, 1152, kernel_size=(5, 5), stride=(1, 1), padding=(2, 2), groups=1152, bias=False)\n",
      "        (bn2): BatchNormAct2d(\n",
      "          1152, eps=1e-05, momentum=0.1, affine=True, track_running_stats=True\n",
      "          (drop): Identity()\n",
      "          (act): SiLU(inplace=True)\n",
      "        )\n",
      "        (aa): Identity()\n",
      "        (se): SqueezeExcite(\n",
      "          (conv_reduce): Conv2d(1152, 48, kernel_size=(1, 1), stride=(1, 1))\n",
      "          (act1): SiLU(inplace=True)\n",
      "          (conv_expand): Conv2d(48, 1152, kernel_size=(1, 1), stride=(1, 1))\n",
      "          (gate): Sigmoid()\n",
      "        )\n",
      "        (conv_pwl): Conv2d(1152, 192, kernel_size=(1, 1), stride=(1, 1), bias=False)\n",
      "        (bn3): BatchNormAct2d(\n",
      "          192, eps=1e-05, momentum=0.1, affine=True, track_running_stats=True\n",
      "          (drop): Identity()\n",
      "          (act): Identity()\n",
      "        )\n",
      "        (drop_path): Identity()\n",
      "      )\n",
      "      (3): InvertedResidual(\n",
      "        (conv_pw): Conv2d(192, 1152, kernel_size=(1, 1), stride=(1, 1), bias=False)\n",
      "        (bn1): BatchNormAct2d(\n",
      "          1152, eps=1e-05, momentum=0.1, affine=True, track_running_stats=True\n",
      "          (drop): Identity()\n",
      "          (act): SiLU(inplace=True)\n",
      "        )\n",
      "        (conv_dw): Conv2d(1152, 1152, kernel_size=(5, 5), stride=(1, 1), padding=(2, 2), groups=1152, bias=False)\n",
      "        (bn2): BatchNormAct2d(\n",
      "          1152, eps=1e-05, momentum=0.1, affine=True, track_running_stats=True\n",
      "          (drop): Identity()\n",
      "          (act): SiLU(inplace=True)\n",
      "        )\n",
      "        (aa): Identity()\n",
      "        (se): SqueezeExcite(\n",
      "          (conv_reduce): Conv2d(1152, 48, kernel_size=(1, 1), stride=(1, 1))\n",
      "          (act1): SiLU(inplace=True)\n",
      "          (conv_expand): Conv2d(48, 1152, kernel_size=(1, 1), stride=(1, 1))\n",
      "          (gate): Sigmoid()\n",
      "        )\n",
      "        (conv_pwl): Conv2d(1152, 192, kernel_size=(1, 1), stride=(1, 1), bias=False)\n",
      "        (bn3): BatchNormAct2d(\n",
      "          192, eps=1e-05, momentum=0.1, affine=True, track_running_stats=True\n",
      "          (drop): Identity()\n",
      "          (act): Identity()\n",
      "        )\n",
      "        (drop_path): Identity()\n",
      "      )\n",
      "    )\n",
      "    (6): Sequential(\n",
      "      (0): InvertedResidual(\n",
      "        (conv_pw): Conv2d(192, 1152, kernel_size=(1, 1), stride=(1, 1), bias=False)\n",
      "        (bn1): BatchNormAct2d(\n",
      "          1152, eps=1e-05, momentum=0.1, affine=True, track_running_stats=True\n",
      "          (drop): Identity()\n",
      "          (act): SiLU(inplace=True)\n",
      "        )\n",
      "        (conv_dw): Conv2d(1152, 1152, kernel_size=(3, 3), stride=(1, 1), padding=(1, 1), groups=1152, bias=False)\n",
      "        (bn2): BatchNormAct2d(\n",
      "          1152, eps=1e-05, momentum=0.1, affine=True, track_running_stats=True\n",
      "          (drop): Identity()\n",
      "          (act): SiLU(inplace=True)\n",
      "        )\n",
      "        (aa): Identity()\n",
      "        (se): SqueezeExcite(\n",
      "          (conv_reduce): Conv2d(1152, 48, kernel_size=(1, 1), stride=(1, 1))\n",
      "          (act1): SiLU(inplace=True)\n",
      "          (conv_expand): Conv2d(48, 1152, kernel_size=(1, 1), stride=(1, 1))\n",
      "          (gate): Sigmoid()\n",
      "        )\n",
      "        (conv_pwl): Conv2d(1152, 320, kernel_size=(1, 1), stride=(1, 1), bias=False)\n",
      "        (bn3): BatchNormAct2d(\n",
      "          320, eps=1e-05, momentum=0.1, affine=True, track_running_stats=True\n",
      "          (drop): Identity()\n",
      "          (act): Identity()\n",
      "        )\n",
      "        (drop_path): Identity()\n",
      "      )\n",
      "    )\n",
      "  )\n",
      "  (conv_head): Conv2d(320, 1280, kernel_size=(1, 1), stride=(1, 1), bias=False)\n",
      "  (bn2): BatchNormAct2d(\n",
      "    1280, eps=1e-05, momentum=0.1, affine=True, track_running_stats=True\n",
      "    (drop): Identity()\n",
      "    (act): SiLU(inplace=True)\n",
      "  )\n",
      "  (global_pool): SelectAdaptivePool2d(pool_type=avg, flatten=Flatten(start_dim=1, end_dim=-1))\n",
      "  (classifier): Sequential(\n",
      "    (0): Dropout(p=0.2, inplace=False)\n",
      "    (1): Linear(in_features=1280, out_features=205, bias=True)\n",
      "  )\n",
      ")\n"
     ]
    }
   ],
   "source": [
    "import torch\n",
    "from torch import nn\n",
    "import timm\n",
    "    \n",
    "model = timm.create_model('efficientnet_b0', pretrained=True)\n",
    "\n",
    "for param in model.parameters():\n",
    "    param.requires_grad = False\n",
    "\n",
    "for block in model.blocks[-3:]:\n",
    "    for param in block.parameters():\n",
    "        param.requires_grad = True\n",
    "\n",
    "for param in model.conv_head.parameters():\n",
    "    param.requires_grad = True\n",
    "for param in model.bn2.parameters():\n",
    "    param.requires_grad = True\n",
    "\n",
    "num_classes = 205\n",
    "\n",
    "model.classifier = nn.Sequential(\n",
    "    nn.Dropout(.2),\n",
    "    nn.Linear(1280, num_classes)\n",
    ")\n",
    "model.to(device)\n",
    "\n",
    "print(model)"
   ]
  },
  {
   "cell_type": "code",
   "execution_count": null,
   "id": "32cfd463",
   "metadata": {},
   "outputs": [
    {
     "name": "stderr",
     "output_type": "stream",
     "text": [
      "C:\\Users\\fazul\\AppData\\Local\\Temp\\ipykernel_17856\\3871549013.py:38: FutureWarning: The behavior of 'to_datetime' with 'unit' when parsing strings is deprecated. In a future version, strings will be parsed as datetime strings, matching the behavior without a 'unit'. To retain the old behavior, explicitly cast ints or floats to numeric type before calling to_datetime.\n",
      "  classes = pd.read_json('./tests/classes.json', orient='index', convert_dates=False)\n",
      "C:\\Users\\fazul\\AppData\\Local\\Temp\\ipykernel_17856\\3871549013.py:38: FutureWarning: The behavior of 'to_datetime' with 'unit' when parsing strings is deprecated. In a future version, strings will be parsed as datetime strings, matching the behavior without a 'unit'. To retain the old behavior, explicitly cast ints or floats to numeric type before calling to_datetime.\n",
      "  classes = pd.read_json('./tests/classes.json', orient='index', convert_dates=False)\n",
      "C:\\Users\\fazul\\AppData\\Local\\Temp\\ipykernel_17856\\3871549013.py:38: FutureWarning: The behavior of 'to_datetime' with 'unit' when parsing strings is deprecated. In a future version, strings will be parsed as datetime strings, matching the behavior without a 'unit'. To retain the old behavior, explicitly cast ints or floats to numeric type before calling to_datetime.\n",
      "  classes = pd.read_json('./tests/classes.json', orient='index', convert_dates=False)\n"
     ]
    },
    {
     "data": {
      "application/vnd.jupyter.widget-view+json": {
       "model_id": "d4bdb556c68d4e22930742da1c01b0f9",
       "version_major": 2,
       "version_minor": 0
      },
      "text/plain": [
       "Epoch:   0%|          | 0/50 [00:00<?, ?it/s]"
      ]
     },
     "metadata": {},
     "output_type": "display_data"
    },
    {
     "data": {
      "application/vnd.jupyter.widget-view+json": {
       "model_id": "5f6c2ffb103a4d479de295d8829fd607",
       "version_major": 2,
       "version_minor": 0
      },
      "text/plain": [
       "Train:   0%|          | 0/313 [00:00<?, ?it/s]"
      ]
     },
     "metadata": {},
     "output_type": "display_data"
    },
    {
     "name": "stdout",
     "output_type": "stream",
     "text": [
      "Epoch 1 - train accuracy: 0.0581 - train loss: 4.9614 - train recall rare: 0.0724 - val accuracy: 0.1239 - val loss: 4.6044 - val recall rare: 0.0506\n",
      "Validation recall on rare classes improved (0.0000 --> 0.0506). Saving model...\n"
     ]
    },
    {
     "data": {
      "application/vnd.jupyter.widget-view+json": {
       "model_id": "274791ad825b4b48a6afa79478431f63",
       "version_major": 2,
       "version_minor": 0
      },
      "text/plain": [
       "Train:   0%|          | 0/313 [00:00<?, ?it/s]"
      ]
     },
     "metadata": {},
     "output_type": "display_data"
    },
    {
     "name": "stdout",
     "output_type": "stream",
     "text": [
      "Epoch 2 - train accuracy: 0.3332 - train loss: 3.2352 - train recall rare: 0.4063 - val accuracy: 0.4052 - val loss: 2.8537 - val recall rare: 0.2405\n",
      "Validation recall on rare classes improved (0.0506 --> 0.2405). Saving model...\n"
     ]
    },
    {
     "data": {
      "application/vnd.jupyter.widget-view+json": {
       "model_id": "7655350c1a5f4a58b70db43ba78d1094",
       "version_major": 2,
       "version_minor": 0
      },
      "text/plain": [
       "Train:   0%|          | 0/313 [00:00<?, ?it/s]"
      ]
     },
     "metadata": {},
     "output_type": "display_data"
    },
    {
     "name": "stdout",
     "output_type": "stream",
     "text": [
      "Epoch 3 - train accuracy: 0.6233 - train loss: 1.9535 - train recall rare: 0.7238 - val accuracy: 0.5627 - val loss: 2.3074 - val recall rare: 0.3165\n",
      "Validation recall on rare classes improved (0.2405 --> 0.3165). Saving model...\n"
     ]
    },
    {
     "data": {
      "application/vnd.jupyter.widget-view+json": {
       "model_id": "b13cc87388814c51aedbc583aa1edf01",
       "version_major": 2,
       "version_minor": 0
      },
      "text/plain": [
       "Train:   0%|          | 0/313 [00:00<?, ?it/s]"
      ]
     },
     "metadata": {},
     "output_type": "display_data"
    },
    {
     "name": "stdout",
     "output_type": "stream",
     "text": [
      "Epoch 4 - train accuracy: 0.7518 - train loss: 1.5540 - train recall rare: 0.8516 - val accuracy: 0.6437 - val loss: 2.0939 - val recall rare: 0.3671\n",
      "Validation recall on rare classes improved (0.3165 --> 0.3671). Saving model...\n"
     ]
    },
    {
     "data": {
      "application/vnd.jupyter.widget-view+json": {
       "model_id": "b24ac07ffc3f436d864a3245ad09126f",
       "version_major": 2,
       "version_minor": 0
      },
      "text/plain": [
       "Train:   0%|          | 0/313 [00:00<?, ?it/s]"
      ]
     },
     "metadata": {},
     "output_type": "display_data"
    },
    {
     "name": "stdout",
     "output_type": "stream",
     "text": [
      "Epoch 5 - train accuracy: 0.8090 - train loss: 1.3957 - train recall rare: 0.9017 - val accuracy: 0.6682 - val loss: 1.9813 - val recall rare: 0.4810\n",
      "Validation recall on rare classes improved (0.3671 --> 0.4810). Saving model...\n"
     ]
    },
    {
     "data": {
      "application/vnd.jupyter.widget-view+json": {
       "model_id": "e18a63dcd77a428eaed90b2f0b864abb",
       "version_major": 2,
       "version_minor": 0
      },
      "text/plain": [
       "Train:   0%|          | 0/313 [00:00<?, ?it/s]"
      ]
     },
     "metadata": {},
     "output_type": "display_data"
    },
    {
     "name": "stdout",
     "output_type": "stream",
     "text": [
      "Epoch 6 - train accuracy: 0.8385 - train loss: 1.3147 - train recall rare: 0.9332 - val accuracy: 0.7125 - val loss: 1.9308 - val recall rare: 0.5696\n",
      "Validation recall on rare classes improved (0.4810 --> 0.5696). Saving model...\n"
     ]
    },
    {
     "data": {
      "application/vnd.jupyter.widget-view+json": {
       "model_id": "dd8c092d508046cd875807084becd6a5",
       "version_major": 2,
       "version_minor": 0
      },
      "text/plain": [
       "Train:   0%|          | 0/313 [00:00<?, ?it/s]"
      ]
     },
     "metadata": {},
     "output_type": "display_data"
    },
    {
     "name": "stdout",
     "output_type": "stream",
     "text": [
      "Epoch 7 - train accuracy: 0.8545 - train loss: 1.2631 - train recall rare: 0.9441 - val accuracy: 0.7171 - val loss: 1.8128 - val recall rare: 0.4937\n",
      "Validation recall on rare classes did not improve. Counter: 1/25\n"
     ]
    },
    {
     "data": {
      "application/vnd.jupyter.widget-view+json": {
       "model_id": "d04467bf12db4152a1a0934076c0f175",
       "version_major": 2,
       "version_minor": 0
      },
      "text/plain": [
       "Train:   0%|          | 0/313 [00:00<?, ?it/s]"
      ]
     },
     "metadata": {},
     "output_type": "display_data"
    },
    {
     "name": "stdout",
     "output_type": "stream",
     "text": [
      "Epoch 8 - train accuracy: 0.8684 - train loss: 1.2243 - train recall rare: 0.9521 - val accuracy: 0.7385 - val loss: 1.7866 - val recall rare: 0.5823\n",
      "Validation recall on rare classes improved (0.5696 --> 0.5823). Saving model...\n"
     ]
    },
    {
     "data": {
      "application/vnd.jupyter.widget-view+json": {
       "model_id": "b7a98db25efa4908b39e6e36e7a68650",
       "version_major": 2,
       "version_minor": 0
      },
      "text/plain": [
       "Train:   0%|          | 0/313 [00:00<?, ?it/s]"
      ]
     },
     "metadata": {},
     "output_type": "display_data"
    },
    {
     "name": "stdout",
     "output_type": "stream",
     "text": [
      "Epoch 9 - train accuracy: 0.8766 - train loss: 1.1994 - train recall rare: 0.9555 - val accuracy: 0.7416 - val loss: 1.7115 - val recall rare: 0.5443\n",
      "Validation recall on rare classes did not improve. Counter: 1/25\n"
     ]
    },
    {
     "data": {
      "application/vnd.jupyter.widget-view+json": {
       "model_id": "9ea9680e338d4868a009b4da78f382b5",
       "version_major": 2,
       "version_minor": 0
      },
      "text/plain": [
       "Train:   0%|          | 0/313 [00:00<?, ?it/s]"
      ]
     },
     "metadata": {},
     "output_type": "display_data"
    },
    {
     "name": "stdout",
     "output_type": "stream",
     "text": [
      "Epoch 10 - train accuracy: 0.8818 - train loss: 1.1860 - train recall rare: 0.9610 - val accuracy: 0.7431 - val loss: 1.6957 - val recall rare: 0.5696\n",
      "Validation recall on rare classes did not improve. Counter: 2/25\n"
     ]
    },
    {
     "data": {
      "application/vnd.jupyter.widget-view+json": {
       "model_id": "ac3bfb9020f44b878221dc9a59304124",
       "version_major": 2,
       "version_minor": 0
      },
      "text/plain": [
       "Train:   0%|          | 0/313 [00:00<?, ?it/s]"
      ]
     },
     "metadata": {},
     "output_type": "display_data"
    },
    {
     "name": "stdout",
     "output_type": "stream",
     "text": [
      "Epoch 11 - train accuracy: 0.8912 - train loss: 1.1579 - train recall rare: 0.9710 - val accuracy: 0.7523 - val loss: 1.7250 - val recall rare: 0.5316\n",
      "Validation recall on rare classes did not improve. Counter: 3/25\n"
     ]
    },
    {
     "data": {
      "application/vnd.jupyter.widget-view+json": {
       "model_id": "20faaf253d024572974f788b0be07350",
       "version_major": 2,
       "version_minor": 0
      },
      "text/plain": [
       "Train:   0%|          | 0/313 [00:00<?, ?it/s]"
      ]
     },
     "metadata": {},
     "output_type": "display_data"
    },
    {
     "name": "stdout",
     "output_type": "stream",
     "text": [
      "Epoch 12 - train accuracy: 0.8952 - train loss: 1.1437 - train recall rare: 0.9707 - val accuracy: 0.7446 - val loss: 1.6953 - val recall rare: 0.5949\n",
      "Validation recall on rare classes improved (0.5823 --> 0.5949). Saving model...\n"
     ]
    },
    {
     "data": {
      "application/vnd.jupyter.widget-view+json": {
       "model_id": "5ac184e389ee485a8b26b0c4cb64f0be",
       "version_major": 2,
       "version_minor": 0
      },
      "text/plain": [
       "Train:   0%|          | 0/313 [00:00<?, ?it/s]"
      ]
     },
     "metadata": {},
     "output_type": "display_data"
    },
    {
     "name": "stdout",
     "output_type": "stream",
     "text": [
      "Epoch 13 - train accuracy: 0.8975 - train loss: 1.1352 - train recall rare: 0.9741 - val accuracy: 0.7737 - val loss: 1.6030 - val recall rare: 0.5063\n",
      "Validation recall on rare classes did not improve. Counter: 1/25\n"
     ]
    },
    {
     "data": {
      "application/vnd.jupyter.widget-view+json": {
       "model_id": "36a8b95aeb644e19853857e019f49bd1",
       "version_major": 2,
       "version_minor": 0
      },
      "text/plain": [
       "Train:   0%|          | 0/313 [00:00<?, ?it/s]"
      ]
     },
     "metadata": {},
     "output_type": "display_data"
    },
    {
     "name": "stdout",
     "output_type": "stream",
     "text": [
      "Epoch 14 - train accuracy: 0.9036 - train loss: 1.1191 - train recall rare: 0.9801 - val accuracy: 0.7615 - val loss: 1.6752 - val recall rare: 0.5570\n",
      "Validation recall on rare classes did not improve. Counter: 2/25\n"
     ]
    },
    {
     "data": {
      "application/vnd.jupyter.widget-view+json": {
       "model_id": "69fa9c738b024a57985c429247564dfb",
       "version_major": 2,
       "version_minor": 0
      },
      "text/plain": [
       "Train:   0%|          | 0/313 [00:00<?, ?it/s]"
      ]
     },
     "metadata": {},
     "output_type": "display_data"
    },
    {
     "name": "stdout",
     "output_type": "stream",
     "text": [
      "Epoch 15 - train accuracy: 0.9070 - train loss: 1.1073 - train recall rare: 0.9778 - val accuracy: 0.7798 - val loss: 1.6051 - val recall rare: 0.6203\n",
      "Validation recall on rare classes improved (0.5949 --> 0.6203). Saving model...\n"
     ]
    },
    {
     "data": {
      "application/vnd.jupyter.widget-view+json": {
       "model_id": "b31af32f9a35416cb801b83775ef7467",
       "version_major": 2,
       "version_minor": 0
      },
      "text/plain": [
       "Train:   0%|          | 0/313 [00:00<?, ?it/s]"
      ]
     },
     "metadata": {},
     "output_type": "display_data"
    },
    {
     "name": "stdout",
     "output_type": "stream",
     "text": [
      "Epoch 16 - train accuracy: 0.9082 - train loss: 1.1059 - train recall rare: 0.9808 - val accuracy: 0.7599 - val loss: 1.6719 - val recall rare: 0.4937\n",
      "Validation recall on rare classes did not improve. Counter: 1/25\n"
     ]
    },
    {
     "data": {
      "application/vnd.jupyter.widget-view+json": {
       "model_id": "7628eef2bfc04629ae7a5e2e2e77dd60",
       "version_major": 2,
       "version_minor": 0
      },
      "text/plain": [
       "Train:   0%|          | 0/313 [00:00<?, ?it/s]"
      ]
     },
     "metadata": {},
     "output_type": "display_data"
    },
    {
     "name": "stdout",
     "output_type": "stream",
     "text": [
      "Epoch 17 - train accuracy: 0.9110 - train loss: 1.0966 - train recall rare: 0.9800 - val accuracy: 0.7875 - val loss: 1.6267 - val recall rare: 0.5696\n",
      "Validation recall on rare classes did not improve. Counter: 2/25\n"
     ]
    },
    {
     "data": {
      "application/vnd.jupyter.widget-view+json": {
       "model_id": "459b326698be476aa6728042d16b143e",
       "version_major": 2,
       "version_minor": 0
      },
      "text/plain": [
       "Train:   0%|          | 0/313 [00:00<?, ?it/s]"
      ]
     },
     "metadata": {},
     "output_type": "display_data"
    },
    {
     "name": "stdout",
     "output_type": "stream",
     "text": [
      "Epoch 18 - train accuracy: 0.9140 - train loss: 1.0896 - train recall rare: 0.9843 - val accuracy: 0.7508 - val loss: 1.6706 - val recall rare: 0.5190\n",
      "Validation recall on rare classes did not improve. Counter: 3/25\n"
     ]
    },
    {
     "data": {
      "application/vnd.jupyter.widget-view+json": {
       "model_id": "be32f43827fe48d98bf28a96caf2e05a",
       "version_major": 2,
       "version_minor": 0
      },
      "text/plain": [
       "Train:   0%|          | 0/313 [00:00<?, ?it/s]"
      ]
     },
     "metadata": {},
     "output_type": "display_data"
    },
    {
     "name": "stdout",
     "output_type": "stream",
     "text": [
      "Epoch 19 - train accuracy: 0.9153 - train loss: 1.0849 - train recall rare: 0.9869 - val accuracy: 0.7783 - val loss: 1.5910 - val recall rare: 0.5570\n",
      "Validation recall on rare classes did not improve. Counter: 4/25\n"
     ]
    },
    {
     "data": {
      "application/vnd.jupyter.widget-view+json": {
       "model_id": "9271c614be8d4bffb90907d29b113dfd",
       "version_major": 2,
       "version_minor": 0
      },
      "text/plain": [
       "Train:   0%|          | 0/313 [00:00<?, ?it/s]"
      ]
     },
     "metadata": {},
     "output_type": "display_data"
    },
    {
     "name": "stdout",
     "output_type": "stream",
     "text": [
      "Epoch 20 - train accuracy: 0.9173 - train loss: 1.0764 - train recall rare: 0.9900 - val accuracy: 0.7844 - val loss: 1.6115 - val recall rare: 0.5570\n",
      "Validation recall on rare classes did not improve. Counter: 5/25\n"
     ]
    },
    {
     "data": {
      "application/vnd.jupyter.widget-view+json": {
       "model_id": "71be2230d1464df49761ebca5218fdb6",
       "version_major": 2,
       "version_minor": 0
      },
      "text/plain": [
       "Train:   0%|          | 0/313 [00:00<?, ?it/s]"
      ]
     },
     "metadata": {},
     "output_type": "display_data"
    },
    {
     "name": "stdout",
     "output_type": "stream",
     "text": [
      "Epoch 21 - train accuracy: 0.9219 - train loss: 1.0683 - train recall rare: 0.9913 - val accuracy: 0.8104 - val loss: 1.5721 - val recall rare: 0.6203\n",
      "Validation recall on rare classes improved (0.6203 --> 0.6203). Saving model...\n"
     ]
    },
    {
     "data": {
      "application/vnd.jupyter.widget-view+json": {
       "model_id": "12c21694e7ba43ac967de35a5d1e47a1",
       "version_major": 2,
       "version_minor": 0
      },
      "text/plain": [
       "Train:   0%|          | 0/313 [00:00<?, ?it/s]"
      ]
     },
     "metadata": {},
     "output_type": "display_data"
    },
    {
     "name": "stdout",
     "output_type": "stream",
     "text": [
      "Epoch 22 - train accuracy: 0.9231 - train loss: 1.0599 - train recall rare: 0.9907 - val accuracy: 0.7936 - val loss: 1.5529 - val recall rare: 0.5190\n",
      "Validation recall on rare classes did not improve. Counter: 1/25\n"
     ]
    },
    {
     "data": {
      "application/vnd.jupyter.widget-view+json": {
       "model_id": "d814115684354955a61049773cc63b1d",
       "version_major": 2,
       "version_minor": 0
      },
      "text/plain": [
       "Train:   0%|          | 0/313 [00:00<?, ?it/s]"
      ]
     },
     "metadata": {},
     "output_type": "display_data"
    },
    {
     "name": "stdout",
     "output_type": "stream",
     "text": [
      "Epoch 23 - train accuracy: 0.9253 - train loss: 1.0541 - train recall rare: 0.9930 - val accuracy: 0.8012 - val loss: 1.5673 - val recall rare: 0.5316\n",
      "Validation recall on rare classes did not improve. Counter: 2/25\n"
     ]
    },
    {
     "data": {
      "application/vnd.jupyter.widget-view+json": {
       "model_id": "7d6e02f7ed924c5b85e54e85df77c4cf",
       "version_major": 2,
       "version_minor": 0
      },
      "text/plain": [
       "Train:   0%|          | 0/313 [00:00<?, ?it/s]"
      ]
     },
     "metadata": {},
     "output_type": "display_data"
    },
    {
     "name": "stdout",
     "output_type": "stream",
     "text": [
      "Epoch 24 - train accuracy: 0.9289 - train loss: 1.0455 - train recall rare: 0.9971 - val accuracy: 0.8135 - val loss: 1.5457 - val recall rare: 0.5696\n",
      "Validation recall on rare classes did not improve. Counter: 3/25\n"
     ]
    },
    {
     "data": {
      "application/vnd.jupyter.widget-view+json": {
       "model_id": "c15dcdc9589b4a98805e671f22dade14",
       "version_major": 2,
       "version_minor": 0
      },
      "text/plain": [
       "Train:   0%|          | 0/313 [00:00<?, ?it/s]"
      ]
     },
     "metadata": {},
     "output_type": "display_data"
    },
    {
     "name": "stdout",
     "output_type": "stream",
     "text": [
      "Epoch 25 - train accuracy: 0.9308 - train loss: 1.0437 - train recall rare: 0.9969 - val accuracy: 0.7844 - val loss: 1.5771 - val recall rare: 0.4684\n",
      "Validation recall on rare classes did not improve. Counter: 4/25\n"
     ]
    },
    {
     "data": {
      "application/vnd.jupyter.widget-view+json": {
       "model_id": "cbf84c4a93c24fe9a12d1f7bab2cf5cc",
       "version_major": 2,
       "version_minor": 0
      },
      "text/plain": [
       "Train:   0%|          | 0/313 [00:00<?, ?it/s]"
      ]
     },
     "metadata": {},
     "output_type": "display_data"
    },
    {
     "name": "stdout",
     "output_type": "stream",
     "text": [
      "Epoch 26 - train accuracy: 0.9330 - train loss: 1.0360 - train recall rare: 0.9993 - val accuracy: 0.7951 - val loss: 1.5752 - val recall rare: 0.5190\n",
      "Validation recall on rare classes did not improve. Counter: 5/25\n"
     ]
    },
    {
     "data": {
      "application/vnd.jupyter.widget-view+json": {
       "model_id": "0bf968c08fa44df6b9414c5375367062",
       "version_major": 2,
       "version_minor": 0
      },
      "text/plain": [
       "Train:   0%|          | 0/313 [00:00<?, ?it/s]"
      ]
     },
     "metadata": {},
     "output_type": "display_data"
    },
    {
     "name": "stdout",
     "output_type": "stream",
     "text": [
      "Epoch 27 - train accuracy: 0.9317 - train loss: 1.0370 - train recall rare: 0.9976 - val accuracy: 0.8150 - val loss: 1.5375 - val recall rare: 0.5190\n",
      "Validation recall on rare classes did not improve. Counter: 6/25\n"
     ]
    },
    {
     "data": {
      "application/vnd.jupyter.widget-view+json": {
       "model_id": "25c3b8d5242046f0ae0f937489c46b13",
       "version_major": 2,
       "version_minor": 0
      },
      "text/plain": [
       "Train:   0%|          | 0/313 [00:00<?, ?it/s]"
      ]
     },
     "metadata": {},
     "output_type": "display_data"
    },
    {
     "name": "stdout",
     "output_type": "stream",
     "text": [
      "Epoch 28 - train accuracy: 0.9325 - train loss: 1.0330 - train recall rare: 0.9962 - val accuracy: 0.7997 - val loss: 1.5628 - val recall rare: 0.5190\n",
      "Validation recall on rare classes did not improve. Counter: 7/25\n"
     ]
    },
    {
     "data": {
      "application/vnd.jupyter.widget-view+json": {
       "model_id": "73cc9c1c18c54c60b18647d18bd172d5",
       "version_major": 2,
       "version_minor": 0
      },
      "text/plain": [
       "Train:   0%|          | 0/313 [00:00<?, ?it/s]"
      ]
     },
     "metadata": {},
     "output_type": "display_data"
    },
    {
     "name": "stdout",
     "output_type": "stream",
     "text": [
      "Epoch 29 - train accuracy: 0.9352 - train loss: 1.0239 - train recall rare: 1.0007 - val accuracy: 0.8165 - val loss: 1.5093 - val recall rare: 0.5570\n",
      "Validation recall on rare classes did not improve. Counter: 8/25\n"
     ]
    },
    {
     "data": {
      "application/vnd.jupyter.widget-view+json": {
       "model_id": "55694230e1c2411286042d1f5e7727a1",
       "version_major": 2,
       "version_minor": 0
      },
      "text/plain": [
       "Train:   0%|          | 0/313 [00:00<?, ?it/s]"
      ]
     },
     "metadata": {},
     "output_type": "display_data"
    },
    {
     "name": "stdout",
     "output_type": "stream",
     "text": [
      "Epoch 30 - train accuracy: 0.9369 - train loss: 1.0213 - train recall rare: 1.0040 - val accuracy: 0.8089 - val loss: 1.5395 - val recall rare: 0.5696\n",
      "Validation recall on rare classes did not improve. Counter: 9/25\n"
     ]
    },
    {
     "data": {
      "application/vnd.jupyter.widget-view+json": {
       "model_id": "9ca672289f184062b1a836687d5b7cf9",
       "version_major": 2,
       "version_minor": 0
      },
      "text/plain": [
       "Train:   0%|          | 0/313 [00:00<?, ?it/s]"
      ]
     },
     "metadata": {},
     "output_type": "display_data"
    },
    {
     "name": "stdout",
     "output_type": "stream",
     "text": [
      "Epoch 31 - train accuracy: 0.9397 - train loss: 1.0126 - train recall rare: 1.0049 - val accuracy: 0.8135 - val loss: 1.5089 - val recall rare: 0.5190\n",
      "Validation recall on rare classes did not improve. Counter: 10/25\n"
     ]
    },
    {
     "data": {
      "application/vnd.jupyter.widget-view+json": {
       "model_id": "00c9ce395ea843c2a72b5fe128b437c3",
       "version_major": 2,
       "version_minor": 0
      },
      "text/plain": [
       "Train:   0%|          | 0/313 [00:00<?, ?it/s]"
      ]
     },
     "metadata": {},
     "output_type": "display_data"
    },
    {
     "name": "stdout",
     "output_type": "stream",
     "text": [
      "Epoch 32 - train accuracy: 0.9411 - train loss: 1.0093 - train recall rare: 1.0044 - val accuracy: 0.8333 - val loss: 1.4770 - val recall rare: 0.5696\n",
      "Validation recall on rare classes did not improve. Counter: 11/25\n"
     ]
    },
    {
     "data": {
      "application/vnd.jupyter.widget-view+json": {
       "model_id": "4dc81ef9a8d34bde818d9cf9d9dd956a",
       "version_major": 2,
       "version_minor": 0
      },
      "text/plain": [
       "Train:   0%|          | 0/313 [00:00<?, ?it/s]"
      ]
     },
     "metadata": {},
     "output_type": "display_data"
    },
    {
     "name": "stdout",
     "output_type": "stream",
     "text": [
      "Epoch 33 - train accuracy: 0.9420 - train loss: 1.0051 - train recall rare: 1.0047 - val accuracy: 0.8440 - val loss: 1.4598 - val recall rare: 0.6076\n",
      "Validation recall on rare classes did not improve. Counter: 12/25\n"
     ]
    },
    {
     "data": {
      "application/vnd.jupyter.widget-view+json": {
       "model_id": "2c3b66b4f7e047dfb979d63bc36749f4",
       "version_major": 2,
       "version_minor": 0
      },
      "text/plain": [
       "Train:   0%|          | 0/313 [00:00<?, ?it/s]"
      ]
     },
     "metadata": {},
     "output_type": "display_data"
    },
    {
     "name": "stdout",
     "output_type": "stream",
     "text": [
      "Epoch 34 - train accuracy: 0.9433 - train loss: 1.0024 - train recall rare: 1.0039 - val accuracy: 0.8440 - val loss: 1.4223 - val recall rare: 0.5949\n",
      "Validation recall on rare classes did not improve. Counter: 13/25\n"
     ]
    },
    {
     "data": {
      "application/vnd.jupyter.widget-view+json": {
       "model_id": "ff475186913c4b67a91e23bce84d7e39",
       "version_major": 2,
       "version_minor": 0
      },
      "text/plain": [
       "Train:   0%|          | 0/313 [00:00<?, ?it/s]"
      ]
     },
     "metadata": {},
     "output_type": "display_data"
    },
    {
     "name": "stdout",
     "output_type": "stream",
     "text": [
      "Epoch 35 - train accuracy: 0.9450 - train loss: 0.9984 - train recall rare: 1.0056 - val accuracy: 0.8394 - val loss: 1.4134 - val recall rare: 0.5696\n",
      "Validation recall on rare classes did not improve. Counter: 14/25\n"
     ]
    },
    {
     "data": {
      "application/vnd.jupyter.widget-view+json": {
       "model_id": "e1181714ba294cd1891381bb07b89800",
       "version_major": 2,
       "version_minor": 0
      },
      "text/plain": [
       "Train:   0%|          | 0/313 [00:00<?, ?it/s]"
      ]
     },
     "metadata": {},
     "output_type": "display_data"
    },
    {
     "name": "stdout",
     "output_type": "stream",
     "text": [
      "Epoch 36 - train accuracy: 0.9479 - train loss: 0.9896 - train recall rare: 1.0084 - val accuracy: 0.8333 - val loss: 1.4314 - val recall rare: 0.5696\n",
      "Validation recall on rare classes did not improve. Counter: 15/25\n"
     ]
    },
    {
     "data": {
      "application/vnd.jupyter.widget-view+json": {
       "model_id": "fcb3027c88224d8bbb6ba0ddb7d77922",
       "version_major": 2,
       "version_minor": 0
      },
      "text/plain": [
       "Train:   0%|          | 0/313 [00:00<?, ?it/s]"
      ]
     },
     "metadata": {},
     "output_type": "display_data"
    },
    {
     "name": "stdout",
     "output_type": "stream",
     "text": [
      "Epoch 37 - train accuracy: 0.9484 - train loss: 0.9874 - train recall rare: 1.0095 - val accuracy: 0.8410 - val loss: 1.4549 - val recall rare: 0.5316\n",
      "Validation recall on rare classes did not improve. Counter: 16/25\n"
     ]
    },
    {
     "data": {
      "application/vnd.jupyter.widget-view+json": {
       "model_id": "de397ef607ee440dab66c6d4cb7e13a7",
       "version_major": 2,
       "version_minor": 0
      },
      "text/plain": [
       "Train:   0%|          | 0/313 [00:00<?, ?it/s]"
      ]
     },
     "metadata": {},
     "output_type": "display_data"
    },
    {
     "name": "stdout",
     "output_type": "stream",
     "text": [
      "Epoch 38 - train accuracy: 0.9496 - train loss: 0.9852 - train recall rare: 1.0102 - val accuracy: 0.8456 - val loss: 1.4060 - val recall rare: 0.5570\n",
      "Validation recall on rare classes did not improve. Counter: 17/25\n"
     ]
    },
    {
     "data": {
      "application/vnd.jupyter.widget-view+json": {
       "model_id": "bf42ad6b03784814a8c9075a0336f222",
       "version_major": 2,
       "version_minor": 0
      },
      "text/plain": [
       "Train:   0%|          | 0/313 [00:00<?, ?it/s]"
      ]
     },
     "metadata": {},
     "output_type": "display_data"
    },
    {
     "name": "stdout",
     "output_type": "stream",
     "text": [
      "Epoch 39 - train accuracy: 0.9507 - train loss: 0.9806 - train recall rare: 1.0091 - val accuracy: 0.8502 - val loss: 1.4060 - val recall rare: 0.5823\n",
      "Validation recall on rare classes did not improve. Counter: 18/25\n"
     ]
    },
    {
     "data": {
      "application/vnd.jupyter.widget-view+json": {
       "model_id": "96ef282252e446e980233fe48eea04ff",
       "version_major": 2,
       "version_minor": 0
      },
      "text/plain": [
       "Train:   0%|          | 0/313 [00:00<?, ?it/s]"
      ]
     },
     "metadata": {},
     "output_type": "display_data"
    },
    {
     "name": "stdout",
     "output_type": "stream",
     "text": [
      "Epoch 40 - train accuracy: 0.9504 - train loss: 0.9798 - train recall rare: 1.0126 - val accuracy: 0.8471 - val loss: 1.4049 - val recall rare: 0.5823\n",
      "Validation recall on rare classes did not improve. Counter: 19/25\n"
     ]
    },
    {
     "data": {
      "application/vnd.jupyter.widget-view+json": {
       "model_id": "c255b3eb593a47a38ae92fdacb3d5802",
       "version_major": 2,
       "version_minor": 0
      },
      "text/plain": [
       "Train:   0%|          | 0/313 [00:00<?, ?it/s]"
      ]
     },
     "metadata": {},
     "output_type": "display_data"
    },
    {
     "name": "stdout",
     "output_type": "stream",
     "text": [
      "Epoch 41 - train accuracy: 0.9537 - train loss: 0.9748 - train recall rare: 1.0140 - val accuracy: 0.8563 - val loss: 1.3948 - val recall rare: 0.6076\n",
      "Validation recall on rare classes did not improve. Counter: 20/25\n"
     ]
    },
    {
     "data": {
      "application/vnd.jupyter.widget-view+json": {
       "model_id": "d7843382ab014276b784500c79d88330",
       "version_major": 2,
       "version_minor": 0
      },
      "text/plain": [
       "Train:   0%|          | 0/313 [00:00<?, ?it/s]"
      ]
     },
     "metadata": {},
     "output_type": "display_data"
    },
    {
     "name": "stdout",
     "output_type": "stream",
     "text": [
      "Epoch 42 - train accuracy: 0.9547 - train loss: 0.9715 - train recall rare: 1.0151 - val accuracy: 0.8532 - val loss: 1.3819 - val recall rare: 0.5696\n",
      "Validation recall on rare classes did not improve. Counter: 21/25\n"
     ]
    },
    {
     "data": {
      "application/vnd.jupyter.widget-view+json": {
       "model_id": "1b4a746acd2546169b9180891d20d826",
       "version_major": 2,
       "version_minor": 0
      },
      "text/plain": [
       "Train:   0%|          | 0/313 [00:00<?, ?it/s]"
      ]
     },
     "metadata": {},
     "output_type": "display_data"
    },
    {
     "name": "stdout",
     "output_type": "stream",
     "text": [
      "Epoch 43 - train accuracy: 0.9540 - train loss: 0.9725 - train recall rare: 1.0118 - val accuracy: 0.8547 - val loss: 1.3922 - val recall rare: 0.5316\n",
      "Validation recall on rare classes did not improve. Counter: 22/25\n"
     ]
    },
    {
     "data": {
      "application/vnd.jupyter.widget-view+json": {
       "model_id": "a9be94899fa24fa6aa4abc68f27acc87",
       "version_major": 2,
       "version_minor": 0
      },
      "text/plain": [
       "Train:   0%|          | 0/313 [00:00<?, ?it/s]"
      ]
     },
     "metadata": {},
     "output_type": "display_data"
    },
    {
     "name": "stdout",
     "output_type": "stream",
     "text": [
      "Epoch 44 - train accuracy: 0.9557 - train loss: 0.9673 - train recall rare: 1.0139 - val accuracy: 0.8563 - val loss: 1.3910 - val recall rare: 0.5696\n",
      "Validation recall on rare classes did not improve. Counter: 23/25\n"
     ]
    },
    {
     "data": {
      "application/vnd.jupyter.widget-view+json": {
       "model_id": "af0b73433e054d55be5b2f476e4f22e1",
       "version_major": 2,
       "version_minor": 0
      },
      "text/plain": [
       "Train:   0%|          | 0/313 [00:00<?, ?it/s]"
      ]
     },
     "metadata": {},
     "output_type": "display_data"
    },
    {
     "name": "stdout",
     "output_type": "stream",
     "text": [
      "Epoch 45 - train accuracy: 0.9564 - train loss: 0.9680 - train recall rare: 1.0148 - val accuracy: 0.8624 - val loss: 1.3892 - val recall rare: 0.6076\n",
      "Validation recall on rare classes did not improve. Counter: 24/25\n"
     ]
    },
    {
     "data": {
      "application/vnd.jupyter.widget-view+json": {
       "model_id": "d7cf82faad4240f69c5bd7fa1f6faceb",
       "version_major": 2,
       "version_minor": 0
      },
      "text/plain": [
       "Train:   0%|          | 0/313 [00:00<?, ?it/s]"
      ]
     },
     "metadata": {},
     "output_type": "display_data"
    },
    {
     "name": "stdout",
     "output_type": "stream",
     "text": [
      "Epoch 46 - train accuracy: 0.9575 - train loss: 0.9635 - train recall rare: 1.0148 - val accuracy: 0.8563 - val loss: 1.3862 - val recall rare: 0.5570\n",
      "Validation recall on rare classes did not improve. Counter: 25/25\n",
      "Early stopping triggered.\n",
      "Finished Training. Loaded best model.\n"
     ]
    },
    {
     "name": "stderr",
     "output_type": "stream",
     "text": [
      "C:\\Users\\fazul\\AppData\\Local\\Temp\\ipykernel_17856\\3871549013.py:122: FutureWarning: You are using `torch.load` with `weights_only=False` (the current default value), which uses the default pickle module implicitly. It is possible to construct malicious pickle data which will execute arbitrary code during unpickling (See https://github.com/pytorch/pytorch/blob/main/SECURITY.md#untrusted-models for more details). In a future release, the default value for `weights_only` will be flipped to `True`. This limits the functions that could be executed during unpickling. Arbitrary objects will no longer be allowed to be loaded via this mode unless they are explicitly allowlisted by the user via `torch.serialization.add_safe_globals`. We recommend you start setting `weights_only=True` for any use case where you don't have full control of the loaded file. Please open an issue on GitHub for any issues related to this experimental feature.\n",
      "  model.load_state_dict(torch.load(model_path_finetune))\n"
     ]
    },
    {
     "data": {
      "image/png": "[encoded data removed]",
      "text/plain": [
       "<Figure size 1800x500 with 3 Axes>"
      ]
     },
     "metadata": {},
     "output_type": "display_data"
    }
   ],
   "source": [
    "from torch import nn, optim\n",
    "import numpy as np\n",
    "import pandas as pd\n",
    "from tqdm.notebook import tqdm \n",
    "import os\n",
    "from rare_traffic_signs import plot_metrics\n",
    "\n",
    "lr = 5e-5\n",
    "epochs = 50\n",
    "\n",
    "params_to_update = filter(lambda p: p.requires_grad, model.parameters())\n",
    "optimizer = optim.AdamW(params_to_update, lr=lr)\n",
    "criterion = nn.CrossEntropyLoss(label_smoothing=0.10)\n",
    "scheduler = torch.optim.lr_scheduler.OneCycleLR(\n",
    "    optimizer,\n",
    "    max_lr=8e-4, \n",
    "    steps_per_epoch=len(train_full_loader),\n",
    "    epochs=epochs,\n",
    "    pct_start=0.2,\n",
    ")\n",
    "\n",
    "best_val_loss = np.inf\n",
    "best_val_accuracy = 0.0\n",
    "best_val_recall_rare = 0.0\n",
    "epochs_no_improve = 0\n",
    "patience = int(epochs/2)\n",
    "\n",
    "model_path = 'rare_traffic_signs_complex_model_efficientnet.pth'\n",
    "\n",
    "train_accuracies = []\n",
    "train_losses = []\n",
    "train_recalls_rare = []\n",
    "val_accuracies = []\n",
    "val_losses = []\n",
    "val_recalls_rare = []\n",
    "\n",
    "classes = pd.read_json('./tests/classes.json', orient='index', convert_dates=False)\n",
    "name_to_id = classes['id'].to_dict()\n",
    "rare_class_names = set(classes.index[classes['type'] == 'rare'])\n",
    "rare_class_ids = torch.tensor([name_to_id[name] for name in rare_class_names], device=device, dtype=torch.long)\n",
    "\n",
    "for epoch in tqdm(range(epochs), position=0, desc='Epoch'):\n",
    "    \n",
    "    train_loss = train_correct = train_correct_rare = train_seen = train_seen_rare = 0\n",
    "    val_loss = val_correct = val_correct_rare = val_seen = val_seen_rare = 0\n",
    "\n",
    "    model.train()\n",
    "\n",
    "    with tqdm(train_full_loader, position=1, leave=False, desc='Train') as pbar:\n",
    "        for i, data in enumerate(pbar):\n",
    "            inputs, targets = data[0].to(device), data[1].to(device).long()\n",
    "\n",
    "            optimizer.zero_grad()\n",
    "\n",
    "            outputs = model(inputs)\n",
    "            loss = criterion(outputs, targets)\n",
    "            loss.backward()\n",
    "            optimizer.step()\n",
    "            scheduler.step()\n",
    "\n",
    "            is_target_rare = torch.isin(targets, rare_class_ids)\n",
    "\n",
    "            train_loss += loss.item() * inputs.size(0)\n",
    "            train_correct += torch.sum(outputs.argmax(dim=-1)==targets).item()\n",
    "            train_correct_rare += torch.sum((outputs.argmax(dim=-1)==targets) * ~is_target_rare).item()\n",
    "            train_seen += inputs.size(0)\n",
    "            train_seen_rare += torch.sum(is_target_rare)\n",
    "\n",
    "            pbar.set_postfix(\n",
    "                loss=f'{train_loss/train_seen:.4f}',\n",
    "                accuracy=f'{train_correct/train_seen:.4f}',\n",
    "                recall_rare=f'{train_correct_rare/(train_seen_rare+1e-9):.4f}',\n",
    "                lr=f'{optimizer.param_groups[0][\"lr\"]:.6f}'\n",
    "            )\n",
    "\n",
    "    model.eval()\n",
    "    with torch.no_grad():\n",
    "        for data in val_full_loader:\n",
    "            inputs, targets = data[0].to(device), data[1].to(device).long()\n",
    "            outputs = model(inputs)\n",
    "\n",
    "            is_target_rare = torch.isin(targets, rare_class_ids)\n",
    "\n",
    "            val_loss += criterion(outputs, targets).item() * inputs.size(0)\n",
    "            val_correct += torch.sum(outputs.argmax(dim=-1)==targets).item()\n",
    "            val_correct_rare += torch.sum((outputs.argmax(dim=-1)==targets) * is_target_rare).item()\n",
    "            val_seen += inputs.size(0)\n",
    "            val_seen_rare += torch.sum(is_target_rare)\n",
    "    \n",
    "    train_loss /= train_seen\n",
    "    train_accuracy = train_correct / train_seen\n",
    "    train_recall_rare = train_correct_rare / (train_seen_rare)\n",
    "    val_loss /= val_seen\n",
    "    val_accuracy = val_correct / val_seen\n",
    "    val_recall_rare = val_correct_rare / (val_seen_rare+1e-9)\n",
    "    \n",
    "    tqdm.write(f'Epoch {epoch+1} - train accuracy: {train_accuracy:.4f} - train loss: {train_loss:.4f} - train recall rare: {train_recall_rare:.4f} - val accuracy: {val_accuracy:.4f} - val loss: {val_loss:.4f} - val recall rare: {val_recall_rare:.4f}')\n",
    "    train_losses.append(train_loss)\n",
    "    train_accuracies.append(train_accuracy)\n",
    "    train_recalls_rare.append(train_recall_rare)\n",
    "    val_losses.append(val_loss)\n",
    "    val_accuracies.append(val_accuracy)\n",
    "    val_recalls_rare.append(val_recall_rare)\n",
    "\n",
    "    if val_recall_rare > best_val_recall_rare or ((val_recall_rare == best_val_recall_rare) and (val_accuracy > best_val_accuracy)):\n",
    "        tqdm.write(f'Validation recall on rare classes improved ({best_val_recall_rare:.4f} --> {val_recall_rare:.4f}). Saving model...')\n",
    "        torch.save(model.state_dict(), model_path)\n",
    "        best_val_recall_rare = val_recall_rare\n",
    "        best_val_accuracy = val_accuracy\n",
    "        epochs_no_improve = 0\n",
    "    else:\n",
    "        epochs_no_improve += 1\n",
    "        tqdm.write(f'Validation recall on rare classes did not improve. Counter: {epochs_no_improve}/{patience}')\n",
    "\n",
    "    if epochs_no_improve >= patience:\n",
    "        tqdm.write('Early stopping triggered.')\n",
    "        break\n",
    "\n",
    "\n",
    "if os.path.exists(model_path):\n",
    "    model.load_state_dict(torch.load(model_path))\n",
    "    print('Finished Training. Loaded best model.')\n",
    "else:\n",
    "    print('No improvement during training. Using final model.')\n",
    "\n",
    "plot_metrics(train_losses, val_losses, train_accuracies, val_accuracies, train_recall_rare=train_recalls_rare, val_recall_rare=val_recalls_rare)"
   ]
  },
  {
   "cell_type": "code",
   "execution_count": null,
   "id": "017a91f8",
   "metadata": {},
   "outputs": [
    {
     "name": "stderr",
     "output_type": "stream",
     "text": [
      "C:\\Users\\fazul\\AppData\\Local\\Temp\\ipykernel_17856\\1977542192.py:2: FutureWarning: You are using `torch.load` with `weights_only=False` (the current default value), which uses the default pickle module implicitly. It is possible to construct malicious pickle data which will execute arbitrary code during unpickling (See https://github.com/pytorch/pytorch/blob/main/SECURITY.md#untrusted-models for more details). In a future release, the default value for `weights_only` will be flipped to `True`. This limits the functions that could be executed during unpickling. Arbitrary objects will no longer be allowed to be loaded via this mode unless they are explicitly allowlisted by the user via `torch.serialization.add_safe_globals`. We recommend you start setting `weights_only=True` for any use case where you don't have full control of the loaded file. Please open an issue on GitHub for any issues related to this experimental feature.\n",
      "  model.load_state_dict(torch.load(model_path_finetune))\n",
      "C:\\Users\\fazul\\AppData\\Local\\Temp\\ipykernel_17856\\1977542192.py:7: FutureWarning: The behavior of 'to_datetime' with 'unit' when parsing strings is deprecated. In a future version, strings will be parsed as datetime strings, matching the behavior without a 'unit'. To retain the old behavior, explicitly cast ints or floats to numeric type before calling to_datetime.\n",
      "  classes = pd.read_json('./tests/classes.json', orient='index', convert_dates=False)\n",
      "C:\\Users\\fazul\\AppData\\Local\\Temp\\ipykernel_17856\\1977542192.py:7: FutureWarning: The behavior of 'to_datetime' with 'unit' when parsing strings is deprecated. In a future version, strings will be parsed as datetime strings, matching the behavior without a 'unit'. To retain the old behavior, explicitly cast ints or floats to numeric type before calling to_datetime.\n",
      "  classes = pd.read_json('./tests/classes.json', orient='index', convert_dates=False)\n",
      "C:\\Users\\fazul\\AppData\\Local\\Temp\\ipykernel_17856\\1977542192.py:7: FutureWarning: The behavior of 'to_datetime' with 'unit' when parsing strings is deprecated. In a future version, strings will be parsed as datetime strings, matching the behavior without a 'unit'. To retain the old behavior, explicitly cast ints or floats to numeric type before calling to_datetime.\n",
      "  classes = pd.read_json('./tests/classes.json', orient='index', convert_dates=False)\n"
     ]
    },
    {
     "name": "stdout",
     "output_type": "stream",
     "text": [
      "Test loss: 1.519284, test accuracy: 0.803053, test recall on rare data: 0.534884\n"
     ]
    }
   ],
   "source": [
    "model_path = 'rare_traffic_signs_complex_model_efficientnet.pth'\n",
    "model.load_state_dict(torch.load(model_path))\n",
    "model.to(device=device)\n",
    "\n",
    "model.eval()\n",
    "\n",
    "classes = pd.read_json('./tests/classes.json', orient='index', convert_dates=False)\n",
    "name_to_id = classes['id'].to_dict()\n",
    "rare_class_names = set(classes.index[classes['type'] == 'rare'])\n",
    "rare_class_ids = torch.tensor([name_to_id[name] for name in rare_class_names], device=device, dtype=torch.long)\n",
    "\n",
    "test_loss = test_correct = test_correct_rare = test_seen = test_seen_rare = 0\n",
    "\n",
    "with torch.no_grad():\n",
    "    for data in test_full_loader:\n",
    "        inputs, targets = data[0].to(device), data[1].to(device).long()\n",
    "        outputs = model(inputs)\n",
    "\n",
    "        is_target_rare = torch.isin(targets, rare_class_ids)\n",
    "        \n",
    "        test_loss += criterion(outputs, targets).item() * inputs.size(0)\n",
    "        test_correct += torch.sum(outputs.argmax(dim=-1)==targets).item()\n",
    "        test_correct_rare += torch.sum((outputs.argmax(dim=-1)==targets) * is_target_rare).item()\n",
    "        test_seen += inputs.size(0)\n",
    "        test_seen_rare += torch.sum(is_target_rare)\n",
    "\n",
    "test_loss /= test_seen\n",
    "test_accuracy = test_correct / test_seen\n",
    "test_recall_rare = test_correct_rare / (test_seen_rare+1e-9)\n",
    "\n",
    "print(f'Test loss: {test_loss:.6f}, test accuracy: {test_accuracy:.6f}, test recall on rare data: {test_recall_rare:.6f}')"
   ]
  },
  {
   "cell_type": "markdown",
   "id": "a5a298e9",
   "metadata": {},
   "source": [
    "# EfficientNet with Contrastive Loss on the Penultimate Layer"
   ]
  },
  {
   "cell_type": "code",
   "execution_count": 47,
   "id": "11518c80",
   "metadata": {},
   "outputs": [],
   "source": [
    "import torch\n",
    "from torch import nn\n",
    "import timm\n",
    "\n",
    "class EfficientNetWithFeatureLoss(nn.Module):\n",
    "    def __init__(self, num_classes=205, freeze=True):\n",
    "        super().__init__()\n",
    "\n",
    "        self.backbone = timm.create_model('efficientnet_b0', pretrained=True, num_classes=0)\n",
    "        feat_dim = self.backbone.num_features\n",
    "\n",
    "        if freeze:\n",
    "            for p in self.backbone.parameters():\n",
    "                p.requires_grad = False\n",
    "\n",
    "            for blk in self.backbone.blocks[-3:]:\n",
    "                for p in blk.parameters():\n",
    "                    p.requires_grad = True\n",
    "        \n",
    "            for p in self.backbone.conv_head.parameters(): p.requires_grad = True\n",
    "            for p in self.backbone.bn2.parameters(): p.requires_grad = True\n",
    "\n",
    "        self.classifier = nn.Sequential(\n",
    "            nn.Dropout(0.2),\n",
    "            nn.Linear(feat_dim, num_classes)\n",
    "        )\n",
    "\n",
    "    def forward(self, x):\n",
    "        features = self.backbone(x)\n",
    "        logits = self.classifier(features)\n",
    "        return logits, features\n",
    "    \n",
    "model = EfficientNetWithFeatureLoss().to(device=device)"
   ]
  },
  {
   "cell_type": "code",
   "execution_count": null,
   "id": "5d64f5e2",
   "metadata": {},
   "outputs": [
    {
     "name": "stderr",
     "output_type": "stream",
     "text": [
      "C:\\Users\\fazul\\AppData\\Local\\Temp\\ipykernel_17856\\2545033967.py:39: FutureWarning: The behavior of 'to_datetime' with 'unit' when parsing strings is deprecated. In a future version, strings will be parsed as datetime strings, matching the behavior without a 'unit'. To retain the old behavior, explicitly cast ints or floats to numeric type before calling to_datetime.\n",
      "  classes = pd.read_json('./tests/classes.json', orient='index', convert_dates=False)\n",
      "C:\\Users\\fazul\\AppData\\Local\\Temp\\ipykernel_17856\\2545033967.py:39: FutureWarning: The behavior of 'to_datetime' with 'unit' when parsing strings is deprecated. In a future version, strings will be parsed as datetime strings, matching the behavior without a 'unit'. To retain the old behavior, explicitly cast ints or floats to numeric type before calling to_datetime.\n",
      "  classes = pd.read_json('./tests/classes.json', orient='index', convert_dates=False)\n",
      "C:\\Users\\fazul\\AppData\\Local\\Temp\\ipykernel_17856\\2545033967.py:39: FutureWarning: The behavior of 'to_datetime' with 'unit' when parsing strings is deprecated. In a future version, strings will be parsed as datetime strings, matching the behavior without a 'unit'. To retain the old behavior, explicitly cast ints or floats to numeric type before calling to_datetime.\n",
      "  classes = pd.read_json('./tests/classes.json', orient='index', convert_dates=False)\n"
     ]
    },
    {
     "data": {
      "application/vnd.jupyter.widget-view+json": {
       "model_id": "a304d94d9ab2495b89d47cf20bf0162e",
       "version_major": 2,
       "version_minor": 0
      },
      "text/plain": [
       "Epoch:   0%|          | 0/50 [00:00<?, ?it/s]"
      ]
     },
     "metadata": {},
     "output_type": "display_data"
    },
    {
     "data": {
      "application/vnd.jupyter.widget-view+json": {
       "model_id": "ab376f07155449d48ee1356d4156a40f",
       "version_major": 2,
       "version_minor": 0
      },
      "text/plain": [
       "Train:   0%|          | 0/313 [00:00<?, ?it/s]"
      ]
     },
     "metadata": {},
     "output_type": "display_data"
    },
    {
     "name": "stdout",
     "output_type": "stream",
     "text": [
      "Epoch 1 - train accuracy: 0.0611 - train loss: 5.2725 - train recall rare: 0.0466 - val accuracy: 0.1346 - val loss: 4.5099 - val recall rare: 0.0633\n",
      "Validation recall on rare classes improved (0.0000 --> 0.0633). Saving model...\n"
     ]
    },
    {
     "data": {
      "application/vnd.jupyter.widget-view+json": {
       "model_id": "536f254a926441919886d8c574530a60",
       "version_major": 2,
       "version_minor": 0
      },
      "text/plain": [
       "Train:   0%|          | 0/313 [00:00<?, ?it/s]"
      ]
     },
     "metadata": {},
     "output_type": "display_data"
    },
    {
     "name": "stdout",
     "output_type": "stream",
     "text": [
      "Epoch 2 - train accuracy: 0.3428 - train loss: 3.4137 - train recall rare: 0.2812 - val accuracy: 0.4098 - val loss: 2.8516 - val recall rare: 0.1392\n",
      "Validation recall on rare classes improved (0.0633 --> 0.1392). Saving model...\n"
     ]
    },
    {
     "data": {
      "application/vnd.jupyter.widget-view+json": {
       "model_id": "bbf45894b02846a1a0ed7c17b192f738",
       "version_major": 2,
       "version_minor": 0
      },
      "text/plain": [
       "Train:   0%|          | 0/313 [00:00<?, ?it/s]"
      ]
     },
     "metadata": {},
     "output_type": "display_data"
    },
    {
     "name": "stdout",
     "output_type": "stream",
     "text": [
      "Epoch 3 - train accuracy: 0.6229 - train loss: 2.1386 - train recall rare: 0.5481 - val accuracy: 0.5780 - val loss: 2.2744 - val recall rare: 0.3165\n",
      "Validation recall on rare classes improved (0.1392 --> 0.3165). Saving model...\n"
     ]
    },
    {
     "data": {
      "application/vnd.jupyter.widget-view+json": {
       "model_id": "5d7667f823764ab18c6449227b583651",
       "version_major": 2,
       "version_minor": 0
      },
      "text/plain": [
       "Train:   0%|          | 0/313 [00:00<?, ?it/s]"
      ]
     },
     "metadata": {},
     "output_type": "display_data"
    },
    {
     "name": "stdout",
     "output_type": "stream",
     "text": [
      "Epoch 4 - train accuracy: 0.7492 - train loss: 1.7342 - train recall rare: 0.6772 - val accuracy: 0.6315 - val loss: 2.0674 - val recall rare: 0.3924\n",
      "Validation recall on rare classes improved (0.3165 --> 0.3924). Saving model...\n"
     ]
    },
    {
     "data": {
      "application/vnd.jupyter.widget-view+json": {
       "model_id": "13b1607f8cbf43a9b9b4936241e97abb",
       "version_major": 2,
       "version_minor": 0
      },
      "text/plain": [
       "Train:   0%|          | 0/313 [00:00<?, ?it/s]"
      ]
     },
     "metadata": {},
     "output_type": "display_data"
    },
    {
     "name": "stdout",
     "output_type": "stream",
     "text": [
      "Epoch 5 - train accuracy: 0.8097 - train loss: 1.5508 - train recall rare: 0.7449 - val accuracy: 0.6789 - val loss: 1.9678 - val recall rare: 0.4684\n",
      "Validation recall on rare classes improved (0.3924 --> 0.4684). Saving model...\n"
     ]
    },
    {
     "data": {
      "application/vnd.jupyter.widget-view+json": {
       "model_id": "9022cabae69d41c7bc78695b0d27acc9",
       "version_major": 2,
       "version_minor": 0
      },
      "text/plain": [
       "Train:   0%|          | 0/313 [00:00<?, ?it/s]"
      ]
     },
     "metadata": {},
     "output_type": "display_data"
    },
    {
     "name": "stdout",
     "output_type": "stream",
     "text": [
      "Epoch 6 - train accuracy: 0.8389 - train loss: 1.4592 - train recall rare: 0.7833 - val accuracy: 0.7202 - val loss: 1.9185 - val recall rare: 0.5063\n",
      "Validation recall on rare classes improved (0.4684 --> 0.5063). Saving model...\n"
     ]
    },
    {
     "data": {
      "application/vnd.jupyter.widget-view+json": {
       "model_id": "5463ee71ecd643a3bb0ef4c37cc7102e",
       "version_major": 2,
       "version_minor": 0
      },
      "text/plain": [
       "Train:   0%|          | 0/313 [00:00<?, ?it/s]"
      ]
     },
     "metadata": {},
     "output_type": "display_data"
    },
    {
     "name": "stdout",
     "output_type": "stream",
     "text": [
      "Epoch 7 - train accuracy: 0.8513 - train loss: 1.4114 - train recall rare: 0.8002 - val accuracy: 0.7248 - val loss: 1.8132 - val recall rare: 0.4810\n",
      "Validation recall on rare classes did not improve. Counter: 1/25\n"
     ]
    },
    {
     "data": {
      "application/vnd.jupyter.widget-view+json": {
       "model_id": "c4361a808fcd4a1abc1baa0404023380",
       "version_major": 2,
       "version_minor": 0
      },
      "text/plain": [
       "Train:   0%|          | 0/313 [00:00<?, ?it/s]"
      ]
     },
     "metadata": {},
     "output_type": "display_data"
    },
    {
     "name": "stdout",
     "output_type": "stream",
     "text": [
      "Epoch 8 - train accuracy: 0.8641 - train loss: 1.3710 - train recall rare: 0.8155 - val accuracy: 0.7278 - val loss: 1.8241 - val recall rare: 0.5316\n",
      "Validation recall on rare classes improved (0.5063 --> 0.5316). Saving model...\n"
     ]
    },
    {
     "data": {
      "application/vnd.jupyter.widget-view+json": {
       "model_id": "af1ac908a307453caee9a303bc74fe21",
       "version_major": 2,
       "version_minor": 0
      },
      "text/plain": [
       "Train:   0%|          | 0/313 [00:00<?, ?it/s]"
      ]
     },
     "metadata": {},
     "output_type": "display_data"
    },
    {
     "name": "stdout",
     "output_type": "stream",
     "text": [
      "Epoch 9 - train accuracy: 0.8745 - train loss: 1.3371 - train recall rare: 0.8304 - val accuracy: 0.7492 - val loss: 1.7320 - val recall rare: 0.5696\n",
      "Validation recall on rare classes improved (0.5316 --> 0.5696). Saving model...\n"
     ]
    },
    {
     "data": {
      "application/vnd.jupyter.widget-view+json": {
       "model_id": "947da4ac0fa14786b09fb486110f0642",
       "version_major": 2,
       "version_minor": 0
      },
      "text/plain": [
       "Train:   0%|          | 0/313 [00:00<?, ?it/s]"
      ]
     },
     "metadata": {},
     "output_type": "display_data"
    },
    {
     "name": "stdout",
     "output_type": "stream",
     "text": [
      "Epoch 10 - train accuracy: 0.8793 - train loss: 1.3149 - train recall rare: 0.8370 - val accuracy: 0.7294 - val loss: 1.7580 - val recall rare: 0.5063\n",
      "Validation recall on rare classes did not improve. Counter: 1/25\n"
     ]
    },
    {
     "data": {
      "application/vnd.jupyter.widget-view+json": {
       "model_id": "8516986bc158414bb866489662f6e98b",
       "version_major": 2,
       "version_minor": 0
      },
      "text/plain": [
       "Train:   0%|          | 0/313 [00:00<?, ?it/s]"
      ]
     },
     "metadata": {},
     "output_type": "display_data"
    },
    {
     "name": "stdout",
     "output_type": "stream",
     "text": [
      "Epoch 11 - train accuracy: 0.8867 - train loss: 1.2885 - train recall rare: 0.8441 - val accuracy: 0.7508 - val loss: 1.7393 - val recall rare: 0.4937\n",
      "Validation recall on rare classes did not improve. Counter: 2/25\n"
     ]
    },
    {
     "data": {
      "application/vnd.jupyter.widget-view+json": {
       "model_id": "6267cf97de98439fa57bf04762e26502",
       "version_major": 2,
       "version_minor": 0
      },
      "text/plain": [
       "Train:   0%|          | 0/313 [00:00<?, ?it/s]"
      ]
     },
     "metadata": {},
     "output_type": "display_data"
    },
    {
     "name": "stdout",
     "output_type": "stream",
     "text": [
      "Epoch 12 - train accuracy: 0.8880 - train loss: 1.2838 - train recall rare: 0.8478 - val accuracy: 0.7508 - val loss: 1.7251 - val recall rare: 0.5443\n",
      "Validation recall on rare classes did not improve. Counter: 3/25\n"
     ]
    },
    {
     "data": {
      "application/vnd.jupyter.widget-view+json": {
       "model_id": "8cba5a2444bd461c936f6304923817b2",
       "version_major": 2,
       "version_minor": 0
      },
      "text/plain": [
       "Train:   0%|          | 0/313 [00:00<?, ?it/s]"
      ]
     },
     "metadata": {},
     "output_type": "display_data"
    },
    {
     "name": "stdout",
     "output_type": "stream",
     "text": [
      "Epoch 13 - train accuracy: 0.8976 - train loss: 1.2559 - train recall rare: 0.8612 - val accuracy: 0.7278 - val loss: 1.8284 - val recall rare: 0.5063\n",
      "Validation recall on rare classes did not improve. Counter: 4/25\n"
     ]
    },
    {
     "data": {
      "application/vnd.jupyter.widget-view+json": {
       "model_id": "1355b81f42b44cafb94b5e87e250094d",
       "version_major": 2,
       "version_minor": 0
      },
      "text/plain": [
       "Train:   0%|          | 0/313 [00:00<?, ?it/s]"
      ]
     },
     "metadata": {},
     "output_type": "display_data"
    },
    {
     "name": "stdout",
     "output_type": "stream",
     "text": [
      "Epoch 14 - train accuracy: 0.8992 - train loss: 1.2477 - train recall rare: 0.8620 - val accuracy: 0.7615 - val loss: 1.7067 - val recall rare: 0.4937\n",
      "Validation recall on rare classes did not improve. Counter: 5/25\n"
     ]
    },
    {
     "data": {
      "application/vnd.jupyter.widget-view+json": {
       "model_id": "bfa0e4377e2a4a8bbcb42772b22fa817",
       "version_major": 2,
       "version_minor": 0
      },
      "text/plain": [
       "Train:   0%|          | 0/313 [00:00<?, ?it/s]"
      ]
     },
     "metadata": {},
     "output_type": "display_data"
    },
    {
     "name": "stdout",
     "output_type": "stream",
     "text": [
      "Epoch 15 - train accuracy: 0.9023 - train loss: 1.2361 - train recall rare: 0.8685 - val accuracy: 0.7768 - val loss: 1.6610 - val recall rare: 0.5570\n",
      "Validation recall on rare classes did not improve. Counter: 6/25\n"
     ]
    },
    {
     "data": {
      "application/vnd.jupyter.widget-view+json": {
       "model_id": "0a120dfe01274238bf750f9341d5eb89",
       "version_major": 2,
       "version_minor": 0
      },
      "text/plain": [
       "Train:   0%|          | 0/313 [00:00<?, ?it/s]"
      ]
     },
     "metadata": {},
     "output_type": "display_data"
    },
    {
     "name": "stdout",
     "output_type": "stream",
     "text": [
      "Epoch 16 - train accuracy: 0.9050 - train loss: 1.2311 - train recall rare: 0.8717 - val accuracy: 0.7875 - val loss: 1.5894 - val recall rare: 0.5696\n",
      "Validation recall on rare classes improved (0.5696 --> 0.5696). Saving model...\n"
     ]
    },
    {
     "data": {
      "application/vnd.jupyter.widget-view+json": {
       "model_id": "3d785dba961749ff8c8ec8ed7451fbf2",
       "version_major": 2,
       "version_minor": 0
      },
      "text/plain": [
       "Train:   0%|          | 0/313 [00:00<?, ?it/s]"
      ]
     },
     "metadata": {},
     "output_type": "display_data"
    },
    {
     "name": "stdout",
     "output_type": "stream",
     "text": [
      "Epoch 17 - train accuracy: 0.9090 - train loss: 1.2149 - train recall rare: 0.8756 - val accuracy: 0.7936 - val loss: 1.5631 - val recall rare: 0.5570\n",
      "Validation recall on rare classes did not improve. Counter: 1/25\n"
     ]
    },
    {
     "data": {
      "application/vnd.jupyter.widget-view+json": {
       "model_id": "6e4d9a477d77496c890d4d1f40d4b5b3",
       "version_major": 2,
       "version_minor": 0
      },
      "text/plain": [
       "Train:   0%|          | 0/313 [00:00<?, ?it/s]"
      ]
     },
     "metadata": {},
     "output_type": "display_data"
    },
    {
     "name": "stdout",
     "output_type": "stream",
     "text": [
      "Epoch 18 - train accuracy: 0.9116 - train loss: 1.2040 - train recall rare: 0.8784 - val accuracy: 0.7920 - val loss: 1.5783 - val recall rare: 0.5823\n",
      "Validation recall on rare classes improved (0.5696 --> 0.5823). Saving model...\n"
     ]
    },
    {
     "data": {
      "application/vnd.jupyter.widget-view+json": {
       "model_id": "a881399e02684714a54db890f6bb487a",
       "version_major": 2,
       "version_minor": 0
      },
      "text/plain": [
       "Train:   0%|          | 0/313 [00:00<?, ?it/s]"
      ]
     },
     "metadata": {},
     "output_type": "display_data"
    },
    {
     "name": "stdout",
     "output_type": "stream",
     "text": [
      "Epoch 19 - train accuracy: 0.9131 - train loss: 1.1999 - train recall rare: 0.8807 - val accuracy: 0.7630 - val loss: 1.6839 - val recall rare: 0.5443\n",
      "Validation recall on rare classes did not improve. Counter: 1/25\n"
     ]
    },
    {
     "data": {
      "application/vnd.jupyter.widget-view+json": {
       "model_id": "3845c33240b24b18b97d5437f6fd6f37",
       "version_major": 2,
       "version_minor": 0
      },
      "text/plain": [
       "Train:   0%|          | 0/313 [00:00<?, ?it/s]"
      ]
     },
     "metadata": {},
     "output_type": "display_data"
    },
    {
     "name": "stdout",
     "output_type": "stream",
     "text": [
      "Epoch 20 - train accuracy: 0.9171 - train loss: 1.1890 - train recall rare: 0.8866 - val accuracy: 0.7676 - val loss: 1.6905 - val recall rare: 0.5190\n",
      "Validation recall on rare classes did not improve. Counter: 2/25\n"
     ]
    },
    {
     "data": {
      "application/vnd.jupyter.widget-view+json": {
       "model_id": "70be153806ab4cd28e7e3a0922b249bb",
       "version_major": 2,
       "version_minor": 0
      },
      "text/plain": [
       "Train:   0%|          | 0/313 [00:00<?, ?it/s]"
      ]
     },
     "metadata": {},
     "output_type": "display_data"
    },
    {
     "name": "stdout",
     "output_type": "stream",
     "text": [
      "Epoch 21 - train accuracy: 0.9161 - train loss: 1.1881 - train recall rare: 0.8843 - val accuracy: 0.7951 - val loss: 1.5789 - val recall rare: 0.5823\n",
      "Validation recall on rare classes improved (0.5823 --> 0.5823). Saving model...\n"
     ]
    },
    {
     "data": {
      "application/vnd.jupyter.widget-view+json": {
       "model_id": "529f22a2a7aa4b64920788b3fae22f49",
       "version_major": 2,
       "version_minor": 0
      },
      "text/plain": [
       "Train:   0%|          | 0/313 [00:00<?, ?it/s]"
      ]
     },
     "metadata": {},
     "output_type": "display_data"
    },
    {
     "name": "stdout",
     "output_type": "stream",
     "text": [
      "Epoch 22 - train accuracy: 0.9222 - train loss: 1.1721 - train recall rare: 0.8927 - val accuracy: 0.7966 - val loss: 1.5714 - val recall rare: 0.5316\n",
      "Validation recall on rare classes did not improve. Counter: 1/25\n"
     ]
    },
    {
     "data": {
      "application/vnd.jupyter.widget-view+json": {
       "model_id": "92b3472988cc456280dd1a007e9b7f1e",
       "version_major": 2,
       "version_minor": 0
      },
      "text/plain": [
       "Train:   0%|          | 0/313 [00:00<?, ?it/s]"
      ]
     },
     "metadata": {},
     "output_type": "display_data"
    },
    {
     "name": "stdout",
     "output_type": "stream",
     "text": [
      "Epoch 23 - train accuracy: 0.9222 - train loss: 1.1707 - train recall rare: 0.8945 - val accuracy: 0.7920 - val loss: 1.6349 - val recall rare: 0.5443\n",
      "Validation recall on rare classes did not improve. Counter: 2/25\n"
     ]
    },
    {
     "data": {
      "application/vnd.jupyter.widget-view+json": {
       "model_id": "eed24b3b8e1e401da6288d0eb2671ff7",
       "version_major": 2,
       "version_minor": 0
      },
      "text/plain": [
       "Train:   0%|          | 0/313 [00:00<?, ?it/s]"
      ]
     },
     "metadata": {},
     "output_type": "display_data"
    },
    {
     "name": "stdout",
     "output_type": "stream",
     "text": [
      "Epoch 24 - train accuracy: 0.9225 - train loss: 1.1683 - train recall rare: 0.8947 - val accuracy: 0.8073 - val loss: 1.5451 - val recall rare: 0.5570\n",
      "Validation recall on rare classes did not improve. Counter: 3/25\n"
     ]
    },
    {
     "data": {
      "application/vnd.jupyter.widget-view+json": {
       "model_id": "02e8866c54854863961825067eb470ef",
       "version_major": 2,
       "version_minor": 0
      },
      "text/plain": [
       "Train:   0%|          | 0/313 [00:00<?, ?it/s]"
      ]
     },
     "metadata": {},
     "output_type": "display_data"
    },
    {
     "name": "stdout",
     "output_type": "stream",
     "text": [
      "Epoch 25 - train accuracy: 0.9255 - train loss: 1.1563 - train recall rare: 0.8982 - val accuracy: 0.8135 - val loss: 1.5131 - val recall rare: 0.5443\n",
      "Validation recall on rare classes did not improve. Counter: 4/25\n"
     ]
    },
    {
     "data": {
      "application/vnd.jupyter.widget-view+json": {
       "model_id": "3fb3daac92b44ab287c6c2feeb5da91d",
       "version_major": 2,
       "version_minor": 0
      },
      "text/plain": [
       "Train:   0%|          | 0/313 [00:00<?, ?it/s]"
      ]
     },
     "metadata": {},
     "output_type": "display_data"
    },
    {
     "name": "stdout",
     "output_type": "stream",
     "text": [
      "Epoch 26 - train accuracy: 0.9295 - train loss: 1.1473 - train recall rare: 0.9024 - val accuracy: 0.8073 - val loss: 1.5201 - val recall rare: 0.5570\n",
      "Validation recall on rare classes did not improve. Counter: 5/25\n"
     ]
    },
    {
     "data": {
      "application/vnd.jupyter.widget-view+json": {
       "model_id": "fb271bf20b144efcbba19b7ebdd2fb96",
       "version_major": 2,
       "version_minor": 0
      },
      "text/plain": [
       "Train:   0%|          | 0/313 [00:00<?, ?it/s]"
      ]
     },
     "metadata": {},
     "output_type": "display_data"
    },
    {
     "name": "stdout",
     "output_type": "stream",
     "text": [
      "Epoch 27 - train accuracy: 0.9291 - train loss: 1.1466 - train recall rare: 0.9023 - val accuracy: 0.8303 - val loss: 1.5040 - val recall rare: 0.5443\n",
      "Validation recall on rare classes did not improve. Counter: 6/25\n"
     ]
    },
    {
     "data": {
      "application/vnd.jupyter.widget-view+json": {
       "model_id": "24e98e6f5c5d43cbae619821ba56d124",
       "version_major": 2,
       "version_minor": 0
      },
      "text/plain": [
       "Train:   0%|          | 0/313 [00:00<?, ?it/s]"
      ]
     },
     "metadata": {},
     "output_type": "display_data"
    },
    {
     "name": "stdout",
     "output_type": "stream",
     "text": [
      "Epoch 28 - train accuracy: 0.9328 - train loss: 1.1360 - train recall rare: 0.9073 - val accuracy: 0.8226 - val loss: 1.5067 - val recall rare: 0.5696\n",
      "Validation recall on rare classes did not improve. Counter: 7/25\n"
     ]
    },
    {
     "data": {
      "application/vnd.jupyter.widget-view+json": {
       "model_id": "a9c5285681fb414294e147da11a97f5e",
       "version_major": 2,
       "version_minor": 0
      },
      "text/plain": [
       "Train:   0%|          | 0/313 [00:00<?, ?it/s]"
      ]
     },
     "metadata": {},
     "output_type": "display_data"
    },
    {
     "name": "stdout",
     "output_type": "stream",
     "text": [
      "Epoch 29 - train accuracy: 0.9338 - train loss: 1.1316 - train recall rare: 0.9085 - val accuracy: 0.8150 - val loss: 1.5301 - val recall rare: 0.5696\n",
      "Validation recall on rare classes did not improve. Counter: 8/25\n"
     ]
    },
    {
     "data": {
      "application/vnd.jupyter.widget-view+json": {
       "model_id": "2b0c510cb8dd4846bbe5331a8b140aeb",
       "version_major": 2,
       "version_minor": 0
      },
      "text/plain": [
       "Train:   0%|          | 0/313 [00:00<?, ?it/s]"
      ]
     },
     "metadata": {},
     "output_type": "display_data"
    },
    {
     "name": "stdout",
     "output_type": "stream",
     "text": [
      "Epoch 30 - train accuracy: 0.9369 - train loss: 1.1263 - train recall rare: 0.9140 - val accuracy: 0.8089 - val loss: 1.5068 - val recall rare: 0.5823\n",
      "Validation recall on rare classes improved (0.5823 --> 0.5823). Saving model...\n"
     ]
    },
    {
     "data": {
      "application/vnd.jupyter.widget-view+json": {
       "model_id": "d12a4e509727429a9688ffbe3145d1ac",
       "version_major": 2,
       "version_minor": 0
      },
      "text/plain": [
       "Train:   0%|          | 0/313 [00:00<?, ?it/s]"
      ]
     },
     "metadata": {},
     "output_type": "display_data"
    },
    {
     "name": "stdout",
     "output_type": "stream",
     "text": [
      "Epoch 31 - train accuracy: 0.9374 - train loss: 1.1204 - train recall rare: 0.9132 - val accuracy: 0.8257 - val loss: 1.4758 - val recall rare: 0.6076\n",
      "Validation recall on rare classes improved (0.5823 --> 0.6076). Saving model...\n"
     ]
    },
    {
     "data": {
      "application/vnd.jupyter.widget-view+json": {
       "model_id": "6c5a2e957a404825a3791fbb3e5d52b5",
       "version_major": 2,
       "version_minor": 0
      },
      "text/plain": [
       "Train:   0%|          | 0/313 [00:00<?, ?it/s]"
      ]
     },
     "metadata": {},
     "output_type": "display_data"
    },
    {
     "name": "stdout",
     "output_type": "stream",
     "text": [
      "Epoch 32 - train accuracy: 0.9388 - train loss: 1.1171 - train recall rare: 0.9164 - val accuracy: 0.8242 - val loss: 1.4595 - val recall rare: 0.5443\n",
      "Validation recall on rare classes did not improve. Counter: 1/25\n"
     ]
    },
    {
     "data": {
      "application/vnd.jupyter.widget-view+json": {
       "model_id": "56caf3c6b5a346d38d68b44524d84936",
       "version_major": 2,
       "version_minor": 0
      },
      "text/plain": [
       "Train:   0%|          | 0/313 [00:00<?, ?it/s]"
      ]
     },
     "metadata": {},
     "output_type": "display_data"
    },
    {
     "name": "stdout",
     "output_type": "stream",
     "text": [
      "Epoch 33 - train accuracy: 0.9416 - train loss: 1.1108 - train recall rare: 0.9191 - val accuracy: 0.8165 - val loss: 1.4990 - val recall rare: 0.5570\n",
      "Validation recall on rare classes did not improve. Counter: 2/25\n"
     ]
    },
    {
     "data": {
      "application/vnd.jupyter.widget-view+json": {
       "model_id": "deef1b39c5a94f5ea9c1419b861a14c0",
       "version_major": 2,
       "version_minor": 0
      },
      "text/plain": [
       "Train:   0%|          | 0/313 [00:00<?, ?it/s]"
      ]
     },
     "metadata": {},
     "output_type": "display_data"
    },
    {
     "name": "stdout",
     "output_type": "stream",
     "text": [
      "Epoch 34 - train accuracy: 0.9437 - train loss: 1.1016 - train recall rare: 0.9217 - val accuracy: 0.8410 - val loss: 1.4405 - val recall rare: 0.5696\n",
      "Validation recall on rare classes did not improve. Counter: 3/25\n"
     ]
    },
    {
     "data": {
      "application/vnd.jupyter.widget-view+json": {
       "model_id": "daf305424fc846d28bab9b94e6618695",
       "version_major": 2,
       "version_minor": 0
      },
      "text/plain": [
       "Train:   0%|          | 0/313 [00:00<?, ?it/s]"
      ]
     },
     "metadata": {},
     "output_type": "display_data"
    },
    {
     "name": "stdout",
     "output_type": "stream",
     "text": [
      "Epoch 35 - train accuracy: 0.9436 - train loss: 1.1026 - train recall rare: 0.9217 - val accuracy: 0.8425 - val loss: 1.4367 - val recall rare: 0.6076\n",
      "Validation recall on rare classes improved (0.6076 --> 0.6076). Saving model...\n"
     ]
    },
    {
     "data": {
      "application/vnd.jupyter.widget-view+json": {
       "model_id": "ae6926b021b147199f0c3e31f4cd5f15",
       "version_major": 2,
       "version_minor": 0
      },
      "text/plain": [
       "Train:   0%|          | 0/313 [00:00<?, ?it/s]"
      ]
     },
     "metadata": {},
     "output_type": "display_data"
    },
    {
     "name": "stdout",
     "output_type": "stream",
     "text": [
      "Epoch 36 - train accuracy: 0.9467 - train loss: 1.0957 - train recall rare: 0.9271 - val accuracy: 0.8287 - val loss: 1.4299 - val recall rare: 0.5316\n",
      "Validation recall on rare classes did not improve. Counter: 1/25\n"
     ]
    },
    {
     "data": {
      "application/vnd.jupyter.widget-view+json": {
       "model_id": "54b41f033e4040eba3cae913fb3531aa",
       "version_major": 2,
       "version_minor": 0
      },
      "text/plain": [
       "Train:   0%|          | 0/313 [00:00<?, ?it/s]"
      ]
     },
     "metadata": {},
     "output_type": "display_data"
    },
    {
     "name": "stdout",
     "output_type": "stream",
     "text": [
      "Epoch 37 - train accuracy: 0.9468 - train loss: 1.0916 - train recall rare: 0.9256 - val accuracy: 0.8349 - val loss: 1.4200 - val recall rare: 0.5823\n",
      "Validation recall on rare classes did not improve. Counter: 2/25\n"
     ]
    },
    {
     "data": {
      "application/vnd.jupyter.widget-view+json": {
       "model_id": "573aec3301be4dcfb8aa5fd1b84dadd3",
       "version_major": 2,
       "version_minor": 0
      },
      "text/plain": [
       "Train:   0%|          | 0/313 [00:00<?, ?it/s]"
      ]
     },
     "metadata": {},
     "output_type": "display_data"
    },
    {
     "name": "stdout",
     "output_type": "stream",
     "text": [
      "Epoch 38 - train accuracy: 0.9475 - train loss: 1.0920 - train recall rare: 0.9275 - val accuracy: 0.8440 - val loss: 1.4267 - val recall rare: 0.5570\n",
      "Validation recall on rare classes did not improve. Counter: 3/25\n"
     ]
    },
    {
     "data": {
      "application/vnd.jupyter.widget-view+json": {
       "model_id": "99ae661bd6e64ea7863142ae29679082",
       "version_major": 2,
       "version_minor": 0
      },
      "text/plain": [
       "Train:   0%|          | 0/313 [00:00<?, ?it/s]"
      ]
     },
     "metadata": {},
     "output_type": "display_data"
    },
    {
     "name": "stdout",
     "output_type": "stream",
     "text": [
      "Epoch 39 - train accuracy: 0.9501 - train loss: 1.0833 - train recall rare: 0.9311 - val accuracy: 0.8364 - val loss: 1.4328 - val recall rare: 0.5570\n",
      "Validation recall on rare classes did not improve. Counter: 4/25\n"
     ]
    },
    {
     "data": {
      "application/vnd.jupyter.widget-view+json": {
       "model_id": "b20fa2108cc044948e4ce5a61835556f",
       "version_major": 2,
       "version_minor": 0
      },
      "text/plain": [
       "Train:   0%|          | 0/313 [00:00<?, ?it/s]"
      ]
     },
     "metadata": {},
     "output_type": "display_data"
    },
    {
     "name": "stdout",
     "output_type": "stream",
     "text": [
      "Epoch 40 - train accuracy: 0.9516 - train loss: 1.0785 - train recall rare: 0.9333 - val accuracy: 0.8364 - val loss: 1.4188 - val recall rare: 0.5696\n",
      "Validation recall on rare classes did not improve. Counter: 5/25\n"
     ]
    },
    {
     "data": {
      "application/vnd.jupyter.widget-view+json": {
       "model_id": "7d8835f4a9ac48f89f357ac28e218665",
       "version_major": 2,
       "version_minor": 0
      },
      "text/plain": [
       "Train:   0%|          | 0/313 [00:00<?, ?it/s]"
      ]
     },
     "metadata": {},
     "output_type": "display_data"
    },
    {
     "name": "stdout",
     "output_type": "stream",
     "text": [
      "Epoch 41 - train accuracy: 0.9513 - train loss: 1.0784 - train recall rare: 0.9327 - val accuracy: 0.8486 - val loss: 1.3981 - val recall rare: 0.5570\n",
      "Validation recall on rare classes did not improve. Counter: 6/25\n"
     ]
    },
    {
     "data": {
      "application/vnd.jupyter.widget-view+json": {
       "model_id": "d0674080e67b4fa4a9bb2956c72936a7",
       "version_major": 2,
       "version_minor": 0
      },
      "text/plain": [
       "Train:   0%|          | 0/313 [00:00<?, ?it/s]"
      ]
     },
     "metadata": {},
     "output_type": "display_data"
    },
    {
     "name": "stdout",
     "output_type": "stream",
     "text": [
      "Epoch 42 - train accuracy: 0.9524 - train loss: 1.0756 - train recall rare: 0.9347 - val accuracy: 0.8502 - val loss: 1.3903 - val recall rare: 0.5949\n",
      "Validation recall on rare classes did not improve. Counter: 7/25\n"
     ]
    },
    {
     "data": {
      "application/vnd.jupyter.widget-view+json": {
       "model_id": "ed81c6cdbb6b4b119071639dc2d02a87",
       "version_major": 2,
       "version_minor": 0
      },
      "text/plain": [
       "Train:   0%|          | 0/313 [00:00<?, ?it/s]"
      ]
     },
     "metadata": {},
     "output_type": "display_data"
    },
    {
     "name": "stdout",
     "output_type": "stream",
     "text": [
      "Epoch 43 - train accuracy: 0.9522 - train loss: 1.0746 - train recall rare: 0.9344 - val accuracy: 0.8502 - val loss: 1.4141 - val recall rare: 0.5823\n",
      "Validation recall on rare classes did not improve. Counter: 8/25\n"
     ]
    },
    {
     "data": {
      "application/vnd.jupyter.widget-view+json": {
       "model_id": "13fe0af90af24c7a9428b30b104d15fb",
       "version_major": 2,
       "version_minor": 0
      },
      "text/plain": [
       "Train:   0%|          | 0/313 [00:00<?, ?it/s]"
      ]
     },
     "metadata": {},
     "output_type": "display_data"
    },
    {
     "name": "stdout",
     "output_type": "stream",
     "text": [
      "Epoch 44 - train accuracy: 0.9531 - train loss: 1.0697 - train recall rare: 0.9343 - val accuracy: 0.8425 - val loss: 1.4014 - val recall rare: 0.5696\n",
      "Validation recall on rare classes did not improve. Counter: 9/25\n"
     ]
    },
    {
     "data": {
      "application/vnd.jupyter.widget-view+json": {
       "model_id": "a9a2e62e75e44d32b2fd1e9139341807",
       "version_major": 2,
       "version_minor": 0
      },
      "text/plain": [
       "Train:   0%|          | 0/313 [00:00<?, ?it/s]"
      ]
     },
     "metadata": {},
     "output_type": "display_data"
    },
    {
     "name": "stdout",
     "output_type": "stream",
     "text": [
      "Epoch 45 - train accuracy: 0.9558 - train loss: 1.0660 - train recall rare: 0.9396 - val accuracy: 0.8471 - val loss: 1.3976 - val recall rare: 0.5696\n",
      "Validation recall on rare classes did not improve. Counter: 10/25\n"
     ]
    },
    {
     "data": {
      "application/vnd.jupyter.widget-view+json": {
       "model_id": "c8482a735f19486898e4de78d73bbb86",
       "version_major": 2,
       "version_minor": 0
      },
      "text/plain": [
       "Train:   0%|          | 0/313 [00:00<?, ?it/s]"
      ]
     },
     "metadata": {},
     "output_type": "display_data"
    },
    {
     "name": "stdout",
     "output_type": "stream",
     "text": [
      "Epoch 46 - train accuracy: 0.9548 - train loss: 1.0689 - train recall rare: 0.9367 - val accuracy: 0.8532 - val loss: 1.4053 - val recall rare: 0.5949\n",
      "Validation recall on rare classes did not improve. Counter: 11/25\n"
     ]
    },
    {
     "data": {
      "application/vnd.jupyter.widget-view+json": {
       "model_id": "f821fa36f2404d07834a021828e43774",
       "version_major": 2,
       "version_minor": 0
      },
      "text/plain": [
       "Train:   0%|          | 0/313 [00:00<?, ?it/s]"
      ]
     },
     "metadata": {},
     "output_type": "display_data"
    },
    {
     "name": "stdout",
     "output_type": "stream",
     "text": [
      "Epoch 47 - train accuracy: 0.9576 - train loss: 1.0623 - train recall rare: 0.9399 - val accuracy: 0.8547 - val loss: 1.3980 - val recall rare: 0.5949\n",
      "Validation recall on rare classes did not improve. Counter: 12/25\n"
     ]
    },
    {
     "data": {
      "application/vnd.jupyter.widget-view+json": {
       "model_id": "144f8901d4a04c1196ec540895c5ede6",
       "version_major": 2,
       "version_minor": 0
      },
      "text/plain": [
       "Train:   0%|          | 0/313 [00:00<?, ?it/s]"
      ]
     },
     "metadata": {},
     "output_type": "display_data"
    },
    {
     "name": "stdout",
     "output_type": "stream",
     "text": [
      "Epoch 48 - train accuracy: 0.9566 - train loss: 1.0634 - train recall rare: 0.9391 - val accuracy: 0.8456 - val loss: 1.4030 - val recall rare: 0.5823\n",
      "Validation recall on rare classes did not improve. Counter: 13/25\n"
     ]
    },
    {
     "data": {
      "application/vnd.jupyter.widget-view+json": {
       "model_id": "2513959692ca4e17853e7e6098166dca",
       "version_major": 2,
       "version_minor": 0
      },
      "text/plain": [
       "Train:   0%|          | 0/313 [00:00<?, ?it/s]"
      ]
     },
     "metadata": {},
     "output_type": "display_data"
    },
    {
     "name": "stdout",
     "output_type": "stream",
     "text": [
      "Epoch 49 - train accuracy: 0.9556 - train loss: 1.0674 - train recall rare: 0.9400 - val accuracy: 0.8502 - val loss: 1.4108 - val recall rare: 0.5823\n",
      "Validation recall on rare classes did not improve. Counter: 14/25\n"
     ]
    },
    {
     "data": {
      "application/vnd.jupyter.widget-view+json": {
       "model_id": "0db5f69bbf1c47f79dc939038ef1b3b0",
       "version_major": 2,
       "version_minor": 0
      },
      "text/plain": [
       "Train:   0%|          | 0/313 [00:00<?, ?it/s]"
      ]
     },
     "metadata": {},
     "output_type": "display_data"
    },
    {
     "name": "stdout",
     "output_type": "stream",
     "text": [
      "Epoch 50 - train accuracy: 0.9556 - train loss: 1.0667 - train recall rare: 0.9384 - val accuracy: 0.8517 - val loss: 1.4135 - val recall rare: 0.5949\n",
      "Validation recall on rare classes did not improve. Counter: 15/25\n",
      "Finished Training. Loaded best model.\n"
     ]
    },
    {
     "name": "stderr",
     "output_type": "stream",
     "text": [
      "C:\\Users\\fazul\\AppData\\Local\\Temp\\ipykernel_17856\\2545033967.py:124: FutureWarning: You are using `torch.load` with `weights_only=False` (the current default value), which uses the default pickle module implicitly. It is possible to construct malicious pickle data which will execute arbitrary code during unpickling (See https://github.com/pytorch/pytorch/blob/main/SECURITY.md#untrusted-models for more details). In a future release, the default value for `weights_only` will be flipped to `True`. This limits the functions that could be executed during unpickling. Arbitrary objects will no longer be allowed to be loaded via this mode unless they are explicitly allowlisted by the user via `torch.serialization.add_safe_globals`. We recommend you start setting `weights_only=True` for any use case where you don't have full control of the loaded file. Please open an issue on GitHub for any issues related to this experimental feature.\n",
      "  model.load_state_dict(torch.load(model_path_finetune))\n"
     ]
    },
    {
     "data": {
      "image/png": "[encoded data removed]",
      "text/plain": [
       "<Figure size 1800x500 with 3 Axes>"
      ]
     },
     "metadata": {},
     "output_type": "display_data"
    }
   ],
   "source": [
    "from torch import nn, optim\n",
    "import numpy as np\n",
    "import pandas as pd\n",
    "from tqdm.notebook import tqdm \n",
    "import os\n",
    "from rare_traffic_signs import plot_metrics, ContrastiveLoss\n",
    "\n",
    "lr = 5e-5\n",
    "epochs = 50\n",
    "\n",
    "params_to_update = [p for p in model.parameters() if p.requires_grad]\n",
    "optimizer = optim.AdamW(params_to_update, lr=lr)\n",
    "cross_entropy_loss = nn.CrossEntropyLoss(label_smoothing=0.10)\n",
    "contrastive_loss = ContrastiveLoss()\n",
    "loss_alpha = 0.5\n",
    "scheduler = torch.optim.lr_scheduler.OneCycleLR(\n",
    "    optimizer,\n",
    "    max_lr=1e-3, \n",
    "    steps_per_epoch=len(train_full_loader),\n",
    "    epochs=epochs,\n",
    "    pct_start=0.2,\n",
    ")\n",
    "\n",
    "best_val_loss = np.inf\n",
    "best_val_accuracy = 0.0\n",
    "best_val_recall_rare = 0.0\n",
    "epochs_no_improve = 0\n",
    "patience = int(epochs/2)\n",
    "\n",
    "model_path = 'rare_traffic_signs_complex_model_efficientnet_feature_loss.pth'\n",
    "\n",
    "train_accuracies = []\n",
    "train_losses = []\n",
    "train_recalls_rare = []\n",
    "val_accuracies = []\n",
    "val_losses = []\n",
    "val_recalls_rare = []\n",
    "\n",
    "classes = pd.read_json('./tests/classes.json', orient='index', convert_dates=False)\n",
    "name_to_id = classes['id'].to_dict()\n",
    "rare_class_names = set(classes.index[classes['type'] == 'rare'])\n",
    "rare_class_ids = torch.tensor([name_to_id[name] for name in rare_class_names], device=device, dtype=torch.long)\n",
    "\n",
    "for epoch in tqdm(range(epochs), position=0, desc='Epoch'):\n",
    "    \n",
    "    train_loss = train_correct = train_correct_rare = train_seen = train_seen_rare = 0\n",
    "    val_loss = val_correct = val_correct_rare = val_seen = val_seen_rare = 0\n",
    "\n",
    "    model.train()\n",
    "\n",
    "    with tqdm(train_full_loader, position=1, leave=False, desc='Train') as pbar:\n",
    "        for i, data in enumerate(pbar):\n",
    "            inputs, targets = data[0].to(device), data[1].to(device).long()\n",
    "\n",
    "            optimizer.zero_grad()\n",
    "\n",
    "            logits, features = model(inputs)\n",
    "            features = nn.functional.normalize(features, p=2, dim=1)\n",
    "            loss = cross_entropy_loss(logits, targets) + loss_alpha * contrastive_loss(features, targets)\n",
    "            loss.backward()\n",
    "            optimizer.step()\n",
    "            scheduler.step()\n",
    "\n",
    "            is_target_rare = torch.isin(targets, rare_class_ids)\n",
    "\n",
    "            train_loss += loss.item() * inputs.size(0)\n",
    "            train_correct += torch.sum(logits.argmax(dim=-1)==targets).item()\n",
    "            train_correct_rare += torch.sum((logits.argmax(dim=-1)==targets) * is_target_rare).item()\n",
    "            train_seen += inputs.size(0)\n",
    "            train_seen_rare += torch.sum(is_target_rare)\n",
    "\n",
    "            pbar.set_postfix(\n",
    "                loss=f'{train_loss/train_seen:.4f}',\n",
    "                accuracy=f'{train_correct/train_seen:.4f}',\n",
    "                recall_rare=f'{train_correct_rare/(train_seen_rare+1e-9):.4f}',\n",
    "                lr=f'{optimizer.param_groups[0][\"lr\"]:.6f}'\n",
    "            )\n",
    "\n",
    "    model.eval()\n",
    "    with torch.no_grad():\n",
    "        for data in val_full_loader:\n",
    "            inputs, targets = data[0].to(device), data[1].to(device).long()\n",
    "            logits, _ = model(inputs)\n",
    "\n",
    "            is_target_rare = torch.isin(targets, rare_class_ids)\n",
    "\n",
    "            val_loss += cross_entropy_loss(logits, targets).item() * inputs.size(0)\n",
    "            val_correct += torch.sum(logits.argmax(dim=-1)==targets).item()\n",
    "            val_correct_rare += torch.sum((logits.argmax(dim=-1)==targets) * is_target_rare).item()\n",
    "            val_seen += inputs.size(0)\n",
    "            val_seen_rare += torch.sum(is_target_rare)\n",
    "    \n",
    "    train_loss /= train_seen\n",
    "    train_accuracy = train_correct / train_seen\n",
    "    train_recall_rare = train_correct_rare / (train_seen_rare+1e-9)\n",
    "    val_loss /= val_seen\n",
    "    val_accuracy = val_correct / val_seen\n",
    "    val_recall_rare = val_correct_rare / (val_seen_rare+1e-9)\n",
    "    \n",
    "    tqdm.write(f'Epoch {epoch+1} - train accuracy: {train_accuracy:.4f} - train loss: {train_loss:.4f} - train recall rare: {train_recall_rare:.4f} - val accuracy: {val_accuracy:.4f} - val loss: {val_loss:.4f} - val recall rare: {val_recall_rare:.4f}')\n",
    "    train_losses.append(train_loss)\n",
    "    train_accuracies.append(train_accuracy)\n",
    "    train_recalls_rare.append(train_recall_rare)\n",
    "    val_losses.append(val_loss)\n",
    "    val_accuracies.append(val_accuracy)\n",
    "    val_recalls_rare.append(val_recall_rare)\n",
    "\n",
    "    if val_recall_rare > best_val_recall_rare or ((val_recall_rare == best_val_recall_rare) and (val_accuracy > best_val_accuracy)):\n",
    "        tqdm.write(f'Validation recall on rare classes improved ({best_val_recall_rare:.4f} --> {val_recall_rare:.4f}). Saving model...')\n",
    "        torch.save(model.state_dict(), model_path)\n",
    "        best_val_recall_rare = val_recall_rare\n",
    "        best_val_accuracy = val_accuracy\n",
    "        epochs_no_improve = 0\n",
    "    else:\n",
    "        epochs_no_improve += 1\n",
    "        tqdm.write(f'Validation recall on rare classes did not improve. Counter: {epochs_no_improve}/{patience}')\n",
    "\n",
    "    if epochs_no_improve >= patience:\n",
    "        tqdm.write('Early stopping triggered.')\n",
    "        break\n",
    "\n",
    "\n",
    "if os.path.exists(model_path):\n",
    "    model.load_state_dict(torch.load(model_path))\n",
    "    print('Finished Training. Loaded best model.')\n",
    "else:\n",
    "    print('No improvement during training. Using final model.')\n",
    "\n",
    "plot_metrics(train_losses, val_losses, train_accuracies, val_accuracies, train_recall_rare=train_recalls_rare, val_recall_rare=val_recalls_rare)"
   ]
  },
  {
   "cell_type": "code",
   "execution_count": null,
   "id": "5a4ad429",
   "metadata": {},
   "outputs": [
    {
     "name": "stderr",
     "output_type": "stream",
     "text": [
      "C:\\Users\\fazul\\AppData\\Local\\Temp\\ipykernel_17856\\2071047379.py:2: FutureWarning: You are using `torch.load` with `weights_only=False` (the current default value), which uses the default pickle module implicitly. It is possible to construct malicious pickle data which will execute arbitrary code during unpickling (See https://github.com/pytorch/pytorch/blob/main/SECURITY.md#untrusted-models for more details). In a future release, the default value for `weights_only` will be flipped to `True`. This limits the functions that could be executed during unpickling. Arbitrary objects will no longer be allowed to be loaded via this mode unless they are explicitly allowlisted by the user via `torch.serialization.add_safe_globals`. We recommend you start setting `weights_only=True` for any use case where you don't have full control of the loaded file. Please open an issue on GitHub for any issues related to this experimental feature.\n",
      "  model.load_state_dict(torch.load(model_path_finetune))\n",
      "C:\\Users\\fazul\\AppData\\Local\\Temp\\ipykernel_17856\\2071047379.py:7: FutureWarning: The behavior of 'to_datetime' with 'unit' when parsing strings is deprecated. In a future version, strings will be parsed as datetime strings, matching the behavior without a 'unit'. To retain the old behavior, explicitly cast ints or floats to numeric type before calling to_datetime.\n",
      "  classes = pd.read_json('./tests/classes.json', orient='index', convert_dates=False)\n",
      "C:\\Users\\fazul\\AppData\\Local\\Temp\\ipykernel_17856\\2071047379.py:7: FutureWarning: The behavior of 'to_datetime' with 'unit' when parsing strings is deprecated. In a future version, strings will be parsed as datetime strings, matching the behavior without a 'unit'. To retain the old behavior, explicitly cast ints or floats to numeric type before calling to_datetime.\n",
      "  classes = pd.read_json('./tests/classes.json', orient='index', convert_dates=False)\n",
      "C:\\Users\\fazul\\AppData\\Local\\Temp\\ipykernel_17856\\2071047379.py:7: FutureWarning: The behavior of 'to_datetime' with 'unit' when parsing strings is deprecated. In a future version, strings will be parsed as datetime strings, matching the behavior without a 'unit'. To retain the old behavior, explicitly cast ints or floats to numeric type before calling to_datetime.\n",
      "  classes = pd.read_json('./tests/classes.json', orient='index', convert_dates=False)\n"
     ]
    },
    {
     "name": "stdout",
     "output_type": "stream",
     "text": [
      "Test loss: 1.435140, test accuracy: 0.845802, test recall on rare data: 0.558140\n"
     ]
    }
   ],
   "source": [
    "model_path = 'rare_traffic_signs_complex_model_efficientnet_feature_loss.pth'\n",
    "model.load_state_dict(torch.load(model_path))\n",
    "model.to(device=device)\n",
    "\n",
    "model.eval()\n",
    "\n",
    "classes = pd.read_json('./tests/classes.json', orient='index', convert_dates=False)\n",
    "name_to_id = classes['id'].to_dict()\n",
    "rare_class_names = set(classes.index[classes['type'] == 'rare'])\n",
    "rare_class_ids = torch.tensor([name_to_id[name] for name in rare_class_names], device=device, dtype=torch.long)\n",
    "\n",
    "test_loss = test_correct = test_correct_rare = test_seen = test_seen_rare = 0\n",
    "\n",
    "with torch.no_grad():\n",
    "    for data in test_full_loader:\n",
    "        inputs, targets = data[0].to(device), data[1].to(device).long()\n",
    "        outputs, _ = model(inputs)\n",
    "\n",
    "        is_target_rare = torch.isin(targets, rare_class_ids)\n",
    "        \n",
    "        test_loss += criterion(outputs, targets).item() * inputs.size(0)\n",
    "        test_correct += torch.sum(outputs.argmax(dim=-1)==targets).item()\n",
    "        test_correct_rare += torch.sum((outputs.argmax(dim=-1)==targets) * is_target_rare).item()\n",
    "        test_seen += inputs.size(0)\n",
    "        test_seen_rare += torch.sum(is_target_rare)\n",
    "\n",
    "test_loss /= test_seen\n",
    "test_accuracy = test_correct / test_seen\n",
    "test_recall_rare = test_correct_rare / (test_seen_rare+1e-9)\n",
    "\n",
    "print(f'Test loss: {test_loss:.6f}, test accuracy: {test_accuracy:.6f}, test recall on rare data: {test_recall_rare:.6f}')"
   ]
  },
  {
   "cell_type": "markdown",
   "id": "52f2a643",
   "metadata": {},
   "source": [
    "# KNN on features"
   ]
  },
  {
   "cell_type": "code",
   "execution_count": null,
   "id": "5be96eb1",
   "metadata": {},
   "outputs": [
    {
     "name": "stderr",
     "output_type": "stream",
     "text": [
      "C:\\Users\\fazul\\AppData\\Local\\Temp\\ipykernel_17856\\405562976.py:6: FutureWarning: You are using `torch.load` with `weights_only=False` (the current default value), which uses the default pickle module implicitly. It is possible to construct malicious pickle data which will execute arbitrary code during unpickling (See https://github.com/pytorch/pytorch/blob/main/SECURITY.md#untrusted-models for more details). In a future release, the default value for `weights_only` will be flipped to `True`. This limits the functions that could be executed during unpickling. Arbitrary objects will no longer be allowed to be loaded via this mode unless they are explicitly allowlisted by the user via `torch.serialization.add_safe_globals`. We recommend you start setting `weights_only=True` for any use case where you don't have full control of the loaded file. Please open an issue on GitHub for any issues related to this experimental feature.\n",
      "  model.load_state_dict(torch.load(model_path_finetune))\n"
     ]
    }
   ],
   "source": [
    "import torch.nn.functional as F\n",
    "\n",
    "\n",
    "model_path = 'rare_traffic_signs_complex_model_efficientnet_feature_loss.pth'\n",
    "model.load_state_dict(torch.load(model_path))\n",
    "model.to(device=device)\n",
    "\n",
    "model.eval()\n",
    "\n",
    "all_train_features = []\n",
    "all_test_features = []\n",
    "all_train_labels = []\n",
    "all_test_labels = []\n",
    "\n",
    "with torch.no_grad():\n",
    "    for data in DataLoader(train_full_dataset, batch_size=256, shuffle=False):\n",
    "        inputs, targets = data[0].to(device), data[1]\n",
    "        _, features = model(inputs)\n",
    "        all_train_features.append(F.normalize(features, p=2, dim=1).cpu().numpy())\n",
    "        all_train_labels.append(targets.numpy())\n",
    "\n",
    "    for data in DataLoader(val_test_full_dataset, batch_size=256, shuffle=False):\n",
    "        inputs, targets = data[0].to(device), data[1]\n",
    "        _, features = model(inputs)\n",
    "        all_test_features.append(F.normalize(features, p=2, dim=1).cpu().numpy())\n",
    "        all_test_labels.append(targets.numpy())\n",
    "\n",
    "X_train = np.concatenate(all_train_features, axis=0)\n",
    "X_test = np.concatenate(all_test_features, axis=0)\n",
    "y_train = np.concatenate(all_train_labels, axis=0)\n",
    "y_test = np.concatenate(all_test_labels, axis=0)"
   ]
  },
  {
   "cell_type": "code",
   "execution_count": 43,
   "id": "d2b01923",
   "metadata": {},
   "outputs": [
    {
     "name": "stderr",
     "output_type": "stream",
     "text": [
      "C:\\Users\\fazul\\AppData\\Local\\Temp\\ipykernel_17856\\222275839.py:4: FutureWarning: The behavior of 'to_datetime' with 'unit' when parsing strings is deprecated. In a future version, strings will be parsed as datetime strings, matching the behavior without a 'unit'. To retain the old behavior, explicitly cast ints or floats to numeric type before calling to_datetime.\n",
      "  classes = pd.read_json('./tests/classes.json', orient='index', convert_dates=False)\n",
      "C:\\Users\\fazul\\AppData\\Local\\Temp\\ipykernel_17856\\222275839.py:4: FutureWarning: The behavior of 'to_datetime' with 'unit' when parsing strings is deprecated. In a future version, strings will be parsed as datetime strings, matching the behavior without a 'unit'. To retain the old behavior, explicitly cast ints or floats to numeric type before calling to_datetime.\n",
      "  classes = pd.read_json('./tests/classes.json', orient='index', convert_dates=False)\n",
      "C:\\Users\\fazul\\AppData\\Local\\Temp\\ipykernel_17856\\222275839.py:4: FutureWarning: The behavior of 'to_datetime' with 'unit' when parsing strings is deprecated. In a future version, strings will be parsed as datetime strings, matching the behavior without a 'unit'. To retain the old behavior, explicitly cast ints or floats to numeric type before calling to_datetime.\n",
      "  classes = pd.read_json('./tests/classes.json', orient='index', convert_dates=False)\n"
     ]
    },
    {
     "name": "stdout",
     "output_type": "stream",
     "text": [
      "Test accuracy: 0.831169, test recall on rare data: 0.551515\n"
     ]
    }
   ],
   "source": [
    "from sklearn.neighbors import KNeighborsClassifier\n",
    "import joblib\n",
    "\n",
    "classes = pd.read_json('./tests/classes.json', orient='index', convert_dates=False)\n",
    "name_to_id = classes['id'].to_dict()\n",
    "rare_class_names = set(classes.index[classes['type'] == 'rare'])\n",
    "rare_class_ids = np.array([name_to_id[name] for name in rare_class_names], dtype=int)\n",
    "\n",
    "knn_classifier = KNeighborsClassifier(n_neighbors=12, n_jobs=-1)\n",
    "knn_classifier.fit(X_train, y_train)\n",
    "\n",
    "knn_model_path = 'rare_traffic_signs_knn_classifier_head.joblib'\n",
    "joblib.dump(knn_classifier, knn_model_path)\n",
    "\n",
    "is_target_rare = np.isin(y_test, rare_class_ids)\n",
    "test_predictions = knn_classifier.predict(X_test)\n",
    "test_accuracy = np.mean(test_predictions == y_test)\n",
    "test_recall_rare = np.sum((test_predictions == y_test) * is_target_rare) / np.sum(is_target_rare+1e-9)\n",
    "print(f'Test accuracy: {test_accuracy:.6f}, test recall on rare data: {test_recall_rare:.6f}')"
   ]
  },
  {
   "cell_type": "code",
   "execution_count": null,
   "id": "723591ed",
   "metadata": {},
   "outputs": [],
   "source": []
  },
  {
   "cell_type": "code",
   "execution_count": null,
   "id": "862a380d",
   "metadata": {},
   "outputs": [],
   "source": []
  }
 ],
 "metadata": {
  "kernelspec": {
   "display_name": "Python 3",
   "language": "python",
   "name": "python3"
  },
  "language_info": {
   "codemirror_mode": {
    "name": "ipython",
    "version": 3
   },
   "file_extension": ".py",
   "mimetype": "text/x-python",
   "name": "python",
   "nbconvert_exporter": "python",
   "pygments_lexer": "ipython3",
   "version": "3.9.6"
  }
 },
 "nbformat": 4,
 "nbformat_minor": 5
}
