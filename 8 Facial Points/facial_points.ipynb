{
 "cells": [
  {
   "cell_type": "markdown",
   "id": "05f85f81",
   "metadata": {},
   "source": [
    "# Dataset Class"
   ]
  },
  {
   "cell_type": "code",
   "execution_count": 12,
   "id": "00514869",
   "metadata": {},
   "outputs": [],
   "source": [
    "import os\n",
    "import numpy as np\n",
    "import pandas as pd\n",
    "\n",
    "import cv2\n",
    "import torch\n",
    "from torch.utils.data import Dataset, DataLoader\n",
    "\n",
    "import albumentations as A\n",
    "from albumentations.pytorch import ToTensorV2\n",
    "\n",
    "class FacePointsDataset(Dataset):\n",
    "\n",
    "    def __init__(self, images_dir, keypoints_csv=None, target_size=100, is_train=True, device=None):\n",
    "        \"\"\"\n",
    "        :param images_dir: string, root directory for images\n",
    "        :param keypoints_csv: string, keypoints csv path\n",
    "        :param target_size: int, size of a square trainable image\n",
    "        :param transform: callable | optional, transforms applied to columns\n",
    "\n",
    "        :return: dataset\n",
    "        \"\"\"\n",
    "        self.images_dir = images_dir\n",
    "        self.keypoints_csv = pd.read_csv(keypoints_csv) if keypoints_csv else None\n",
    "        self.target_size = target_size\n",
    "        self.is_train = is_train\n",
    "        self.device = device\n",
    "\n",
    "        if self.keypoints_csv is not None:\n",
    "            self.image_files = self.keypoints_csv.iloc[:, 0].tolist()\n",
    "        else:\n",
    "            self.image_files = [file for file in os.listdir(images_dir) if file.lower().endswith(('.png', '.jpg', '.jpeg', '.bmp', '.tiff'))]\n",
    "            self.image_files.sort()\n",
    "            assert len(self.image_files) > 0, f\"No images found in {images_dir}\"\n",
    "\n",
    "        self.train_transform = A.Compose([\n",
    "            A.HorizontalFlip(.5),\n",
    "            A.CoarseDropout(num_holes_range=(4, 6), hole_width_range=(0.05, 0.2), hole_height_range=(0.05, 0.2), p=.5),\n",
    "            A.ShiftScaleRotate(shift_limit=.05, scale_limit=.1, rotate_limit=75, p=.7),\n",
    "            A.OneOf([\n",
    "                A.GaussianBlur(blur_limit=(3, 7), p=0.5),\n",
    "                A.MotionBlur(blur_limit=(3, 7), p=0.5),\n",
    "            ], p=0.5),\n",
    "            A.GaussNoise(std_range=(.001, .02), p=0.5),\n",
    "            A.ColorJitter(brightness=.25, contrast=.25, saturation=.3, hue=.03, p=.8),\n",
    "            A.RandomBrightnessContrast(p=0.5),\n",
    "            A.Normalize(mean=[0.485, 0.456, 0.406], \n",
    "                        std=[0.229, 0.224, 0.225]),\n",
    "            ToTensorV2()\n",
    "        ], keypoint_params=A.KeypointParams(format='xy', remove_invisible=False))\n",
    "\n",
    "        self.test_transform = A.Compose([\n",
    "            A.Normalize(mean=[0.485, 0.456, 0.406], \n",
    "                        std=[0.229, 0.224, 0.225]),\n",
    "            ToTensorV2()\n",
    "        ], keypoint_params=A.KeypointParams(format='xy', remove_invisible=False))\n",
    "\n",
    "\n",
    "    def __len__(self):\n",
    "        return len(self.image_files)\n",
    "    \n",
    "\n",
    "    def __getitem__(self, idx):\n",
    "\n",
    "        if torch.is_tensor(idx):\n",
    "            idx = idx.tolist()\n",
    "\n",
    "        img_name = os.path.join(self.images_dir, self.image_files[idx])\n",
    "        if not os.path.exists(img_name):\n",
    "            raise FileNotFoundError(f\"Image not found: {img_name}\")\n",
    "        \n",
    "        image = cv2.imread(img_name)\n",
    "        if image is None:\n",
    "            raise ValueError(f\"Failed to load image: {img_name}\")\n",
    "        image = cv2.cvtColor(image, cv2.COLOR_BGR2RGB)\n",
    "\n",
    "        keypoints = self.keypoints_csv.iloc[idx, 1:].values.astype(float).reshape(-1, 2) if self.keypoints_csv is not None else None\n",
    "        image, keypoints = self.smart_resize_with_padding(\n",
    "            image, keypoints, self.target_size\n",
    "        )\n",
    "        \n",
    "        if keypoints is not None:\n",
    "            keypoints_list = [(float(keypoint[0]), float(keypoint[1])) for keypoint in keypoints]\n",
    "            \n",
    "            transform = self.train_transform if self.is_train else self.test_transform\n",
    "            transformed = transform(image=image, keypoints=keypoints_list)\n",
    "            image = transformed['image']\n",
    "            keypoints = np.array(transformed['keypoints']) / self.target_size\n",
    "\n",
    "            keypoints_tensor = torch.tensor(keypoints.flatten(), dtype=torch.float32)\n",
    "            if self.device:\n",
    "                keypoints_tensor = keypoints_tensor.to(self.device)\n",
    "            return image, keypoints_tensor\n",
    "        \n",
    "        else:\n",
    "            transform = self.train_transform if self.is_train else self.test_transform\n",
    "            image = transform(image=image, keypoints=[])['image']\n",
    "            return image\n",
    "    \n",
    "    \n",
    "    @staticmethod\n",
    "    def smart_resize_with_padding(image, keypoints, target_size):\n",
    "        h, w = image.shape[:2]\n",
    "        scale = min(target_size/h, target_size/w)\n",
    "        new_w, new_h = int(w*scale), int(h*scale)\n",
    "        resized_image = cv2.resize(image, (new_w, new_h))\n",
    "\n",
    "        padded_image = np.zeros((target_size, target_size, 3), dtype=np.uint8)\n",
    "        start_x = (target_size - new_w) // 2\n",
    "        start_y = (target_size - new_h) // 2\n",
    "\n",
    "        padded_image[start_y : start_y+new_h, start_x : start_x+new_w] = resized_image\n",
    "\n",
    "        if keypoints is not None:\n",
    "            scaled_keypoints = keypoints * scale\n",
    "            scaled_keypoints += np.array((start_x, start_y))\n",
    "            return padded_image, scaled_keypoints\n",
    "\n",
    "        return padded_image, None"
   ]
  },
  {
   "cell_type": "markdown",
   "id": "205c92ef",
   "metadata": {},
   "source": [
    "# Loading Datasets"
   ]
  },
  {
   "cell_type": "code",
   "execution_count": 13,
   "id": "f0a576dd",
   "metadata": {},
   "outputs": [
    {
     "name": "stderr",
     "output_type": "stream",
     "text": [
      "c:\\Users\\fazulzyanov.rr\\AppData\\Local\\Python\\Lib\\site-packages\\albumentations\\core\\validation.py:114: UserWarning: ShiftScaleRotate is a special case of Affine transform. Please use Affine transform instead.\n",
      "  original_init(self, **validated_kwargs)\n",
      "c:\\Users\\fazulzyanov.rr\\AppData\\Local\\Python\\Lib\\site-packages\\albumentations\\core\\composition.py:331: UserWarning: Got processor for keypoints, but no transform to process it.\n",
      "  self._set_keys()\n",
      "c:\\Users\\fazulzyanov.rr\\AppData\\Local\\Python\\Lib\\site-packages\\albumentations\\core\\validation.py:114: UserWarning: ShiftScaleRotate is a special case of Affine transform. Please use Affine transform instead.\n",
      "  original_init(self, **validated_kwargs)\n",
      "c:\\Users\\fazulzyanov.rr\\AppData\\Local\\Python\\Lib\\site-packages\\albumentations\\core\\composition.py:331: UserWarning: Got processor for keypoints, but no transform to process it.\n",
      "  self._set_keys()\n"
     ]
    }
   ],
   "source": [
    "import torch\n",
    "\n",
    "device = torch.device('cuda:0' if torch.cuda.is_available() else 'cpu')\n",
    "\n",
    "batch_size = 32\n",
    "\n",
    "train_dataset = FacePointsDataset('./tests/00_test_img_input/train/images', './tests/00_test_img_input/train/gt.csv', device=device)\n",
    "val_dataset = FacePointsDataset('./tests/00_test_img_input/train/images', './tests/00_test_img_input/train/gt.csv', is_train=False, device=device)\n",
    "test_dataset = FacePointsDataset('./tests/00_test_img_input/test/images', is_train=False, device=device)\n",
    "\n",
    "train_size = int(.8 * len(train_dataset))\n",
    "val_size = len(train_dataset) - train_size\n",
    "\n",
    "train_subset, _ = torch.utils.data.random_split(train_dataset, (train_size, val_size))\n",
    "_, val_subset = torch.utils.data.random_split(val_dataset, (train_size, val_size))\n",
    "\n",
    "train_loader = DataLoader(train_subset, batch_size, shuffle=True)\n",
    "val_loader = DataLoader(val_subset, batch_size, shuffle=True)\n",
    "test_loader = DataLoader(test_dataset, batch_size, shuffle=True)"
   ]
  },
  {
   "cell_type": "markdown",
   "id": "deefd6b1",
   "metadata": {},
   "source": [
    "# Augmentations Visualization"
   ]
  },
  {
   "cell_type": "code",
   "execution_count": 14,
   "id": "0ba3bdd5",
   "metadata": {},
   "outputs": [
    {
     "data": {
      "image/png": "[encoded data removed]",
      "text/plain": [
       "<Figure size 1200x600 with 2 Axes>"
      ]
     },
     "metadata": {},
     "output_type": "display_data"
    }
   ],
   "source": [
    "import matplotlib.pyplot as plt\n",
    "import cv2\n",
    "\n",
    "def visualize_preprocessing(original_img_path, keypoints, dataset_entry=None):\n",
    "    \"\"\"\n",
    "    Preprocessing visualization\n",
    "    \"\"\"\n",
    "    original_img = cv2.imread(original_img_path)\n",
    "    original_img = cv2.cvtColor(original_img, cv2.COLOR_BGR2RGB)\n",
    "    \n",
    "    if dataset_entry is not None:\n",
    "        _, (ax1, ax2) = plt.subplots(1, 2, figsize=(12, 6))\n",
    "    else:\n",
    "        _, (ax1) = plt.subplots(1, 1, figsize=(6, 6))\n",
    "    \n",
    "    ax1.imshow(original_img)\n",
    "    ax1.scatter(keypoints[:, 0], keypoints[:, 1], c='red', s=20)\n",
    "    ax1.set_title('Original Image')\n",
    "    ax1.axis('off')\n",
    "    \n",
    "    if dataset_entry is not None:\n",
    "        processed_img, processed_keypoints = dataset_entry\n",
    "        \n",
    "        processed_img = processed_img.permute(1, 2, 0)  # CHW to HWC\n",
    "        processed_img = processed_img * torch.tensor([0.229, 0.224, 0.225]) + torch.tensor([0.485, 0.456, 0.406]) #denormalize\n",
    "        processed_img = torch.clamp(processed_img, 0, 1)\n",
    "        \n",
    "        processed_keypoints = torch.Tensor.cpu(processed_keypoints)\n",
    "        processed_keypoints = processed_keypoints.reshape(-1, 2) * 100\n",
    "\n",
    "        ax2.imshow(processed_img)\n",
    "        ax2.scatter(processed_keypoints[:, 0], processed_keypoints[:, 1], c='red', s=20)\n",
    "        ax2.set_title('Processed Image (100x100, Centered)')\n",
    "        ax2.axis('off')\n",
    "    \n",
    "    plt.tight_layout()\n",
    "    plt.show()\n",
    "\n",
    "visualize_preprocessing('./tests/00_test_img_input/train/images/00001.jpg',\n",
    "                        pd.read_csv('./tests/00_test_img_input/train/gt.csv').iloc[1, 1:].values.reshape(-1, 2),\n",
    "                        train_dataset[1])"
   ]
  },
  {
   "cell_type": "markdown",
   "id": "3a3a13c3",
   "metadata": {},
   "source": [
    "# Metrics Visualizer"
   ]
  },
  {
   "cell_type": "code",
   "execution_count": 15,
   "id": "1a05cc51",
   "metadata": {},
   "outputs": [],
   "source": [
    "import matplotlib.pyplot as plt\n",
    "\n",
    "def plot_metrics(train_losses, val_losses, train_mses, val_mses):\n",
    "    epochs = range(1, len(train_losses) + 1)\n",
    "\n",
    "    plt.figure(figsize=(12, 5))\n",
    "\n",
    "    # График loss\n",
    "    plt.subplot(1, 2, 1)\n",
    "    plt.plot(epochs, train_losses, 'b-', label='Train Loss')\n",
    "    plt.plot(epochs, val_losses, 'r-', label='Validation Loss')\n",
    "    plt.title('Loss over Epochs')\n",
    "    plt.xlabel('Epoch')\n",
    "    plt.ylabel('Loss')\n",
    "    plt.legend()\n",
    "\n",
    "    # График accuracy\n",
    "    plt.subplot(1, 2, 2)\n",
    "    plt.plot(epochs, train_mses, 'b-', label='Train MSE')\n",
    "    plt.plot(epochs, val_mses, 'r-', label='Validation MSE')\n",
    "    plt.title('MSE over Epochs')\n",
    "    plt.xlabel('Epoch')\n",
    "    plt.ylabel('MSE')\n",
    "    plt.legend()\n",
    "\n",
    "    plt.tight_layout()\n",
    "    plt.show()"
   ]
  },
  {
   "cell_type": "markdown",
   "id": "a9f2377d",
   "metadata": {},
   "source": [
    "# Model"
   ]
  },
  {
   "cell_type": "code",
   "execution_count": 52,
   "id": "7f234756",
   "metadata": {},
   "outputs": [
    {
     "data": {
      "text/plain": [
       "FacePointsCNN(\n",
       "  (conv1): Conv2d(3, 64, kernel_size=(3, 3), stride=(1, 1), padding=(1, 1))\n",
       "  (conv2): Conv2d(64, 128, kernel_size=(3, 3), stride=(1, 1), padding=(1, 1))\n",
       "  (conv3): Conv2d(128, 256, kernel_size=(3, 3), stride=(1, 1), padding=(1, 1))\n",
       "  (conv4): Conv2d(256, 512, kernel_size=(3, 3), stride=(1, 1), padding=(1, 1))\n",
       "  (conv5): Conv2d(512, 1024, kernel_size=(3, 3), stride=(1, 1), padding=(1, 1))\n",
       "  (pool): MaxPool2d(kernel_size=2, stride=2, padding=0, dilation=1, ceil_mode=False)\n",
       "  (gelu): GELU(approximate='none')\n",
       "  (global_pool): AdaptiveAvgPool2d(output_size=(1, 1))\n",
       "  (dropout1): Dropout2d(p=0.0, inplace=False)\n",
       "  (dropout2): Dropout2d(p=0.0, inplace=False)\n",
       "  (dropout3): Dropout2d(p=0.0, inplace=False)\n",
       "  (dropout4): Dropout(p=0.1, inplace=False)\n",
       "  (dropout5): Dropout(p=0.1, inplace=False)\n",
       "  (bnorm1): BatchNorm2d(64, eps=1e-05, momentum=0.1, affine=True, track_running_stats=True)\n",
       "  (bnorm2): BatchNorm2d(128, eps=1e-05, momentum=0.1, affine=True, track_running_stats=True)\n",
       "  (bnorm3): BatchNorm2d(256, eps=1e-05, momentum=0.1, affine=True, track_running_stats=True)\n",
       "  (bnorm4): BatchNorm2d(512, eps=1e-05, momentum=0.1, affine=True, track_running_stats=True)\n",
       "  (bnorm5): BatchNorm2d(1024, eps=1e-05, momentum=0.1, affine=True, track_running_stats=True)\n",
       "  (fc_bnorm): LazyBatchNorm1d(0, eps=1e-05, momentum=0.1, affine=True, track_running_stats=True)\n",
       "  (seb1): SEBlock(\n",
       "    (avg_pool): AdaptiveAvgPool2d(output_size=1)\n",
       "    (fc): Sequential(\n",
       "      (0): Linear(in_features=64, out_features=8, bias=False)\n",
       "      (1): GELU(approximate='none')\n",
       "      (2): Linear(in_features=8, out_features=64, bias=False)\n",
       "      (3): Sigmoid()\n",
       "    )\n",
       "  )\n",
       "  (seb2): SEBlock(\n",
       "    (avg_pool): AdaptiveAvgPool2d(output_size=1)\n",
       "    (fc): Sequential(\n",
       "      (0): Linear(in_features=128, out_features=16, bias=False)\n",
       "      (1): GELU(approximate='none')\n",
       "      (2): Linear(in_features=16, out_features=128, bias=False)\n",
       "      (3): Sigmoid()\n",
       "    )\n",
       "  )\n",
       "  (seb3): SEBlock(\n",
       "    (avg_pool): AdaptiveAvgPool2d(output_size=1)\n",
       "    (fc): Sequential(\n",
       "      (0): Linear(in_features=256, out_features=32, bias=False)\n",
       "      (1): GELU(approximate='none')\n",
       "      (2): Linear(in_features=32, out_features=256, bias=False)\n",
       "      (3): Sigmoid()\n",
       "    )\n",
       "  )\n",
       "  (seb4): SEBlock(\n",
       "    (avg_pool): AdaptiveAvgPool2d(output_size=1)\n",
       "    (fc): Sequential(\n",
       "      (0): Linear(in_features=512, out_features=64, bias=False)\n",
       "      (1): GELU(approximate='none')\n",
       "      (2): Linear(in_features=64, out_features=512, bias=False)\n",
       "      (3): Sigmoid()\n",
       "    )\n",
       "  )\n",
       "  (seb5): SEBlock(\n",
       "    (avg_pool): AdaptiveAvgPool2d(output_size=1)\n",
       "    (fc): Sequential(\n",
       "      (0): Linear(in_features=1024, out_features=128, bias=False)\n",
       "      (1): GELU(approximate='none')\n",
       "      (2): Linear(in_features=128, out_features=1024, bias=False)\n",
       "      (3): Sigmoid()\n",
       "    )\n",
       "  )\n",
       "  (fc1): Linear(in_features=36864, out_features=64, bias=True)\n",
       "  (fc2): Linear(in_features=64, out_features=28, bias=True)\n",
       ")"
      ]
     },
     "execution_count": 52,
     "metadata": {},
     "output_type": "execute_result"
    }
   ],
   "source": [
    "import torch\n",
    "from torch import nn, optim\n",
    "from tqdm.notebook import tqdm\n",
    "\n",
    "class WingLoss(nn.Module):\n",
    "    def __init__(self, w=10, epsilon=2):\n",
    "        super(WingLoss, self).__init__()\n",
    "        self.w = w\n",
    "        self.epsilon = epsilon\n",
    "        self.C = self.w - self.w * np.log(1 + self.w / self.epsilon)\n",
    "\n",
    "    def forward(self, predictions, targets):\n",
    "        diff = torch.abs(predictions - targets)\n",
    "        \n",
    "        loss = torch.where(\n",
    "            diff < self.w,\n",
    "            self.w * torch.log(1 + diff / self.epsilon),\n",
    "            diff - self.C\n",
    "        )\n",
    "        \n",
    "        return torch.mean(loss)\n",
    "\n",
    "\n",
    "class SEBlock(nn.Module):\n",
    "    def __init__(self, channel, reduction=8):\n",
    "        super(SEBlock, self).__init__()\n",
    "        self.avg_pool = nn.AdaptiveAvgPool2d(1)\n",
    "        self.fc = nn.Sequential(\n",
    "            nn.Linear(channel, channel // reduction, bias=False),\n",
    "            nn.GELU(),\n",
    "            nn.Linear(channel // reduction, channel, bias=False),\n",
    "            nn.Sigmoid()\n",
    "        )\n",
    "\n",
    "    def forward(self, x):\n",
    "        b, c, _, _ = x.size()\n",
    "        y = self.avg_pool(x).view(b, c)\n",
    "        y = self.fc(y).view(b, c, 1, 1)\n",
    "        return x * y.expand_as(x)\n",
    "\n",
    "\n",
    "class FacePointsCNN(nn.Module):\n",
    "\n",
    "    def __init__(self):\n",
    "\n",
    "        super().__init__()\n",
    "\n",
    "        self.conv1 = nn.Conv2d(3, 64, 3, padding=1)\n",
    "        self.conv2 = nn.Conv2d(64, 128, 3, padding=1)\n",
    "        self.conv3 = nn.Conv2d(128, 256, 3, padding=1)\n",
    "        self.conv4 = nn.Conv2d(256, 512, 3, padding=1)\n",
    "        self.conv5 = nn.Conv2d(512, 1024, 3, padding=1)\n",
    "        \n",
    "        self.pool = nn.MaxPool2d(2, 2)\n",
    "        self.gelu = nn.GELU()\n",
    "        self.global_pool = nn.AdaptiveAvgPool2d((1, 1))\n",
    "\n",
    "        self.dropout1 = nn.Dropout2d(.0)\n",
    "        self.dropout2 = nn.Dropout2d(.0)\n",
    "        self.dropout3 = nn.Dropout2d(.0)\n",
    "        self.dropout4 = nn.Dropout(.1)\n",
    "        self.dropout5 = nn.Dropout(.1)\n",
    "\n",
    "        self.bnorm1 = nn.BatchNorm2d(64)\n",
    "        self.bnorm2 = nn.BatchNorm2d(128)\n",
    "        self.bnorm3 = nn.BatchNorm2d(256)\n",
    "        self.bnorm4 = nn.BatchNorm2d(512)\n",
    "        self.bnorm5 = nn.BatchNorm2d(1024)\n",
    "        self.fc_bnorm = nn.LazyBatchNorm1d()\n",
    "\n",
    "        self.seb1 = SEBlock(64)\n",
    "        self.seb2 = SEBlock(128)\n",
    "        self.seb3 = SEBlock(256)\n",
    "        self.seb4 = SEBlock(512)\n",
    "        self.seb5 = SEBlock(1024)\n",
    "\n",
    "        self.fc1 = nn.Linear(256*12*12, 64)\n",
    "        self.fc2 = nn.Linear(64, 28)\n",
    "\n",
    "    def forward(self, x):\n",
    "\n",
    "        x = self.pool(self.seb1(self.gelu(self.bnorm1(self.conv1(x)))))                    #64, 48, 48\n",
    "        x = self.dropout1(self.pool(self.seb2(self.gelu(self.bnorm2(self.conv2(x))))))     #128, 24, 24\n",
    "        x = self.dropout2(self.pool(self.seb3(self.gelu(self.bnorm3(self.conv3(x))))))     #256, 12, 12\n",
    "        # x = self.dropout3(self.pool(self.seb4(self.gelu(self.bnorm4(self.conv4(x))))))     #512, 6, 6\n",
    "        # x = self.dropout3(self.pool(self.seb5(self.gelu(self.bnorm5(self.conv5(x))))))     #1024, 3, 3\n",
    "        x = torch.flatten(x, 1)                                                            #1024*3*3\n",
    "        x = self.dropout4(self.gelu(self.fc1(x)))                                          #256\n",
    "        x = self.fc2(x)                                                                    #28\n",
    "        return x\n",
    "    \n",
    "model = FacePointsCNN()\n",
    "model.to(device)"
   ]
  },
  {
   "cell_type": "markdown",
   "id": "8a2e7cd5",
   "metadata": {},
   "source": [
    "# Training"
   ]
  },
  {
   "cell_type": "code",
   "execution_count": 53,
   "id": "90c0461c",
   "metadata": {},
   "outputs": [
    {
     "data": {
      "application/vnd.jupyter.widget-view+json": {
       "model_id": "70523d0aa5e04b3782d2a809300487f7",
       "version_major": 2,
       "version_minor": 0
      },
      "text/plain": [
       "Epoch:   0%|          | 0/600 [00:00<?, ?it/s]"
      ]
     },
     "metadata": {},
     "output_type": "display_data"
    },
    {
     "data": {
      "application/vnd.jupyter.widget-view+json": {
       "model_id": "8ad1e0792bde4d09bd05be74b58bf015",
       "version_major": 2,
       "version_minor": 0
      },
      "text/plain": [
       "Train:   0%|          | 0/150 [00:00<?, ?it/s]"
      ]
     },
     "metadata": {},
     "output_type": "display_data"
    },
    {
     "name": "stdout",
     "output_type": "stream",
     "text": [
      "Epoch 1 - train loss: 0.9786 - train rmse: 0.2806 - val loss: 0.5880 - val rmse: 0.1718\n",
      "Validation MSE improved (inf --> 0.0295). Saving model...\n"
     ]
    },
    {
     "data": {
      "application/vnd.jupyter.widget-view+json": {
       "model_id": "611be574dc9944059f1259634f87fe07",
       "version_major": 2,
       "version_minor": 0
      },
      "text/plain": [
       "Train:   0%|          | 0/150 [00:00<?, ?it/s]"
      ]
     },
     "metadata": {},
     "output_type": "display_data"
    },
    {
     "name": "stdout",
     "output_type": "stream",
     "text": [
      "Epoch 2 - train loss: 0.7672 - train rmse: 0.2150 - val loss: 0.4994 - val rmse: 0.1479\n",
      "Validation MSE improved (0.0295 --> 0.0219). Saving model...\n"
     ]
    },
    {
     "data": {
      "application/vnd.jupyter.widget-view+json": {
       "model_id": "44f41fc4db364ccb8d8a4b8cf986ceae",
       "version_major": 2,
       "version_minor": 0
      },
      "text/plain": [
       "Train:   0%|          | 0/150 [00:00<?, ?it/s]"
      ]
     },
     "metadata": {},
     "output_type": "display_data"
    },
    {
     "name": "stdout",
     "output_type": "stream",
     "text": [
      "Epoch 3 - train loss: 0.7068 - train rmse: 0.1950 - val loss: 0.5139 - val rmse: 0.1460\n",
      "Validation MSE improved (0.0219 --> 0.0213). Saving model...\n"
     ]
    },
    {
     "data": {
      "application/vnd.jupyter.widget-view+json": {
       "model_id": "90bc22047c4c498a983282eb505e77f1",
       "version_major": 2,
       "version_minor": 0
      },
      "text/plain": [
       "Train:   0%|          | 0/150 [00:00<?, ?it/s]"
      ]
     },
     "metadata": {},
     "output_type": "display_data"
    },
    {
     "name": "stdout",
     "output_type": "stream",
     "text": [
      "Epoch 4 - train loss: 0.6499 - train rmse: 0.1798 - val loss: 0.4698 - val rmse: 0.1349\n",
      "Validation MSE improved (0.0213 --> 0.0182). Saving model...\n"
     ]
    },
    {
     "data": {
      "application/vnd.jupyter.widget-view+json": {
       "model_id": "95736843be694cf584178451c6828040",
       "version_major": 2,
       "version_minor": 0
      },
      "text/plain": [
       "Train:   0%|          | 0/150 [00:00<?, ?it/s]"
      ]
     },
     "metadata": {},
     "output_type": "display_data"
    },
    {
     "name": "stdout",
     "output_type": "stream",
     "text": [
      "Epoch 5 - train loss: 0.6000 - train rmse: 0.1670 - val loss: 0.4786 - val rmse: 0.1396\n",
      "Validation MSE did not improve. Counter: 1/300\n"
     ]
    },
    {
     "data": {
      "application/vnd.jupyter.widget-view+json": {
       "model_id": "ac9350777a314d4c8ab8c36110cf6b2c",
       "version_major": 2,
       "version_minor": 0
      },
      "text/plain": [
       "Train:   0%|          | 0/150 [00:00<?, ?it/s]"
      ]
     },
     "metadata": {},
     "output_type": "display_data"
    },
    {
     "name": "stdout",
     "output_type": "stream",
     "text": [
      "Epoch 6 - train loss: 0.5632 - train rmse: 0.1576 - val loss: 0.4561 - val rmse: 0.1328\n",
      "Validation MSE improved (0.0182 --> 0.0176). Saving model...\n"
     ]
    },
    {
     "data": {
      "application/vnd.jupyter.widget-view+json": {
       "model_id": "da2cd81daa024c29bbbebc8837ba45b0",
       "version_major": 2,
       "version_minor": 0
      },
      "text/plain": [
       "Train:   0%|          | 0/150 [00:00<?, ?it/s]"
      ]
     },
     "metadata": {},
     "output_type": "display_data"
    },
    {
     "name": "stdout",
     "output_type": "stream",
     "text": [
      "Epoch 7 - train loss: 0.5422 - train rmse: 0.1534 - val loss: 0.4790 - val rmse: 0.1505\n",
      "Validation MSE did not improve. Counter: 1/300\n"
     ]
    },
    {
     "data": {
      "application/vnd.jupyter.widget-view+json": {
       "model_id": "bf911c5ba1b64a14828dbf7120fb3cc0",
       "version_major": 2,
       "version_minor": 0
      },
      "text/plain": [
       "Train:   0%|          | 0/150 [00:00<?, ?it/s]"
      ]
     },
     "metadata": {},
     "output_type": "display_data"
    },
    {
     "name": "stdout",
     "output_type": "stream",
     "text": [
      "Epoch 8 - train loss: 0.5317 - train rmse: 0.1519 - val loss: 0.4307 - val rmse: 0.1350\n",
      "Validation MSE did not improve. Counter: 2/300\n"
     ]
    },
    {
     "data": {
      "application/vnd.jupyter.widget-view+json": {
       "model_id": "299be1491b344f67a24ff7c988d5fb58",
       "version_major": 2,
       "version_minor": 0
      },
      "text/plain": [
       "Train:   0%|          | 0/150 [00:00<?, ?it/s]"
      ]
     },
     "metadata": {},
     "output_type": "display_data"
    },
    {
     "name": "stdout",
     "output_type": "stream",
     "text": [
      "Epoch 9 - train loss: 0.5256 - train rmse: 0.1508 - val loss: 0.4708 - val rmse: 0.1459\n",
      "Validation MSE did not improve. Counter: 3/300\n"
     ]
    },
    {
     "data": {
      "application/vnd.jupyter.widget-view+json": {
       "model_id": "e8307c5349484d98ae6403d15be322d8",
       "version_major": 2,
       "version_minor": 0
      },
      "text/plain": [
       "Train:   0%|          | 0/150 [00:00<?, ?it/s]"
      ]
     },
     "metadata": {},
     "output_type": "display_data"
    },
    {
     "name": "stdout",
     "output_type": "stream",
     "text": [
      "Epoch 10 - train loss: 0.5177 - train rmse: 0.1499 - val loss: 0.3599 - val rmse: 0.1143\n",
      "Validation MSE improved (0.0176 --> 0.0131). Saving model...\n"
     ]
    },
    {
     "data": {
      "application/vnd.jupyter.widget-view+json": {
       "model_id": "6d6cdecc214d475f9d1c25bb1259f8c1",
       "version_major": 2,
       "version_minor": 0
      },
      "text/plain": [
       "Train:   0%|          | 0/150 [00:00<?, ?it/s]"
      ]
     },
     "metadata": {},
     "output_type": "display_data"
    },
    {
     "name": "stdout",
     "output_type": "stream",
     "text": [
      "Epoch 11 - train loss: 0.5117 - train rmse: 0.1489 - val loss: 0.3525 - val rmse: 0.1153\n",
      "Validation MSE did not improve. Counter: 1/300\n"
     ]
    },
    {
     "data": {
      "application/vnd.jupyter.widget-view+json": {
       "model_id": "5b20f1e642b84dcabcff9c284d0da641",
       "version_major": 2,
       "version_minor": 0
      },
      "text/plain": [
       "Train:   0%|          | 0/150 [00:00<?, ?it/s]"
      ]
     },
     "metadata": {},
     "output_type": "display_data"
    },
    {
     "name": "stdout",
     "output_type": "stream",
     "text": [
      "Epoch 12 - train loss: 0.5061 - train rmse: 0.1481 - val loss: 0.4983 - val rmse: 0.1596\n",
      "Validation MSE did not improve. Counter: 2/300\n"
     ]
    },
    {
     "data": {
      "application/vnd.jupyter.widget-view+json": {
       "model_id": "47d6670c5e3e4cf0bde333b6e8faa102",
       "version_major": 2,
       "version_minor": 0
      },
      "text/plain": [
       "Train:   0%|          | 0/150 [00:00<?, ?it/s]"
      ]
     },
     "metadata": {},
     "output_type": "display_data"
    },
    {
     "name": "stdout",
     "output_type": "stream",
     "text": [
      "Epoch 13 - train loss: 0.5032 - train rmse: 0.1480 - val loss: 0.3819 - val rmse: 0.1266\n",
      "Validation MSE did not improve. Counter: 3/300\n"
     ]
    },
    {
     "data": {
      "application/vnd.jupyter.widget-view+json": {
       "model_id": "ab9efc7fd978430cbf4914184a8ad20d",
       "version_major": 2,
       "version_minor": 0
      },
      "text/plain": [
       "Train:   0%|          | 0/150 [00:00<?, ?it/s]"
      ]
     },
     "metadata": {},
     "output_type": "display_data"
    },
    {
     "name": "stdout",
     "output_type": "stream",
     "text": [
      "Epoch 14 - train loss: 0.4987 - train rmse: 0.1472 - val loss: 0.4041 - val rmse: 0.1329\n",
      "Validation MSE did not improve. Counter: 4/300\n"
     ]
    },
    {
     "data": {
      "application/vnd.jupyter.widget-view+json": {
       "model_id": "9cf1c6a72dee4fb4a940f85883f3b0cd",
       "version_major": 2,
       "version_minor": 0
      },
      "text/plain": [
       "Train:   0%|          | 0/150 [00:00<?, ?it/s]"
      ]
     },
     "metadata": {},
     "output_type": "display_data"
    },
    {
     "name": "stdout",
     "output_type": "stream",
     "text": [
      "Epoch 15 - train loss: 0.4974 - train rmse: 0.1468 - val loss: 0.3568 - val rmse: 0.1163\n",
      "Validation MSE did not improve. Counter: 5/300\n"
     ]
    },
    {
     "data": {
      "application/vnd.jupyter.widget-view+json": {
       "model_id": "ae40b3eaa1364cf7a52908a747eea8e1",
       "version_major": 2,
       "version_minor": 0
      },
      "text/plain": [
       "Train:   0%|          | 0/150 [00:00<?, ?it/s]"
      ]
     },
     "metadata": {},
     "output_type": "display_data"
    },
    {
     "name": "stdout",
     "output_type": "stream",
     "text": [
      "Epoch 16 - train loss: 0.4895 - train rmse: 0.1452 - val loss: 0.3354 - val rmse: 0.1088\n",
      "Validation MSE improved (0.0131 --> 0.0118). Saving model...\n"
     ]
    },
    {
     "data": {
      "application/vnd.jupyter.widget-view+json": {
       "model_id": "070092a8875d4ae2a3ca5369333e9364",
       "version_major": 2,
       "version_minor": 0
      },
      "text/plain": [
       "Train:   0%|          | 0/150 [00:00<?, ?it/s]"
      ]
     },
     "metadata": {},
     "output_type": "display_data"
    },
    {
     "name": "stdout",
     "output_type": "stream",
     "text": [
      "Epoch 17 - train loss: 0.4836 - train rmse: 0.1448 - val loss: 0.3193 - val rmse: 0.1026\n",
      "Validation MSE improved (0.0118 --> 0.0105). Saving model...\n"
     ]
    },
    {
     "data": {
      "application/vnd.jupyter.widget-view+json": {
       "model_id": "0e7d1544c1a14a76a3285bf922dcb81b",
       "version_major": 2,
       "version_minor": 0
      },
      "text/plain": [
       "Train:   0%|          | 0/150 [00:00<?, ?it/s]"
      ]
     },
     "metadata": {},
     "output_type": "display_data"
    },
    {
     "name": "stdout",
     "output_type": "stream",
     "text": [
      "Epoch 18 - train loss: 0.4852 - train rmse: 0.1445 - val loss: 0.3547 - val rmse: 0.1203\n",
      "Validation MSE did not improve. Counter: 1/300\n"
     ]
    },
    {
     "data": {
      "application/vnd.jupyter.widget-view+json": {
       "model_id": "4b699a472a664fd2af16be1e5fa465d7",
       "version_major": 2,
       "version_minor": 0
      },
      "text/plain": [
       "Train:   0%|          | 0/150 [00:00<?, ?it/s]"
      ]
     },
     "metadata": {},
     "output_type": "display_data"
    },
    {
     "name": "stdout",
     "output_type": "stream",
     "text": [
      "Epoch 19 - train loss: 0.4824 - train rmse: 0.1445 - val loss: 0.3912 - val rmse: 0.1322\n",
      "Validation MSE did not improve. Counter: 2/300\n"
     ]
    },
    {
     "data": {
      "application/vnd.jupyter.widget-view+json": {
       "model_id": "1dac488c1da04923b1b4a9c780d177e0",
       "version_major": 2,
       "version_minor": 0
      },
      "text/plain": [
       "Train:   0%|          | 0/150 [00:00<?, ?it/s]"
      ]
     },
     "metadata": {},
     "output_type": "display_data"
    },
    {
     "name": "stdout",
     "output_type": "stream",
     "text": [
      "Epoch 20 - train loss: 0.4811 - train rmse: 0.1436 - val loss: 0.3184 - val rmse: 0.1104\n",
      "Validation MSE did not improve. Counter: 3/300\n"
     ]
    },
    {
     "data": {
      "application/vnd.jupyter.widget-view+json": {
       "model_id": "f593518e918246d1a55dd11b8cab4cb3",
       "version_major": 2,
       "version_minor": 0
      },
      "text/plain": [
       "Train:   0%|          | 0/150 [00:00<?, ?it/s]"
      ]
     },
     "metadata": {},
     "output_type": "display_data"
    },
    {
     "name": "stdout",
     "output_type": "stream",
     "text": [
      "Epoch 21 - train loss: 0.4798 - train rmse: 0.1434 - val loss: 0.4146 - val rmse: 0.1378\n",
      "Validation MSE did not improve. Counter: 4/300\n"
     ]
    },
    {
     "data": {
      "application/vnd.jupyter.widget-view+json": {
       "model_id": "6b1ca286ef794c01bdd5b559225efde1",
       "version_major": 2,
       "version_minor": 0
      },
      "text/plain": [
       "Train:   0%|          | 0/150 [00:00<?, ?it/s]"
      ]
     },
     "metadata": {},
     "output_type": "display_data"
    },
    {
     "name": "stdout",
     "output_type": "stream",
     "text": [
      "Epoch 22 - train loss: 0.4797 - train rmse: 0.1435 - val loss: 0.3599 - val rmse: 0.1243\n",
      "Validation MSE did not improve. Counter: 5/300\n"
     ]
    },
    {
     "data": {
      "application/vnd.jupyter.widget-view+json": {
       "model_id": "c8b682b8abeb4be2b4286af0f4eeb63b",
       "version_major": 2,
       "version_minor": 0
      },
      "text/plain": [
       "Train:   0%|          | 0/150 [00:00<?, ?it/s]"
      ]
     },
     "metadata": {},
     "output_type": "display_data"
    },
    {
     "name": "stdout",
     "output_type": "stream",
     "text": [
      "Epoch 23 - train loss: 0.4747 - train rmse: 0.1415 - val loss: 0.3652 - val rmse: 0.1254\n",
      "Validation MSE did not improve. Counter: 6/300\n"
     ]
    },
    {
     "data": {
      "application/vnd.jupyter.widget-view+json": {
       "model_id": "dcd03b06172649da848a8c13ffda9e19",
       "version_major": 2,
       "version_minor": 0
      },
      "text/plain": [
       "Train:   0%|          | 0/150 [00:00<?, ?it/s]"
      ]
     },
     "metadata": {},
     "output_type": "display_data"
    },
    {
     "name": "stdout",
     "output_type": "stream",
     "text": [
      "Epoch 24 - train loss: 0.4724 - train rmse: 0.1418 - val loss: 0.4325 - val rmse: 0.1421\n",
      "Validation MSE did not improve. Counter: 7/300\n"
     ]
    },
    {
     "data": {
      "application/vnd.jupyter.widget-view+json": {
       "model_id": "9ce489e683684845b0bed1eae74782d9",
       "version_major": 2,
       "version_minor": 0
      },
      "text/plain": [
       "Train:   0%|          | 0/150 [00:00<?, ?it/s]"
      ]
     },
     "metadata": {},
     "output_type": "display_data"
    },
    {
     "name": "stdout",
     "output_type": "stream",
     "text": [
      "Epoch 25 - train loss: 0.4683 - train rmse: 0.1411 - val loss: 0.3522 - val rmse: 0.1213\n",
      "Validation MSE did not improve. Counter: 8/300\n"
     ]
    },
    {
     "data": {
      "application/vnd.jupyter.widget-view+json": {
       "model_id": "bdc5c2489ba34242b416df4834c6f992",
       "version_major": 2,
       "version_minor": 0
      },
      "text/plain": [
       "Train:   0%|          | 0/150 [00:00<?, ?it/s]"
      ]
     },
     "metadata": {},
     "output_type": "display_data"
    },
    {
     "name": "stdout",
     "output_type": "stream",
     "text": [
      "Epoch 26 - train loss: 0.4688 - train rmse: 0.1422 - val loss: 0.3742 - val rmse: 0.1255\n",
      "Validation MSE did not improve. Counter: 9/300\n"
     ]
    },
    {
     "data": {
      "application/vnd.jupyter.widget-view+json": {
       "model_id": "6b1290310db443aeb33fa1d01fe92f4e",
       "version_major": 2,
       "version_minor": 0
      },
      "text/plain": [
       "Train:   0%|          | 0/150 [00:00<?, ?it/s]"
      ]
     },
     "metadata": {},
     "output_type": "display_data"
    },
    {
     "name": "stdout",
     "output_type": "stream",
     "text": [
      "Epoch 27 - train loss: 0.4631 - train rmse: 0.1407 - val loss: 0.3749 - val rmse: 0.1266\n",
      "Validation MSE did not improve. Counter: 10/300\n"
     ]
    },
    {
     "data": {
      "application/vnd.jupyter.widget-view+json": {
       "model_id": "e6b73888cbe5446d91f69170e6675f4a",
       "version_major": 2,
       "version_minor": 0
      },
      "text/plain": [
       "Train:   0%|          | 0/150 [00:00<?, ?it/s]"
      ]
     },
     "metadata": {},
     "output_type": "display_data"
    },
    {
     "name": "stdout",
     "output_type": "stream",
     "text": [
      "Epoch 28 - train loss: 0.4659 - train rmse: 0.1409 - val loss: 0.4201 - val rmse: 0.1452\n",
      "Validation MSE did not improve. Counter: 11/300\n"
     ]
    },
    {
     "data": {
      "application/vnd.jupyter.widget-view+json": {
       "model_id": "915bf2843c464baa84003c1da348bbc4",
       "version_major": 2,
       "version_minor": 0
      },
      "text/plain": [
       "Train:   0%|          | 0/150 [00:00<?, ?it/s]"
      ]
     },
     "metadata": {},
     "output_type": "display_data"
    },
    {
     "name": "stdout",
     "output_type": "stream",
     "text": [
      "Epoch 29 - train loss: 0.4649 - train rmse: 0.1406 - val loss: 0.4072 - val rmse: 0.1394\n",
      "Validation MSE did not improve. Counter: 12/300\n"
     ]
    },
    {
     "data": {
      "application/vnd.jupyter.widget-view+json": {
       "model_id": "ddc3f7a791e34db9a39c34cc3a2f4a50",
       "version_major": 2,
       "version_minor": 0
      },
      "text/plain": [
       "Train:   0%|          | 0/150 [00:00<?, ?it/s]"
      ]
     },
     "metadata": {},
     "output_type": "display_data"
    },
    {
     "name": "stdout",
     "output_type": "stream",
     "text": [
      "Epoch 30 - train loss: 0.4616 - train rmse: 0.1414 - val loss: 0.4030 - val rmse: 0.1353\n",
      "Validation MSE did not improve. Counter: 13/300\n"
     ]
    },
    {
     "data": {
      "application/vnd.jupyter.widget-view+json": {
       "model_id": "c02643edba514d328c2cae540f522490",
       "version_major": 2,
       "version_minor": 0
      },
      "text/plain": [
       "Train:   0%|          | 0/150 [00:00<?, ?it/s]"
      ]
     },
     "metadata": {},
     "output_type": "display_data"
    },
    {
     "name": "stdout",
     "output_type": "stream",
     "text": [
      "Epoch 31 - train loss: 0.4605 - train rmse: 0.1403 - val loss: 0.2605 - val rmse: 0.0912\n",
      "Validation MSE improved (0.0105 --> 0.0083). Saving model...\n"
     ]
    },
    {
     "data": {
      "application/vnd.jupyter.widget-view+json": {
       "model_id": "276f5c9547e3438ebe733382adaa7d28",
       "version_major": 2,
       "version_minor": 0
      },
      "text/plain": [
       "Train:   0%|          | 0/150 [00:00<?, ?it/s]"
      ]
     },
     "metadata": {},
     "output_type": "display_data"
    },
    {
     "name": "stdout",
     "output_type": "stream",
     "text": [
      "Epoch 32 - train loss: 0.4588 - train rmse: 0.1401 - val loss: 0.3595 - val rmse: 0.1253\n",
      "Validation MSE did not improve. Counter: 1/300\n"
     ]
    },
    {
     "data": {
      "application/vnd.jupyter.widget-view+json": {
       "model_id": "6795c3a972ae45218a0c9cac31c0883e",
       "version_major": 2,
       "version_minor": 0
      },
      "text/plain": [
       "Train:   0%|          | 0/150 [00:00<?, ?it/s]"
      ]
     },
     "metadata": {},
     "output_type": "display_data"
    },
    {
     "name": "stdout",
     "output_type": "stream",
     "text": [
      "Epoch 33 - train loss: 0.4600 - train rmse: 0.1410 - val loss: 0.3657 - val rmse: 0.1271\n",
      "Validation MSE did not improve. Counter: 2/300\n"
     ]
    },
    {
     "data": {
      "application/vnd.jupyter.widget-view+json": {
       "model_id": "d4ee1ab8658244f193ddc748afdaba31",
       "version_major": 2,
       "version_minor": 0
      },
      "text/plain": [
       "Train:   0%|          | 0/150 [00:00<?, ?it/s]"
      ]
     },
     "metadata": {},
     "output_type": "display_data"
    },
    {
     "name": "stdout",
     "output_type": "stream",
     "text": [
      "Epoch 34 - train loss: 0.4541 - train rmse: 0.1395 - val loss: 0.3425 - val rmse: 0.1218\n",
      "Validation MSE did not improve. Counter: 3/300\n"
     ]
    },
    {
     "data": {
      "application/vnd.jupyter.widget-view+json": {
       "model_id": "d4481f2458a74747b780d7f48e67363e",
       "version_major": 2,
       "version_minor": 0
      },
      "text/plain": [
       "Train:   0%|          | 0/150 [00:00<?, ?it/s]"
      ]
     },
     "metadata": {},
     "output_type": "display_data"
    },
    {
     "name": "stdout",
     "output_type": "stream",
     "text": [
      "Epoch 35 - train loss: 0.4585 - train rmse: 0.1400 - val loss: 0.3836 - val rmse: 0.1331\n",
      "Validation MSE did not improve. Counter: 4/300\n"
     ]
    },
    {
     "data": {
      "application/vnd.jupyter.widget-view+json": {
       "model_id": "06919aea027d4054a9b6d7fa4ee92ea3",
       "version_major": 2,
       "version_minor": 0
      },
      "text/plain": [
       "Train:   0%|          | 0/150 [00:00<?, ?it/s]"
      ]
     },
     "metadata": {},
     "output_type": "display_data"
    },
    {
     "name": "stdout",
     "output_type": "stream",
     "text": [
      "Epoch 36 - train loss: 0.4535 - train rmse: 0.1391 - val loss: 0.3401 - val rmse: 0.1193\n",
      "Validation MSE did not improve. Counter: 5/300\n"
     ]
    },
    {
     "data": {
      "application/vnd.jupyter.widget-view+json": {
       "model_id": "614eb868ba5f4a80b2dda2b9ef9e3833",
       "version_major": 2,
       "version_minor": 0
      },
      "text/plain": [
       "Train:   0%|          | 0/150 [00:00<?, ?it/s]"
      ]
     },
     "metadata": {},
     "output_type": "display_data"
    },
    {
     "name": "stdout",
     "output_type": "stream",
     "text": [
      "Epoch 37 - train loss: 0.4525 - train rmse: 0.1395 - val loss: 0.2939 - val rmse: 0.1055\n",
      "Validation MSE did not improve. Counter: 6/300\n"
     ]
    },
    {
     "data": {
      "application/vnd.jupyter.widget-view+json": {
       "model_id": "a94f9c782a8a409a8111748671c213c3",
       "version_major": 2,
       "version_minor": 0
      },
      "text/plain": [
       "Train:   0%|          | 0/150 [00:00<?, ?it/s]"
      ]
     },
     "metadata": {},
     "output_type": "display_data"
    },
    {
     "name": "stdout",
     "output_type": "stream",
     "text": [
      "Epoch 38 - train loss: 0.4525 - train rmse: 0.1398 - val loss: 0.3225 - val rmse: 0.1129\n",
      "Validation MSE did not improve. Counter: 7/300\n"
     ]
    },
    {
     "data": {
      "application/vnd.jupyter.widget-view+json": {
       "model_id": "c040a63fdf234fb8894f119a23163324",
       "version_major": 2,
       "version_minor": 0
      },
      "text/plain": [
       "Train:   0%|          | 0/150 [00:00<?, ?it/s]"
      ]
     },
     "metadata": {},
     "output_type": "display_data"
    },
    {
     "name": "stdout",
     "output_type": "stream",
     "text": [
      "Epoch 39 - train loss: 0.4499 - train rmse: 0.1388 - val loss: 0.3919 - val rmse: 0.1346\n",
      "Validation MSE did not improve. Counter: 8/300\n"
     ]
    },
    {
     "data": {
      "application/vnd.jupyter.widget-view+json": {
       "model_id": "88ad2b81f40b41cdbca1621145bd3386",
       "version_major": 2,
       "version_minor": 0
      },
      "text/plain": [
       "Train:   0%|          | 0/150 [00:00<?, ?it/s]"
      ]
     },
     "metadata": {},
     "output_type": "display_data"
    },
    {
     "name": "stdout",
     "output_type": "stream",
     "text": [
      "Epoch 40 - train loss: 0.4515 - train rmse: 0.1389 - val loss: 0.3327 - val rmse: 0.1179\n",
      "Validation MSE did not improve. Counter: 9/300\n"
     ]
    },
    {
     "data": {
      "application/vnd.jupyter.widget-view+json": {
       "model_id": "2363fcafb9a948a6a4b8d71403d6f5f6",
       "version_major": 2,
       "version_minor": 0
      },
      "text/plain": [
       "Train:   0%|          | 0/150 [00:00<?, ?it/s]"
      ]
     },
     "metadata": {},
     "output_type": "display_data"
    },
    {
     "name": "stdout",
     "output_type": "stream",
     "text": [
      "Epoch 41 - train loss: 0.4472 - train rmse: 0.1379 - val loss: 0.2756 - val rmse: 0.0994\n",
      "Validation MSE did not improve. Counter: 10/300\n"
     ]
    },
    {
     "data": {
      "application/vnd.jupyter.widget-view+json": {
       "model_id": "0dfc4a7cd39344b280c19f2475e9ac78",
       "version_major": 2,
       "version_minor": 0
      },
      "text/plain": [
       "Train:   0%|          | 0/150 [00:00<?, ?it/s]"
      ]
     },
     "metadata": {},
     "output_type": "display_data"
    },
    {
     "name": "stdout",
     "output_type": "stream",
     "text": [
      "Epoch 42 - train loss: 0.4456 - train rmse: 0.1378 - val loss: 0.3810 - val rmse: 0.1314\n",
      "Validation MSE did not improve. Counter: 11/300\n"
     ]
    },
    {
     "data": {
      "application/vnd.jupyter.widget-view+json": {
       "model_id": "0d71bed584064a48a4fd849d7980ea77",
       "version_major": 2,
       "version_minor": 0
      },
      "text/plain": [
       "Train:   0%|          | 0/150 [00:00<?, ?it/s]"
      ]
     },
     "metadata": {},
     "output_type": "display_data"
    },
    {
     "name": "stdout",
     "output_type": "stream",
     "text": [
      "Epoch 43 - train loss: 0.4504 - train rmse: 0.1387 - val loss: 0.3750 - val rmse: 0.1297\n",
      "Validation MSE did not improve. Counter: 12/300\n"
     ]
    },
    {
     "data": {
      "application/vnd.jupyter.widget-view+json": {
       "model_id": "62c33e6d4dfd49b09313cf2cfc3470a6",
       "version_major": 2,
       "version_minor": 0
      },
      "text/plain": [
       "Train:   0%|          | 0/150 [00:00<?, ?it/s]"
      ]
     },
     "metadata": {},
     "output_type": "display_data"
    },
    {
     "name": "stdout",
     "output_type": "stream",
     "text": [
      "Epoch 44 - train loss: 0.4485 - train rmse: 0.1385 - val loss: 0.2994 - val rmse: 0.1056\n",
      "Validation MSE did not improve. Counter: 13/300\n"
     ]
    },
    {
     "data": {
      "application/vnd.jupyter.widget-view+json": {
       "model_id": "035d5c2e4b5f42cf9d64ad90d44cc740",
       "version_major": 2,
       "version_minor": 0
      },
      "text/plain": [
       "Train:   0%|          | 0/150 [00:00<?, ?it/s]"
      ]
     },
     "metadata": {},
     "output_type": "display_data"
    },
    {
     "name": "stdout",
     "output_type": "stream",
     "text": [
      "Epoch 45 - train loss: 0.4438 - train rmse: 0.1375 - val loss: 0.3881 - val rmse: 0.1362\n",
      "Validation MSE did not improve. Counter: 14/300\n"
     ]
    },
    {
     "data": {
      "application/vnd.jupyter.widget-view+json": {
       "model_id": "421c1b49fde0407cbb0e9f589addbe86",
       "version_major": 2,
       "version_minor": 0
      },
      "text/plain": [
       "Train:   0%|          | 0/150 [00:00<?, ?it/s]"
      ]
     },
     "metadata": {},
     "output_type": "display_data"
    },
    {
     "name": "stdout",
     "output_type": "stream",
     "text": [
      "Epoch 46 - train loss: 0.4452 - train rmse: 0.1378 - val loss: 0.3523 - val rmse: 0.1217\n",
      "Validation MSE did not improve. Counter: 15/300\n"
     ]
    },
    {
     "data": {
      "application/vnd.jupyter.widget-view+json": {
       "model_id": "c8b5eace32f24c8a835dc4fa712dcfec",
       "version_major": 2,
       "version_minor": 0
      },
      "text/plain": [
       "Train:   0%|          | 0/150 [00:00<?, ?it/s]"
      ]
     },
     "metadata": {},
     "output_type": "display_data"
    },
    {
     "name": "stdout",
     "output_type": "stream",
     "text": [
      "Epoch 47 - train loss: 0.4387 - train rmse: 0.1370 - val loss: 0.3830 - val rmse: 0.1331\n",
      "Validation MSE did not improve. Counter: 16/300\n"
     ]
    },
    {
     "data": {
      "application/vnd.jupyter.widget-view+json": {
       "model_id": "a14bbcf3b5554052bd5eaffff76df9fc",
       "version_major": 2,
       "version_minor": 0
      },
      "text/plain": [
       "Train:   0%|          | 0/150 [00:00<?, ?it/s]"
      ]
     },
     "metadata": {},
     "output_type": "display_data"
    },
    {
     "name": "stdout",
     "output_type": "stream",
     "text": [
      "Epoch 48 - train loss: 0.4418 - train rmse: 0.1377 - val loss: 0.3595 - val rmse: 0.1262\n",
      "Validation MSE did not improve. Counter: 17/300\n"
     ]
    },
    {
     "data": {
      "application/vnd.jupyter.widget-view+json": {
       "model_id": "a668086281af49d58757352bf982a97c",
       "version_major": 2,
       "version_minor": 0
      },
      "text/plain": [
       "Train:   0%|          | 0/150 [00:00<?, ?it/s]"
      ]
     },
     "metadata": {},
     "output_type": "display_data"
    },
    {
     "name": "stdout",
     "output_type": "stream",
     "text": [
      "Epoch 49 - train loss: 0.4423 - train rmse: 0.1370 - val loss: 0.3189 - val rmse: 0.1132\n",
      "Validation MSE did not improve. Counter: 18/300\n"
     ]
    },
    {
     "data": {
      "application/vnd.jupyter.widget-view+json": {
       "model_id": "7439370ada62433a9e2fa34456c32436",
       "version_major": 2,
       "version_minor": 0
      },
      "text/plain": [
       "Train:   0%|          | 0/150 [00:00<?, ?it/s]"
      ]
     },
     "metadata": {},
     "output_type": "display_data"
    },
    {
     "name": "stdout",
     "output_type": "stream",
     "text": [
      "Epoch 50 - train loss: 0.4421 - train rmse: 0.1372 - val loss: 0.4180 - val rmse: 0.1460\n",
      "Validation MSE did not improve. Counter: 19/300\n"
     ]
    },
    {
     "data": {
      "application/vnd.jupyter.widget-view+json": {
       "model_id": "ce20eb1b2aaf4404a6cb0fb9bf5082db",
       "version_major": 2,
       "version_minor": 0
      },
      "text/plain": [
       "Train:   0%|          | 0/150 [00:00<?, ?it/s]"
      ]
     },
     "metadata": {},
     "output_type": "display_data"
    },
    {
     "name": "stdout",
     "output_type": "stream",
     "text": [
      "Epoch 51 - train loss: 0.4395 - train rmse: 0.1363 - val loss: 0.3990 - val rmse: 0.1425\n",
      "Validation MSE did not improve. Counter: 20/300\n"
     ]
    },
    {
     "data": {
      "application/vnd.jupyter.widget-view+json": {
       "model_id": "770b10c919a14d25adf130862b9299e9",
       "version_major": 2,
       "version_minor": 0
      },
      "text/plain": [
       "Train:   0%|          | 0/150 [00:00<?, ?it/s]"
      ]
     },
     "metadata": {},
     "output_type": "display_data"
    },
    {
     "name": "stdout",
     "output_type": "stream",
     "text": [
      "Epoch 52 - train loss: 0.4408 - train rmse: 0.1374 - val loss: 0.3780 - val rmse: 0.1335\n",
      "Validation MSE did not improve. Counter: 21/300\n"
     ]
    },
    {
     "data": {
      "application/vnd.jupyter.widget-view+json": {
       "model_id": "2fccb06dbcd94ff9a4807ac153bc1ece",
       "version_major": 2,
       "version_minor": 0
      },
      "text/plain": [
       "Train:   0%|          | 0/150 [00:00<?, ?it/s]"
      ]
     },
     "metadata": {},
     "output_type": "display_data"
    },
    {
     "name": "stdout",
     "output_type": "stream",
     "text": [
      "Epoch 53 - train loss: 0.4372 - train rmse: 0.1367 - val loss: 0.3323 - val rmse: 0.1164\n",
      "Validation MSE did not improve. Counter: 22/300\n"
     ]
    },
    {
     "data": {
      "application/vnd.jupyter.widget-view+json": {
       "model_id": "79210a9cdfe2497299b7e79dffd30561",
       "version_major": 2,
       "version_minor": 0
      },
      "text/plain": [
       "Train:   0%|          | 0/150 [00:00<?, ?it/s]"
      ]
     },
     "metadata": {},
     "output_type": "display_data"
    },
    {
     "name": "stdout",
     "output_type": "stream",
     "text": [
      "Epoch 54 - train loss: 0.4347 - train rmse: 0.1357 - val loss: 0.3241 - val rmse: 0.1145\n",
      "Validation MSE did not improve. Counter: 23/300\n"
     ]
    },
    {
     "data": {
      "application/vnd.jupyter.widget-view+json": {
       "model_id": "07174c38a219438b9801586a13066625",
       "version_major": 2,
       "version_minor": 0
      },
      "text/plain": [
       "Train:   0%|          | 0/150 [00:00<?, ?it/s]"
      ]
     },
     "metadata": {},
     "output_type": "display_data"
    },
    {
     "name": "stdout",
     "output_type": "stream",
     "text": [
      "Epoch 55 - train loss: 0.4412 - train rmse: 0.1365 - val loss: 0.3758 - val rmse: 0.1316\n",
      "Validation MSE did not improve. Counter: 24/300\n"
     ]
    },
    {
     "data": {
      "application/vnd.jupyter.widget-view+json": {
       "model_id": "80a86876e89d4e8a8cd51a875a5d07dd",
       "version_major": 2,
       "version_minor": 0
      },
      "text/plain": [
       "Train:   0%|          | 0/150 [00:00<?, ?it/s]"
      ]
     },
     "metadata": {},
     "output_type": "display_data"
    },
    {
     "name": "stdout",
     "output_type": "stream",
     "text": [
      "Epoch 56 - train loss: 0.4374 - train rmse: 0.1357 - val loss: 0.3142 - val rmse: 0.1121\n",
      "Validation MSE did not improve. Counter: 25/300\n"
     ]
    },
    {
     "data": {
      "application/vnd.jupyter.widget-view+json": {
       "model_id": "5b95f9166c414dfcaace221e8d069aad",
       "version_major": 2,
       "version_minor": 0
      },
      "text/plain": [
       "Train:   0%|          | 0/150 [00:00<?, ?it/s]"
      ]
     },
     "metadata": {},
     "output_type": "display_data"
    },
    {
     "name": "stdout",
     "output_type": "stream",
     "text": [
      "Epoch 57 - train loss: 0.4343 - train rmse: 0.1350 - val loss: 0.3532 - val rmse: 0.1212\n",
      "Validation MSE did not improve. Counter: 26/300\n"
     ]
    },
    {
     "data": {
      "application/vnd.jupyter.widget-view+json": {
       "model_id": "1b7abeb5191a4c49a41595aa5e2b016f",
       "version_major": 2,
       "version_minor": 0
      },
      "text/plain": [
       "Train:   0%|          | 0/150 [00:00<?, ?it/s]"
      ]
     },
     "metadata": {},
     "output_type": "display_data"
    },
    {
     "name": "stdout",
     "output_type": "stream",
     "text": [
      "Epoch 58 - train loss: 0.4363 - train rmse: 0.1355 - val loss: 0.3142 - val rmse: 0.1120\n",
      "Validation MSE did not improve. Counter: 27/300\n"
     ]
    },
    {
     "data": {
      "application/vnd.jupyter.widget-view+json": {
       "model_id": "449821a79c0c4785a0793f276086380a",
       "version_major": 2,
       "version_minor": 0
      },
      "text/plain": [
       "Train:   0%|          | 0/150 [00:00<?, ?it/s]"
      ]
     },
     "metadata": {},
     "output_type": "display_data"
    },
    {
     "name": "stdout",
     "output_type": "stream",
     "text": [
      "Epoch 59 - train loss: 0.4343 - train rmse: 0.1352 - val loss: 0.3313 - val rmse: 0.1155\n",
      "Validation MSE did not improve. Counter: 28/300\n"
     ]
    },
    {
     "data": {
      "application/vnd.jupyter.widget-view+json": {
       "model_id": "9e04fd6513394b2eae8cc00ab6b0c301",
       "version_major": 2,
       "version_minor": 0
      },
      "text/plain": [
       "Train:   0%|          | 0/150 [00:00<?, ?it/s]"
      ]
     },
     "metadata": {},
     "output_type": "display_data"
    },
    {
     "name": "stdout",
     "output_type": "stream",
     "text": [
      "Epoch 60 - train loss: 0.4332 - train rmse: 0.1352 - val loss: 0.3445 - val rmse: 0.1221\n",
      "Validation MSE did not improve. Counter: 29/300\n"
     ]
    },
    {
     "data": {
      "application/vnd.jupyter.widget-view+json": {
       "model_id": "b561c176e44d4b47b526e491137f6e6a",
       "version_major": 2,
       "version_minor": 0
      },
      "text/plain": [
       "Train:   0%|          | 0/150 [00:00<?, ?it/s]"
      ]
     },
     "metadata": {},
     "output_type": "display_data"
    },
    {
     "name": "stdout",
     "output_type": "stream",
     "text": [
      "Epoch 61 - train loss: 0.4336 - train rmse: 0.1349 - val loss: 0.3374 - val rmse: 0.1201\n",
      "Validation MSE did not improve. Counter: 30/300\n"
     ]
    },
    {
     "data": {
      "application/vnd.jupyter.widget-view+json": {
       "model_id": "30197c30b640463fb0dd8f510baa6071",
       "version_major": 2,
       "version_minor": 0
      },
      "text/plain": [
       "Train:   0%|          | 0/150 [00:00<?, ?it/s]"
      ]
     },
     "metadata": {},
     "output_type": "display_data"
    },
    {
     "name": "stdout",
     "output_type": "stream",
     "text": [
      "Epoch 62 - train loss: 0.4294 - train rmse: 0.1341 - val loss: 0.3259 - val rmse: 0.1145\n",
      "Validation MSE did not improve. Counter: 31/300\n"
     ]
    },
    {
     "data": {
      "application/vnd.jupyter.widget-view+json": {
       "model_id": "e8907c7c31fe4b5fb57e31994adc8ebd",
       "version_major": 2,
       "version_minor": 0
      },
      "text/plain": [
       "Train:   0%|          | 0/150 [00:00<?, ?it/s]"
      ]
     },
     "metadata": {},
     "output_type": "display_data"
    },
    {
     "name": "stdout",
     "output_type": "stream",
     "text": [
      "Epoch 63 - train loss: 0.4322 - train rmse: 0.1345 - val loss: 0.3309 - val rmse: 0.1169\n",
      "Validation MSE did not improve. Counter: 32/300\n"
     ]
    },
    {
     "data": {
      "application/vnd.jupyter.widget-view+json": {
       "model_id": "c0ff71afb2cc44f5bda7e476eedf8acf",
       "version_major": 2,
       "version_minor": 0
      },
      "text/plain": [
       "Train:   0%|          | 0/150 [00:00<?, ?it/s]"
      ]
     },
     "metadata": {},
     "output_type": "display_data"
    },
    {
     "name": "stdout",
     "output_type": "stream",
     "text": [
      "Epoch 64 - train loss: 0.4351 - train rmse: 0.1353 - val loss: 0.3048 - val rmse: 0.1088\n",
      "Validation MSE did not improve. Counter: 33/300\n"
     ]
    },
    {
     "data": {
      "application/vnd.jupyter.widget-view+json": {
       "model_id": "70830212b03c411fb2afdfa6700f6b7e",
       "version_major": 2,
       "version_minor": 0
      },
      "text/plain": [
       "Train:   0%|          | 0/150 [00:00<?, ?it/s]"
      ]
     },
     "metadata": {},
     "output_type": "display_data"
    },
    {
     "name": "stdout",
     "output_type": "stream",
     "text": [
      "Epoch 65 - train loss: 0.4288 - train rmse: 0.1332 - val loss: 0.3162 - val rmse: 0.1140\n",
      "Validation MSE did not improve. Counter: 34/300\n"
     ]
    },
    {
     "data": {
      "application/vnd.jupyter.widget-view+json": {
       "model_id": "8c5772b8bcb6421d9bf46245e4fe0ff4",
       "version_major": 2,
       "version_minor": 0
      },
      "text/plain": [
       "Train:   0%|          | 0/150 [00:00<?, ?it/s]"
      ]
     },
     "metadata": {},
     "output_type": "display_data"
    },
    {
     "name": "stdout",
     "output_type": "stream",
     "text": [
      "Epoch 66 - train loss: 0.4248 - train rmse: 0.1327 - val loss: 0.3470 - val rmse: 0.1235\n",
      "Validation MSE did not improve. Counter: 35/300\n"
     ]
    },
    {
     "data": {
      "application/vnd.jupyter.widget-view+json": {
       "model_id": "c2def09c1e904fca9ff12df5f86fb61a",
       "version_major": 2,
       "version_minor": 0
      },
      "text/plain": [
       "Train:   0%|          | 0/150 [00:00<?, ?it/s]"
      ]
     },
     "metadata": {},
     "output_type": "display_data"
    },
    {
     "name": "stdout",
     "output_type": "stream",
     "text": [
      "Epoch 67 - train loss: 0.4278 - train rmse: 0.1335 - val loss: 0.3384 - val rmse: 0.1224\n",
      "Validation MSE did not improve. Counter: 36/300\n"
     ]
    },
    {
     "data": {
      "application/vnd.jupyter.widget-view+json": {
       "model_id": "baed1a7f1e2343ad8e17b2f71f0e37c5",
       "version_major": 2,
       "version_minor": 0
      },
      "text/plain": [
       "Train:   0%|          | 0/150 [00:00<?, ?it/s]"
      ]
     },
     "metadata": {},
     "output_type": "display_data"
    },
    {
     "name": "stdout",
     "output_type": "stream",
     "text": [
      "Epoch 68 - train loss: 0.4251 - train rmse: 0.1324 - val loss: 0.3083 - val rmse: 0.1089\n",
      "Validation MSE did not improve. Counter: 37/300\n"
     ]
    },
    {
     "data": {
      "application/vnd.jupyter.widget-view+json": {
       "model_id": "c238acf0f9da4f4998435058cb989dc7",
       "version_major": 2,
       "version_minor": 0
      },
      "text/plain": [
       "Train:   0%|          | 0/150 [00:00<?, ?it/s]"
      ]
     },
     "metadata": {},
     "output_type": "display_data"
    },
    {
     "name": "stdout",
     "output_type": "stream",
     "text": [
      "Epoch 69 - train loss: 0.4316 - train rmse: 0.1337 - val loss: 0.3474 - val rmse: 0.1190\n",
      "Validation MSE did not improve. Counter: 38/300\n"
     ]
    },
    {
     "data": {
      "application/vnd.jupyter.widget-view+json": {
       "model_id": "0f1d417a493446a883b05cf78d2ab2f4",
       "version_major": 2,
       "version_minor": 0
      },
      "text/plain": [
       "Train:   0%|          | 0/150 [00:00<?, ?it/s]"
      ]
     },
     "metadata": {},
     "output_type": "display_data"
    },
    {
     "name": "stdout",
     "output_type": "stream",
     "text": [
      "Epoch 70 - train loss: 0.4268 - train rmse: 0.1321 - val loss: 0.2831 - val rmse: 0.1016\n",
      "Validation MSE did not improve. Counter: 39/300\n"
     ]
    },
    {
     "data": {
      "application/vnd.jupyter.widget-view+json": {
       "model_id": "27fa69d15d494e1f9f2c592c199448f6",
       "version_major": 2,
       "version_minor": 0
      },
      "text/plain": [
       "Train:   0%|          | 0/150 [00:00<?, ?it/s]"
      ]
     },
     "metadata": {},
     "output_type": "display_data"
    },
    {
     "name": "stdout",
     "output_type": "stream",
     "text": [
      "Epoch 71 - train loss: 0.4249 - train rmse: 0.1327 - val loss: 0.2554 - val rmse: 0.0902\n",
      "Validation MSE improved (0.0083 --> 0.0081). Saving model...\n"
     ]
    },
    {
     "data": {
      "application/vnd.jupyter.widget-view+json": {
       "model_id": "ec18be88a684420bb86fa4b50dc890d0",
       "version_major": 2,
       "version_minor": 0
      },
      "text/plain": [
       "Train:   0%|          | 0/150 [00:00<?, ?it/s]"
      ]
     },
     "metadata": {},
     "output_type": "display_data"
    },
    {
     "name": "stdout",
     "output_type": "stream",
     "text": [
      "Epoch 72 - train loss: 0.4203 - train rmse: 0.1311 - val loss: 0.3072 - val rmse: 0.1107\n",
      "Validation MSE did not improve. Counter: 1/300\n"
     ]
    },
    {
     "data": {
      "application/vnd.jupyter.widget-view+json": {
       "model_id": "5330f5b12f7c4002a3ef0bf4e15362f6",
       "version_major": 2,
       "version_minor": 0
      },
      "text/plain": [
       "Train:   0%|          | 0/150 [00:00<?, ?it/s]"
      ]
     },
     "metadata": {},
     "output_type": "display_data"
    },
    {
     "name": "stdout",
     "output_type": "stream",
     "text": [
      "Epoch 73 - train loss: 0.4219 - train rmse: 0.1316 - val loss: 0.3011 - val rmse: 0.1080\n",
      "Validation MSE did not improve. Counter: 2/300\n"
     ]
    },
    {
     "data": {
      "application/vnd.jupyter.widget-view+json": {
       "model_id": "3277544c9935405683c749ac7770a9ad",
       "version_major": 2,
       "version_minor": 0
      },
      "text/plain": [
       "Train:   0%|          | 0/150 [00:00<?, ?it/s]"
      ]
     },
     "metadata": {},
     "output_type": "display_data"
    },
    {
     "name": "stdout",
     "output_type": "stream",
     "text": [
      "Epoch 74 - train loss: 0.4245 - train rmse: 0.1320 - val loss: 0.3415 - val rmse: 0.1216\n",
      "Validation MSE did not improve. Counter: 3/300\n"
     ]
    },
    {
     "data": {
      "application/vnd.jupyter.widget-view+json": {
       "model_id": "f970c9df83824227be3809adf515a890",
       "version_major": 2,
       "version_minor": 0
      },
      "text/plain": [
       "Train:   0%|          | 0/150 [00:00<?, ?it/s]"
      ]
     },
     "metadata": {},
     "output_type": "display_data"
    },
    {
     "name": "stdout",
     "output_type": "stream",
     "text": [
      "Epoch 75 - train loss: 0.4261 - train rmse: 0.1329 - val loss: 0.2962 - val rmse: 0.1064\n",
      "Validation MSE did not improve. Counter: 4/300\n"
     ]
    },
    {
     "data": {
      "application/vnd.jupyter.widget-view+json": {
       "model_id": "14efd82e8c8c4906a43474a923cd21ca",
       "version_major": 2,
       "version_minor": 0
      },
      "text/plain": [
       "Train:   0%|          | 0/150 [00:00<?, ?it/s]"
      ]
     },
     "metadata": {},
     "output_type": "display_data"
    },
    {
     "name": "stdout",
     "output_type": "stream",
     "text": [
      "Epoch 76 - train loss: 0.4200 - train rmse: 0.1314 - val loss: 0.3336 - val rmse: 0.1145\n",
      "Validation MSE did not improve. Counter: 5/300\n"
     ]
    },
    {
     "data": {
      "application/vnd.jupyter.widget-view+json": {
       "model_id": "7469eaac8bf6454792d03d04ecf19630",
       "version_major": 2,
       "version_minor": 0
      },
      "text/plain": [
       "Train:   0%|          | 0/150 [00:00<?, ?it/s]"
      ]
     },
     "metadata": {},
     "output_type": "display_data"
    },
    {
     "name": "stdout",
     "output_type": "stream",
     "text": [
      "Epoch 77 - train loss: 0.4199 - train rmse: 0.1311 - val loss: 0.2894 - val rmse: 0.1042\n",
      "Validation MSE did not improve. Counter: 6/300\n"
     ]
    },
    {
     "data": {
      "application/vnd.jupyter.widget-view+json": {
       "model_id": "258f746c82cb4001ad9366940bb67bea",
       "version_major": 2,
       "version_minor": 0
      },
      "text/plain": [
       "Train:   0%|          | 0/150 [00:00<?, ?it/s]"
      ]
     },
     "metadata": {},
     "output_type": "display_data"
    },
    {
     "name": "stdout",
     "output_type": "stream",
     "text": [
      "Epoch 78 - train loss: 0.4196 - train rmse: 0.1312 - val loss: 0.3262 - val rmse: 0.1153\n",
      "Validation MSE did not improve. Counter: 7/300\n"
     ]
    },
    {
     "data": {
      "application/vnd.jupyter.widget-view+json": {
       "model_id": "304761f358b44b47b927312c6762eee1",
       "version_major": 2,
       "version_minor": 0
      },
      "text/plain": [
       "Train:   0%|          | 0/150 [00:00<?, ?it/s]"
      ]
     },
     "metadata": {},
     "output_type": "display_data"
    },
    {
     "name": "stdout",
     "output_type": "stream",
     "text": [
      "Epoch 79 - train loss: 0.4184 - train rmse: 0.1303 - val loss: 0.2917 - val rmse: 0.1051\n",
      "Validation MSE did not improve. Counter: 8/300\n"
     ]
    },
    {
     "data": {
      "application/vnd.jupyter.widget-view+json": {
       "model_id": "573e71312c4f46d38e93195bd57077fa",
       "version_major": 2,
       "version_minor": 0
      },
      "text/plain": [
       "Train:   0%|          | 0/150 [00:00<?, ?it/s]"
      ]
     },
     "metadata": {},
     "output_type": "display_data"
    },
    {
     "name": "stdout",
     "output_type": "stream",
     "text": [
      "Epoch 80 - train loss: 0.4123 - train rmse: 0.1292 - val loss: 0.3436 - val rmse: 0.1202\n",
      "Validation MSE did not improve. Counter: 9/300\n"
     ]
    },
    {
     "data": {
      "application/vnd.jupyter.widget-view+json": {
       "model_id": "5a244bb88d794d609a364ca720aa530f",
       "version_major": 2,
       "version_minor": 0
      },
      "text/plain": [
       "Train:   0%|          | 0/150 [00:00<?, ?it/s]"
      ]
     },
     "metadata": {},
     "output_type": "display_data"
    },
    {
     "name": "stdout",
     "output_type": "stream",
     "text": [
      "Epoch 81 - train loss: 0.4193 - train rmse: 0.1307 - val loss: 0.3514 - val rmse: 0.1241\n",
      "Validation MSE did not improve. Counter: 10/300\n"
     ]
    },
    {
     "data": {
      "application/vnd.jupyter.widget-view+json": {
       "model_id": "397604d7973e40abae6df1083c204b22",
       "version_major": 2,
       "version_minor": 0
      },
      "text/plain": [
       "Train:   0%|          | 0/150 [00:00<?, ?it/s]"
      ]
     },
     "metadata": {},
     "output_type": "display_data"
    },
    {
     "name": "stdout",
     "output_type": "stream",
     "text": [
      "Epoch 82 - train loss: 0.4180 - train rmse: 0.1309 - val loss: 0.2823 - val rmse: 0.1000\n",
      "Validation MSE did not improve. Counter: 11/300\n"
     ]
    },
    {
     "data": {
      "application/vnd.jupyter.widget-view+json": {
       "model_id": "b77cf003126740b783e73dbe81cf2635",
       "version_major": 2,
       "version_minor": 0
      },
      "text/plain": [
       "Train:   0%|          | 0/150 [00:00<?, ?it/s]"
      ]
     },
     "metadata": {},
     "output_type": "display_data"
    },
    {
     "name": "stdout",
     "output_type": "stream",
     "text": [
      "Epoch 83 - train loss: 0.4173 - train rmse: 0.1304 - val loss: 0.3291 - val rmse: 0.1160\n",
      "Validation MSE did not improve. Counter: 12/300\n"
     ]
    },
    {
     "data": {
      "application/vnd.jupyter.widget-view+json": {
       "model_id": "4bb21a030e784ec28e196966d8979300",
       "version_major": 2,
       "version_minor": 0
      },
      "text/plain": [
       "Train:   0%|          | 0/150 [00:00<?, ?it/s]"
      ]
     },
     "metadata": {},
     "output_type": "display_data"
    },
    {
     "name": "stdout",
     "output_type": "stream",
     "text": [
      "Epoch 84 - train loss: 0.4162 - train rmse: 0.1295 - val loss: 0.2814 - val rmse: 0.0988\n",
      "Validation MSE did not improve. Counter: 13/300\n"
     ]
    },
    {
     "data": {
      "application/vnd.jupyter.widget-view+json": {
       "model_id": "8c09151336c14b9bb4b6f8a9705e24a5",
       "version_major": 2,
       "version_minor": 0
      },
      "text/plain": [
       "Train:   0%|          | 0/150 [00:00<?, ?it/s]"
      ]
     },
     "metadata": {},
     "output_type": "display_data"
    },
    {
     "name": "stdout",
     "output_type": "stream",
     "text": [
      "Epoch 85 - train loss: 0.4098 - train rmse: 0.1283 - val loss: 0.2923 - val rmse: 0.1029\n",
      "Validation MSE did not improve. Counter: 14/300\n"
     ]
    },
    {
     "data": {
      "application/vnd.jupyter.widget-view+json": {
       "model_id": "d755d18d15eb4986b6530c973747b5c4",
       "version_major": 2,
       "version_minor": 0
      },
      "text/plain": [
       "Train:   0%|          | 0/150 [00:00<?, ?it/s]"
      ]
     },
     "metadata": {},
     "output_type": "display_data"
    },
    {
     "name": "stdout",
     "output_type": "stream",
     "text": [
      "Epoch 86 - train loss: 0.4113 - train rmse: 0.1291 - val loss: 0.3261 - val rmse: 0.1161\n",
      "Validation MSE did not improve. Counter: 15/300\n"
     ]
    },
    {
     "data": {
      "application/vnd.jupyter.widget-view+json": {
       "model_id": "cca7fed328d748a98f9a36330239ec3b",
       "version_major": 2,
       "version_minor": 0
      },
      "text/plain": [
       "Train:   0%|          | 0/150 [00:00<?, ?it/s]"
      ]
     },
     "metadata": {},
     "output_type": "display_data"
    },
    {
     "name": "stdout",
     "output_type": "stream",
     "text": [
      "Epoch 87 - train loss: 0.4141 - train rmse: 0.1290 - val loss: 0.3245 - val rmse: 0.1140\n",
      "Validation MSE did not improve. Counter: 16/300\n"
     ]
    },
    {
     "data": {
      "application/vnd.jupyter.widget-view+json": {
       "model_id": "a210df42d63c42399385dd07cedf4698",
       "version_major": 2,
       "version_minor": 0
      },
      "text/plain": [
       "Train:   0%|          | 0/150 [00:00<?, ?it/s]"
      ]
     },
     "metadata": {},
     "output_type": "display_data"
    },
    {
     "name": "stdout",
     "output_type": "stream",
     "text": [
      "Epoch 88 - train loss: 0.4110 - train rmse: 0.1285 - val loss: 0.2769 - val rmse: 0.0972\n",
      "Validation MSE did not improve. Counter: 17/300\n"
     ]
    },
    {
     "data": {
      "application/vnd.jupyter.widget-view+json": {
       "model_id": "5c75b24d35884de29614e580f6275e1c",
       "version_major": 2,
       "version_minor": 0
      },
      "text/plain": [
       "Train:   0%|          | 0/150 [00:00<?, ?it/s]"
      ]
     },
     "metadata": {},
     "output_type": "display_data"
    },
    {
     "name": "stdout",
     "output_type": "stream",
     "text": [
      "Epoch 89 - train loss: 0.4107 - train rmse: 0.1283 - val loss: 0.3224 - val rmse: 0.1122\n",
      "Validation MSE did not improve. Counter: 18/300\n"
     ]
    },
    {
     "data": {
      "application/vnd.jupyter.widget-view+json": {
       "model_id": "5cc8d4e3ddaf4471920ea4f8c9b27bce",
       "version_major": 2,
       "version_minor": 0
      },
      "text/plain": [
       "Train:   0%|          | 0/150 [00:00<?, ?it/s]"
      ]
     },
     "metadata": {},
     "output_type": "display_data"
    },
    {
     "name": "stdout",
     "output_type": "stream",
     "text": [
      "Epoch 90 - train loss: 0.4069 - train rmse: 0.1273 - val loss: 0.2801 - val rmse: 0.0990\n",
      "Validation MSE did not improve. Counter: 19/300\n"
     ]
    },
    {
     "data": {
      "application/vnd.jupyter.widget-view+json": {
       "model_id": "878dd3ba1f61418c8627a948f7360e75",
       "version_major": 2,
       "version_minor": 0
      },
      "text/plain": [
       "Train:   0%|          | 0/150 [00:00<?, ?it/s]"
      ]
     },
     "metadata": {},
     "output_type": "display_data"
    },
    {
     "name": "stdout",
     "output_type": "stream",
     "text": [
      "Epoch 91 - train loss: 0.4133 - train rmse: 0.1288 - val loss: 0.2853 - val rmse: 0.1030\n",
      "Validation MSE did not improve. Counter: 20/300\n"
     ]
    },
    {
     "data": {
      "application/vnd.jupyter.widget-view+json": {
       "model_id": "421b6c841222470b8e43e7ea6e25a4b4",
       "version_major": 2,
       "version_minor": 0
      },
      "text/plain": [
       "Train:   0%|          | 0/150 [00:00<?, ?it/s]"
      ]
     },
     "metadata": {},
     "output_type": "display_data"
    },
    {
     "name": "stdout",
     "output_type": "stream",
     "text": [
      "Epoch 92 - train loss: 0.4096 - train rmse: 0.1280 - val loss: 0.2531 - val rmse: 0.0886\n",
      "Validation MSE improved (0.0081 --> 0.0079). Saving model...\n"
     ]
    },
    {
     "data": {
      "application/vnd.jupyter.widget-view+json": {
       "model_id": "de6b6d86d2f24e67ae948b7d2f49596e",
       "version_major": 2,
       "version_minor": 0
      },
      "text/plain": [
       "Train:   0%|          | 0/150 [00:00<?, ?it/s]"
      ]
     },
     "metadata": {},
     "output_type": "display_data"
    },
    {
     "name": "stdout",
     "output_type": "stream",
     "text": [
      "Epoch 93 - train loss: 0.4075 - train rmse: 0.1275 - val loss: 0.2957 - val rmse: 0.1053\n",
      "Validation MSE did not improve. Counter: 1/300\n"
     ]
    },
    {
     "data": {
      "application/vnd.jupyter.widget-view+json": {
       "model_id": "c7c1c2b8ab964771bfe8f57b04db0dd5",
       "version_major": 2,
       "version_minor": 0
      },
      "text/plain": [
       "Train:   0%|          | 0/150 [00:00<?, ?it/s]"
      ]
     },
     "metadata": {},
     "output_type": "display_data"
    },
    {
     "name": "stdout",
     "output_type": "stream",
     "text": [
      "Epoch 94 - train loss: 0.4078 - train rmse: 0.1272 - val loss: 0.2877 - val rmse: 0.1014\n",
      "Validation MSE did not improve. Counter: 2/300\n"
     ]
    },
    {
     "data": {
      "application/vnd.jupyter.widget-view+json": {
       "model_id": "e8025e4f97ee4d148536563eb4e2e3bd",
       "version_major": 2,
       "version_minor": 0
      },
      "text/plain": [
       "Train:   0%|          | 0/150 [00:00<?, ?it/s]"
      ]
     },
     "metadata": {},
     "output_type": "display_data"
    },
    {
     "name": "stdout",
     "output_type": "stream",
     "text": [
      "Epoch 95 - train loss: 0.4111 - train rmse: 0.1279 - val loss: 0.2788 - val rmse: 0.0990\n",
      "Validation MSE did not improve. Counter: 3/300\n"
     ]
    },
    {
     "data": {
      "application/vnd.jupyter.widget-view+json": {
       "model_id": "61c531b081ce46f482a85e0e5b49340f",
       "version_major": 2,
       "version_minor": 0
      },
      "text/plain": [
       "Train:   0%|          | 0/150 [00:00<?, ?it/s]"
      ]
     },
     "metadata": {},
     "output_type": "display_data"
    },
    {
     "name": "stdout",
     "output_type": "stream",
     "text": [
      "Epoch 96 - train loss: 0.4082 - train rmse: 0.1275 - val loss: 0.2864 - val rmse: 0.1014\n",
      "Validation MSE did not improve. Counter: 4/300\n"
     ]
    },
    {
     "data": {
      "application/vnd.jupyter.widget-view+json": {
       "model_id": "383e8fd5ff034aa89d3aa0a4a5dcbd33",
       "version_major": 2,
       "version_minor": 0
      },
      "text/plain": [
       "Train:   0%|          | 0/150 [00:00<?, ?it/s]"
      ]
     },
     "metadata": {},
     "output_type": "display_data"
    },
    {
     "name": "stdout",
     "output_type": "stream",
     "text": [
      "Epoch 97 - train loss: 0.4082 - train rmse: 0.1276 - val loss: 0.2408 - val rmse: 0.0849\n",
      "Validation MSE improved (0.0079 --> 0.0072). Saving model...\n"
     ]
    },
    {
     "data": {
      "application/vnd.jupyter.widget-view+json": {
       "model_id": "99bb316f1c414da791f8ca7546df2a58",
       "version_major": 2,
       "version_minor": 0
      },
      "text/plain": [
       "Train:   0%|          | 0/150 [00:00<?, ?it/s]"
      ]
     },
     "metadata": {},
     "output_type": "display_data"
    },
    {
     "name": "stdout",
     "output_type": "stream",
     "text": [
      "Epoch 98 - train loss: 0.4069 - train rmse: 0.1275 - val loss: 0.2861 - val rmse: 0.0996\n",
      "Validation MSE did not improve. Counter: 1/300\n"
     ]
    },
    {
     "data": {
      "application/vnd.jupyter.widget-view+json": {
       "model_id": "9e00a36aa80e4cf7af186f25a516257e",
       "version_major": 2,
       "version_minor": 0
      },
      "text/plain": [
       "Train:   0%|          | 0/150 [00:00<?, ?it/s]"
      ]
     },
     "metadata": {},
     "output_type": "display_data"
    },
    {
     "name": "stdout",
     "output_type": "stream",
     "text": [
      "Epoch 99 - train loss: 0.4118 - train rmse: 0.1288 - val loss: 0.2880 - val rmse: 0.0977\n",
      "Validation MSE did not improve. Counter: 2/300\n"
     ]
    },
    {
     "data": {
      "application/vnd.jupyter.widget-view+json": {
       "model_id": "79ebef282b1b4e498d311b03f7125f41",
       "version_major": 2,
       "version_minor": 0
      },
      "text/plain": [
       "Train:   0%|          | 0/150 [00:00<?, ?it/s]"
      ]
     },
     "metadata": {},
     "output_type": "display_data"
    },
    {
     "name": "stdout",
     "output_type": "stream",
     "text": [
      "Epoch 100 - train loss: 0.4013 - train rmse: 0.1264 - val loss: 0.2893 - val rmse: 0.1012\n",
      "Validation MSE did not improve. Counter: 3/300\n"
     ]
    },
    {
     "data": {
      "application/vnd.jupyter.widget-view+json": {
       "model_id": "5f1e22d9adda40df913975b9aaf01c99",
       "version_major": 2,
       "version_minor": 0
      },
      "text/plain": [
       "Train:   0%|          | 0/150 [00:00<?, ?it/s]"
      ]
     },
     "metadata": {},
     "output_type": "display_data"
    },
    {
     "name": "stdout",
     "output_type": "stream",
     "text": [
      "Epoch 101 - train loss: 0.3995 - train rmse: 0.1256 - val loss: 0.2923 - val rmse: 0.1023\n",
      "Validation MSE did not improve. Counter: 4/300\n"
     ]
    },
    {
     "data": {
      "application/vnd.jupyter.widget-view+json": {
       "model_id": "8c3104f97542498490de465dc96b82c9",
       "version_major": 2,
       "version_minor": 0
      },
      "text/plain": [
       "Train:   0%|          | 0/150 [00:00<?, ?it/s]"
      ]
     },
     "metadata": {},
     "output_type": "display_data"
    },
    {
     "name": "stdout",
     "output_type": "stream",
     "text": [
      "Epoch 102 - train loss: 0.4041 - train rmse: 0.1258 - val loss: 0.2405 - val rmse: 0.0857\n",
      "Validation MSE did not improve. Counter: 5/300\n"
     ]
    },
    {
     "data": {
      "application/vnd.jupyter.widget-view+json": {
       "model_id": "cb61c6f333524d5189feca2e7586e1a0",
       "version_major": 2,
       "version_minor": 0
      },
      "text/plain": [
       "Train:   0%|          | 0/150 [00:00<?, ?it/s]"
      ]
     },
     "metadata": {},
     "output_type": "display_data"
    },
    {
     "name": "stdout",
     "output_type": "stream",
     "text": [
      "Epoch 103 - train loss: 0.3996 - train rmse: 0.1249 - val loss: 0.2982 - val rmse: 0.1057\n",
      "Validation MSE did not improve. Counter: 6/300\n"
     ]
    },
    {
     "data": {
      "application/vnd.jupyter.widget-view+json": {
       "model_id": "45c17199a9844faea7f867fd2f5fe425",
       "version_major": 2,
       "version_minor": 0
      },
      "text/plain": [
       "Train:   0%|          | 0/150 [00:00<?, ?it/s]"
      ]
     },
     "metadata": {},
     "output_type": "display_data"
    },
    {
     "name": "stdout",
     "output_type": "stream",
     "text": [
      "Epoch 104 - train loss: 0.3993 - train rmse: 0.1256 - val loss: 0.2893 - val rmse: 0.1045\n",
      "Validation MSE did not improve. Counter: 7/300\n"
     ]
    },
    {
     "data": {
      "application/vnd.jupyter.widget-view+json": {
       "model_id": "7d64e7ad0bc54d06995b0347b6d45642",
       "version_major": 2,
       "version_minor": 0
      },
      "text/plain": [
       "Train:   0%|          | 0/150 [00:00<?, ?it/s]"
      ]
     },
     "metadata": {},
     "output_type": "display_data"
    },
    {
     "name": "stdout",
     "output_type": "stream",
     "text": [
      "Epoch 105 - train loss: 0.4032 - train rmse: 0.1263 - val loss: 0.2609 - val rmse: 0.0922\n",
      "Validation MSE did not improve. Counter: 8/300\n"
     ]
    },
    {
     "data": {
      "application/vnd.jupyter.widget-view+json": {
       "model_id": "f323dc77588c48d9b70c6e8a4a447d4a",
       "version_major": 2,
       "version_minor": 0
      },
      "text/plain": [
       "Train:   0%|          | 0/150 [00:00<?, ?it/s]"
      ]
     },
     "metadata": {},
     "output_type": "display_data"
    },
    {
     "name": "stdout",
     "output_type": "stream",
     "text": [
      "Epoch 106 - train loss: 0.4001 - train rmse: 0.1255 - val loss: 0.2497 - val rmse: 0.0895\n",
      "Validation MSE did not improve. Counter: 9/300\n"
     ]
    },
    {
     "data": {
      "application/vnd.jupyter.widget-view+json": {
       "model_id": "8680605e7ab644baab42ccd019a516d6",
       "version_major": 2,
       "version_minor": 0
      },
      "text/plain": [
       "Train:   0%|          | 0/150 [00:00<?, ?it/s]"
      ]
     },
     "metadata": {},
     "output_type": "display_data"
    },
    {
     "name": "stdout",
     "output_type": "stream",
     "text": [
      "Epoch 107 - train loss: 0.4050 - train rmse: 0.1268 - val loss: 0.2709 - val rmse: 0.0945\n",
      "Validation MSE did not improve. Counter: 10/300\n"
     ]
    },
    {
     "data": {
      "application/vnd.jupyter.widget-view+json": {
       "model_id": "19e46c0a9de64be7a0deaf88c8f03c4a",
       "version_major": 2,
       "version_minor": 0
      },
      "text/plain": [
       "Train:   0%|          | 0/150 [00:00<?, ?it/s]"
      ]
     },
     "metadata": {},
     "output_type": "display_data"
    },
    {
     "name": "stdout",
     "output_type": "stream",
     "text": [
      "Epoch 108 - train loss: 0.3999 - train rmse: 0.1256 - val loss: 0.3093 - val rmse: 0.1086\n",
      "Validation MSE did not improve. Counter: 11/300\n"
     ]
    },
    {
     "data": {
      "application/vnd.jupyter.widget-view+json": {
       "model_id": "405d35108a934cfd8223088c60729821",
       "version_major": 2,
       "version_minor": 0
      },
      "text/plain": [
       "Train:   0%|          | 0/150 [00:00<?, ?it/s]"
      ]
     },
     "metadata": {},
     "output_type": "display_data"
    },
    {
     "name": "stdout",
     "output_type": "stream",
     "text": [
      "Epoch 109 - train loss: 0.4053 - train rmse: 0.1269 - val loss: 0.2647 - val rmse: 0.0934\n",
      "Validation MSE did not improve. Counter: 12/300\n"
     ]
    },
    {
     "data": {
      "application/vnd.jupyter.widget-view+json": {
       "model_id": "054f0e832ead421885f7ad3c831968cc",
       "version_major": 2,
       "version_minor": 0
      },
      "text/plain": [
       "Train:   0%|          | 0/150 [00:00<?, ?it/s]"
      ]
     },
     "metadata": {},
     "output_type": "display_data"
    },
    {
     "name": "stdout",
     "output_type": "stream",
     "text": [
      "Epoch 110 - train loss: 0.3988 - train rmse: 0.1242 - val loss: 0.2726 - val rmse: 0.0970\n",
      "Validation MSE did not improve. Counter: 13/300\n"
     ]
    },
    {
     "data": {
      "application/vnd.jupyter.widget-view+json": {
       "model_id": "57c98a57248c42e8a2bb3ffa97aff16e",
       "version_major": 2,
       "version_minor": 0
      },
      "text/plain": [
       "Train:   0%|          | 0/150 [00:00<?, ?it/s]"
      ]
     },
     "metadata": {},
     "output_type": "display_data"
    },
    {
     "name": "stdout",
     "output_type": "stream",
     "text": [
      "Epoch 111 - train loss: 0.3990 - train rmse: 0.1247 - val loss: 0.2505 - val rmse: 0.0875\n",
      "Validation MSE did not improve. Counter: 14/300\n"
     ]
    },
    {
     "data": {
      "application/vnd.jupyter.widget-view+json": {
       "model_id": "11835d2250394707b8415ad6859800c7",
       "version_major": 2,
       "version_minor": 0
      },
      "text/plain": [
       "Train:   0%|          | 0/150 [00:00<?, ?it/s]"
      ]
     },
     "metadata": {},
     "output_type": "display_data"
    },
    {
     "name": "stdout",
     "output_type": "stream",
     "text": [
      "Epoch 112 - train loss: 0.3988 - train rmse: 0.1252 - val loss: 0.2565 - val rmse: 0.0914\n",
      "Validation MSE did not improve. Counter: 15/300\n"
     ]
    },
    {
     "data": {
      "application/vnd.jupyter.widget-view+json": {
       "model_id": "f845622ec7144c118d915ec871494104",
       "version_major": 2,
       "version_minor": 0
      },
      "text/plain": [
       "Train:   0%|          | 0/150 [00:00<?, ?it/s]"
      ]
     },
     "metadata": {},
     "output_type": "display_data"
    },
    {
     "name": "stdout",
     "output_type": "stream",
     "text": [
      "Epoch 113 - train loss: 0.4032 - train rmse: 0.1257 - val loss: 0.2582 - val rmse: 0.0917\n",
      "Validation MSE did not improve. Counter: 16/300\n"
     ]
    },
    {
     "data": {
      "application/vnd.jupyter.widget-view+json": {
       "model_id": "b07009b1e98d49f78082ff61865de2cb",
       "version_major": 2,
       "version_minor": 0
      },
      "text/plain": [
       "Train:   0%|          | 0/150 [00:00<?, ?it/s]"
      ]
     },
     "metadata": {},
     "output_type": "display_data"
    },
    {
     "name": "stdout",
     "output_type": "stream",
     "text": [
      "Epoch 114 - train loss: 0.3983 - train rmse: 0.1254 - val loss: 0.2773 - val rmse: 0.0996\n",
      "Validation MSE did not improve. Counter: 17/300\n"
     ]
    },
    {
     "data": {
      "application/vnd.jupyter.widget-view+json": {
       "model_id": "da8ade69b5c54e5d93ad64c89aef9519",
       "version_major": 2,
       "version_minor": 0
      },
      "text/plain": [
       "Train:   0%|          | 0/150 [00:00<?, ?it/s]"
      ]
     },
     "metadata": {},
     "output_type": "display_data"
    },
    {
     "name": "stdout",
     "output_type": "stream",
     "text": [
      "Epoch 115 - train loss: 0.3970 - train rmse: 0.1242 - val loss: 0.2645 - val rmse: 0.0909\n",
      "Validation MSE did not improve. Counter: 18/300\n"
     ]
    },
    {
     "data": {
      "application/vnd.jupyter.widget-view+json": {
       "model_id": "bf34b08f61a9431386881266169929b5",
       "version_major": 2,
       "version_minor": 0
      },
      "text/plain": [
       "Train:   0%|          | 0/150 [00:00<?, ?it/s]"
      ]
     },
     "metadata": {},
     "output_type": "display_data"
    },
    {
     "name": "stdout",
     "output_type": "stream",
     "text": [
      "Epoch 116 - train loss: 0.3942 - train rmse: 0.1231 - val loss: 0.2501 - val rmse: 0.0867\n",
      "Validation MSE did not improve. Counter: 19/300\n"
     ]
    },
    {
     "data": {
      "application/vnd.jupyter.widget-view+json": {
       "model_id": "b42dc4bb7cfa43c2a68fbc63650ecc52",
       "version_major": 2,
       "version_minor": 0
      },
      "text/plain": [
       "Train:   0%|          | 0/150 [00:00<?, ?it/s]"
      ]
     },
     "metadata": {},
     "output_type": "display_data"
    },
    {
     "name": "stdout",
     "output_type": "stream",
     "text": [
      "Epoch 117 - train loss: 0.3901 - train rmse: 0.1228 - val loss: 0.2516 - val rmse: 0.0886\n",
      "Validation MSE did not improve. Counter: 20/300\n"
     ]
    },
    {
     "data": {
      "application/vnd.jupyter.widget-view+json": {
       "model_id": "9592c8d427954bb485f307785b852b27",
       "version_major": 2,
       "version_minor": 0
      },
      "text/plain": [
       "Train:   0%|          | 0/150 [00:00<?, ?it/s]"
      ]
     },
     "metadata": {},
     "output_type": "display_data"
    },
    {
     "name": "stdout",
     "output_type": "stream",
     "text": [
      "Epoch 118 - train loss: 0.3971 - train rmse: 0.1247 - val loss: 0.2496 - val rmse: 0.0885\n",
      "Validation MSE did not improve. Counter: 21/300\n"
     ]
    },
    {
     "data": {
      "application/vnd.jupyter.widget-view+json": {
       "model_id": "011bf2f2782f439485465e3c043f5510",
       "version_major": 2,
       "version_minor": 0
      },
      "text/plain": [
       "Train:   0%|          | 0/150 [00:00<?, ?it/s]"
      ]
     },
     "metadata": {},
     "output_type": "display_data"
    },
    {
     "name": "stdout",
     "output_type": "stream",
     "text": [
      "Epoch 119 - train loss: 0.4000 - train rmse: 0.1249 - val loss: 0.2585 - val rmse: 0.0909\n",
      "Validation MSE did not improve. Counter: 22/300\n"
     ]
    },
    {
     "data": {
      "application/vnd.jupyter.widget-view+json": {
       "model_id": "cb387fdfa90741e9a0e264a481dfc4ec",
       "version_major": 2,
       "version_minor": 0
      },
      "text/plain": [
       "Train:   0%|          | 0/150 [00:00<?, ?it/s]"
      ]
     },
     "metadata": {},
     "output_type": "display_data"
    },
    {
     "name": "stdout",
     "output_type": "stream",
     "text": [
      "Epoch 120 - train loss: 0.3986 - train rmse: 0.1250 - val loss: 0.2551 - val rmse: 0.0901\n",
      "Validation MSE did not improve. Counter: 23/300\n"
     ]
    },
    {
     "data": {
      "application/vnd.jupyter.widget-view+json": {
       "model_id": "46786e3954ca45d99f404a202d490543",
       "version_major": 2,
       "version_minor": 0
      },
      "text/plain": [
       "Train:   0%|          | 0/150 [00:00<?, ?it/s]"
      ]
     },
     "metadata": {},
     "output_type": "display_data"
    },
    {
     "name": "stdout",
     "output_type": "stream",
     "text": [
      "Epoch 121 - train loss: 0.3916 - train rmse: 0.1223 - val loss: 0.2813 - val rmse: 0.1013\n",
      "Validation MSE did not improve. Counter: 24/300\n"
     ]
    },
    {
     "data": {
      "application/vnd.jupyter.widget-view+json": {
       "model_id": "238ae85a98d04498a9e176a37053af1e",
       "version_major": 2,
       "version_minor": 0
      },
      "text/plain": [
       "Train:   0%|          | 0/150 [00:00<?, ?it/s]"
      ]
     },
     "metadata": {},
     "output_type": "display_data"
    },
    {
     "name": "stdout",
     "output_type": "stream",
     "text": [
      "Epoch 122 - train loss: 0.3962 - train rmse: 0.1241 - val loss: 0.2909 - val rmse: 0.1033\n",
      "Validation MSE did not improve. Counter: 25/300\n"
     ]
    },
    {
     "data": {
      "application/vnd.jupyter.widget-view+json": {
       "model_id": "878e82367582411aa6105ca5d8a2ad45",
       "version_major": 2,
       "version_minor": 0
      },
      "text/plain": [
       "Train:   0%|          | 0/150 [00:00<?, ?it/s]"
      ]
     },
     "metadata": {},
     "output_type": "display_data"
    },
    {
     "name": "stdout",
     "output_type": "stream",
     "text": [
      "Epoch 123 - train loss: 0.3908 - train rmse: 0.1223 - val loss: 0.2821 - val rmse: 0.1011\n",
      "Validation MSE did not improve. Counter: 26/300\n"
     ]
    },
    {
     "data": {
      "application/vnd.jupyter.widget-view+json": {
       "model_id": "b486b27e7044400ca4a75de10ace6c0b",
       "version_major": 2,
       "version_minor": 0
      },
      "text/plain": [
       "Train:   0%|          | 0/150 [00:00<?, ?it/s]"
      ]
     },
     "metadata": {},
     "output_type": "display_data"
    },
    {
     "name": "stdout",
     "output_type": "stream",
     "text": [
      "Epoch 124 - train loss: 0.3910 - train rmse: 0.1229 - val loss: 0.2466 - val rmse: 0.0856\n",
      "Validation MSE did not improve. Counter: 27/300\n"
     ]
    },
    {
     "data": {
      "application/vnd.jupyter.widget-view+json": {
       "model_id": "5ab0f5f0828345e781afbfc1a4e104f9",
       "version_major": 2,
       "version_minor": 0
      },
      "text/plain": [
       "Train:   0%|          | 0/150 [00:00<?, ?it/s]"
      ]
     },
     "metadata": {},
     "output_type": "display_data"
    },
    {
     "name": "stdout",
     "output_type": "stream",
     "text": [
      "Epoch 125 - train loss: 0.3941 - train rmse: 0.1235 - val loss: 0.2488 - val rmse: 0.0887\n",
      "Validation MSE did not improve. Counter: 28/300\n"
     ]
    },
    {
     "data": {
      "application/vnd.jupyter.widget-view+json": {
       "model_id": "ef4ee0d0d1d24066accd8383e593e5c2",
       "version_major": 2,
       "version_minor": 0
      },
      "text/plain": [
       "Train:   0%|          | 0/150 [00:00<?, ?it/s]"
      ]
     },
     "metadata": {},
     "output_type": "display_data"
    },
    {
     "name": "stdout",
     "output_type": "stream",
     "text": [
      "Epoch 126 - train loss: 0.3857 - train rmse: 0.1211 - val loss: 0.2529 - val rmse: 0.0878\n",
      "Validation MSE did not improve. Counter: 29/300\n"
     ]
    },
    {
     "data": {
      "application/vnd.jupyter.widget-view+json": {
       "model_id": "54378bad0aab40e9b869eaaa08e83e83",
       "version_major": 2,
       "version_minor": 0
      },
      "text/plain": [
       "Train:   0%|          | 0/150 [00:00<?, ?it/s]"
      ]
     },
     "metadata": {},
     "output_type": "display_data"
    },
    {
     "name": "stdout",
     "output_type": "stream",
     "text": [
      "Epoch 127 - train loss: 0.3952 - train rmse: 0.1237 - val loss: 0.2585 - val rmse: 0.0925\n",
      "Validation MSE did not improve. Counter: 30/300\n"
     ]
    },
    {
     "data": {
      "application/vnd.jupyter.widget-view+json": {
       "model_id": "b402b2a90a62425897138d0e0d687f5d",
       "version_major": 2,
       "version_minor": 0
      },
      "text/plain": [
       "Train:   0%|          | 0/150 [00:00<?, ?it/s]"
      ]
     },
     "metadata": {},
     "output_type": "display_data"
    },
    {
     "name": "stdout",
     "output_type": "stream",
     "text": [
      "Epoch 128 - train loss: 0.3956 - train rmse: 0.1233 - val loss: 0.2394 - val rmse: 0.0855\n",
      "Validation MSE did not improve. Counter: 31/300\n"
     ]
    },
    {
     "data": {
      "application/vnd.jupyter.widget-view+json": {
       "model_id": "8b6ba52b5e154e66b5b75513a68fc3f8",
       "version_major": 2,
       "version_minor": 0
      },
      "text/plain": [
       "Train:   0%|          | 0/150 [00:00<?, ?it/s]"
      ]
     },
     "metadata": {},
     "output_type": "display_data"
    },
    {
     "name": "stdout",
     "output_type": "stream",
     "text": [
      "Epoch 129 - train loss: 0.3879 - train rmse: 0.1221 - val loss: 0.2484 - val rmse: 0.0885\n",
      "Validation MSE did not improve. Counter: 32/300\n"
     ]
    },
    {
     "data": {
      "application/vnd.jupyter.widget-view+json": {
       "model_id": "6d9ab345d7d24031b1c78c7feb38e5d8",
       "version_major": 2,
       "version_minor": 0
      },
      "text/plain": [
       "Train:   0%|          | 0/150 [00:00<?, ?it/s]"
      ]
     },
     "metadata": {},
     "output_type": "display_data"
    },
    {
     "name": "stdout",
     "output_type": "stream",
     "text": [
      "Epoch 130 - train loss: 0.3925 - train rmse: 0.1228 - val loss: 0.2477 - val rmse: 0.0872\n",
      "Validation MSE did not improve. Counter: 33/300\n"
     ]
    },
    {
     "data": {
      "application/vnd.jupyter.widget-view+json": {
       "model_id": "6d2510a524234ac0856b5b3bd40ccf40",
       "version_major": 2,
       "version_minor": 0
      },
      "text/plain": [
       "Train:   0%|          | 0/150 [00:00<?, ?it/s]"
      ]
     },
     "metadata": {},
     "output_type": "display_data"
    },
    {
     "name": "stdout",
     "output_type": "stream",
     "text": [
      "Epoch 131 - train loss: 0.3955 - train rmse: 0.1229 - val loss: 0.2152 - val rmse: 0.0741\n",
      "Validation MSE improved (0.0072 --> 0.0055). Saving model...\n"
     ]
    },
    {
     "data": {
      "application/vnd.jupyter.widget-view+json": {
       "model_id": "f9fd99ce3d2a49788cc1da887496e9c6",
       "version_major": 2,
       "version_minor": 0
      },
      "text/plain": [
       "Train:   0%|          | 0/150 [00:00<?, ?it/s]"
      ]
     },
     "metadata": {},
     "output_type": "display_data"
    },
    {
     "name": "stdout",
     "output_type": "stream",
     "text": [
      "Epoch 132 - train loss: 0.3928 - train rmse: 0.1237 - val loss: 0.2391 - val rmse: 0.0846\n",
      "Validation MSE did not improve. Counter: 1/300\n"
     ]
    },
    {
     "data": {
      "application/vnd.jupyter.widget-view+json": {
       "model_id": "6272810742d14a5b9ea1ce573639975c",
       "version_major": 2,
       "version_minor": 0
      },
      "text/plain": [
       "Train:   0%|          | 0/150 [00:00<?, ?it/s]"
      ]
     },
     "metadata": {},
     "output_type": "display_data"
    },
    {
     "name": "stdout",
     "output_type": "stream",
     "text": [
      "Epoch 133 - train loss: 0.3923 - train rmse: 0.1223 - val loss: 0.2791 - val rmse: 0.0987\n",
      "Validation MSE did not improve. Counter: 2/300\n"
     ]
    },
    {
     "data": {
      "application/vnd.jupyter.widget-view+json": {
       "model_id": "41b384d1028a49a3930e6d7966b002fe",
       "version_major": 2,
       "version_minor": 0
      },
      "text/plain": [
       "Train:   0%|          | 0/150 [00:00<?, ?it/s]"
      ]
     },
     "metadata": {},
     "output_type": "display_data"
    },
    {
     "name": "stdout",
     "output_type": "stream",
     "text": [
      "Epoch 134 - train loss: 0.3872 - train rmse: 0.1214 - val loss: 0.2557 - val rmse: 0.0912\n",
      "Validation MSE did not improve. Counter: 3/300\n"
     ]
    },
    {
     "data": {
      "application/vnd.jupyter.widget-view+json": {
       "model_id": "cb580f02f3844654b41473e632f167ef",
       "version_major": 2,
       "version_minor": 0
      },
      "text/plain": [
       "Train:   0%|          | 0/150 [00:00<?, ?it/s]"
      ]
     },
     "metadata": {},
     "output_type": "display_data"
    },
    {
     "name": "stdout",
     "output_type": "stream",
     "text": [
      "Epoch 135 - train loss: 0.3919 - train rmse: 0.1225 - val loss: 0.2388 - val rmse: 0.0830\n",
      "Validation MSE did not improve. Counter: 4/300\n"
     ]
    },
    {
     "data": {
      "application/vnd.jupyter.widget-view+json": {
       "model_id": "268800205ceb428a8efdaa0d6e2d64dc",
       "version_major": 2,
       "version_minor": 0
      },
      "text/plain": [
       "Train:   0%|          | 0/150 [00:00<?, ?it/s]"
      ]
     },
     "metadata": {},
     "output_type": "display_data"
    },
    {
     "name": "stdout",
     "output_type": "stream",
     "text": [
      "Epoch 136 - train loss: 0.3903 - train rmse: 0.1219 - val loss: 0.2333 - val rmse: 0.0811\n",
      "Validation MSE did not improve. Counter: 5/300\n"
     ]
    },
    {
     "data": {
      "application/vnd.jupyter.widget-view+json": {
       "model_id": "170a74c2199c4c00a34d26533e017db5",
       "version_major": 2,
       "version_minor": 0
      },
      "text/plain": [
       "Train:   0%|          | 0/150 [00:00<?, ?it/s]"
      ]
     },
     "metadata": {},
     "output_type": "display_data"
    },
    {
     "name": "stdout",
     "output_type": "stream",
     "text": [
      "Epoch 137 - train loss: 0.3863 - train rmse: 0.1207 - val loss: 0.2670 - val rmse: 0.0950\n",
      "Validation MSE did not improve. Counter: 6/300\n"
     ]
    },
    {
     "data": {
      "application/vnd.jupyter.widget-view+json": {
       "model_id": "a7585bbfe0df485285ea9a8a1c3c309b",
       "version_major": 2,
       "version_minor": 0
      },
      "text/plain": [
       "Train:   0%|          | 0/150 [00:00<?, ?it/s]"
      ]
     },
     "metadata": {},
     "output_type": "display_data"
    },
    {
     "name": "stdout",
     "output_type": "stream",
     "text": [
      "Epoch 138 - train loss: 0.3916 - train rmse: 0.1224 - val loss: 0.2272 - val rmse: 0.0793\n",
      "Validation MSE did not improve. Counter: 7/300\n"
     ]
    },
    {
     "data": {
      "application/vnd.jupyter.widget-view+json": {
       "model_id": "796dec59af294b27a049cfed3caa40b8",
       "version_major": 2,
       "version_minor": 0
      },
      "text/plain": [
       "Train:   0%|          | 0/150 [00:00<?, ?it/s]"
      ]
     },
     "metadata": {},
     "output_type": "display_data"
    },
    {
     "name": "stdout",
     "output_type": "stream",
     "text": [
      "Epoch 139 - train loss: 0.3918 - train rmse: 0.1228 - val loss: 0.2459 - val rmse: 0.0874\n",
      "Validation MSE did not improve. Counter: 8/300\n"
     ]
    },
    {
     "data": {
      "application/vnd.jupyter.widget-view+json": {
       "model_id": "e2c23c84006548368f4c5516dad998de",
       "version_major": 2,
       "version_minor": 0
      },
      "text/plain": [
       "Train:   0%|          | 0/150 [00:00<?, ?it/s]"
      ]
     },
     "metadata": {},
     "output_type": "display_data"
    },
    {
     "name": "stdout",
     "output_type": "stream",
     "text": [
      "Epoch 140 - train loss: 0.3905 - train rmse: 0.1219 - val loss: 0.2611 - val rmse: 0.0937\n",
      "Validation MSE did not improve. Counter: 9/300\n"
     ]
    },
    {
     "data": {
      "application/vnd.jupyter.widget-view+json": {
       "model_id": "590f82fc0fa5468db4a3a958817679f7",
       "version_major": 2,
       "version_minor": 0
      },
      "text/plain": [
       "Train:   0%|          | 0/150 [00:00<?, ?it/s]"
      ]
     },
     "metadata": {},
     "output_type": "display_data"
    },
    {
     "name": "stdout",
     "output_type": "stream",
     "text": [
      "Epoch 141 - train loss: 0.3833 - train rmse: 0.1200 - val loss: 0.2457 - val rmse: 0.0859\n",
      "Validation MSE did not improve. Counter: 10/300\n"
     ]
    },
    {
     "data": {
      "application/vnd.jupyter.widget-view+json": {
       "model_id": "c89178a6efbc404cba15edaa05cab954",
       "version_major": 2,
       "version_minor": 0
      },
      "text/plain": [
       "Train:   0%|          | 0/150 [00:00<?, ?it/s]"
      ]
     },
     "metadata": {},
     "output_type": "display_data"
    },
    {
     "name": "stdout",
     "output_type": "stream",
     "text": [
      "Epoch 142 - train loss: 0.3852 - train rmse: 0.1204 - val loss: 0.2509 - val rmse: 0.0894\n",
      "Validation MSE did not improve. Counter: 11/300\n"
     ]
    },
    {
     "data": {
      "application/vnd.jupyter.widget-view+json": {
       "model_id": "00730dc6d7de48449f6993cea4b8365d",
       "version_major": 2,
       "version_minor": 0
      },
      "text/plain": [
       "Train:   0%|          | 0/150 [00:00<?, ?it/s]"
      ]
     },
     "metadata": {},
     "output_type": "display_data"
    },
    {
     "name": "stdout",
     "output_type": "stream",
     "text": [
      "Epoch 143 - train loss: 0.3895 - train rmse: 0.1216 - val loss: 0.2234 - val rmse: 0.0798\n",
      "Validation MSE did not improve. Counter: 12/300\n"
     ]
    },
    {
     "data": {
      "application/vnd.jupyter.widget-view+json": {
       "model_id": "88c1bf3fc71f4df795729996142516b6",
       "version_major": 2,
       "version_minor": 0
      },
      "text/plain": [
       "Train:   0%|          | 0/150 [00:00<?, ?it/s]"
      ]
     },
     "metadata": {},
     "output_type": "display_data"
    },
    {
     "name": "stdout",
     "output_type": "stream",
     "text": [
      "Epoch 144 - train loss: 0.3834 - train rmse: 0.1198 - val loss: 0.2439 - val rmse: 0.0865\n",
      "Validation MSE did not improve. Counter: 13/300\n"
     ]
    },
    {
     "data": {
      "application/vnd.jupyter.widget-view+json": {
       "model_id": "9245b3d8718c4375bbf8098b397d83c3",
       "version_major": 2,
       "version_minor": 0
      },
      "text/plain": [
       "Train:   0%|          | 0/150 [00:00<?, ?it/s]"
      ]
     },
     "metadata": {},
     "output_type": "display_data"
    },
    {
     "name": "stdout",
     "output_type": "stream",
     "text": [
      "Epoch 145 - train loss: 0.3871 - train rmse: 0.1217 - val loss: 0.2258 - val rmse: 0.0798\n",
      "Validation MSE did not improve. Counter: 14/300\n"
     ]
    },
    {
     "data": {
      "application/vnd.jupyter.widget-view+json": {
       "model_id": "3a893271bd334305a3088dbadbd70c0c",
       "version_major": 2,
       "version_minor": 0
      },
      "text/plain": [
       "Train:   0%|          | 0/150 [00:00<?, ?it/s]"
      ]
     },
     "metadata": {},
     "output_type": "display_data"
    },
    {
     "name": "stdout",
     "output_type": "stream",
     "text": [
      "Epoch 146 - train loss: 0.3854 - train rmse: 0.1207 - val loss: 0.2344 - val rmse: 0.0816\n",
      "Validation MSE did not improve. Counter: 15/300\n"
     ]
    },
    {
     "data": {
      "application/vnd.jupyter.widget-view+json": {
       "model_id": "8b79b24b1bc64c01b731e5a9906f6fe4",
       "version_major": 2,
       "version_minor": 0
      },
      "text/plain": [
       "Train:   0%|          | 0/150 [00:00<?, ?it/s]"
      ]
     },
     "metadata": {},
     "output_type": "display_data"
    },
    {
     "name": "stdout",
     "output_type": "stream",
     "text": [
      "Epoch 147 - train loss: 0.3853 - train rmse: 0.1209 - val loss: 0.2363 - val rmse: 0.0830\n",
      "Validation MSE did not improve. Counter: 16/300\n"
     ]
    },
    {
     "data": {
      "application/vnd.jupyter.widget-view+json": {
       "model_id": "bedfe1dc11324a92b8961ce4ae65fa39",
       "version_major": 2,
       "version_minor": 0
      },
      "text/plain": [
       "Train:   0%|          | 0/150 [00:00<?, ?it/s]"
      ]
     },
     "metadata": {},
     "output_type": "display_data"
    },
    {
     "name": "stdout",
     "output_type": "stream",
     "text": [
      "Epoch 148 - train loss: 0.3868 - train rmse: 0.1211 - val loss: 0.2253 - val rmse: 0.0809\n",
      "Validation MSE did not improve. Counter: 17/300\n"
     ]
    },
    {
     "data": {
      "application/vnd.jupyter.widget-view+json": {
       "model_id": "0380cf51311e4438928607b1e09c80ad",
       "version_major": 2,
       "version_minor": 0
      },
      "text/plain": [
       "Train:   0%|          | 0/150 [00:00<?, ?it/s]"
      ]
     },
     "metadata": {},
     "output_type": "display_data"
    },
    {
     "name": "stdout",
     "output_type": "stream",
     "text": [
      "Epoch 149 - train loss: 0.3810 - train rmse: 0.1198 - val loss: 0.2390 - val rmse: 0.0857\n",
      "Validation MSE did not improve. Counter: 18/300\n"
     ]
    },
    {
     "data": {
      "application/vnd.jupyter.widget-view+json": {
       "model_id": "b4be339be0064641823de91ebe7bbbbc",
       "version_major": 2,
       "version_minor": 0
      },
      "text/plain": [
       "Train:   0%|          | 0/150 [00:00<?, ?it/s]"
      ]
     },
     "metadata": {},
     "output_type": "display_data"
    },
    {
     "name": "stdout",
     "output_type": "stream",
     "text": [
      "Epoch 150 - train loss: 0.3827 - train rmse: 0.1203 - val loss: 0.2266 - val rmse: 0.0807\n",
      "Validation MSE did not improve. Counter: 19/300\n"
     ]
    },
    {
     "data": {
      "application/vnd.jupyter.widget-view+json": {
       "model_id": "a60e96def92a473b8950dc3d4ef7921b",
       "version_major": 2,
       "version_minor": 0
      },
      "text/plain": [
       "Train:   0%|          | 0/150 [00:00<?, ?it/s]"
      ]
     },
     "metadata": {},
     "output_type": "display_data"
    },
    {
     "name": "stdout",
     "output_type": "stream",
     "text": [
      "Epoch 151 - train loss: 0.3799 - train rmse: 0.1198 - val loss: 0.2398 - val rmse: 0.0856\n",
      "Validation MSE did not improve. Counter: 20/300\n"
     ]
    },
    {
     "data": {
      "application/vnd.jupyter.widget-view+json": {
       "model_id": "1c2ebb5cc29f48619326dcfa57468da2",
       "version_major": 2,
       "version_minor": 0
      },
      "text/plain": [
       "Train:   0%|          | 0/150 [00:00<?, ?it/s]"
      ]
     },
     "metadata": {},
     "output_type": "display_data"
    },
    {
     "name": "stdout",
     "output_type": "stream",
     "text": [
      "Epoch 152 - train loss: 0.3827 - train rmse: 0.1200 - val loss: 0.2908 - val rmse: 0.1032\n",
      "Validation MSE did not improve. Counter: 21/300\n"
     ]
    },
    {
     "data": {
      "application/vnd.jupyter.widget-view+json": {
       "model_id": "68f81e69f9dc49638e2d8cc751d1b232",
       "version_major": 2,
       "version_minor": 0
      },
      "text/plain": [
       "Train:   0%|          | 0/150 [00:00<?, ?it/s]"
      ]
     },
     "metadata": {},
     "output_type": "display_data"
    },
    {
     "name": "stdout",
     "output_type": "stream",
     "text": [
      "Epoch 153 - train loss: 0.3758 - train rmse: 0.1184 - val loss: 0.2512 - val rmse: 0.0902\n",
      "Validation MSE did not improve. Counter: 22/300\n"
     ]
    },
    {
     "data": {
      "application/vnd.jupyter.widget-view+json": {
       "model_id": "737d49d624da43d381a65b418ac2300c",
       "version_major": 2,
       "version_minor": 0
      },
      "text/plain": [
       "Train:   0%|          | 0/150 [00:00<?, ?it/s]"
      ]
     },
     "metadata": {},
     "output_type": "display_data"
    },
    {
     "name": "stdout",
     "output_type": "stream",
     "text": [
      "Epoch 154 - train loss: 0.3788 - train rmse: 0.1195 - val loss: 0.2425 - val rmse: 0.0856\n",
      "Validation MSE did not improve. Counter: 23/300\n"
     ]
    },
    {
     "data": {
      "application/vnd.jupyter.widget-view+json": {
       "model_id": "b5a149ca0c654b10b012b4a93e9f686c",
       "version_major": 2,
       "version_minor": 0
      },
      "text/plain": [
       "Train:   0%|          | 0/150 [00:00<?, ?it/s]"
      ]
     },
     "metadata": {},
     "output_type": "display_data"
    },
    {
     "name": "stdout",
     "output_type": "stream",
     "text": [
      "Epoch 155 - train loss: 0.3843 - train rmse: 0.1207 - val loss: 0.2346 - val rmse: 0.0833\n",
      "Validation MSE did not improve. Counter: 24/300\n"
     ]
    },
    {
     "data": {
      "application/vnd.jupyter.widget-view+json": {
       "model_id": "133c7b938e4c428fa910ac68868bfed4",
       "version_major": 2,
       "version_minor": 0
      },
      "text/plain": [
       "Train:   0%|          | 0/150 [00:00<?, ?it/s]"
      ]
     },
     "metadata": {},
     "output_type": "display_data"
    },
    {
     "name": "stdout",
     "output_type": "stream",
     "text": [
      "Epoch 156 - train loss: 0.3823 - train rmse: 0.1200 - val loss: 0.2289 - val rmse: 0.0797\n",
      "Validation MSE did not improve. Counter: 25/300\n"
     ]
    },
    {
     "data": {
      "application/vnd.jupyter.widget-view+json": {
       "model_id": "4da7253cb47544c2b45519d487728a61",
       "version_major": 2,
       "version_minor": 0
      },
      "text/plain": [
       "Train:   0%|          | 0/150 [00:00<?, ?it/s]"
      ]
     },
     "metadata": {},
     "output_type": "display_data"
    },
    {
     "name": "stdout",
     "output_type": "stream",
     "text": [
      "Epoch 157 - train loss: 0.3816 - train rmse: 0.1192 - val loss: 0.2237 - val rmse: 0.0789\n",
      "Validation MSE did not improve. Counter: 26/300\n"
     ]
    },
    {
     "data": {
      "application/vnd.jupyter.widget-view+json": {
       "model_id": "b0fde11711e743feaf8e7d8355ad10b1",
       "version_major": 2,
       "version_minor": 0
      },
      "text/plain": [
       "Train:   0%|          | 0/150 [00:00<?, ?it/s]"
      ]
     },
     "metadata": {},
     "output_type": "display_data"
    },
    {
     "name": "stdout",
     "output_type": "stream",
     "text": [
      "Epoch 158 - train loss: 0.3811 - train rmse: 0.1190 - val loss: 0.2156 - val rmse: 0.0757\n",
      "Validation MSE did not improve. Counter: 27/300\n"
     ]
    },
    {
     "data": {
      "application/vnd.jupyter.widget-view+json": {
       "model_id": "eb72dace5e5744e98df03b5daf282c9f",
       "version_major": 2,
       "version_minor": 0
      },
      "text/plain": [
       "Train:   0%|          | 0/150 [00:00<?, ?it/s]"
      ]
     },
     "metadata": {},
     "output_type": "display_data"
    },
    {
     "name": "stdout",
     "output_type": "stream",
     "text": [
      "Epoch 159 - train loss: 0.3784 - train rmse: 0.1189 - val loss: 0.2264 - val rmse: 0.0780\n",
      "Validation MSE did not improve. Counter: 28/300\n"
     ]
    },
    {
     "data": {
      "application/vnd.jupyter.widget-view+json": {
       "model_id": "7972bdaa89aa4d95bd69532f8a96e7b5",
       "version_major": 2,
       "version_minor": 0
      },
      "text/plain": [
       "Train:   0%|          | 0/150 [00:00<?, ?it/s]"
      ]
     },
     "metadata": {},
     "output_type": "display_data"
    },
    {
     "name": "stdout",
     "output_type": "stream",
     "text": [
      "Epoch 160 - train loss: 0.3788 - train rmse: 0.1192 - val loss: 0.2224 - val rmse: 0.0782\n",
      "Validation MSE did not improve. Counter: 29/300\n"
     ]
    },
    {
     "data": {
      "application/vnd.jupyter.widget-view+json": {
       "model_id": "0513b59ec5664e20a6425a483a96fd94",
       "version_major": 2,
       "version_minor": 0
      },
      "text/plain": [
       "Train:   0%|          | 0/150 [00:00<?, ?it/s]"
      ]
     },
     "metadata": {},
     "output_type": "display_data"
    },
    {
     "name": "stdout",
     "output_type": "stream",
     "text": [
      "Epoch 161 - train loss: 0.3812 - train rmse: 0.1195 - val loss: 0.2478 - val rmse: 0.0878\n",
      "Validation MSE did not improve. Counter: 30/300\n"
     ]
    },
    {
     "data": {
      "application/vnd.jupyter.widget-view+json": {
       "model_id": "b8d51bb13f9d4c2ca3040b4593b5dc09",
       "version_major": 2,
       "version_minor": 0
      },
      "text/plain": [
       "Train:   0%|          | 0/150 [00:00<?, ?it/s]"
      ]
     },
     "metadata": {},
     "output_type": "display_data"
    },
    {
     "name": "stdout",
     "output_type": "stream",
     "text": [
      "Epoch 162 - train loss: 0.3811 - train rmse: 0.1194 - val loss: 0.2330 - val rmse: 0.0819\n",
      "Validation MSE did not improve. Counter: 31/300\n"
     ]
    },
    {
     "data": {
      "application/vnd.jupyter.widget-view+json": {
       "model_id": "12e33c4b5ddc4350baffe2d7da5cdb2d",
       "version_major": 2,
       "version_minor": 0
      },
      "text/plain": [
       "Train:   0%|          | 0/150 [00:00<?, ?it/s]"
      ]
     },
     "metadata": {},
     "output_type": "display_data"
    },
    {
     "name": "stdout",
     "output_type": "stream",
     "text": [
      "Epoch 163 - train loss: 0.3787 - train rmse: 0.1188 - val loss: 0.2424 - val rmse: 0.0853\n",
      "Validation MSE did not improve. Counter: 32/300\n"
     ]
    },
    {
     "data": {
      "application/vnd.jupyter.widget-view+json": {
       "model_id": "32a6505f40864fbba4e3efa82576e5b7",
       "version_major": 2,
       "version_minor": 0
      },
      "text/plain": [
       "Train:   0%|          | 0/150 [00:00<?, ?it/s]"
      ]
     },
     "metadata": {},
     "output_type": "display_data"
    },
    {
     "name": "stdout",
     "output_type": "stream",
     "text": [
      "Epoch 164 - train loss: 0.3747 - train rmse: 0.1176 - val loss: 0.2248 - val rmse: 0.0809\n",
      "Validation MSE did not improve. Counter: 33/300\n"
     ]
    },
    {
     "data": {
      "application/vnd.jupyter.widget-view+json": {
       "model_id": "5ec3efb2993545adb2ef22f35cf090bd",
       "version_major": 2,
       "version_minor": 0
      },
      "text/plain": [
       "Train:   0%|          | 0/150 [00:00<?, ?it/s]"
      ]
     },
     "metadata": {},
     "output_type": "display_data"
    },
    {
     "name": "stdout",
     "output_type": "stream",
     "text": [
      "Epoch 165 - train loss: 0.3737 - train rmse: 0.1178 - val loss: 0.2346 - val rmse: 0.0829\n",
      "Validation MSE did not improve. Counter: 34/300\n"
     ]
    },
    {
     "data": {
      "application/vnd.jupyter.widget-view+json": {
       "model_id": "c91f7581c4d4462d8b545f243e7606a9",
       "version_major": 2,
       "version_minor": 0
      },
      "text/plain": [
       "Train:   0%|          | 0/150 [00:00<?, ?it/s]"
      ]
     },
     "metadata": {},
     "output_type": "display_data"
    },
    {
     "name": "stdout",
     "output_type": "stream",
     "text": [
      "Epoch 166 - train loss: 0.3736 - train rmse: 0.1171 - val loss: 0.2408 - val rmse: 0.0857\n",
      "Validation MSE did not improve. Counter: 35/300\n"
     ]
    },
    {
     "data": {
      "application/vnd.jupyter.widget-view+json": {
       "model_id": "b536d51ae6794612bf142cfd23073940",
       "version_major": 2,
       "version_minor": 0
      },
      "text/plain": [
       "Train:   0%|          | 0/150 [00:00<?, ?it/s]"
      ]
     },
     "metadata": {},
     "output_type": "display_data"
    },
    {
     "name": "stdout",
     "output_type": "stream",
     "text": [
      "Epoch 167 - train loss: 0.3772 - train rmse: 0.1188 - val loss: 0.2362 - val rmse: 0.0834\n",
      "Validation MSE did not improve. Counter: 36/300\n"
     ]
    },
    {
     "data": {
      "application/vnd.jupyter.widget-view+json": {
       "model_id": "8a1776539c8e45f990be2a070f85f9a1",
       "version_major": 2,
       "version_minor": 0
      },
      "text/plain": [
       "Train:   0%|          | 0/150 [00:00<?, ?it/s]"
      ]
     },
     "metadata": {},
     "output_type": "display_data"
    },
    {
     "name": "stdout",
     "output_type": "stream",
     "text": [
      "Epoch 168 - train loss: 0.3757 - train rmse: 0.1178 - val loss: 0.2266 - val rmse: 0.0795\n",
      "Validation MSE did not improve. Counter: 37/300\n"
     ]
    },
    {
     "data": {
      "application/vnd.jupyter.widget-view+json": {
       "model_id": "2716a1b9e85441fd8277b22be6b788f8",
       "version_major": 2,
       "version_minor": 0
      },
      "text/plain": [
       "Train:   0%|          | 0/150 [00:00<?, ?it/s]"
      ]
     },
     "metadata": {},
     "output_type": "display_data"
    },
    {
     "name": "stdout",
     "output_type": "stream",
     "text": [
      "Epoch 169 - train loss: 0.3789 - train rmse: 0.1192 - val loss: 0.2130 - val rmse: 0.0754\n",
      "Validation MSE did not improve. Counter: 38/300\n"
     ]
    },
    {
     "data": {
      "application/vnd.jupyter.widget-view+json": {
       "model_id": "5251158a58a44169af1e4d78c22f4363",
       "version_major": 2,
       "version_minor": 0
      },
      "text/plain": [
       "Train:   0%|          | 0/150 [00:00<?, ?it/s]"
      ]
     },
     "metadata": {},
     "output_type": "display_data"
    },
    {
     "name": "stdout",
     "output_type": "stream",
     "text": [
      "Epoch 170 - train loss: 0.3760 - train rmse: 0.1181 - val loss: 0.2304 - val rmse: 0.0831\n",
      "Validation MSE did not improve. Counter: 39/300\n"
     ]
    },
    {
     "data": {
      "application/vnd.jupyter.widget-view+json": {
       "model_id": "728975e8c08a42a099470e8f24ff7954",
       "version_major": 2,
       "version_minor": 0
      },
      "text/plain": [
       "Train:   0%|          | 0/150 [00:00<?, ?it/s]"
      ]
     },
     "metadata": {},
     "output_type": "display_data"
    },
    {
     "name": "stdout",
     "output_type": "stream",
     "text": [
      "Epoch 171 - train loss: 0.3705 - train rmse: 0.1169 - val loss: 0.2425 - val rmse: 0.0866\n",
      "Validation MSE did not improve. Counter: 40/300\n"
     ]
    },
    {
     "data": {
      "application/vnd.jupyter.widget-view+json": {
       "model_id": "05accc93cbd84cc2adc7bafe2ac17994",
       "version_major": 2,
       "version_minor": 0
      },
      "text/plain": [
       "Train:   0%|          | 0/150 [00:00<?, ?it/s]"
      ]
     },
     "metadata": {},
     "output_type": "display_data"
    },
    {
     "name": "stdout",
     "output_type": "stream",
     "text": [
      "Epoch 172 - train loss: 0.3801 - train rmse: 0.1193 - val loss: 0.2275 - val rmse: 0.0823\n",
      "Validation MSE did not improve. Counter: 41/300\n"
     ]
    },
    {
     "data": {
      "application/vnd.jupyter.widget-view+json": {
       "model_id": "fd23bcbb66924490b6cfb47cdafb41bb",
       "version_major": 2,
       "version_minor": 0
      },
      "text/plain": [
       "Train:   0%|          | 0/150 [00:00<?, ?it/s]"
      ]
     },
     "metadata": {},
     "output_type": "display_data"
    },
    {
     "name": "stdout",
     "output_type": "stream",
     "text": [
      "Epoch 173 - train loss: 0.3738 - train rmse: 0.1176 - val loss: 0.2469 - val rmse: 0.0881\n",
      "Validation MSE did not improve. Counter: 42/300\n"
     ]
    },
    {
     "data": {
      "application/vnd.jupyter.widget-view+json": {
       "model_id": "86ebe7748dc142669266fc03aed03744",
       "version_major": 2,
       "version_minor": 0
      },
      "text/plain": [
       "Train:   0%|          | 0/150 [00:00<?, ?it/s]"
      ]
     },
     "metadata": {},
     "output_type": "display_data"
    },
    {
     "name": "stdout",
     "output_type": "stream",
     "text": [
      "Epoch 174 - train loss: 0.3806 - train rmse: 0.1198 - val loss: 0.2229 - val rmse: 0.0786\n",
      "Validation MSE did not improve. Counter: 43/300\n"
     ]
    },
    {
     "data": {
      "application/vnd.jupyter.widget-view+json": {
       "model_id": "7b4d3293f5b240f78a93f806b9a06eab",
       "version_major": 2,
       "version_minor": 0
      },
      "text/plain": [
       "Train:   0%|          | 0/150 [00:00<?, ?it/s]"
      ]
     },
     "metadata": {},
     "output_type": "display_data"
    },
    {
     "name": "stdout",
     "output_type": "stream",
     "text": [
      "Epoch 175 - train loss: 0.3789 - train rmse: 0.1188 - val loss: 0.2205 - val rmse: 0.0789\n",
      "Validation MSE did not improve. Counter: 44/300\n"
     ]
    },
    {
     "data": {
      "application/vnd.jupyter.widget-view+json": {
       "model_id": "3d124f978416469988db8b8cd2bfac7c",
       "version_major": 2,
       "version_minor": 0
      },
      "text/plain": [
       "Train:   0%|          | 0/150 [00:00<?, ?it/s]"
      ]
     },
     "metadata": {},
     "output_type": "display_data"
    },
    {
     "name": "stdout",
     "output_type": "stream",
     "text": [
      "Epoch 176 - train loss: 0.3732 - train rmse: 0.1178 - val loss: 0.2154 - val rmse: 0.0751\n",
      "Validation MSE did not improve. Counter: 45/300\n"
     ]
    },
    {
     "data": {
      "application/vnd.jupyter.widget-view+json": {
       "model_id": "8aea32e86b8944f5a958775cfb294d80",
       "version_major": 2,
       "version_minor": 0
      },
      "text/plain": [
       "Train:   0%|          | 0/150 [00:00<?, ?it/s]"
      ]
     },
     "metadata": {},
     "output_type": "display_data"
    },
    {
     "name": "stdout",
     "output_type": "stream",
     "text": [
      "Epoch 177 - train loss: 0.3708 - train rmse: 0.1168 - val loss: 0.2210 - val rmse: 0.0786\n",
      "Validation MSE did not improve. Counter: 46/300\n"
     ]
    },
    {
     "data": {
      "application/vnd.jupyter.widget-view+json": {
       "model_id": "af42d76ec5424168995a2986a319f9df",
       "version_major": 2,
       "version_minor": 0
      },
      "text/plain": [
       "Train:   0%|          | 0/150 [00:00<?, ?it/s]"
      ]
     },
     "metadata": {},
     "output_type": "display_data"
    },
    {
     "name": "stdout",
     "output_type": "stream",
     "text": [
      "Epoch 178 - train loss: 0.3745 - train rmse: 0.1177 - val loss: 0.2072 - val rmse: 0.0728\n",
      "Validation MSE improved (0.0055 --> 0.0053). Saving model...\n"
     ]
    },
    {
     "data": {
      "application/vnd.jupyter.widget-view+json": {
       "model_id": "c69c75809dcc43c7853034231a26dd22",
       "version_major": 2,
       "version_minor": 0
      },
      "text/plain": [
       "Train:   0%|          | 0/150 [00:00<?, ?it/s]"
      ]
     },
     "metadata": {},
     "output_type": "display_data"
    },
    {
     "name": "stdout",
     "output_type": "stream",
     "text": [
      "Epoch 179 - train loss: 0.3726 - train rmse: 0.1173 - val loss: 0.2115 - val rmse: 0.0745\n",
      "Validation MSE did not improve. Counter: 1/300\n"
     ]
    },
    {
     "data": {
      "application/vnd.jupyter.widget-view+json": {
       "model_id": "1abdb419779a4711ab0cf12b86226089",
       "version_major": 2,
       "version_minor": 0
      },
      "text/plain": [
       "Train:   0%|          | 0/150 [00:00<?, ?it/s]"
      ]
     },
     "metadata": {},
     "output_type": "display_data"
    },
    {
     "name": "stdout",
     "output_type": "stream",
     "text": [
      "Epoch 180 - train loss: 0.3744 - train rmse: 0.1178 - val loss: 0.2103 - val rmse: 0.0742\n",
      "Validation MSE did not improve. Counter: 2/300\n"
     ]
    },
    {
     "data": {
      "application/vnd.jupyter.widget-view+json": {
       "model_id": "9c377a835b1a4486b7ef0198ed8c3074",
       "version_major": 2,
       "version_minor": 0
      },
      "text/plain": [
       "Train:   0%|          | 0/150 [00:00<?, ?it/s]"
      ]
     },
     "metadata": {},
     "output_type": "display_data"
    },
    {
     "name": "stdout",
     "output_type": "stream",
     "text": [
      "Epoch 181 - train loss: 0.3677 - train rmse: 0.1162 - val loss: 0.2419 - val rmse: 0.0869\n",
      "Validation MSE did not improve. Counter: 3/300\n"
     ]
    },
    {
     "data": {
      "application/vnd.jupyter.widget-view+json": {
       "model_id": "4d1e42cb50114351a548ced32783295e",
       "version_major": 2,
       "version_minor": 0
      },
      "text/plain": [
       "Train:   0%|          | 0/150 [00:00<?, ?it/s]"
      ]
     },
     "metadata": {},
     "output_type": "display_data"
    },
    {
     "name": "stdout",
     "output_type": "stream",
     "text": [
      "Epoch 182 - train loss: 0.3710 - train rmse: 0.1171 - val loss: 0.2223 - val rmse: 0.0778\n",
      "Validation MSE did not improve. Counter: 4/300\n"
     ]
    },
    {
     "data": {
      "application/vnd.jupyter.widget-view+json": {
       "model_id": "4c0a1253368943de9990fb0e2e6abbaa",
       "version_major": 2,
       "version_minor": 0
      },
      "text/plain": [
       "Train:   0%|          | 0/150 [00:00<?, ?it/s]"
      ]
     },
     "metadata": {},
     "output_type": "display_data"
    },
    {
     "name": "stdout",
     "output_type": "stream",
     "text": [
      "Epoch 183 - train loss: 0.3701 - train rmse: 0.1166 - val loss: 0.2356 - val rmse: 0.0827\n",
      "Validation MSE did not improve. Counter: 5/300\n"
     ]
    },
    {
     "data": {
      "application/vnd.jupyter.widget-view+json": {
       "model_id": "7b6ba5da788f41249adac03d10a374c4",
       "version_major": 2,
       "version_minor": 0
      },
      "text/plain": [
       "Train:   0%|          | 0/150 [00:00<?, ?it/s]"
      ]
     },
     "metadata": {},
     "output_type": "display_data"
    },
    {
     "name": "stdout",
     "output_type": "stream",
     "text": [
      "Epoch 184 - train loss: 0.3695 - train rmse: 0.1163 - val loss: 0.2123 - val rmse: 0.0758\n",
      "Validation MSE did not improve. Counter: 6/300\n"
     ]
    },
    {
     "data": {
      "application/vnd.jupyter.widget-view+json": {
       "model_id": "8d452cba10b5446f9d0ae40e26da36cf",
       "version_major": 2,
       "version_minor": 0
      },
      "text/plain": [
       "Train:   0%|          | 0/150 [00:00<?, ?it/s]"
      ]
     },
     "metadata": {},
     "output_type": "display_data"
    },
    {
     "name": "stdout",
     "output_type": "stream",
     "text": [
      "Epoch 185 - train loss: 0.3657 - train rmse: 0.1153 - val loss: 0.2210 - val rmse: 0.0778\n",
      "Validation MSE did not improve. Counter: 7/300\n"
     ]
    },
    {
     "data": {
      "application/vnd.jupyter.widget-view+json": {
       "model_id": "1cc7bf5c50ac4a5489e96ad117f880cf",
       "version_major": 2,
       "version_minor": 0
      },
      "text/plain": [
       "Train:   0%|          | 0/150 [00:00<?, ?it/s]"
      ]
     },
     "metadata": {},
     "output_type": "display_data"
    },
    {
     "name": "stdout",
     "output_type": "stream",
     "text": [
      "Epoch 186 - train loss: 0.3727 - train rmse: 0.1177 - val loss: 0.2143 - val rmse: 0.0760\n",
      "Validation MSE did not improve. Counter: 8/300\n"
     ]
    },
    {
     "data": {
      "application/vnd.jupyter.widget-view+json": {
       "model_id": "64cc0030f9684f5b9eccc89b3b2d30f8",
       "version_major": 2,
       "version_minor": 0
      },
      "text/plain": [
       "Train:   0%|          | 0/150 [00:00<?, ?it/s]"
      ]
     },
     "metadata": {},
     "output_type": "display_data"
    },
    {
     "name": "stdout",
     "output_type": "stream",
     "text": [
      "Epoch 187 - train loss: 0.3643 - train rmse: 0.1153 - val loss: 0.2353 - val rmse: 0.0832\n",
      "Validation MSE did not improve. Counter: 9/300\n"
     ]
    },
    {
     "data": {
      "application/vnd.jupyter.widget-view+json": {
       "model_id": "cc1811e6f2da4e439777ec3f2a78a7f0",
       "version_major": 2,
       "version_minor": 0
      },
      "text/plain": [
       "Train:   0%|          | 0/150 [00:00<?, ?it/s]"
      ]
     },
     "metadata": {},
     "output_type": "display_data"
    },
    {
     "name": "stdout",
     "output_type": "stream",
     "text": [
      "Epoch 188 - train loss: 0.3683 - train rmse: 0.1162 - val loss: 0.2148 - val rmse: 0.0762\n",
      "Validation MSE did not improve. Counter: 10/300\n"
     ]
    },
    {
     "data": {
      "application/vnd.jupyter.widget-view+json": {
       "model_id": "6b32eb071b6a457a89bc8884cb6a7d34",
       "version_major": 2,
       "version_minor": 0
      },
      "text/plain": [
       "Train:   0%|          | 0/150 [00:00<?, ?it/s]"
      ]
     },
     "metadata": {},
     "output_type": "display_data"
    },
    {
     "name": "stdout",
     "output_type": "stream",
     "text": [
      "Epoch 189 - train loss: 0.3704 - train rmse: 0.1170 - val loss: 0.2090 - val rmse: 0.0743\n",
      "Validation MSE did not improve. Counter: 11/300\n"
     ]
    },
    {
     "data": {
      "application/vnd.jupyter.widget-view+json": {
       "model_id": "2de50541bfc74f9f91e8a8f4714bba8b",
       "version_major": 2,
       "version_minor": 0
      },
      "text/plain": [
       "Train:   0%|          | 0/150 [00:00<?, ?it/s]"
      ]
     },
     "metadata": {},
     "output_type": "display_data"
    },
    {
     "name": "stdout",
     "output_type": "stream",
     "text": [
      "Epoch 190 - train loss: 0.3648 - train rmse: 0.1151 - val loss: 0.1990 - val rmse: 0.0704\n",
      "Validation MSE improved (0.0053 --> 0.0050). Saving model...\n"
     ]
    },
    {
     "data": {
      "application/vnd.jupyter.widget-view+json": {
       "model_id": "367bd1519066438892da07aa045abb84",
       "version_major": 2,
       "version_minor": 0
      },
      "text/plain": [
       "Train:   0%|          | 0/150 [00:00<?, ?it/s]"
      ]
     },
     "metadata": {},
     "output_type": "display_data"
    },
    {
     "name": "stdout",
     "output_type": "stream",
     "text": [
      "Epoch 191 - train loss: 0.3730 - train rmse: 0.1177 - val loss: 0.1998 - val rmse: 0.0712\n",
      "Validation MSE did not improve. Counter: 1/300\n"
     ]
    },
    {
     "data": {
      "application/vnd.jupyter.widget-view+json": {
       "model_id": "8db0079916fd4c7086a2910808b9ae9e",
       "version_major": 2,
       "version_minor": 0
      },
      "text/plain": [
       "Train:   0%|          | 0/150 [00:00<?, ?it/s]"
      ]
     },
     "metadata": {},
     "output_type": "display_data"
    },
    {
     "name": "stdout",
     "output_type": "stream",
     "text": [
      "Epoch 192 - train loss: 0.3665 - train rmse: 0.1152 - val loss: 0.2148 - val rmse: 0.0755\n",
      "Validation MSE did not improve. Counter: 2/300\n"
     ]
    },
    {
     "data": {
      "application/vnd.jupyter.widget-view+json": {
       "model_id": "cf8e6b41f2f244229badc3e3e7c361cb",
       "version_major": 2,
       "version_minor": 0
      },
      "text/plain": [
       "Train:   0%|          | 0/150 [00:00<?, ?it/s]"
      ]
     },
     "metadata": {},
     "output_type": "display_data"
    },
    {
     "name": "stdout",
     "output_type": "stream",
     "text": [
      "Epoch 193 - train loss: 0.3675 - train rmse: 0.1156 - val loss: 0.2027 - val rmse: 0.0721\n",
      "Validation MSE did not improve. Counter: 3/300\n"
     ]
    },
    {
     "data": {
      "application/vnd.jupyter.widget-view+json": {
       "model_id": "300b1c349e22464aa4c7b7d18aef5878",
       "version_major": 2,
       "version_minor": 0
      },
      "text/plain": [
       "Train:   0%|          | 0/150 [00:00<?, ?it/s]"
      ]
     },
     "metadata": {},
     "output_type": "display_data"
    },
    {
     "name": "stdout",
     "output_type": "stream",
     "text": [
      "Epoch 194 - train loss: 0.3720 - train rmse: 0.1173 - val loss: 0.2232 - val rmse: 0.0800\n",
      "Validation MSE did not improve. Counter: 4/300\n"
     ]
    },
    {
     "data": {
      "application/vnd.jupyter.widget-view+json": {
       "model_id": "c14c2c0b05ed4e20b0b0686188a1c85e",
       "version_major": 2,
       "version_minor": 0
      },
      "text/plain": [
       "Train:   0%|          | 0/150 [00:00<?, ?it/s]"
      ]
     },
     "metadata": {},
     "output_type": "display_data"
    },
    {
     "name": "stdout",
     "output_type": "stream",
     "text": [
      "Epoch 195 - train loss: 0.3642 - train rmse: 0.1155 - val loss: 0.2063 - val rmse: 0.0736\n",
      "Validation MSE did not improve. Counter: 5/300\n"
     ]
    },
    {
     "data": {
      "application/vnd.jupyter.widget-view+json": {
       "model_id": "a2438aaae83b493e9828da15136acc01",
       "version_major": 2,
       "version_minor": 0
      },
      "text/plain": [
       "Train:   0%|          | 0/150 [00:00<?, ?it/s]"
      ]
     },
     "metadata": {},
     "output_type": "display_data"
    },
    {
     "name": "stdout",
     "output_type": "stream",
     "text": [
      "Epoch 196 - train loss: 0.3628 - train rmse: 0.1147 - val loss: 0.2078 - val rmse: 0.0741\n",
      "Validation MSE did not improve. Counter: 6/300\n"
     ]
    },
    {
     "data": {
      "application/vnd.jupyter.widget-view+json": {
       "model_id": "87c595ded0a547279ed2b28fb55637d8",
       "version_major": 2,
       "version_minor": 0
      },
      "text/plain": [
       "Train:   0%|          | 0/150 [00:00<?, ?it/s]"
      ]
     },
     "metadata": {},
     "output_type": "display_data"
    },
    {
     "name": "stdout",
     "output_type": "stream",
     "text": [
      "Epoch 197 - train loss: 0.3660 - train rmse: 0.1152 - val loss: 0.2160 - val rmse: 0.0767\n",
      "Validation MSE did not improve. Counter: 7/300\n"
     ]
    },
    {
     "data": {
      "application/vnd.jupyter.widget-view+json": {
       "model_id": "1df4c31af6584240a36362f66699b88a",
       "version_major": 2,
       "version_minor": 0
      },
      "text/plain": [
       "Train:   0%|          | 0/150 [00:00<?, ?it/s]"
      ]
     },
     "metadata": {},
     "output_type": "display_data"
    },
    {
     "name": "stdout",
     "output_type": "stream",
     "text": [
      "Epoch 198 - train loss: 0.3666 - train rmse: 0.1151 - val loss: 0.2220 - val rmse: 0.0784\n",
      "Validation MSE did not improve. Counter: 8/300\n"
     ]
    },
    {
     "data": {
      "application/vnd.jupyter.widget-view+json": {
       "model_id": "66607b229a534abe9e7c4a380505a858",
       "version_major": 2,
       "version_minor": 0
      },
      "text/plain": [
       "Train:   0%|          | 0/150 [00:00<?, ?it/s]"
      ]
     },
     "metadata": {},
     "output_type": "display_data"
    },
    {
     "name": "stdout",
     "output_type": "stream",
     "text": [
      "Epoch 199 - train loss: 0.3604 - train rmse: 0.1139 - val loss: 0.1966 - val rmse: 0.0696\n",
      "Validation MSE improved (0.0050 --> 0.0048). Saving model...\n"
     ]
    },
    {
     "data": {
      "application/vnd.jupyter.widget-view+json": {
       "model_id": "fcae2046653646288cd15ed493ca003b",
       "version_major": 2,
       "version_minor": 0
      },
      "text/plain": [
       "Train:   0%|          | 0/150 [00:00<?, ?it/s]"
      ]
     },
     "metadata": {},
     "output_type": "display_data"
    },
    {
     "name": "stdout",
     "output_type": "stream",
     "text": [
      "Epoch 200 - train loss: 0.3683 - train rmse: 0.1162 - val loss: 0.1958 - val rmse: 0.0692\n",
      "Validation MSE improved (0.0048 --> 0.0048). Saving model...\n"
     ]
    },
    {
     "data": {
      "application/vnd.jupyter.widget-view+json": {
       "model_id": "5b07f965e7384beabeea21ef25d47f29",
       "version_major": 2,
       "version_minor": 0
      },
      "text/plain": [
       "Train:   0%|          | 0/150 [00:00<?, ?it/s]"
      ]
     },
     "metadata": {},
     "output_type": "display_data"
    },
    {
     "name": "stdout",
     "output_type": "stream",
     "text": [
      "Epoch 201 - train loss: 0.3689 - train rmse: 0.1160 - val loss: 0.2367 - val rmse: 0.0829\n",
      "Validation MSE did not improve. Counter: 1/300\n"
     ]
    },
    {
     "data": {
      "application/vnd.jupyter.widget-view+json": {
       "model_id": "7c946fe9c3364948a216be1b59ce7305",
       "version_major": 2,
       "version_minor": 0
      },
      "text/plain": [
       "Train:   0%|          | 0/150 [00:00<?, ?it/s]"
      ]
     },
     "metadata": {},
     "output_type": "display_data"
    },
    {
     "name": "stdout",
     "output_type": "stream",
     "text": [
      "Epoch 202 - train loss: 0.3671 - train rmse: 0.1154 - val loss: 0.2234 - val rmse: 0.0801\n",
      "Validation MSE did not improve. Counter: 2/300\n"
     ]
    },
    {
     "data": {
      "application/vnd.jupyter.widget-view+json": {
       "model_id": "0e815349c9cb4a7d8fa3034a7b2c7018",
       "version_major": 2,
       "version_minor": 0
      },
      "text/plain": [
       "Train:   0%|          | 0/150 [00:00<?, ?it/s]"
      ]
     },
     "metadata": {},
     "output_type": "display_data"
    },
    {
     "name": "stdout",
     "output_type": "stream",
     "text": [
      "Epoch 203 - train loss: 0.3667 - train rmse: 0.1154 - val loss: 0.2012 - val rmse: 0.0706\n",
      "Validation MSE did not improve. Counter: 3/300\n"
     ]
    },
    {
     "data": {
      "application/vnd.jupyter.widget-view+json": {
       "model_id": "9ac6ef3c4bf348cc85233c353c12c3d7",
       "version_major": 2,
       "version_minor": 0
      },
      "text/plain": [
       "Train:   0%|          | 0/150 [00:00<?, ?it/s]"
      ]
     },
     "metadata": {},
     "output_type": "display_data"
    },
    {
     "name": "stdout",
     "output_type": "stream",
     "text": [
      "Epoch 204 - train loss: 0.3672 - train rmse: 0.1158 - val loss: 0.2142 - val rmse: 0.0764\n",
      "Validation MSE did not improve. Counter: 4/300\n"
     ]
    },
    {
     "data": {
      "application/vnd.jupyter.widget-view+json": {
       "model_id": "05de4f5090d24a5f8bdf91da7f022e41",
       "version_major": 2,
       "version_minor": 0
      },
      "text/plain": [
       "Train:   0%|          | 0/150 [00:00<?, ?it/s]"
      ]
     },
     "metadata": {},
     "output_type": "display_data"
    },
    {
     "name": "stdout",
     "output_type": "stream",
     "text": [
      "Epoch 205 - train loss: 0.3654 - train rmse: 0.1153 - val loss: 0.2024 - val rmse: 0.0717\n",
      "Validation MSE did not improve. Counter: 5/300\n"
     ]
    },
    {
     "data": {
      "application/vnd.jupyter.widget-view+json": {
       "model_id": "faef2fe035264d518ca9ba93c88d6ddf",
       "version_major": 2,
       "version_minor": 0
      },
      "text/plain": [
       "Train:   0%|          | 0/150 [00:00<?, ?it/s]"
      ]
     },
     "metadata": {},
     "output_type": "display_data"
    },
    {
     "name": "stdout",
     "output_type": "stream",
     "text": [
      "Epoch 206 - train loss: 0.3635 - train rmse: 0.1144 - val loss: 0.1988 - val rmse: 0.0709\n",
      "Validation MSE did not improve. Counter: 6/300\n"
     ]
    },
    {
     "data": {
      "application/vnd.jupyter.widget-view+json": {
       "model_id": "a04b206be23a4652b3ecb03e40c25cc5",
       "version_major": 2,
       "version_minor": 0
      },
      "text/plain": [
       "Train:   0%|          | 0/150 [00:00<?, ?it/s]"
      ]
     },
     "metadata": {},
     "output_type": "display_data"
    },
    {
     "name": "stdout",
     "output_type": "stream",
     "text": [
      "Epoch 207 - train loss: 0.3634 - train rmse: 0.1142 - val loss: 0.2166 - val rmse: 0.0783\n",
      "Validation MSE did not improve. Counter: 7/300\n"
     ]
    },
    {
     "data": {
      "application/vnd.jupyter.widget-view+json": {
       "model_id": "4277a88c59d14ff3b382af8cd9e96543",
       "version_major": 2,
       "version_minor": 0
      },
      "text/plain": [
       "Train:   0%|          | 0/150 [00:00<?, ?it/s]"
      ]
     },
     "metadata": {},
     "output_type": "display_data"
    },
    {
     "name": "stdout",
     "output_type": "stream",
     "text": [
      "Epoch 208 - train loss: 0.3681 - train rmse: 0.1158 - val loss: 0.1990 - val rmse: 0.0712\n",
      "Validation MSE did not improve. Counter: 8/300\n"
     ]
    },
    {
     "data": {
      "application/vnd.jupyter.widget-view+json": {
       "model_id": "6d3d99a8099b4ff0ab2e23eb5b9bc7f6",
       "version_major": 2,
       "version_minor": 0
      },
      "text/plain": [
       "Train:   0%|          | 0/150 [00:00<?, ?it/s]"
      ]
     },
     "metadata": {},
     "output_type": "display_data"
    },
    {
     "name": "stdout",
     "output_type": "stream",
     "text": [
      "Epoch 209 - train loss: 0.3641 - train rmse: 0.1146 - val loss: 0.2097 - val rmse: 0.0740\n",
      "Validation MSE did not improve. Counter: 9/300\n"
     ]
    },
    {
     "data": {
      "application/vnd.jupyter.widget-view+json": {
       "model_id": "105075cf6cfb4b27ae46b1b191ea37e6",
       "version_major": 2,
       "version_minor": 0
      },
      "text/plain": [
       "Train:   0%|          | 0/150 [00:00<?, ?it/s]"
      ]
     },
     "metadata": {},
     "output_type": "display_data"
    },
    {
     "name": "stdout",
     "output_type": "stream",
     "text": [
      "Epoch 210 - train loss: 0.3668 - train rmse: 0.1160 - val loss: 0.2016 - val rmse: 0.0707\n",
      "Validation MSE did not improve. Counter: 10/300\n"
     ]
    },
    {
     "data": {
      "application/vnd.jupyter.widget-view+json": {
       "model_id": "5fcbe36ade3d485f855c2dc3c4dfc4fc",
       "version_major": 2,
       "version_minor": 0
      },
      "text/plain": [
       "Train:   0%|          | 0/150 [00:00<?, ?it/s]"
      ]
     },
     "metadata": {},
     "output_type": "display_data"
    },
    {
     "name": "stdout",
     "output_type": "stream",
     "text": [
      "Epoch 211 - train loss: 0.3698 - train rmse: 0.1165 - val loss: 0.1994 - val rmse: 0.0701\n",
      "Validation MSE did not improve. Counter: 11/300\n"
     ]
    },
    {
     "data": {
      "application/vnd.jupyter.widget-view+json": {
       "model_id": "7b54bbb1bf504151b35a2c97916a0d0c",
       "version_major": 2,
       "version_minor": 0
      },
      "text/plain": [
       "Train:   0%|          | 0/150 [00:00<?, ?it/s]"
      ]
     },
     "metadata": {},
     "output_type": "display_data"
    },
    {
     "name": "stdout",
     "output_type": "stream",
     "text": [
      "Epoch 212 - train loss: 0.3699 - train rmse: 0.1159 - val loss: 0.2227 - val rmse: 0.0798\n",
      "Validation MSE did not improve. Counter: 12/300\n"
     ]
    },
    {
     "data": {
      "application/vnd.jupyter.widget-view+json": {
       "model_id": "b2e9fbc699f94a7080d20bf96a2b47a8",
       "version_major": 2,
       "version_minor": 0
      },
      "text/plain": [
       "Train:   0%|          | 0/150 [00:00<?, ?it/s]"
      ]
     },
     "metadata": {},
     "output_type": "display_data"
    },
    {
     "name": "stdout",
     "output_type": "stream",
     "text": [
      "Epoch 213 - train loss: 0.3598 - train rmse: 0.1138 - val loss: 0.2262 - val rmse: 0.0796\n",
      "Validation MSE did not improve. Counter: 13/300\n"
     ]
    },
    {
     "data": {
      "application/vnd.jupyter.widget-view+json": {
       "model_id": "c7522e1336b34ea7a0111678348b1f40",
       "version_major": 2,
       "version_minor": 0
      },
      "text/plain": [
       "Train:   0%|          | 0/150 [00:00<?, ?it/s]"
      ]
     },
     "metadata": {},
     "output_type": "display_data"
    },
    {
     "name": "stdout",
     "output_type": "stream",
     "text": [
      "Epoch 214 - train loss: 0.3599 - train rmse: 0.1144 - val loss: 0.2078 - val rmse: 0.0751\n",
      "Validation MSE did not improve. Counter: 14/300\n"
     ]
    },
    {
     "data": {
      "application/vnd.jupyter.widget-view+json": {
       "model_id": "6c6c31ed9e8b46ba8cc4a374a07739e6",
       "version_major": 2,
       "version_minor": 0
      },
      "text/plain": [
       "Train:   0%|          | 0/150 [00:00<?, ?it/s]"
      ]
     },
     "metadata": {},
     "output_type": "display_data"
    },
    {
     "name": "stdout",
     "output_type": "stream",
     "text": [
      "Epoch 215 - train loss: 0.3608 - train rmse: 0.1141 - val loss: 0.2075 - val rmse: 0.0746\n",
      "Validation MSE did not improve. Counter: 15/300\n"
     ]
    },
    {
     "data": {
      "application/vnd.jupyter.widget-view+json": {
       "model_id": "9946308ccffb4ca384b126cadffae9ca",
       "version_major": 2,
       "version_minor": 0
      },
      "text/plain": [
       "Train:   0%|          | 0/150 [00:00<?, ?it/s]"
      ]
     },
     "metadata": {},
     "output_type": "display_data"
    },
    {
     "name": "stdout",
     "output_type": "stream",
     "text": [
      "Epoch 216 - train loss: 0.3615 - train rmse: 0.1147 - val loss: 0.2041 - val rmse: 0.0723\n",
      "Validation MSE did not improve. Counter: 16/300\n"
     ]
    },
    {
     "data": {
      "application/vnd.jupyter.widget-view+json": {
       "model_id": "9adcf37e0ff34dac9f2a7f44a33e23c7",
       "version_major": 2,
       "version_minor": 0
      },
      "text/plain": [
       "Train:   0%|          | 0/150 [00:00<?, ?it/s]"
      ]
     },
     "metadata": {},
     "output_type": "display_data"
    },
    {
     "name": "stdout",
     "output_type": "stream",
     "text": [
      "Epoch 217 - train loss: 0.3648 - train rmse: 0.1150 - val loss: 0.1945 - val rmse: 0.0695\n",
      "Validation MSE did not improve. Counter: 17/300\n"
     ]
    },
    {
     "data": {
      "application/vnd.jupyter.widget-view+json": {
       "model_id": "073d1bb4dfff482993a16e792b51a2c7",
       "version_major": 2,
       "version_minor": 0
      },
      "text/plain": [
       "Train:   0%|          | 0/150 [00:00<?, ?it/s]"
      ]
     },
     "metadata": {},
     "output_type": "display_data"
    },
    {
     "name": "stdout",
     "output_type": "stream",
     "text": [
      "Epoch 218 - train loss: 0.3606 - train rmse: 0.1135 - val loss: 0.2013 - val rmse: 0.0728\n",
      "Validation MSE did not improve. Counter: 18/300\n"
     ]
    },
    {
     "data": {
      "application/vnd.jupyter.widget-view+json": {
       "model_id": "8dd56fc6c0814131ac33e70f26907c5a",
       "version_major": 2,
       "version_minor": 0
      },
      "text/plain": [
       "Train:   0%|          | 0/150 [00:00<?, ?it/s]"
      ]
     },
     "metadata": {},
     "output_type": "display_data"
    },
    {
     "name": "stdout",
     "output_type": "stream",
     "text": [
      "Epoch 219 - train loss: 0.3644 - train rmse: 0.1156 - val loss: 0.2026 - val rmse: 0.0716\n",
      "Validation MSE did not improve. Counter: 19/300\n"
     ]
    },
    {
     "data": {
      "application/vnd.jupyter.widget-view+json": {
       "model_id": "4102620851ca474d8270514c3d632b66",
       "version_major": 2,
       "version_minor": 0
      },
      "text/plain": [
       "Train:   0%|          | 0/150 [00:00<?, ?it/s]"
      ]
     },
     "metadata": {},
     "output_type": "display_data"
    },
    {
     "name": "stdout",
     "output_type": "stream",
     "text": [
      "Epoch 220 - train loss: 0.3595 - train rmse: 0.1135 - val loss: 0.1993 - val rmse: 0.0705\n",
      "Validation MSE did not improve. Counter: 20/300\n"
     ]
    },
    {
     "data": {
      "application/vnd.jupyter.widget-view+json": {
       "model_id": "dd53db3d82ff473381ab9d09ddc5109a",
       "version_major": 2,
       "version_minor": 0
      },
      "text/plain": [
       "Train:   0%|          | 0/150 [00:00<?, ?it/s]"
      ]
     },
     "metadata": {},
     "output_type": "display_data"
    },
    {
     "name": "stdout",
     "output_type": "stream",
     "text": [
      "Epoch 221 - train loss: 0.3562 - train rmse: 0.1132 - val loss: 0.2151 - val rmse: 0.0767\n",
      "Validation MSE did not improve. Counter: 21/300\n"
     ]
    },
    {
     "data": {
      "application/vnd.jupyter.widget-view+json": {
       "model_id": "3e801379850043f28a28935dac9bc19c",
       "version_major": 2,
       "version_minor": 0
      },
      "text/plain": [
       "Train:   0%|          | 0/150 [00:00<?, ?it/s]"
      ]
     },
     "metadata": {},
     "output_type": "display_data"
    },
    {
     "name": "stdout",
     "output_type": "stream",
     "text": [
      "Epoch 222 - train loss: 0.3642 - train rmse: 0.1144 - val loss: 0.1955 - val rmse: 0.0689\n",
      "Validation MSE improved (0.0048 --> 0.0047). Saving model...\n"
     ]
    },
    {
     "data": {
      "application/vnd.jupyter.widget-view+json": {
       "model_id": "08c290dff0a349b6b0ce66de9c9da482",
       "version_major": 2,
       "version_minor": 0
      },
      "text/plain": [
       "Train:   0%|          | 0/150 [00:00<?, ?it/s]"
      ]
     },
     "metadata": {},
     "output_type": "display_data"
    },
    {
     "name": "stdout",
     "output_type": "stream",
     "text": [
      "Epoch 223 - train loss: 0.3639 - train rmse: 0.1145 - val loss: 0.2119 - val rmse: 0.0768\n",
      "Validation MSE did not improve. Counter: 1/300\n"
     ]
    },
    {
     "data": {
      "application/vnd.jupyter.widget-view+json": {
       "model_id": "d418ba5c43e849109cc9d094906538db",
       "version_major": 2,
       "version_minor": 0
      },
      "text/plain": [
       "Train:   0%|          | 0/150 [00:00<?, ?it/s]"
      ]
     },
     "metadata": {},
     "output_type": "display_data"
    },
    {
     "name": "stdout",
     "output_type": "stream",
     "text": [
      "Epoch 224 - train loss: 0.3592 - train rmse: 0.1135 - val loss: 0.1972 - val rmse: 0.0701\n",
      "Validation MSE did not improve. Counter: 2/300\n"
     ]
    },
    {
     "data": {
      "application/vnd.jupyter.widget-view+json": {
       "model_id": "402e51ab1c4947b792a3aa09026a9010",
       "version_major": 2,
       "version_minor": 0
      },
      "text/plain": [
       "Train:   0%|          | 0/150 [00:00<?, ?it/s]"
      ]
     },
     "metadata": {},
     "output_type": "display_data"
    },
    {
     "name": "stdout",
     "output_type": "stream",
     "text": [
      "Epoch 225 - train loss: 0.3607 - train rmse: 0.1141 - val loss: 0.2022 - val rmse: 0.0708\n",
      "Validation MSE did not improve. Counter: 3/300\n"
     ]
    },
    {
     "data": {
      "application/vnd.jupyter.widget-view+json": {
       "model_id": "2bfd0fea48b24ac3ac10d961ded11c95",
       "version_major": 2,
       "version_minor": 0
      },
      "text/plain": [
       "Train:   0%|          | 0/150 [00:00<?, ?it/s]"
      ]
     },
     "metadata": {},
     "output_type": "display_data"
    },
    {
     "name": "stdout",
     "output_type": "stream",
     "text": [
      "Epoch 226 - train loss: 0.3567 - train rmse: 0.1125 - val loss: 0.1975 - val rmse: 0.0704\n",
      "Validation MSE did not improve. Counter: 4/300\n"
     ]
    },
    {
     "data": {
      "application/vnd.jupyter.widget-view+json": {
       "model_id": "50b8ab455e6a4e228b8e31f60a75b73a",
       "version_major": 2,
       "version_minor": 0
      },
      "text/plain": [
       "Train:   0%|          | 0/150 [00:00<?, ?it/s]"
      ]
     },
     "metadata": {},
     "output_type": "display_data"
    },
    {
     "name": "stdout",
     "output_type": "stream",
     "text": [
      "Epoch 227 - train loss: 0.3594 - train rmse: 0.1136 - val loss: 0.1991 - val rmse: 0.0708\n",
      "Validation MSE did not improve. Counter: 5/300\n"
     ]
    },
    {
     "data": {
      "application/vnd.jupyter.widget-view+json": {
       "model_id": "ca1f0acee5c74db08fafb2d6279cb79a",
       "version_major": 2,
       "version_minor": 0
      },
      "text/plain": [
       "Train:   0%|          | 0/150 [00:00<?, ?it/s]"
      ]
     },
     "metadata": {},
     "output_type": "display_data"
    },
    {
     "name": "stdout",
     "output_type": "stream",
     "text": [
      "Epoch 228 - train loss: 0.3551 - train rmse: 0.1126 - val loss: 0.1940 - val rmse: 0.0689\n",
      "Validation MSE did not improve. Counter: 6/300\n"
     ]
    },
    {
     "data": {
      "application/vnd.jupyter.widget-view+json": {
       "model_id": "7f669a2c93154572bd3a327bf0144c9b",
       "version_major": 2,
       "version_minor": 0
      },
      "text/plain": [
       "Train:   0%|          | 0/150 [00:00<?, ?it/s]"
      ]
     },
     "metadata": {},
     "output_type": "display_data"
    },
    {
     "name": "stdout",
     "output_type": "stream",
     "text": [
      "Epoch 229 - train loss: 0.3593 - train rmse: 0.1134 - val loss: 0.1958 - val rmse: 0.0707\n",
      "Validation MSE did not improve. Counter: 7/300\n"
     ]
    },
    {
     "data": {
      "application/vnd.jupyter.widget-view+json": {
       "model_id": "9f41360a17f7465883f9a8b4f7335ec2",
       "version_major": 2,
       "version_minor": 0
      },
      "text/plain": [
       "Train:   0%|          | 0/150 [00:00<?, ?it/s]"
      ]
     },
     "metadata": {},
     "output_type": "display_data"
    },
    {
     "name": "stdout",
     "output_type": "stream",
     "text": [
      "Epoch 230 - train loss: 0.3602 - train rmse: 0.1139 - val loss: 0.2013 - val rmse: 0.0720\n",
      "Validation MSE did not improve. Counter: 8/300\n"
     ]
    },
    {
     "data": {
      "application/vnd.jupyter.widget-view+json": {
       "model_id": "e9b2f3c4753449ce9892c1050de82576",
       "version_major": 2,
       "version_minor": 0
      },
      "text/plain": [
       "Train:   0%|          | 0/150 [00:00<?, ?it/s]"
      ]
     },
     "metadata": {},
     "output_type": "display_data"
    },
    {
     "name": "stdout",
     "output_type": "stream",
     "text": [
      "Epoch 231 - train loss: 0.3598 - train rmse: 0.1136 - val loss: 0.1964 - val rmse: 0.0698\n",
      "Validation MSE did not improve. Counter: 9/300\n"
     ]
    },
    {
     "data": {
      "application/vnd.jupyter.widget-view+json": {
       "model_id": "9e9b5f799c3b40ae8f3ef87fc6ca823f",
       "version_major": 2,
       "version_minor": 0
      },
      "text/plain": [
       "Train:   0%|          | 0/150 [00:00<?, ?it/s]"
      ]
     },
     "metadata": {},
     "output_type": "display_data"
    },
    {
     "name": "stdout",
     "output_type": "stream",
     "text": [
      "Epoch 232 - train loss: 0.3556 - train rmse: 0.1123 - val loss: 0.2114 - val rmse: 0.0756\n",
      "Validation MSE did not improve. Counter: 10/300\n"
     ]
    },
    {
     "data": {
      "application/vnd.jupyter.widget-view+json": {
       "model_id": "132e1e210f884863a5858d68a7ba29af",
       "version_major": 2,
       "version_minor": 0
      },
      "text/plain": [
       "Train:   0%|          | 0/150 [00:00<?, ?it/s]"
      ]
     },
     "metadata": {},
     "output_type": "display_data"
    },
    {
     "name": "stdout",
     "output_type": "stream",
     "text": [
      "Epoch 233 - train loss: 0.3588 - train rmse: 0.1138 - val loss: 0.2044 - val rmse: 0.0735\n",
      "Validation MSE did not improve. Counter: 11/300\n"
     ]
    },
    {
     "data": {
      "application/vnd.jupyter.widget-view+json": {
       "model_id": "bc059085042440c89cfeb77094c991d7",
       "version_major": 2,
       "version_minor": 0
      },
      "text/plain": [
       "Train:   0%|          | 0/150 [00:00<?, ?it/s]"
      ]
     },
     "metadata": {},
     "output_type": "display_data"
    },
    {
     "name": "stdout",
     "output_type": "stream",
     "text": [
      "Epoch 234 - train loss: 0.3549 - train rmse: 0.1127 - val loss: 0.2035 - val rmse: 0.0734\n",
      "Validation MSE did not improve. Counter: 12/300\n"
     ]
    },
    {
     "data": {
      "application/vnd.jupyter.widget-view+json": {
       "model_id": "a6d1b5d7a3844ca1b436da38755ebe02",
       "version_major": 2,
       "version_minor": 0
      },
      "text/plain": [
       "Train:   0%|          | 0/150 [00:00<?, ?it/s]"
      ]
     },
     "metadata": {},
     "output_type": "display_data"
    },
    {
     "name": "stdout",
     "output_type": "stream",
     "text": [
      "Epoch 235 - train loss: 0.3531 - train rmse: 0.1112 - val loss: 0.1989 - val rmse: 0.0709\n",
      "Validation MSE did not improve. Counter: 13/300\n"
     ]
    },
    {
     "data": {
      "application/vnd.jupyter.widget-view+json": {
       "model_id": "6624122216c6446dab911a7a4e552b03",
       "version_major": 2,
       "version_minor": 0
      },
      "text/plain": [
       "Train:   0%|          | 0/150 [00:00<?, ?it/s]"
      ]
     },
     "metadata": {},
     "output_type": "display_data"
    },
    {
     "name": "stdout",
     "output_type": "stream",
     "text": [
      "Epoch 236 - train loss: 0.3511 - train rmse: 0.1116 - val loss: 0.1917 - val rmse: 0.0690\n",
      "Validation MSE did not improve. Counter: 14/300\n"
     ]
    },
    {
     "data": {
      "application/vnd.jupyter.widget-view+json": {
       "model_id": "740c9cc978754937bbab7c56e9a2abb4",
       "version_major": 2,
       "version_minor": 0
      },
      "text/plain": [
       "Train:   0%|          | 0/150 [00:00<?, ?it/s]"
      ]
     },
     "metadata": {},
     "output_type": "display_data"
    },
    {
     "name": "stdout",
     "output_type": "stream",
     "text": [
      "Epoch 237 - train loss: 0.3554 - train rmse: 0.1129 - val loss: 0.2115 - val rmse: 0.0761\n",
      "Validation MSE did not improve. Counter: 15/300\n"
     ]
    },
    {
     "data": {
      "application/vnd.jupyter.widget-view+json": {
       "model_id": "b94a52cef5db4374a5f93cc48a8f65bc",
       "version_major": 2,
       "version_minor": 0
      },
      "text/plain": [
       "Train:   0%|          | 0/150 [00:00<?, ?it/s]"
      ]
     },
     "metadata": {},
     "output_type": "display_data"
    },
    {
     "name": "stdout",
     "output_type": "stream",
     "text": [
      "Epoch 238 - train loss: 0.3534 - train rmse: 0.1117 - val loss: 0.1883 - val rmse: 0.0669\n",
      "Validation MSE improved (0.0047 --> 0.0045). Saving model...\n"
     ]
    },
    {
     "data": {
      "application/vnd.jupyter.widget-view+json": {
       "model_id": "d146d4f042f54456958de974bf92d038",
       "version_major": 2,
       "version_minor": 0
      },
      "text/plain": [
       "Train:   0%|          | 0/150 [00:00<?, ?it/s]"
      ]
     },
     "metadata": {},
     "output_type": "display_data"
    },
    {
     "name": "stdout",
     "output_type": "stream",
     "text": [
      "Epoch 239 - train loss: 0.3521 - train rmse: 0.1109 - val loss: 0.1986 - val rmse: 0.0715\n",
      "Validation MSE did not improve. Counter: 1/300\n"
     ]
    },
    {
     "data": {
      "application/vnd.jupyter.widget-view+json": {
       "model_id": "225578d20e91401e86166ed32c3fd122",
       "version_major": 2,
       "version_minor": 0
      },
      "text/plain": [
       "Train:   0%|          | 0/150 [00:00<?, ?it/s]"
      ]
     },
     "metadata": {},
     "output_type": "display_data"
    },
    {
     "name": "stdout",
     "output_type": "stream",
     "text": [
      "Epoch 240 - train loss: 0.3543 - train rmse: 0.1123 - val loss: 0.2057 - val rmse: 0.0735\n",
      "Validation MSE did not improve. Counter: 2/300\n"
     ]
    },
    {
     "data": {
      "application/vnd.jupyter.widget-view+json": {
       "model_id": "3e3a36fe283348b0a94a33c95f353edc",
       "version_major": 2,
       "version_minor": 0
      },
      "text/plain": [
       "Train:   0%|          | 0/150 [00:00<?, ?it/s]"
      ]
     },
     "metadata": {},
     "output_type": "display_data"
    },
    {
     "name": "stdout",
     "output_type": "stream",
     "text": [
      "Epoch 241 - train loss: 0.3560 - train rmse: 0.1120 - val loss: 0.1930 - val rmse: 0.0687\n",
      "Validation MSE did not improve. Counter: 3/300\n"
     ]
    },
    {
     "data": {
      "application/vnd.jupyter.widget-view+json": {
       "model_id": "dcc38f27a39c4e949ac3e52e0952953a",
       "version_major": 2,
       "version_minor": 0
      },
      "text/plain": [
       "Train:   0%|          | 0/150 [00:00<?, ?it/s]"
      ]
     },
     "metadata": {},
     "output_type": "display_data"
    },
    {
     "name": "stdout",
     "output_type": "stream",
     "text": [
      "Epoch 242 - train loss: 0.3549 - train rmse: 0.1115 - val loss: 0.1964 - val rmse: 0.0711\n",
      "Validation MSE did not improve. Counter: 4/300\n"
     ]
    },
    {
     "data": {
      "application/vnd.jupyter.widget-view+json": {
       "model_id": "c0c447c8408946cd9cd6580fbd36e91b",
       "version_major": 2,
       "version_minor": 0
      },
      "text/plain": [
       "Train:   0%|          | 0/150 [00:00<?, ?it/s]"
      ]
     },
     "metadata": {},
     "output_type": "display_data"
    },
    {
     "name": "stdout",
     "output_type": "stream",
     "text": [
      "Epoch 243 - train loss: 0.3548 - train rmse: 0.1126 - val loss: 0.1900 - val rmse: 0.0675\n",
      "Validation MSE did not improve. Counter: 5/300\n"
     ]
    },
    {
     "data": {
      "application/vnd.jupyter.widget-view+json": {
       "model_id": "eb65f17f85854c4c9a6bb967deda41a2",
       "version_major": 2,
       "version_minor": 0
      },
      "text/plain": [
       "Train:   0%|          | 0/150 [00:00<?, ?it/s]"
      ]
     },
     "metadata": {},
     "output_type": "display_data"
    },
    {
     "name": "stdout",
     "output_type": "stream",
     "text": [
      "Epoch 244 - train loss: 0.3549 - train rmse: 0.1122 - val loss: 0.2032 - val rmse: 0.0734\n",
      "Validation MSE did not improve. Counter: 6/300\n"
     ]
    },
    {
     "data": {
      "application/vnd.jupyter.widget-view+json": {
       "model_id": "8057ce6ee82245349545b6caa2392dc2",
       "version_major": 2,
       "version_minor": 0
      },
      "text/plain": [
       "Train:   0%|          | 0/150 [00:00<?, ?it/s]"
      ]
     },
     "metadata": {},
     "output_type": "display_data"
    },
    {
     "name": "stdout",
     "output_type": "stream",
     "text": [
      "Epoch 245 - train loss: 0.3566 - train rmse: 0.1125 - val loss: 0.1927 - val rmse: 0.0697\n",
      "Validation MSE did not improve. Counter: 7/300\n"
     ]
    },
    {
     "data": {
      "application/vnd.jupyter.widget-view+json": {
       "model_id": "e73c151b32234f4da64dd42a374f3060",
       "version_major": 2,
       "version_minor": 0
      },
      "text/plain": [
       "Train:   0%|          | 0/150 [00:00<?, ?it/s]"
      ]
     },
     "metadata": {},
     "output_type": "display_data"
    },
    {
     "name": "stdout",
     "output_type": "stream",
     "text": [
      "Epoch 246 - train loss: 0.3556 - train rmse: 0.1123 - val loss: 0.1828 - val rmse: 0.0672\n",
      "Validation MSE did not improve. Counter: 8/300\n"
     ]
    },
    {
     "data": {
      "application/vnd.jupyter.widget-view+json": {
       "model_id": "05f993eb186546778dfb50a6f8153649",
       "version_major": 2,
       "version_minor": 0
      },
      "text/plain": [
       "Train:   0%|          | 0/150 [00:00<?, ?it/s]"
      ]
     },
     "metadata": {},
     "output_type": "display_data"
    },
    {
     "name": "stdout",
     "output_type": "stream",
     "text": [
      "Epoch 247 - train loss: 0.3562 - train rmse: 0.1126 - val loss: 0.2111 - val rmse: 0.0759\n",
      "Validation MSE did not improve. Counter: 9/300\n"
     ]
    },
    {
     "data": {
      "application/vnd.jupyter.widget-view+json": {
       "model_id": "797a27c25fb34b309e19bb03c22e3314",
       "version_major": 2,
       "version_minor": 0
      },
      "text/plain": [
       "Train:   0%|          | 0/150 [00:00<?, ?it/s]"
      ]
     },
     "metadata": {},
     "output_type": "display_data"
    },
    {
     "name": "stdout",
     "output_type": "stream",
     "text": [
      "Epoch 248 - train loss: 0.3603 - train rmse: 0.1136 - val loss: 0.1997 - val rmse: 0.0724\n",
      "Validation MSE did not improve. Counter: 10/300\n"
     ]
    },
    {
     "data": {
      "application/vnd.jupyter.widget-view+json": {
       "model_id": "09b2b525c0774f298bc250fa686dbaab",
       "version_major": 2,
       "version_minor": 0
      },
      "text/plain": [
       "Train:   0%|          | 0/150 [00:00<?, ?it/s]"
      ]
     },
     "metadata": {},
     "output_type": "display_data"
    },
    {
     "name": "stdout",
     "output_type": "stream",
     "text": [
      "Epoch 249 - train loss: 0.3530 - train rmse: 0.1122 - val loss: 0.1908 - val rmse: 0.0700\n",
      "Validation MSE did not improve. Counter: 11/300\n"
     ]
    },
    {
     "data": {
      "application/vnd.jupyter.widget-view+json": {
       "model_id": "05d90666ad6d40ae828692a8fd871b03",
       "version_major": 2,
       "version_minor": 0
      },
      "text/plain": [
       "Train:   0%|          | 0/150 [00:00<?, ?it/s]"
      ]
     },
     "metadata": {},
     "output_type": "display_data"
    },
    {
     "name": "stdout",
     "output_type": "stream",
     "text": [
      "Epoch 250 - train loss: 0.3522 - train rmse: 0.1120 - val loss: 0.1972 - val rmse: 0.0706\n",
      "Validation MSE did not improve. Counter: 12/300\n"
     ]
    },
    {
     "data": {
      "application/vnd.jupyter.widget-view+json": {
       "model_id": "627259c6aec5488a904194f3ca250f29",
       "version_major": 2,
       "version_minor": 0
      },
      "text/plain": [
       "Train:   0%|          | 0/150 [00:00<?, ?it/s]"
      ]
     },
     "metadata": {},
     "output_type": "display_data"
    },
    {
     "name": "stdout",
     "output_type": "stream",
     "text": [
      "Epoch 251 - train loss: 0.3525 - train rmse: 0.1112 - val loss: 0.1898 - val rmse: 0.0695\n",
      "Validation MSE did not improve. Counter: 13/300\n"
     ]
    },
    {
     "data": {
      "application/vnd.jupyter.widget-view+json": {
       "model_id": "c907a80c317e42ce80fd9573dc0a9deb",
       "version_major": 2,
       "version_minor": 0
      },
      "text/plain": [
       "Train:   0%|          | 0/150 [00:00<?, ?it/s]"
      ]
     },
     "metadata": {},
     "output_type": "display_data"
    },
    {
     "name": "stdout",
     "output_type": "stream",
     "text": [
      "Epoch 252 - train loss: 0.3502 - train rmse: 0.1109 - val loss: 0.2186 - val rmse: 0.0769\n",
      "Validation MSE did not improve. Counter: 14/300\n"
     ]
    },
    {
     "data": {
      "application/vnd.jupyter.widget-view+json": {
       "model_id": "83490cd106f1419fba3e935e269c5040",
       "version_major": 2,
       "version_minor": 0
      },
      "text/plain": [
       "Train:   0%|          | 0/150 [00:00<?, ?it/s]"
      ]
     },
     "metadata": {},
     "output_type": "display_data"
    },
    {
     "name": "stdout",
     "output_type": "stream",
     "text": [
      "Epoch 253 - train loss: 0.3541 - train rmse: 0.1125 - val loss: 0.1850 - val rmse: 0.0677\n",
      "Validation MSE did not improve. Counter: 15/300\n"
     ]
    },
    {
     "data": {
      "application/vnd.jupyter.widget-view+json": {
       "model_id": "8e0ea731d51e4ed0824368c1593e1d64",
       "version_major": 2,
       "version_minor": 0
      },
      "text/plain": [
       "Train:   0%|          | 0/150 [00:00<?, ?it/s]"
      ]
     },
     "metadata": {},
     "output_type": "display_data"
    },
    {
     "name": "stdout",
     "output_type": "stream",
     "text": [
      "Epoch 254 - train loss: 0.3545 - train rmse: 0.1119 - val loss: 0.1941 - val rmse: 0.0706\n",
      "Validation MSE did not improve. Counter: 16/300\n"
     ]
    },
    {
     "data": {
      "application/vnd.jupyter.widget-view+json": {
       "model_id": "763fc869d0304c099cb560c08d4796f5",
       "version_major": 2,
       "version_minor": 0
      },
      "text/plain": [
       "Train:   0%|          | 0/150 [00:00<?, ?it/s]"
      ]
     },
     "metadata": {},
     "output_type": "display_data"
    },
    {
     "name": "stdout",
     "output_type": "stream",
     "text": [
      "Epoch 255 - train loss: 0.3554 - train rmse: 0.1124 - val loss: 0.1966 - val rmse: 0.0704\n",
      "Validation MSE did not improve. Counter: 17/300\n"
     ]
    },
    {
     "data": {
      "application/vnd.jupyter.widget-view+json": {
       "model_id": "8f673c62428e45bdb117e8f39867b3ed",
       "version_major": 2,
       "version_minor": 0
      },
      "text/plain": [
       "Train:   0%|          | 0/150 [00:00<?, ?it/s]"
      ]
     },
     "metadata": {},
     "output_type": "display_data"
    },
    {
     "name": "stdout",
     "output_type": "stream",
     "text": [
      "Epoch 256 - train loss: 0.3557 - train rmse: 0.1123 - val loss: 0.1885 - val rmse: 0.0684\n",
      "Validation MSE did not improve. Counter: 18/300\n"
     ]
    },
    {
     "data": {
      "application/vnd.jupyter.widget-view+json": {
       "model_id": "e985020970a942eab1563e5eb94b1843",
       "version_major": 2,
       "version_minor": 0
      },
      "text/plain": [
       "Train:   0%|          | 0/150 [00:00<?, ?it/s]"
      ]
     },
     "metadata": {},
     "output_type": "display_data"
    },
    {
     "name": "stdout",
     "output_type": "stream",
     "text": [
      "Epoch 257 - train loss: 0.3507 - train rmse: 0.1112 - val loss: 0.1863 - val rmse: 0.0669\n",
      "Validation MSE did not improve. Counter: 19/300\n"
     ]
    },
    {
     "data": {
      "application/vnd.jupyter.widget-view+json": {
       "model_id": "3fab10ed909b40a2b5f6dd1636ab716e",
       "version_major": 2,
       "version_minor": 0
      },
      "text/plain": [
       "Train:   0%|          | 0/150 [00:00<?, ?it/s]"
      ]
     },
     "metadata": {},
     "output_type": "display_data"
    },
    {
     "name": "stdout",
     "output_type": "stream",
     "text": [
      "Epoch 258 - train loss: 0.3515 - train rmse: 0.1118 - val loss: 0.1867 - val rmse: 0.0680\n",
      "Validation MSE did not improve. Counter: 20/300\n"
     ]
    },
    {
     "data": {
      "application/vnd.jupyter.widget-view+json": {
       "model_id": "2a50212ddfdd4d0e9c465110022bbcd8",
       "version_major": 2,
       "version_minor": 0
      },
      "text/plain": [
       "Train:   0%|          | 0/150 [00:00<?, ?it/s]"
      ]
     },
     "metadata": {},
     "output_type": "display_data"
    },
    {
     "name": "stdout",
     "output_type": "stream",
     "text": [
      "Epoch 259 - train loss: 0.3473 - train rmse: 0.1097 - val loss: 0.1893 - val rmse: 0.0683\n",
      "Validation MSE did not improve. Counter: 21/300\n"
     ]
    },
    {
     "data": {
      "application/vnd.jupyter.widget-view+json": {
       "model_id": "e50117b5416543f69a9ca530f7794c4f",
       "version_major": 2,
       "version_minor": 0
      },
      "text/plain": [
       "Train:   0%|          | 0/150 [00:00<?, ?it/s]"
      ]
     },
     "metadata": {},
     "output_type": "display_data"
    },
    {
     "name": "stdout",
     "output_type": "stream",
     "text": [
      "Epoch 260 - train loss: 0.3477 - train rmse: 0.1108 - val loss: 0.1934 - val rmse: 0.0699\n",
      "Validation MSE did not improve. Counter: 22/300\n"
     ]
    },
    {
     "data": {
      "application/vnd.jupyter.widget-view+json": {
       "model_id": "b1f74144aed042de92fae82215f4a9cc",
       "version_major": 2,
       "version_minor": 0
      },
      "text/plain": [
       "Train:   0%|          | 0/150 [00:00<?, ?it/s]"
      ]
     },
     "metadata": {},
     "output_type": "display_data"
    },
    {
     "name": "stdout",
     "output_type": "stream",
     "text": [
      "Epoch 261 - train loss: 0.3464 - train rmse: 0.1104 - val loss: 0.1938 - val rmse: 0.0710\n",
      "Validation MSE did not improve. Counter: 23/300\n"
     ]
    },
    {
     "data": {
      "application/vnd.jupyter.widget-view+json": {
       "model_id": "b623763ab5ea4e3e90d5f82850c8dc64",
       "version_major": 2,
       "version_minor": 0
      },
      "text/plain": [
       "Train:   0%|          | 0/150 [00:00<?, ?it/s]"
      ]
     },
     "metadata": {},
     "output_type": "display_data"
    },
    {
     "name": "stdout",
     "output_type": "stream",
     "text": [
      "Epoch 262 - train loss: 0.3498 - train rmse: 0.1107 - val loss: 0.1977 - val rmse: 0.0708\n",
      "Validation MSE did not improve. Counter: 24/300\n"
     ]
    },
    {
     "data": {
      "application/vnd.jupyter.widget-view+json": {
       "model_id": "02383942863b4699937e02683eea7e33",
       "version_major": 2,
       "version_minor": 0
      },
      "text/plain": [
       "Train:   0%|          | 0/150 [00:00<?, ?it/s]"
      ]
     },
     "metadata": {},
     "output_type": "display_data"
    },
    {
     "name": "stdout",
     "output_type": "stream",
     "text": [
      "Epoch 263 - train loss: 0.3524 - train rmse: 0.1117 - val loss: 0.1927 - val rmse: 0.0697\n",
      "Validation MSE did not improve. Counter: 25/300\n"
     ]
    },
    {
     "data": {
      "application/vnd.jupyter.widget-view+json": {
       "model_id": "54109f0ef710427ea707704e8bff4b6d",
       "version_major": 2,
       "version_minor": 0
      },
      "text/plain": [
       "Train:   0%|          | 0/150 [00:00<?, ?it/s]"
      ]
     },
     "metadata": {},
     "output_type": "display_data"
    },
    {
     "name": "stdout",
     "output_type": "stream",
     "text": [
      "Epoch 264 - train loss: 0.3475 - train rmse: 0.1109 - val loss: 0.1849 - val rmse: 0.0659\n",
      "Validation MSE improved (0.0045 --> 0.0043). Saving model...\n"
     ]
    },
    {
     "data": {
      "application/vnd.jupyter.widget-view+json": {
       "model_id": "d281786ebd144cc9a5eda22e86a46588",
       "version_major": 2,
       "version_minor": 0
      },
      "text/plain": [
       "Train:   0%|          | 0/150 [00:00<?, ?it/s]"
      ]
     },
     "metadata": {},
     "output_type": "display_data"
    },
    {
     "name": "stdout",
     "output_type": "stream",
     "text": [
      "Epoch 265 - train loss: 0.3444 - train rmse: 0.1093 - val loss: 0.1895 - val rmse: 0.0692\n",
      "Validation MSE did not improve. Counter: 1/300\n"
     ]
    },
    {
     "data": {
      "application/vnd.jupyter.widget-view+json": {
       "model_id": "1cb321310034411f977804425662cf79",
       "version_major": 2,
       "version_minor": 0
      },
      "text/plain": [
       "Train:   0%|          | 0/150 [00:00<?, ?it/s]"
      ]
     },
     "metadata": {},
     "output_type": "display_data"
    },
    {
     "name": "stdout",
     "output_type": "stream",
     "text": [
      "Epoch 266 - train loss: 0.3482 - train rmse: 0.1105 - val loss: 0.1852 - val rmse: 0.0680\n",
      "Validation MSE did not improve. Counter: 2/300\n"
     ]
    },
    {
     "data": {
      "application/vnd.jupyter.widget-view+json": {
       "model_id": "fe54574e7103445c9f3ee665e4e0a613",
       "version_major": 2,
       "version_minor": 0
      },
      "text/plain": [
       "Train:   0%|          | 0/150 [00:00<?, ?it/s]"
      ]
     },
     "metadata": {},
     "output_type": "display_data"
    },
    {
     "name": "stdout",
     "output_type": "stream",
     "text": [
      "Epoch 267 - train loss: 0.3477 - train rmse: 0.1100 - val loss: 0.1872 - val rmse: 0.0683\n",
      "Validation MSE did not improve. Counter: 3/300\n"
     ]
    },
    {
     "data": {
      "application/vnd.jupyter.widget-view+json": {
       "model_id": "14c087c261de47538bc48bd50085c07b",
       "version_major": 2,
       "version_minor": 0
      },
      "text/plain": [
       "Train:   0%|          | 0/150 [00:00<?, ?it/s]"
      ]
     },
     "metadata": {},
     "output_type": "display_data"
    },
    {
     "name": "stdout",
     "output_type": "stream",
     "text": [
      "Epoch 268 - train loss: 0.3488 - train rmse: 0.1107 - val loss: 0.1948 - val rmse: 0.0703\n",
      "Validation MSE did not improve. Counter: 4/300\n"
     ]
    },
    {
     "data": {
      "application/vnd.jupyter.widget-view+json": {
       "model_id": "087a7db10049435992d5339c6d335876",
       "version_major": 2,
       "version_minor": 0
      },
      "text/plain": [
       "Train:   0%|          | 0/150 [00:00<?, ?it/s]"
      ]
     },
     "metadata": {},
     "output_type": "display_data"
    },
    {
     "name": "stdout",
     "output_type": "stream",
     "text": [
      "Epoch 269 - train loss: 0.3375 - train rmse: 0.1081 - val loss: 0.1982 - val rmse: 0.0719\n",
      "Validation MSE did not improve. Counter: 5/300\n"
     ]
    },
    {
     "data": {
      "application/vnd.jupyter.widget-view+json": {
       "model_id": "58b9514805aa4f37b6bd1bce5b3438ce",
       "version_major": 2,
       "version_minor": 0
      },
      "text/plain": [
       "Train:   0%|          | 0/150 [00:00<?, ?it/s]"
      ]
     },
     "metadata": {},
     "output_type": "display_data"
    },
    {
     "name": "stdout",
     "output_type": "stream",
     "text": [
      "Epoch 270 - train loss: 0.3482 - train rmse: 0.1102 - val loss: 0.1978 - val rmse: 0.0718\n",
      "Validation MSE did not improve. Counter: 6/300\n"
     ]
    },
    {
     "data": {
      "application/vnd.jupyter.widget-view+json": {
       "model_id": "d5366b49f5084519aa7838e6a2182f3f",
       "version_major": 2,
       "version_minor": 0
      },
      "text/plain": [
       "Train:   0%|          | 0/150 [00:00<?, ?it/s]"
      ]
     },
     "metadata": {},
     "output_type": "display_data"
    },
    {
     "name": "stdout",
     "output_type": "stream",
     "text": [
      "Epoch 271 - train loss: 0.3451 - train rmse: 0.1093 - val loss: 0.1877 - val rmse: 0.0687\n",
      "Validation MSE did not improve. Counter: 7/300\n"
     ]
    },
    {
     "data": {
      "application/vnd.jupyter.widget-view+json": {
       "model_id": "c6faa3dd37ae4624b4026610644f7927",
       "version_major": 2,
       "version_minor": 0
      },
      "text/plain": [
       "Train:   0%|          | 0/150 [00:00<?, ?it/s]"
      ]
     },
     "metadata": {},
     "output_type": "display_data"
    },
    {
     "name": "stdout",
     "output_type": "stream",
     "text": [
      "Epoch 272 - train loss: 0.3518 - train rmse: 0.1119 - val loss: 0.1831 - val rmse: 0.0654\n",
      "Validation MSE improved (0.0043 --> 0.0043). Saving model...\n"
     ]
    },
    {
     "data": {
      "application/vnd.jupyter.widget-view+json": {
       "model_id": "56f49570e6c44a3ca1a7808ca89e5062",
       "version_major": 2,
       "version_minor": 0
      },
      "text/plain": [
       "Train:   0%|          | 0/150 [00:00<?, ?it/s]"
      ]
     },
     "metadata": {},
     "output_type": "display_data"
    },
    {
     "name": "stdout",
     "output_type": "stream",
     "text": [
      "Epoch 273 - train loss: 0.3416 - train rmse: 0.1094 - val loss: 0.1919 - val rmse: 0.0700\n",
      "Validation MSE did not improve. Counter: 1/300\n"
     ]
    },
    {
     "data": {
      "application/vnd.jupyter.widget-view+json": {
       "model_id": "dbcfdd39558346fd9c880823594419b4",
       "version_major": 2,
       "version_minor": 0
      },
      "text/plain": [
       "Train:   0%|          | 0/150 [00:00<?, ?it/s]"
      ]
     },
     "metadata": {},
     "output_type": "display_data"
    },
    {
     "name": "stdout",
     "output_type": "stream",
     "text": [
      "Epoch 274 - train loss: 0.3549 - train rmse: 0.1121 - val loss: 0.2061 - val rmse: 0.0755\n",
      "Validation MSE did not improve. Counter: 2/300\n"
     ]
    },
    {
     "data": {
      "application/vnd.jupyter.widget-view+json": {
       "model_id": "8e0859fe8d224fe8b5aefe4c8ca6ff6a",
       "version_major": 2,
       "version_minor": 0
      },
      "text/plain": [
       "Train:   0%|          | 0/150 [00:00<?, ?it/s]"
      ]
     },
     "metadata": {},
     "output_type": "display_data"
    },
    {
     "name": "stdout",
     "output_type": "stream",
     "text": [
      "Epoch 275 - train loss: 0.3464 - train rmse: 0.1099 - val loss: 0.1943 - val rmse: 0.0708\n",
      "Validation MSE did not improve. Counter: 3/300\n"
     ]
    },
    {
     "data": {
      "application/vnd.jupyter.widget-view+json": {
       "model_id": "8926495b3dd84657b8597e7d5711d475",
       "version_major": 2,
       "version_minor": 0
      },
      "text/plain": [
       "Train:   0%|          | 0/150 [00:00<?, ?it/s]"
      ]
     },
     "metadata": {},
     "output_type": "display_data"
    },
    {
     "name": "stdout",
     "output_type": "stream",
     "text": [
      "Epoch 276 - train loss: 0.3484 - train rmse: 0.1104 - val loss: 0.1827 - val rmse: 0.0661\n",
      "Validation MSE did not improve. Counter: 4/300\n"
     ]
    },
    {
     "data": {
      "application/vnd.jupyter.widget-view+json": {
       "model_id": "f444f578dff64d34bacddc733c216156",
       "version_major": 2,
       "version_minor": 0
      },
      "text/plain": [
       "Train:   0%|          | 0/150 [00:00<?, ?it/s]"
      ]
     },
     "metadata": {},
     "output_type": "display_data"
    },
    {
     "name": "stdout",
     "output_type": "stream",
     "text": [
      "Epoch 277 - train loss: 0.3482 - train rmse: 0.1111 - val loss: 0.1811 - val rmse: 0.0656\n",
      "Validation MSE did not improve. Counter: 5/300\n"
     ]
    },
    {
     "data": {
      "application/vnd.jupyter.widget-view+json": {
       "model_id": "b7b9f69743064ead967b52c79f9bf797",
       "version_major": 2,
       "version_minor": 0
      },
      "text/plain": [
       "Train:   0%|          | 0/150 [00:00<?, ?it/s]"
      ]
     },
     "metadata": {},
     "output_type": "display_data"
    },
    {
     "name": "stdout",
     "output_type": "stream",
     "text": [
      "Epoch 278 - train loss: 0.3467 - train rmse: 0.1101 - val loss: 0.1910 - val rmse: 0.0695\n",
      "Validation MSE did not improve. Counter: 6/300\n"
     ]
    },
    {
     "data": {
      "application/vnd.jupyter.widget-view+json": {
       "model_id": "6c4f2660bc4841eeaa49d97825b56b08",
       "version_major": 2,
       "version_minor": 0
      },
      "text/plain": [
       "Train:   0%|          | 0/150 [00:00<?, ?it/s]"
      ]
     },
     "metadata": {},
     "output_type": "display_data"
    },
    {
     "name": "stdout",
     "output_type": "stream",
     "text": [
      "Epoch 279 - train loss: 0.3456 - train rmse: 0.1098 - val loss: 0.1821 - val rmse: 0.0664\n",
      "Validation MSE did not improve. Counter: 7/300\n"
     ]
    },
    {
     "data": {
      "application/vnd.jupyter.widget-view+json": {
       "model_id": "77c8eac07b7d4e46947ddbe59c052280",
       "version_major": 2,
       "version_minor": 0
      },
      "text/plain": [
       "Train:   0%|          | 0/150 [00:00<?, ?it/s]"
      ]
     },
     "metadata": {},
     "output_type": "display_data"
    },
    {
     "name": "stdout",
     "output_type": "stream",
     "text": [
      "Epoch 280 - train loss: 0.3442 - train rmse: 0.1091 - val loss: 0.1833 - val rmse: 0.0675\n",
      "Validation MSE did not improve. Counter: 8/300\n"
     ]
    },
    {
     "data": {
      "application/vnd.jupyter.widget-view+json": {
       "model_id": "91ceb476a4734993b3b24f4a295b2616",
       "version_major": 2,
       "version_minor": 0
      },
      "text/plain": [
       "Train:   0%|          | 0/150 [00:00<?, ?it/s]"
      ]
     },
     "metadata": {},
     "output_type": "display_data"
    },
    {
     "name": "stdout",
     "output_type": "stream",
     "text": [
      "Epoch 281 - train loss: 0.3460 - train rmse: 0.1100 - val loss: 0.1793 - val rmse: 0.0670\n",
      "Validation MSE did not improve. Counter: 9/300\n"
     ]
    },
    {
     "data": {
      "application/vnd.jupyter.widget-view+json": {
       "model_id": "397d702f8bf94168bf8f570e68fcdb0e",
       "version_major": 2,
       "version_minor": 0
      },
      "text/plain": [
       "Train:   0%|          | 0/150 [00:00<?, ?it/s]"
      ]
     },
     "metadata": {},
     "output_type": "display_data"
    },
    {
     "name": "stdout",
     "output_type": "stream",
     "text": [
      "Epoch 282 - train loss: 0.3463 - train rmse: 0.1096 - val loss: 0.1888 - val rmse: 0.0700\n",
      "Validation MSE did not improve. Counter: 10/300\n"
     ]
    },
    {
     "data": {
      "application/vnd.jupyter.widget-view+json": {
       "model_id": "8aaa0fbe6a544aa690e75807b0ddfae8",
       "version_major": 2,
       "version_minor": 0
      },
      "text/plain": [
       "Train:   0%|          | 0/150 [00:00<?, ?it/s]"
      ]
     },
     "metadata": {},
     "output_type": "display_data"
    },
    {
     "name": "stdout",
     "output_type": "stream",
     "text": [
      "Epoch 283 - train loss: 0.3490 - train rmse: 0.1103 - val loss: 0.1792 - val rmse: 0.0663\n",
      "Validation MSE did not improve. Counter: 11/300\n"
     ]
    },
    {
     "data": {
      "application/vnd.jupyter.widget-view+json": {
       "model_id": "8ed00ce1d331437fb8afc9738257b5d3",
       "version_major": 2,
       "version_minor": 0
      },
      "text/plain": [
       "Train:   0%|          | 0/150 [00:00<?, ?it/s]"
      ]
     },
     "metadata": {},
     "output_type": "display_data"
    },
    {
     "name": "stdout",
     "output_type": "stream",
     "text": [
      "Epoch 284 - train loss: 0.3429 - train rmse: 0.1089 - val loss: 0.1930 - val rmse: 0.0708\n",
      "Validation MSE did not improve. Counter: 12/300\n"
     ]
    },
    {
     "data": {
      "application/vnd.jupyter.widget-view+json": {
       "model_id": "e482a568fc9e48708e2e0a491af8c7db",
       "version_major": 2,
       "version_minor": 0
      },
      "text/plain": [
       "Train:   0%|          | 0/150 [00:00<?, ?it/s]"
      ]
     },
     "metadata": {},
     "output_type": "display_data"
    },
    {
     "name": "stdout",
     "output_type": "stream",
     "text": [
      "Epoch 285 - train loss: 0.3488 - train rmse: 0.1108 - val loss: 0.1810 - val rmse: 0.0664\n",
      "Validation MSE did not improve. Counter: 13/300\n"
     ]
    },
    {
     "data": {
      "application/vnd.jupyter.widget-view+json": {
       "model_id": "9c0830e554a34b97ba606b41f081047e",
       "version_major": 2,
       "version_minor": 0
      },
      "text/plain": [
       "Train:   0%|          | 0/150 [00:00<?, ?it/s]"
      ]
     },
     "metadata": {},
     "output_type": "display_data"
    },
    {
     "name": "stdout",
     "output_type": "stream",
     "text": [
      "Epoch 286 - train loss: 0.3467 - train rmse: 0.1101 - val loss: 0.1828 - val rmse: 0.0679\n",
      "Validation MSE did not improve. Counter: 14/300\n"
     ]
    },
    {
     "data": {
      "application/vnd.jupyter.widget-view+json": {
       "model_id": "9db5c62f54824c83b9c6b742aa6beae7",
       "version_major": 2,
       "version_minor": 0
      },
      "text/plain": [
       "Train:   0%|          | 0/150 [00:00<?, ?it/s]"
      ]
     },
     "metadata": {},
     "output_type": "display_data"
    },
    {
     "name": "stdout",
     "output_type": "stream",
     "text": [
      "Epoch 287 - train loss: 0.3402 - train rmse: 0.1076 - val loss: 0.1943 - val rmse: 0.0713\n",
      "Validation MSE did not improve. Counter: 15/300\n"
     ]
    },
    {
     "data": {
      "application/vnd.jupyter.widget-view+json": {
       "model_id": "c7c8dc619a224863951045a91ddef1fa",
       "version_major": 2,
       "version_minor": 0
      },
      "text/plain": [
       "Train:   0%|          | 0/150 [00:00<?, ?it/s]"
      ]
     },
     "metadata": {},
     "output_type": "display_data"
    },
    {
     "name": "stdout",
     "output_type": "stream",
     "text": [
      "Epoch 288 - train loss: 0.3426 - train rmse: 0.1089 - val loss: 0.1889 - val rmse: 0.0691\n",
      "Validation MSE did not improve. Counter: 16/300\n"
     ]
    },
    {
     "data": {
      "application/vnd.jupyter.widget-view+json": {
       "model_id": "80e71ceeb0cb4616859789a3b1a92da0",
       "version_major": 2,
       "version_minor": 0
      },
      "text/plain": [
       "Train:   0%|          | 0/150 [00:00<?, ?it/s]"
      ]
     },
     "metadata": {},
     "output_type": "display_data"
    },
    {
     "name": "stdout",
     "output_type": "stream",
     "text": [
      "Epoch 289 - train loss: 0.3444 - train rmse: 0.1097 - val loss: 0.1939 - val rmse: 0.0719\n",
      "Validation MSE did not improve. Counter: 17/300\n"
     ]
    },
    {
     "data": {
      "application/vnd.jupyter.widget-view+json": {
       "model_id": "bb194fe17b74430ea7dc2dd3078ad2b7",
       "version_major": 2,
       "version_minor": 0
      },
      "text/plain": [
       "Train:   0%|          | 0/150 [00:00<?, ?it/s]"
      ]
     },
     "metadata": {},
     "output_type": "display_data"
    },
    {
     "name": "stdout",
     "output_type": "stream",
     "text": [
      "Epoch 290 - train loss: 0.3426 - train rmse: 0.1090 - val loss: 0.1818 - val rmse: 0.0659\n",
      "Validation MSE did not improve. Counter: 18/300\n"
     ]
    },
    {
     "data": {
      "application/vnd.jupyter.widget-view+json": {
       "model_id": "00378c404bd74750a1d4500968f21080",
       "version_major": 2,
       "version_minor": 0
      },
      "text/plain": [
       "Train:   0%|          | 0/150 [00:00<?, ?it/s]"
      ]
     },
     "metadata": {},
     "output_type": "display_data"
    },
    {
     "name": "stdout",
     "output_type": "stream",
     "text": [
      "Epoch 291 - train loss: 0.3452 - train rmse: 0.1098 - val loss: 0.1791 - val rmse: 0.0646\n",
      "Validation MSE improved (0.0043 --> 0.0042). Saving model...\n"
     ]
    },
    {
     "data": {
      "application/vnd.jupyter.widget-view+json": {
       "model_id": "3bcb7e296fe34b2aad9ba1f97bd58692",
       "version_major": 2,
       "version_minor": 0
      },
      "text/plain": [
       "Train:   0%|          | 0/150 [00:00<?, ?it/s]"
      ]
     },
     "metadata": {},
     "output_type": "display_data"
    },
    {
     "name": "stdout",
     "output_type": "stream",
     "text": [
      "Epoch 292 - train loss: 0.3426 - train rmse: 0.1093 - val loss: 0.1922 - val rmse: 0.0703\n",
      "Validation MSE did not improve. Counter: 1/300\n"
     ]
    },
    {
     "data": {
      "application/vnd.jupyter.widget-view+json": {
       "model_id": "b60330cebc48431896afdd31a460d3e9",
       "version_major": 2,
       "version_minor": 0
      },
      "text/plain": [
       "Train:   0%|          | 0/150 [00:00<?, ?it/s]"
      ]
     },
     "metadata": {},
     "output_type": "display_data"
    },
    {
     "name": "stdout",
     "output_type": "stream",
     "text": [
      "Epoch 293 - train loss: 0.3481 - train rmse: 0.1108 - val loss: 0.1841 - val rmse: 0.0684\n",
      "Validation MSE did not improve. Counter: 2/300\n"
     ]
    },
    {
     "data": {
      "application/vnd.jupyter.widget-view+json": {
       "model_id": "83131cbd894e49b2b7c8361d6e88dd36",
       "version_major": 2,
       "version_minor": 0
      },
      "text/plain": [
       "Train:   0%|          | 0/150 [00:00<?, ?it/s]"
      ]
     },
     "metadata": {},
     "output_type": "display_data"
    },
    {
     "name": "stdout",
     "output_type": "stream",
     "text": [
      "Epoch 294 - train loss: 0.3465 - train rmse: 0.1100 - val loss: 0.1798 - val rmse: 0.0670\n",
      "Validation MSE did not improve. Counter: 3/300\n"
     ]
    },
    {
     "data": {
      "application/vnd.jupyter.widget-view+json": {
       "model_id": "ebf51e4716aa43a185a78edb1abbf2d3",
       "version_major": 2,
       "version_minor": 0
      },
      "text/plain": [
       "Train:   0%|          | 0/150 [00:00<?, ?it/s]"
      ]
     },
     "metadata": {},
     "output_type": "display_data"
    },
    {
     "name": "stdout",
     "output_type": "stream",
     "text": [
      "Epoch 295 - train loss: 0.3433 - train rmse: 0.1089 - val loss: 0.1915 - val rmse: 0.0715\n",
      "Validation MSE did not improve. Counter: 4/300\n"
     ]
    },
    {
     "data": {
      "application/vnd.jupyter.widget-view+json": {
       "model_id": "d92db5ab66e84b049d89f6f6fa570068",
       "version_major": 2,
       "version_minor": 0
      },
      "text/plain": [
       "Train:   0%|          | 0/150 [00:00<?, ?it/s]"
      ]
     },
     "metadata": {},
     "output_type": "display_data"
    },
    {
     "name": "stdout",
     "output_type": "stream",
     "text": [
      "Epoch 296 - train loss: 0.3409 - train rmse: 0.1084 - val loss: 0.1771 - val rmse: 0.0653\n",
      "Validation MSE did not improve. Counter: 5/300\n"
     ]
    },
    {
     "data": {
      "application/vnd.jupyter.widget-view+json": {
       "model_id": "4fed7ddf1c29460d94132ac0029c94c2",
       "version_major": 2,
       "version_minor": 0
      },
      "text/plain": [
       "Train:   0%|          | 0/150 [00:00<?, ?it/s]"
      ]
     },
     "metadata": {},
     "output_type": "display_data"
    },
    {
     "name": "stdout",
     "output_type": "stream",
     "text": [
      "Epoch 297 - train loss: 0.3461 - train rmse: 0.1097 - val loss: 0.1767 - val rmse: 0.0644\n",
      "Validation MSE improved (0.0042 --> 0.0041). Saving model...\n"
     ]
    },
    {
     "data": {
      "application/vnd.jupyter.widget-view+json": {
       "model_id": "3fdd5a40b6ad4a1a99b51f9cdad887ec",
       "version_major": 2,
       "version_minor": 0
      },
      "text/plain": [
       "Train:   0%|          | 0/150 [00:00<?, ?it/s]"
      ]
     },
     "metadata": {},
     "output_type": "display_data"
    },
    {
     "name": "stdout",
     "output_type": "stream",
     "text": [
      "Epoch 298 - train loss: 0.3449 - train rmse: 0.1097 - val loss: 0.1846 - val rmse: 0.0680\n",
      "Validation MSE did not improve. Counter: 1/300\n"
     ]
    },
    {
     "data": {
      "application/vnd.jupyter.widget-view+json": {
       "model_id": "f8fcba8a0d0542e58120997c2dd4aa81",
       "version_major": 2,
       "version_minor": 0
      },
      "text/plain": [
       "Train:   0%|          | 0/150 [00:00<?, ?it/s]"
      ]
     },
     "metadata": {},
     "output_type": "display_data"
    },
    {
     "name": "stdout",
     "output_type": "stream",
     "text": [
      "Epoch 299 - train loss: 0.3403 - train rmse: 0.1090 - val loss: 0.1923 - val rmse: 0.0708\n",
      "Validation MSE did not improve. Counter: 2/300\n"
     ]
    },
    {
     "data": {
      "application/vnd.jupyter.widget-view+json": {
       "model_id": "c4025c47aa924fa892a87a37caab20b6",
       "version_major": 2,
       "version_minor": 0
      },
      "text/plain": [
       "Train:   0%|          | 0/150 [00:00<?, ?it/s]"
      ]
     },
     "metadata": {},
     "output_type": "display_data"
    },
    {
     "name": "stdout",
     "output_type": "stream",
     "text": [
      "Epoch 300 - train loss: 0.3403 - train rmse: 0.1082 - val loss: 0.1842 - val rmse: 0.0692\n",
      "Validation MSE did not improve. Counter: 3/300\n"
     ]
    },
    {
     "data": {
      "application/vnd.jupyter.widget-view+json": {
       "model_id": "a2a71d6bef474cafa5e528dd8cea63d4",
       "version_major": 2,
       "version_minor": 0
      },
      "text/plain": [
       "Train:   0%|          | 0/150 [00:00<?, ?it/s]"
      ]
     },
     "metadata": {},
     "output_type": "display_data"
    },
    {
     "name": "stdout",
     "output_type": "stream",
     "text": [
      "Epoch 301 - train loss: 0.3357 - train rmse: 0.1069 - val loss: 0.2005 - val rmse: 0.0730\n",
      "Validation MSE did not improve. Counter: 4/300\n"
     ]
    },
    {
     "data": {
      "application/vnd.jupyter.widget-view+json": {
       "model_id": "7932cdd177c64f5f8b4be827d3763322",
       "version_major": 2,
       "version_minor": 0
      },
      "text/plain": [
       "Train:   0%|          | 0/150 [00:00<?, ?it/s]"
      ]
     },
     "metadata": {},
     "output_type": "display_data"
    },
    {
     "name": "stdout",
     "output_type": "stream",
     "text": [
      "Epoch 302 - train loss: 0.3383 - train rmse: 0.1082 - val loss: 0.1784 - val rmse: 0.0657\n",
      "Validation MSE did not improve. Counter: 5/300\n"
     ]
    },
    {
     "data": {
      "application/vnd.jupyter.widget-view+json": {
       "model_id": "9858cfff6ab04369b091d986080e56c0",
       "version_major": 2,
       "version_minor": 0
      },
      "text/plain": [
       "Train:   0%|          | 0/150 [00:00<?, ?it/s]"
      ]
     },
     "metadata": {},
     "output_type": "display_data"
    },
    {
     "name": "stdout",
     "output_type": "stream",
     "text": [
      "Epoch 303 - train loss: 0.3397 - train rmse: 0.1083 - val loss: 0.1922 - val rmse: 0.0707\n",
      "Validation MSE did not improve. Counter: 6/300\n"
     ]
    },
    {
     "data": {
      "application/vnd.jupyter.widget-view+json": {
       "model_id": "7b9e86d9ef1842afac09c7d53038a129",
       "version_major": 2,
       "version_minor": 0
      },
      "text/plain": [
       "Train:   0%|          | 0/150 [00:00<?, ?it/s]"
      ]
     },
     "metadata": {},
     "output_type": "display_data"
    },
    {
     "name": "stdout",
     "output_type": "stream",
     "text": [
      "Epoch 304 - train loss: 0.3416 - train rmse: 0.1082 - val loss: 0.1744 - val rmse: 0.0643\n",
      "Validation MSE improved (0.0041 --> 0.0041). Saving model...\n"
     ]
    },
    {
     "data": {
      "application/vnd.jupyter.widget-view+json": {
       "model_id": "3f8cad0bd69049778d522cfee5eaf9a6",
       "version_major": 2,
       "version_minor": 0
      },
      "text/plain": [
       "Train:   0%|          | 0/150 [00:00<?, ?it/s]"
      ]
     },
     "metadata": {},
     "output_type": "display_data"
    },
    {
     "name": "stdout",
     "output_type": "stream",
     "text": [
      "Epoch 305 - train loss: 0.3330 - train rmse: 0.1061 - val loss: 0.1946 - val rmse: 0.0722\n",
      "Validation MSE did not improve. Counter: 1/300\n"
     ]
    },
    {
     "data": {
      "application/vnd.jupyter.widget-view+json": {
       "model_id": "194ebdd7e3a24fd8bc14e6017dc6b4c7",
       "version_major": 2,
       "version_minor": 0
      },
      "text/plain": [
       "Train:   0%|          | 0/150 [00:00<?, ?it/s]"
      ]
     },
     "metadata": {},
     "output_type": "display_data"
    },
    {
     "name": "stdout",
     "output_type": "stream",
     "text": [
      "Epoch 306 - train loss: 0.3462 - train rmse: 0.1092 - val loss: 0.1795 - val rmse: 0.0669\n",
      "Validation MSE did not improve. Counter: 2/300\n"
     ]
    },
    {
     "data": {
      "application/vnd.jupyter.widget-view+json": {
       "model_id": "881d4153b3874fc09e50a424fa8859a7",
       "version_major": 2,
       "version_minor": 0
      },
      "text/plain": [
       "Train:   0%|          | 0/150 [00:00<?, ?it/s]"
      ]
     },
     "metadata": {},
     "output_type": "display_data"
    },
    {
     "name": "stdout",
     "output_type": "stream",
     "text": [
      "Epoch 307 - train loss: 0.3402 - train rmse: 0.1089 - val loss: 0.1763 - val rmse: 0.0655\n",
      "Validation MSE did not improve. Counter: 3/300\n"
     ]
    },
    {
     "data": {
      "application/vnd.jupyter.widget-view+json": {
       "model_id": "61634639aa684792a39f75b6828e4d8b",
       "version_major": 2,
       "version_minor": 0
      },
      "text/plain": [
       "Train:   0%|          | 0/150 [00:00<?, ?it/s]"
      ]
     },
     "metadata": {},
     "output_type": "display_data"
    },
    {
     "name": "stdout",
     "output_type": "stream",
     "text": [
      "Epoch 308 - train loss: 0.3422 - train rmse: 0.1088 - val loss: 0.1747 - val rmse: 0.0648\n",
      "Validation MSE did not improve. Counter: 4/300\n"
     ]
    },
    {
     "data": {
      "application/vnd.jupyter.widget-view+json": {
       "model_id": "71170d5c67194e2b989b49d452beb797",
       "version_major": 2,
       "version_minor": 0
      },
      "text/plain": [
       "Train:   0%|          | 0/150 [00:00<?, ?it/s]"
      ]
     },
     "metadata": {},
     "output_type": "display_data"
    },
    {
     "name": "stdout",
     "output_type": "stream",
     "text": [
      "Epoch 309 - train loss: 0.3374 - train rmse: 0.1081 - val loss: 0.1799 - val rmse: 0.0668\n",
      "Validation MSE did not improve. Counter: 5/300\n"
     ]
    },
    {
     "data": {
      "application/vnd.jupyter.widget-view+json": {
       "model_id": "d537595187c64245902ed57f81381385",
       "version_major": 2,
       "version_minor": 0
      },
      "text/plain": [
       "Train:   0%|          | 0/150 [00:00<?, ?it/s]"
      ]
     },
     "metadata": {},
     "output_type": "display_data"
    },
    {
     "name": "stdout",
     "output_type": "stream",
     "text": [
      "Epoch 310 - train loss: 0.3418 - train rmse: 0.1089 - val loss: 0.1856 - val rmse: 0.0693\n",
      "Validation MSE did not improve. Counter: 6/300\n"
     ]
    },
    {
     "data": {
      "application/vnd.jupyter.widget-view+json": {
       "model_id": "da75c19ce4c34e26a6fc6d9ef8628ccd",
       "version_major": 2,
       "version_minor": 0
      },
      "text/plain": [
       "Train:   0%|          | 0/150 [00:00<?, ?it/s]"
      ]
     },
     "metadata": {},
     "output_type": "display_data"
    },
    {
     "name": "stdout",
     "output_type": "stream",
     "text": [
      "Epoch 311 - train loss: 0.3393 - train rmse: 0.1080 - val loss: 0.1799 - val rmse: 0.0664\n",
      "Validation MSE did not improve. Counter: 7/300\n"
     ]
    },
    {
     "data": {
      "application/vnd.jupyter.widget-view+json": {
       "model_id": "2edb9fab109845c182d415be96bbeb19",
       "version_major": 2,
       "version_minor": 0
      },
      "text/plain": [
       "Train:   0%|          | 0/150 [00:00<?, ?it/s]"
      ]
     },
     "metadata": {},
     "output_type": "display_data"
    },
    {
     "name": "stdout",
     "output_type": "stream",
     "text": [
      "Epoch 312 - train loss: 0.3323 - train rmse: 0.1061 - val loss: 0.1801 - val rmse: 0.0675\n",
      "Validation MSE did not improve. Counter: 8/300\n"
     ]
    },
    {
     "data": {
      "application/vnd.jupyter.widget-view+json": {
       "model_id": "484f272264294041a45eefae3ad1fbdc",
       "version_major": 2,
       "version_minor": 0
      },
      "text/plain": [
       "Train:   0%|          | 0/150 [00:00<?, ?it/s]"
      ]
     },
     "metadata": {},
     "output_type": "display_data"
    },
    {
     "name": "stdout",
     "output_type": "stream",
     "text": [
      "Epoch 313 - train loss: 0.3370 - train rmse: 0.1078 - val loss: 0.1737 - val rmse: 0.0649\n",
      "Validation MSE did not improve. Counter: 9/300\n"
     ]
    },
    {
     "data": {
      "application/vnd.jupyter.widget-view+json": {
       "model_id": "2e1cb92152c34b32ac0809fd55547059",
       "version_major": 2,
       "version_minor": 0
      },
      "text/plain": [
       "Train:   0%|          | 0/150 [00:00<?, ?it/s]"
      ]
     },
     "metadata": {},
     "output_type": "display_data"
    },
    {
     "name": "stdout",
     "output_type": "stream",
     "text": [
      "Epoch 314 - train loss: 0.3395 - train rmse: 0.1081 - val loss: 0.1788 - val rmse: 0.0664\n",
      "Validation MSE did not improve. Counter: 10/300\n"
     ]
    },
    {
     "data": {
      "application/vnd.jupyter.widget-view+json": {
       "model_id": "4f23af0b41f843cb936c52180c44b041",
       "version_major": 2,
       "version_minor": 0
      },
      "text/plain": [
       "Train:   0%|          | 0/150 [00:00<?, ?it/s]"
      ]
     },
     "metadata": {},
     "output_type": "display_data"
    },
    {
     "name": "stdout",
     "output_type": "stream",
     "text": [
      "Epoch 315 - train loss: 0.3387 - train rmse: 0.1074 - val loss: 0.1760 - val rmse: 0.0656\n",
      "Validation MSE did not improve. Counter: 11/300\n"
     ]
    },
    {
     "data": {
      "application/vnd.jupyter.widget-view+json": {
       "model_id": "e968c5fa13814b9ab5485ba380b418e6",
       "version_major": 2,
       "version_minor": 0
      },
      "text/plain": [
       "Train:   0%|          | 0/150 [00:00<?, ?it/s]"
      ]
     },
     "metadata": {},
     "output_type": "display_data"
    },
    {
     "name": "stdout",
     "output_type": "stream",
     "text": [
      "Epoch 316 - train loss: 0.3354 - train rmse: 0.1071 - val loss: 0.1758 - val rmse: 0.0647\n",
      "Validation MSE did not improve. Counter: 12/300\n"
     ]
    },
    {
     "data": {
      "application/vnd.jupyter.widget-view+json": {
       "model_id": "3d3410752c9b45d4b325bcab82d6a9e0",
       "version_major": 2,
       "version_minor": 0
      },
      "text/plain": [
       "Train:   0%|          | 0/150 [00:00<?, ?it/s]"
      ]
     },
     "metadata": {},
     "output_type": "display_data"
    },
    {
     "name": "stdout",
     "output_type": "stream",
     "text": [
      "Epoch 317 - train loss: 0.3397 - train rmse: 0.1082 - val loss: 0.1740 - val rmse: 0.0641\n",
      "Validation MSE improved (0.0041 --> 0.0041). Saving model...\n"
     ]
    },
    {
     "data": {
      "application/vnd.jupyter.widget-view+json": {
       "model_id": "6b73d95004334671b077a58bc459b876",
       "version_major": 2,
       "version_minor": 0
      },
      "text/plain": [
       "Train:   0%|          | 0/150 [00:00<?, ?it/s]"
      ]
     },
     "metadata": {},
     "output_type": "display_data"
    },
    {
     "name": "stdout",
     "output_type": "stream",
     "text": [
      "Epoch 318 - train loss: 0.3433 - train rmse: 0.1094 - val loss: 0.1719 - val rmse: 0.0643\n",
      "Validation MSE did not improve. Counter: 1/300\n"
     ]
    },
    {
     "data": {
      "application/vnd.jupyter.widget-view+json": {
       "model_id": "4a3071e9632c46d5a333c3246076c4b4",
       "version_major": 2,
       "version_minor": 0
      },
      "text/plain": [
       "Train:   0%|          | 0/150 [00:00<?, ?it/s]"
      ]
     },
     "metadata": {},
     "output_type": "display_data"
    },
    {
     "name": "stdout",
     "output_type": "stream",
     "text": [
      "Epoch 319 - train loss: 0.3403 - train rmse: 0.1089 - val loss: 0.1846 - val rmse: 0.0685\n",
      "Validation MSE did not improve. Counter: 2/300\n"
     ]
    },
    {
     "data": {
      "application/vnd.jupyter.widget-view+json": {
       "model_id": "8c697733eb094a1292b8641c79be8e4f",
       "version_major": 2,
       "version_minor": 0
      },
      "text/plain": [
       "Train:   0%|          | 0/150 [00:00<?, ?it/s]"
      ]
     },
     "metadata": {},
     "output_type": "display_data"
    },
    {
     "name": "stdout",
     "output_type": "stream",
     "text": [
      "Epoch 320 - train loss: 0.3346 - train rmse: 0.1070 - val loss: 0.1771 - val rmse: 0.0665\n",
      "Validation MSE did not improve. Counter: 3/300\n"
     ]
    },
    {
     "data": {
      "application/vnd.jupyter.widget-view+json": {
       "model_id": "74f5162609b041aaacadcdc0d8440be7",
       "version_major": 2,
       "version_minor": 0
      },
      "text/plain": [
       "Train:   0%|          | 0/150 [00:00<?, ?it/s]"
      ]
     },
     "metadata": {},
     "output_type": "display_data"
    },
    {
     "name": "stdout",
     "output_type": "stream",
     "text": [
      "Epoch 321 - train loss: 0.3353 - train rmse: 0.1072 - val loss: 0.1753 - val rmse: 0.0655\n",
      "Validation MSE did not improve. Counter: 4/300\n"
     ]
    },
    {
     "data": {
      "application/vnd.jupyter.widget-view+json": {
       "model_id": "9c60f897876a4d3e946abc65acf96008",
       "version_major": 2,
       "version_minor": 0
      },
      "text/plain": [
       "Train:   0%|          | 0/150 [00:00<?, ?it/s]"
      ]
     },
     "metadata": {},
     "output_type": "display_data"
    },
    {
     "name": "stdout",
     "output_type": "stream",
     "text": [
      "Epoch 322 - train loss: 0.3341 - train rmse: 0.1068 - val loss: 0.1751 - val rmse: 0.0654\n",
      "Validation MSE did not improve. Counter: 5/300\n"
     ]
    },
    {
     "data": {
      "application/vnd.jupyter.widget-view+json": {
       "model_id": "d3e3ecda7b01444e8ea3aa37550120c9",
       "version_major": 2,
       "version_minor": 0
      },
      "text/plain": [
       "Train:   0%|          | 0/150 [00:00<?, ?it/s]"
      ]
     },
     "metadata": {},
     "output_type": "display_data"
    },
    {
     "name": "stdout",
     "output_type": "stream",
     "text": [
      "Epoch 323 - train loss: 0.3351 - train rmse: 0.1073 - val loss: 0.1814 - val rmse: 0.0680\n",
      "Validation MSE did not improve. Counter: 6/300\n"
     ]
    },
    {
     "data": {
      "application/vnd.jupyter.widget-view+json": {
       "model_id": "fa2d348d42354794b59c3b923e0b2bef",
       "version_major": 2,
       "version_minor": 0
      },
      "text/plain": [
       "Train:   0%|          | 0/150 [00:00<?, ?it/s]"
      ]
     },
     "metadata": {},
     "output_type": "display_data"
    },
    {
     "name": "stdout",
     "output_type": "stream",
     "text": [
      "Epoch 324 - train loss: 0.3354 - train rmse: 0.1066 - val loss: 0.1790 - val rmse: 0.0669\n",
      "Validation MSE did not improve. Counter: 7/300\n"
     ]
    },
    {
     "data": {
      "application/vnd.jupyter.widget-view+json": {
       "model_id": "61c45d575a5b49f38a1959df6b6057a6",
       "version_major": 2,
       "version_minor": 0
      },
      "text/plain": [
       "Train:   0%|          | 0/150 [00:00<?, ?it/s]"
      ]
     },
     "metadata": {},
     "output_type": "display_data"
    },
    {
     "name": "stdout",
     "output_type": "stream",
     "text": [
      "Epoch 325 - train loss: 0.3360 - train rmse: 0.1074 - val loss: 0.1905 - val rmse: 0.0704\n",
      "Validation MSE did not improve. Counter: 8/300\n"
     ]
    },
    {
     "data": {
      "application/vnd.jupyter.widget-view+json": {
       "model_id": "8c234260534a40929bd770fa2a1d16d0",
       "version_major": 2,
       "version_minor": 0
      },
      "text/plain": [
       "Train:   0%|          | 0/150 [00:00<?, ?it/s]"
      ]
     },
     "metadata": {},
     "output_type": "display_data"
    },
    {
     "name": "stdout",
     "output_type": "stream",
     "text": [
      "Epoch 326 - train loss: 0.3338 - train rmse: 0.1066 - val loss: 0.1752 - val rmse: 0.0654\n",
      "Validation MSE did not improve. Counter: 9/300\n"
     ]
    },
    {
     "data": {
      "application/vnd.jupyter.widget-view+json": {
       "model_id": "bea90fa3ddc84adbb0f8c788751781ab",
       "version_major": 2,
       "version_minor": 0
      },
      "text/plain": [
       "Train:   0%|          | 0/150 [00:00<?, ?it/s]"
      ]
     },
     "metadata": {},
     "output_type": "display_data"
    },
    {
     "name": "stdout",
     "output_type": "stream",
     "text": [
      "Epoch 327 - train loss: 0.3333 - train rmse: 0.1065 - val loss: 0.1783 - val rmse: 0.0662\n",
      "Validation MSE did not improve. Counter: 10/300\n"
     ]
    },
    {
     "data": {
      "application/vnd.jupyter.widget-view+json": {
       "model_id": "2515bbbf27a14811add7e62eda0efc0e",
       "version_major": 2,
       "version_minor": 0
      },
      "text/plain": [
       "Train:   0%|          | 0/150 [00:00<?, ?it/s]"
      ]
     },
     "metadata": {},
     "output_type": "display_data"
    },
    {
     "name": "stdout",
     "output_type": "stream",
     "text": [
      "Epoch 328 - train loss: 0.3327 - train rmse: 0.1062 - val loss: 0.1794 - val rmse: 0.0679\n",
      "Validation MSE did not improve. Counter: 11/300\n"
     ]
    },
    {
     "data": {
      "application/vnd.jupyter.widget-view+json": {
       "model_id": "3bb586e28dbe48c3904a3abc32b155de",
       "version_major": 2,
       "version_minor": 0
      },
      "text/plain": [
       "Train:   0%|          | 0/150 [00:00<?, ?it/s]"
      ]
     },
     "metadata": {},
     "output_type": "display_data"
    },
    {
     "name": "stdout",
     "output_type": "stream",
     "text": [
      "Epoch 329 - train loss: 0.3353 - train rmse: 0.1067 - val loss: 0.1806 - val rmse: 0.0684\n",
      "Validation MSE did not improve. Counter: 12/300\n"
     ]
    },
    {
     "data": {
      "application/vnd.jupyter.widget-view+json": {
       "model_id": "b28d2548fec64e6f9ef77e9121671c0b",
       "version_major": 2,
       "version_minor": 0
      },
      "text/plain": [
       "Train:   0%|          | 0/150 [00:00<?, ?it/s]"
      ]
     },
     "metadata": {},
     "output_type": "display_data"
    },
    {
     "name": "stdout",
     "output_type": "stream",
     "text": [
      "Epoch 330 - train loss: 0.3344 - train rmse: 0.1065 - val loss: 0.1715 - val rmse: 0.0648\n",
      "Validation MSE did not improve. Counter: 13/300\n"
     ]
    },
    {
     "data": {
      "application/vnd.jupyter.widget-view+json": {
       "model_id": "97711fe6c5d94af6b973a5291a52a916",
       "version_major": 2,
       "version_minor": 0
      },
      "text/plain": [
       "Train:   0%|          | 0/150 [00:00<?, ?it/s]"
      ]
     },
     "metadata": {},
     "output_type": "display_data"
    },
    {
     "name": "stdout",
     "output_type": "stream",
     "text": [
      "Epoch 331 - train loss: 0.3301 - train rmse: 0.1062 - val loss: 0.1750 - val rmse: 0.0654\n",
      "Validation MSE did not improve. Counter: 14/300\n"
     ]
    },
    {
     "data": {
      "application/vnd.jupyter.widget-view+json": {
       "model_id": "3212898bbd704aafb0b0ad3666618fa0",
       "version_major": 2,
       "version_minor": 0
      },
      "text/plain": [
       "Train:   0%|          | 0/150 [00:00<?, ?it/s]"
      ]
     },
     "metadata": {},
     "output_type": "display_data"
    },
    {
     "name": "stdout",
     "output_type": "stream",
     "text": [
      "Epoch 332 - train loss: 0.3333 - train rmse: 0.1062 - val loss: 0.1746 - val rmse: 0.0650\n",
      "Validation MSE did not improve. Counter: 15/300\n"
     ]
    },
    {
     "data": {
      "application/vnd.jupyter.widget-view+json": {
       "model_id": "36fd7c69f9c04d7c94c54b08b123f3c5",
       "version_major": 2,
       "version_minor": 0
      },
      "text/plain": [
       "Train:   0%|          | 0/150 [00:00<?, ?it/s]"
      ]
     },
     "metadata": {},
     "output_type": "display_data"
    },
    {
     "name": "stdout",
     "output_type": "stream",
     "text": [
      "Epoch 333 - train loss: 0.3339 - train rmse: 0.1069 - val loss: 0.1743 - val rmse: 0.0661\n",
      "Validation MSE did not improve. Counter: 16/300\n"
     ]
    },
    {
     "data": {
      "application/vnd.jupyter.widget-view+json": {
       "model_id": "ee80b2745bb04167923da12a64033ded",
       "version_major": 2,
       "version_minor": 0
      },
      "text/plain": [
       "Train:   0%|          | 0/150 [00:00<?, ?it/s]"
      ]
     },
     "metadata": {},
     "output_type": "display_data"
    },
    {
     "name": "stdout",
     "output_type": "stream",
     "text": [
      "Epoch 334 - train loss: 0.3349 - train rmse: 0.1069 - val loss: 0.1789 - val rmse: 0.0673\n",
      "Validation MSE did not improve. Counter: 17/300\n"
     ]
    },
    {
     "data": {
      "application/vnd.jupyter.widget-view+json": {
       "model_id": "d67b229ba47242f5a413e282c9822bef",
       "version_major": 2,
       "version_minor": 0
      },
      "text/plain": [
       "Train:   0%|          | 0/150 [00:00<?, ?it/s]"
      ]
     },
     "metadata": {},
     "output_type": "display_data"
    },
    {
     "name": "stdout",
     "output_type": "stream",
     "text": [
      "Epoch 335 - train loss: 0.3341 - train rmse: 0.1064 - val loss: 0.1711 - val rmse: 0.0645\n",
      "Validation MSE did not improve. Counter: 18/300\n"
     ]
    },
    {
     "data": {
      "application/vnd.jupyter.widget-view+json": {
       "model_id": "ae48be293c7747a890628c8fa371aae2",
       "version_major": 2,
       "version_minor": 0
      },
      "text/plain": [
       "Train:   0%|          | 0/150 [00:00<?, ?it/s]"
      ]
     },
     "metadata": {},
     "output_type": "display_data"
    },
    {
     "name": "stdout",
     "output_type": "stream",
     "text": [
      "Epoch 336 - train loss: 0.3347 - train rmse: 0.1073 - val loss: 0.1734 - val rmse: 0.0644\n",
      "Validation MSE did not improve. Counter: 19/300\n"
     ]
    },
    {
     "data": {
      "application/vnd.jupyter.widget-view+json": {
       "model_id": "29205c7553b64ad2a856fea76a6dd333",
       "version_major": 2,
       "version_minor": 0
      },
      "text/plain": [
       "Train:   0%|          | 0/150 [00:00<?, ?it/s]"
      ]
     },
     "metadata": {},
     "output_type": "display_data"
    },
    {
     "name": "stdout",
     "output_type": "stream",
     "text": [
      "Epoch 337 - train loss: 0.3352 - train rmse: 0.1074 - val loss: 0.1745 - val rmse: 0.0655\n",
      "Validation MSE did not improve. Counter: 20/300\n"
     ]
    },
    {
     "data": {
      "application/vnd.jupyter.widget-view+json": {
       "model_id": "fd151639d4ff4a08bb89cc8cfbe56697",
       "version_major": 2,
       "version_minor": 0
      },
      "text/plain": [
       "Train:   0%|          | 0/150 [00:00<?, ?it/s]"
      ]
     },
     "metadata": {},
     "output_type": "display_data"
    },
    {
     "name": "stdout",
     "output_type": "stream",
     "text": [
      "Epoch 338 - train loss: 0.3307 - train rmse: 0.1066 - val loss: 0.1672 - val rmse: 0.0642\n",
      "Validation MSE did not improve. Counter: 21/300\n"
     ]
    },
    {
     "data": {
      "application/vnd.jupyter.widget-view+json": {
       "model_id": "a6e84175cc6748aabf762223267a32d7",
       "version_major": 2,
       "version_minor": 0
      },
      "text/plain": [
       "Train:   0%|          | 0/150 [00:00<?, ?it/s]"
      ]
     },
     "metadata": {},
     "output_type": "display_data"
    },
    {
     "name": "stdout",
     "output_type": "stream",
     "text": [
      "Epoch 339 - train loss: 0.3352 - train rmse: 0.1072 - val loss: 0.1731 - val rmse: 0.0654\n",
      "Validation MSE did not improve. Counter: 22/300\n"
     ]
    },
    {
     "data": {
      "application/vnd.jupyter.widget-view+json": {
       "model_id": "9ae97e2705414f859db45f915c45cff3",
       "version_major": 2,
       "version_minor": 0
      },
      "text/plain": [
       "Train:   0%|          | 0/150 [00:00<?, ?it/s]"
      ]
     },
     "metadata": {},
     "output_type": "display_data"
    },
    {
     "name": "stdout",
     "output_type": "stream",
     "text": [
      "Epoch 340 - train loss: 0.3318 - train rmse: 0.1065 - val loss: 0.1801 - val rmse: 0.0680\n",
      "Validation MSE did not improve. Counter: 23/300\n"
     ]
    },
    {
     "data": {
      "application/vnd.jupyter.widget-view+json": {
       "model_id": "1162f627783c4b88ab3dd6d7def8c881",
       "version_major": 2,
       "version_minor": 0
      },
      "text/plain": [
       "Train:   0%|          | 0/150 [00:00<?, ?it/s]"
      ]
     },
     "metadata": {},
     "output_type": "display_data"
    },
    {
     "name": "stdout",
     "output_type": "stream",
     "text": [
      "Epoch 341 - train loss: 0.3366 - train rmse: 0.1076 - val loss: 0.1748 - val rmse: 0.0662\n",
      "Validation MSE did not improve. Counter: 24/300\n"
     ]
    },
    {
     "data": {
      "application/vnd.jupyter.widget-view+json": {
       "model_id": "b6d382e51d6f41468b72e9eb1621c1a3",
       "version_major": 2,
       "version_minor": 0
      },
      "text/plain": [
       "Train:   0%|          | 0/150 [00:00<?, ?it/s]"
      ]
     },
     "metadata": {},
     "output_type": "display_data"
    },
    {
     "name": "stdout",
     "output_type": "stream",
     "text": [
      "Epoch 342 - train loss: 0.3312 - train rmse: 0.1058 - val loss: 0.1729 - val rmse: 0.0653\n",
      "Validation MSE did not improve. Counter: 25/300\n"
     ]
    },
    {
     "data": {
      "application/vnd.jupyter.widget-view+json": {
       "model_id": "8bb413d29d6e431dad8f9e6dd116e33f",
       "version_major": 2,
       "version_minor": 0
      },
      "text/plain": [
       "Train:   0%|          | 0/150 [00:00<?, ?it/s]"
      ]
     },
     "metadata": {},
     "output_type": "display_data"
    },
    {
     "name": "stdout",
     "output_type": "stream",
     "text": [
      "Epoch 343 - train loss: 0.3269 - train rmse: 0.1039 - val loss: 0.1750 - val rmse: 0.0661\n",
      "Validation MSE did not improve. Counter: 26/300\n"
     ]
    },
    {
     "data": {
      "application/vnd.jupyter.widget-view+json": {
       "model_id": "81f02260ee69451d85e9eeb00e5715b4",
       "version_major": 2,
       "version_minor": 0
      },
      "text/plain": [
       "Train:   0%|          | 0/150 [00:00<?, ?it/s]"
      ]
     },
     "metadata": {},
     "output_type": "display_data"
    },
    {
     "name": "stdout",
     "output_type": "stream",
     "text": [
      "Epoch 344 - train loss: 0.3328 - train rmse: 0.1063 - val loss: 0.1808 - val rmse: 0.0681\n",
      "Validation MSE did not improve. Counter: 27/300\n"
     ]
    },
    {
     "data": {
      "application/vnd.jupyter.widget-view+json": {
       "model_id": "289d9fc03e4247be86d1ac37aaec2637",
       "version_major": 2,
       "version_minor": 0
      },
      "text/plain": [
       "Train:   0%|          | 0/150 [00:00<?, ?it/s]"
      ]
     },
     "metadata": {},
     "output_type": "display_data"
    },
    {
     "name": "stdout",
     "output_type": "stream",
     "text": [
      "Epoch 345 - train loss: 0.3335 - train rmse: 0.1067 - val loss: 0.1706 - val rmse: 0.0650\n",
      "Validation MSE did not improve. Counter: 28/300\n"
     ]
    },
    {
     "data": {
      "application/vnd.jupyter.widget-view+json": {
       "model_id": "08958be78d584d408bff99b2512fe979",
       "version_major": 2,
       "version_minor": 0
      },
      "text/plain": [
       "Train:   0%|          | 0/150 [00:00<?, ?it/s]"
      ]
     },
     "metadata": {},
     "output_type": "display_data"
    },
    {
     "name": "stdout",
     "output_type": "stream",
     "text": [
      "Epoch 346 - train loss: 0.3254 - train rmse: 0.1043 - val loss: 0.1670 - val rmse: 0.0631\n",
      "Validation MSE improved (0.0041 --> 0.0040). Saving model...\n"
     ]
    },
    {
     "data": {
      "application/vnd.jupyter.widget-view+json": {
       "model_id": "7d327c2e2e004b97a1904dcfbe5bb256",
       "version_major": 2,
       "version_minor": 0
      },
      "text/plain": [
       "Train:   0%|          | 0/150 [00:00<?, ?it/s]"
      ]
     },
     "metadata": {},
     "output_type": "display_data"
    },
    {
     "name": "stdout",
     "output_type": "stream",
     "text": [
      "Epoch 347 - train loss: 0.3314 - train rmse: 0.1056 - val loss: 0.1674 - val rmse: 0.0630\n",
      "Validation MSE improved (0.0040 --> 0.0040). Saving model...\n"
     ]
    },
    {
     "data": {
      "application/vnd.jupyter.widget-view+json": {
       "model_id": "982587bfffe8444fba0e9c5d21fcc235",
       "version_major": 2,
       "version_minor": 0
      },
      "text/plain": [
       "Train:   0%|          | 0/150 [00:00<?, ?it/s]"
      ]
     },
     "metadata": {},
     "output_type": "display_data"
    },
    {
     "name": "stdout",
     "output_type": "stream",
     "text": [
      "Epoch 348 - train loss: 0.3327 - train rmse: 0.1063 - val loss: 0.1763 - val rmse: 0.0671\n",
      "Validation MSE did not improve. Counter: 1/300\n"
     ]
    },
    {
     "data": {
      "application/vnd.jupyter.widget-view+json": {
       "model_id": "f01e91f0c48949ed89b778745ba0168b",
       "version_major": 2,
       "version_minor": 0
      },
      "text/plain": [
       "Train:   0%|          | 0/150 [00:00<?, ?it/s]"
      ]
     },
     "metadata": {},
     "output_type": "display_data"
    },
    {
     "name": "stdout",
     "output_type": "stream",
     "text": [
      "Epoch 349 - train loss: 0.3371 - train rmse: 0.1073 - val loss: 0.1745 - val rmse: 0.0673\n",
      "Validation MSE did not improve. Counter: 2/300\n"
     ]
    },
    {
     "data": {
      "application/vnd.jupyter.widget-view+json": {
       "model_id": "947cb1836b234a7daa05cad6e9cc12d1",
       "version_major": 2,
       "version_minor": 0
      },
      "text/plain": [
       "Train:   0%|          | 0/150 [00:00<?, ?it/s]"
      ]
     },
     "metadata": {},
     "output_type": "display_data"
    },
    {
     "name": "stdout",
     "output_type": "stream",
     "text": [
      "Epoch 350 - train loss: 0.3321 - train rmse: 0.1070 - val loss: 0.1713 - val rmse: 0.0660\n",
      "Validation MSE did not improve. Counter: 3/300\n"
     ]
    },
    {
     "data": {
      "application/vnd.jupyter.widget-view+json": {
       "model_id": "f9b3b42a67034dceabb262d53253f8cd",
       "version_major": 2,
       "version_minor": 0
      },
      "text/plain": [
       "Train:   0%|          | 0/150 [00:00<?, ?it/s]"
      ]
     },
     "metadata": {},
     "output_type": "display_data"
    },
    {
     "name": "stdout",
     "output_type": "stream",
     "text": [
      "Epoch 351 - train loss: 0.3307 - train rmse: 0.1060 - val loss: 0.1623 - val rmse: 0.0618\n",
      "Validation MSE improved (0.0040 --> 0.0038). Saving model...\n"
     ]
    },
    {
     "data": {
      "application/vnd.jupyter.widget-view+json": {
       "model_id": "f7331e6acbc0494291c4ac4993771d1c",
       "version_major": 2,
       "version_minor": 0
      },
      "text/plain": [
       "Train:   0%|          | 0/150 [00:00<?, ?it/s]"
      ]
     },
     "metadata": {},
     "output_type": "display_data"
    },
    {
     "name": "stdout",
     "output_type": "stream",
     "text": [
      "Epoch 352 - train loss: 0.3277 - train rmse: 0.1050 - val loss: 0.1621 - val rmse: 0.0623\n",
      "Validation MSE did not improve. Counter: 1/300\n"
     ]
    },
    {
     "data": {
      "application/vnd.jupyter.widget-view+json": {
       "model_id": "51a9d87a54f34e349ef42add54eab89d",
       "version_major": 2,
       "version_minor": 0
      },
      "text/plain": [
       "Train:   0%|          | 0/150 [00:00<?, ?it/s]"
      ]
     },
     "metadata": {},
     "output_type": "display_data"
    },
    {
     "name": "stdout",
     "output_type": "stream",
     "text": [
      "Epoch 353 - train loss: 0.3279 - train rmse: 0.1049 - val loss: 0.1703 - val rmse: 0.0643\n",
      "Validation MSE did not improve. Counter: 2/300\n"
     ]
    },
    {
     "data": {
      "application/vnd.jupyter.widget-view+json": {
       "model_id": "930c419a16004ac7b9a32d560782c69b",
       "version_major": 2,
       "version_minor": 0
      },
      "text/plain": [
       "Train:   0%|          | 0/150 [00:00<?, ?it/s]"
      ]
     },
     "metadata": {},
     "output_type": "display_data"
    },
    {
     "name": "stdout",
     "output_type": "stream",
     "text": [
      "Epoch 354 - train loss: 0.3348 - train rmse: 0.1066 - val loss: 0.1716 - val rmse: 0.0656\n",
      "Validation MSE did not improve. Counter: 3/300\n"
     ]
    },
    {
     "data": {
      "application/vnd.jupyter.widget-view+json": {
       "model_id": "d1cffd932de54ec794d2810cc4852898",
       "version_major": 2,
       "version_minor": 0
      },
      "text/plain": [
       "Train:   0%|          | 0/150 [00:00<?, ?it/s]"
      ]
     },
     "metadata": {},
     "output_type": "display_data"
    },
    {
     "name": "stdout",
     "output_type": "stream",
     "text": [
      "Epoch 355 - train loss: 0.3318 - train rmse: 0.1064 - val loss: 0.1657 - val rmse: 0.0638\n",
      "Validation MSE did not improve. Counter: 4/300\n"
     ]
    },
    {
     "data": {
      "application/vnd.jupyter.widget-view+json": {
       "model_id": "f1a329f288a04862b776eb622203db79",
       "version_major": 2,
       "version_minor": 0
      },
      "text/plain": [
       "Train:   0%|          | 0/150 [00:00<?, ?it/s]"
      ]
     },
     "metadata": {},
     "output_type": "display_data"
    },
    {
     "name": "stdout",
     "output_type": "stream",
     "text": [
      "Epoch 356 - train loss: 0.3270 - train rmse: 0.1046 - val loss: 0.1750 - val rmse: 0.0659\n",
      "Validation MSE did not improve. Counter: 5/300\n"
     ]
    },
    {
     "data": {
      "application/vnd.jupyter.widget-view+json": {
       "model_id": "afc854bee56740e898b5e4c93f3f3406",
       "version_major": 2,
       "version_minor": 0
      },
      "text/plain": [
       "Train:   0%|          | 0/150 [00:00<?, ?it/s]"
      ]
     },
     "metadata": {},
     "output_type": "display_data"
    },
    {
     "name": "stdout",
     "output_type": "stream",
     "text": [
      "Epoch 357 - train loss: 0.3295 - train rmse: 0.1049 - val loss: 0.1744 - val rmse: 0.0654\n",
      "Validation MSE did not improve. Counter: 6/300\n"
     ]
    },
    {
     "data": {
      "application/vnd.jupyter.widget-view+json": {
       "model_id": "c077fee6a3f64d2c899058543444f2a4",
       "version_major": 2,
       "version_minor": 0
      },
      "text/plain": [
       "Train:   0%|          | 0/150 [00:00<?, ?it/s]"
      ]
     },
     "metadata": {},
     "output_type": "display_data"
    },
    {
     "name": "stdout",
     "output_type": "stream",
     "text": [
      "Epoch 358 - train loss: 0.3321 - train rmse: 0.1061 - val loss: 0.1725 - val rmse: 0.0645\n",
      "Validation MSE did not improve. Counter: 7/300\n"
     ]
    },
    {
     "data": {
      "application/vnd.jupyter.widget-view+json": {
       "model_id": "abc537c996aa4e89973fbd7733481464",
       "version_major": 2,
       "version_minor": 0
      },
      "text/plain": [
       "Train:   0%|          | 0/150 [00:00<?, ?it/s]"
      ]
     },
     "metadata": {},
     "output_type": "display_data"
    },
    {
     "name": "stdout",
     "output_type": "stream",
     "text": [
      "Epoch 359 - train loss: 0.3276 - train rmse: 0.1048 - val loss: 0.1680 - val rmse: 0.0637\n",
      "Validation MSE did not improve. Counter: 8/300\n"
     ]
    },
    {
     "data": {
      "application/vnd.jupyter.widget-view+json": {
       "model_id": "970b1a4753df42dc88ab464589bb55f3",
       "version_major": 2,
       "version_minor": 0
      },
      "text/plain": [
       "Train:   0%|          | 0/150 [00:00<?, ?it/s]"
      ]
     },
     "metadata": {},
     "output_type": "display_data"
    },
    {
     "name": "stdout",
     "output_type": "stream",
     "text": [
      "Epoch 360 - train loss: 0.3294 - train rmse: 0.1052 - val loss: 0.1712 - val rmse: 0.0649\n",
      "Validation MSE did not improve. Counter: 9/300\n"
     ]
    },
    {
     "data": {
      "application/vnd.jupyter.widget-view+json": {
       "model_id": "971f0b3a7ca64bd1bf21329cade46809",
       "version_major": 2,
       "version_minor": 0
      },
      "text/plain": [
       "Train:   0%|          | 0/150 [00:00<?, ?it/s]"
      ]
     },
     "metadata": {},
     "output_type": "display_data"
    },
    {
     "name": "stdout",
     "output_type": "stream",
     "text": [
      "Epoch 361 - train loss: 0.3317 - train rmse: 0.1064 - val loss: 0.1710 - val rmse: 0.0653\n",
      "Validation MSE did not improve. Counter: 10/300\n"
     ]
    },
    {
     "data": {
      "application/vnd.jupyter.widget-view+json": {
       "model_id": "cb95d6fd688948b9831929c9f30254f9",
       "version_major": 2,
       "version_minor": 0
      },
      "text/plain": [
       "Train:   0%|          | 0/150 [00:00<?, ?it/s]"
      ]
     },
     "metadata": {},
     "output_type": "display_data"
    },
    {
     "name": "stdout",
     "output_type": "stream",
     "text": [
      "Epoch 362 - train loss: 0.3300 - train rmse: 0.1058 - val loss: 0.1770 - val rmse: 0.0675\n",
      "Validation MSE did not improve. Counter: 11/300\n"
     ]
    },
    {
     "data": {
      "application/vnd.jupyter.widget-view+json": {
       "model_id": "10b142556473482dadfe59418567c0de",
       "version_major": 2,
       "version_minor": 0
      },
      "text/plain": [
       "Train:   0%|          | 0/150 [00:00<?, ?it/s]"
      ]
     },
     "metadata": {},
     "output_type": "display_data"
    },
    {
     "name": "stdout",
     "output_type": "stream",
     "text": [
      "Epoch 363 - train loss: 0.3267 - train rmse: 0.1047 - val loss: 0.1643 - val rmse: 0.0624\n",
      "Validation MSE did not improve. Counter: 12/300\n"
     ]
    },
    {
     "data": {
      "application/vnd.jupyter.widget-view+json": {
       "model_id": "31a1604e402e4867b809720bc975b137",
       "version_major": 2,
       "version_minor": 0
      },
      "text/plain": [
       "Train:   0%|          | 0/150 [00:00<?, ?it/s]"
      ]
     },
     "metadata": {},
     "output_type": "display_data"
    },
    {
     "name": "stdout",
     "output_type": "stream",
     "text": [
      "Epoch 364 - train loss: 0.3290 - train rmse: 0.1052 - val loss: 0.1655 - val rmse: 0.0628\n",
      "Validation MSE did not improve. Counter: 13/300\n"
     ]
    },
    {
     "data": {
      "application/vnd.jupyter.widget-view+json": {
       "model_id": "f6d572b9a7524123ae4da15627267c93",
       "version_major": 2,
       "version_minor": 0
      },
      "text/plain": [
       "Train:   0%|          | 0/150 [00:00<?, ?it/s]"
      ]
     },
     "metadata": {},
     "output_type": "display_data"
    },
    {
     "name": "stdout",
     "output_type": "stream",
     "text": [
      "Epoch 365 - train loss: 0.3246 - train rmse: 0.1041 - val loss: 0.1717 - val rmse: 0.0650\n",
      "Validation MSE did not improve. Counter: 14/300\n"
     ]
    },
    {
     "data": {
      "application/vnd.jupyter.widget-view+json": {
       "model_id": "06076ae9d09442f19fb26fca1d5f9260",
       "version_major": 2,
       "version_minor": 0
      },
      "text/plain": [
       "Train:   0%|          | 0/150 [00:00<?, ?it/s]"
      ]
     },
     "metadata": {},
     "output_type": "display_data"
    },
    {
     "name": "stdout",
     "output_type": "stream",
     "text": [
      "Epoch 366 - train loss: 0.3280 - train rmse: 0.1047 - val loss: 0.1706 - val rmse: 0.0651\n",
      "Validation MSE did not improve. Counter: 15/300\n"
     ]
    },
    {
     "data": {
      "application/vnd.jupyter.widget-view+json": {
       "model_id": "827d6e4f7e83418ea65ddb9228cc4b27",
       "version_major": 2,
       "version_minor": 0
      },
      "text/plain": [
       "Train:   0%|          | 0/150 [00:00<?, ?it/s]"
      ]
     },
     "metadata": {},
     "output_type": "display_data"
    },
    {
     "name": "stdout",
     "output_type": "stream",
     "text": [
      "Epoch 367 - train loss: 0.3291 - train rmse: 0.1062 - val loss: 0.1670 - val rmse: 0.0646\n",
      "Validation MSE did not improve. Counter: 16/300\n"
     ]
    },
    {
     "data": {
      "application/vnd.jupyter.widget-view+json": {
       "model_id": "21450b208eef4330811a060100b2ada7",
       "version_major": 2,
       "version_minor": 0
      },
      "text/plain": [
       "Train:   0%|          | 0/150 [00:00<?, ?it/s]"
      ]
     },
     "metadata": {},
     "output_type": "display_data"
    },
    {
     "name": "stdout",
     "output_type": "stream",
     "text": [
      "Epoch 368 - train loss: 0.3351 - train rmse: 0.1068 - val loss: 0.1645 - val rmse: 0.0634\n",
      "Validation MSE did not improve. Counter: 17/300\n"
     ]
    },
    {
     "data": {
      "application/vnd.jupyter.widget-view+json": {
       "model_id": "1e81108fdb9e4988a79941d4265779e0",
       "version_major": 2,
       "version_minor": 0
      },
      "text/plain": [
       "Train:   0%|          | 0/150 [00:00<?, ?it/s]"
      ]
     },
     "metadata": {},
     "output_type": "display_data"
    },
    {
     "name": "stdout",
     "output_type": "stream",
     "text": [
      "Epoch 369 - train loss: 0.3267 - train rmse: 0.1041 - val loss: 0.1686 - val rmse: 0.0643\n",
      "Validation MSE did not improve. Counter: 18/300\n"
     ]
    },
    {
     "data": {
      "application/vnd.jupyter.widget-view+json": {
       "model_id": "f1e7d7c6738643749ae3ec486bac807e",
       "version_major": 2,
       "version_minor": 0
      },
      "text/plain": [
       "Train:   0%|          | 0/150 [00:00<?, ?it/s]"
      ]
     },
     "metadata": {},
     "output_type": "display_data"
    },
    {
     "name": "stdout",
     "output_type": "stream",
     "text": [
      "Epoch 370 - train loss: 0.3280 - train rmse: 0.1053 - val loss: 0.1678 - val rmse: 0.0646\n",
      "Validation MSE did not improve. Counter: 19/300\n"
     ]
    },
    {
     "data": {
      "application/vnd.jupyter.widget-view+json": {
       "model_id": "92c0aa1572ca4694b72d126a0476a595",
       "version_major": 2,
       "version_minor": 0
      },
      "text/plain": [
       "Train:   0%|          | 0/150 [00:00<?, ?it/s]"
      ]
     },
     "metadata": {},
     "output_type": "display_data"
    },
    {
     "name": "stdout",
     "output_type": "stream",
     "text": [
      "Epoch 371 - train loss: 0.3262 - train rmse: 0.1048 - val loss: 0.1687 - val rmse: 0.0651\n",
      "Validation MSE did not improve. Counter: 20/300\n"
     ]
    },
    {
     "data": {
      "application/vnd.jupyter.widget-view+json": {
       "model_id": "0bf97259a4794a2fa367f533e5cb6889",
       "version_major": 2,
       "version_minor": 0
      },
      "text/plain": [
       "Train:   0%|          | 0/150 [00:00<?, ?it/s]"
      ]
     },
     "metadata": {},
     "output_type": "display_data"
    },
    {
     "name": "stdout",
     "output_type": "stream",
     "text": [
      "Epoch 372 - train loss: 0.3299 - train rmse: 0.1053 - val loss: 0.1635 - val rmse: 0.0635\n",
      "Validation MSE did not improve. Counter: 21/300\n"
     ]
    },
    {
     "data": {
      "application/vnd.jupyter.widget-view+json": {
       "model_id": "b6bbb5e5497846cba0f7a534858d1bb5",
       "version_major": 2,
       "version_minor": 0
      },
      "text/plain": [
       "Train:   0%|          | 0/150 [00:00<?, ?it/s]"
      ]
     },
     "metadata": {},
     "output_type": "display_data"
    },
    {
     "name": "stdout",
     "output_type": "stream",
     "text": [
      "Epoch 373 - train loss: 0.3303 - train rmse: 0.1054 - val loss: 0.1676 - val rmse: 0.0648\n",
      "Validation MSE did not improve. Counter: 22/300\n"
     ]
    },
    {
     "data": {
      "application/vnd.jupyter.widget-view+json": {
       "model_id": "834f841ab5594f2fabb48658045ccd1f",
       "version_major": 2,
       "version_minor": 0
      },
      "text/plain": [
       "Train:   0%|          | 0/150 [00:00<?, ?it/s]"
      ]
     },
     "metadata": {},
     "output_type": "display_data"
    },
    {
     "name": "stdout",
     "output_type": "stream",
     "text": [
      "Epoch 374 - train loss: 0.3248 - train rmse: 0.1037 - val loss: 0.1641 - val rmse: 0.0638\n",
      "Validation MSE did not improve. Counter: 23/300\n"
     ]
    },
    {
     "data": {
      "application/vnd.jupyter.widget-view+json": {
       "model_id": "13b0cae8002f40958381c67aeb17f193",
       "version_major": 2,
       "version_minor": 0
      },
      "text/plain": [
       "Train:   0%|          | 0/150 [00:00<?, ?it/s]"
      ]
     },
     "metadata": {},
     "output_type": "display_data"
    },
    {
     "name": "stdout",
     "output_type": "stream",
     "text": [
      "Epoch 375 - train loss: 0.3277 - train rmse: 0.1049 - val loss: 0.1647 - val rmse: 0.0633\n",
      "Validation MSE did not improve. Counter: 24/300\n"
     ]
    },
    {
     "data": {
      "application/vnd.jupyter.widget-view+json": {
       "model_id": "b580e4e11acc4f699929651e5d0c0e31",
       "version_major": 2,
       "version_minor": 0
      },
      "text/plain": [
       "Train:   0%|          | 0/150 [00:00<?, ?it/s]"
      ]
     },
     "metadata": {},
     "output_type": "display_data"
    },
    {
     "name": "stdout",
     "output_type": "stream",
     "text": [
      "Epoch 376 - train loss: 0.3242 - train rmse: 0.1037 - val loss: 0.1671 - val rmse: 0.0642\n",
      "Validation MSE did not improve. Counter: 25/300\n"
     ]
    },
    {
     "data": {
      "application/vnd.jupyter.widget-view+json": {
       "model_id": "341a9def648340bb92eded0e85199bda",
       "version_major": 2,
       "version_minor": 0
      },
      "text/plain": [
       "Train:   0%|          | 0/150 [00:00<?, ?it/s]"
      ]
     },
     "metadata": {},
     "output_type": "display_data"
    },
    {
     "name": "stdout",
     "output_type": "stream",
     "text": [
      "Epoch 377 - train loss: 0.3240 - train rmse: 0.1040 - val loss: 0.1619 - val rmse: 0.0636\n",
      "Validation MSE did not improve. Counter: 26/300\n"
     ]
    },
    {
     "data": {
      "application/vnd.jupyter.widget-view+json": {
       "model_id": "f3fc41226e3047fb95bf469e095e4659",
       "version_major": 2,
       "version_minor": 0
      },
      "text/plain": [
       "Train:   0%|          | 0/150 [00:00<?, ?it/s]"
      ]
     },
     "metadata": {},
     "output_type": "display_data"
    },
    {
     "name": "stdout",
     "output_type": "stream",
     "text": [
      "Epoch 378 - train loss: 0.3185 - train rmse: 0.1029 - val loss: 0.1683 - val rmse: 0.0650\n",
      "Validation MSE did not improve. Counter: 27/300\n"
     ]
    },
    {
     "data": {
      "application/vnd.jupyter.widget-view+json": {
       "model_id": "a2a209a53f984bf28cd0d09b795a5e4c",
       "version_major": 2,
       "version_minor": 0
      },
      "text/plain": [
       "Train:   0%|          | 0/150 [00:00<?, ?it/s]"
      ]
     },
     "metadata": {},
     "output_type": "display_data"
    },
    {
     "name": "stdout",
     "output_type": "stream",
     "text": [
      "Epoch 379 - train loss: 0.3262 - train rmse: 0.1047 - val loss: 0.1681 - val rmse: 0.0652\n",
      "Validation MSE did not improve. Counter: 28/300\n"
     ]
    },
    {
     "data": {
      "application/vnd.jupyter.widget-view+json": {
       "model_id": "5b5c49ab119c49958af3e8ca676b4474",
       "version_major": 2,
       "version_minor": 0
      },
      "text/plain": [
       "Train:   0%|          | 0/150 [00:00<?, ?it/s]"
      ]
     },
     "metadata": {},
     "output_type": "display_data"
    },
    {
     "name": "stdout",
     "output_type": "stream",
     "text": [
      "Epoch 380 - train loss: 0.3269 - train rmse: 0.1043 - val loss: 0.1630 - val rmse: 0.0636\n",
      "Validation MSE did not improve. Counter: 29/300\n"
     ]
    },
    {
     "data": {
      "application/vnd.jupyter.widget-view+json": {
       "model_id": "567226afc92148d08eec0f5e39d2df7b",
       "version_major": 2,
       "version_minor": 0
      },
      "text/plain": [
       "Train:   0%|          | 0/150 [00:00<?, ?it/s]"
      ]
     },
     "metadata": {},
     "output_type": "display_data"
    },
    {
     "name": "stdout",
     "output_type": "stream",
     "text": [
      "Epoch 381 - train loss: 0.3259 - train rmse: 0.1045 - val loss: 0.1662 - val rmse: 0.0648\n",
      "Validation MSE did not improve. Counter: 30/300\n"
     ]
    },
    {
     "data": {
      "application/vnd.jupyter.widget-view+json": {
       "model_id": "7ee353dd82c74042a88bf0fe4bc53eb0",
       "version_major": 2,
       "version_minor": 0
      },
      "text/plain": [
       "Train:   0%|          | 0/150 [00:00<?, ?it/s]"
      ]
     },
     "metadata": {},
     "output_type": "display_data"
    },
    {
     "name": "stdout",
     "output_type": "stream",
     "text": [
      "Epoch 382 - train loss: 0.3248 - train rmse: 0.1046 - val loss: 0.1656 - val rmse: 0.0643\n",
      "Validation MSE did not improve. Counter: 31/300\n"
     ]
    },
    {
     "data": {
      "application/vnd.jupyter.widget-view+json": {
       "model_id": "894c5264455449db94adcf2105239772",
       "version_major": 2,
       "version_minor": 0
      },
      "text/plain": [
       "Train:   0%|          | 0/150 [00:00<?, ?it/s]"
      ]
     },
     "metadata": {},
     "output_type": "display_data"
    },
    {
     "name": "stdout",
     "output_type": "stream",
     "text": [
      "Epoch 383 - train loss: 0.3243 - train rmse: 0.1044 - val loss: 0.1660 - val rmse: 0.0631\n",
      "Validation MSE did not improve. Counter: 32/300\n"
     ]
    },
    {
     "data": {
      "application/vnd.jupyter.widget-view+json": {
       "model_id": "cb9c2fa874344159951f4751e0e6edbd",
       "version_major": 2,
       "version_minor": 0
      },
      "text/plain": [
       "Train:   0%|          | 0/150 [00:00<?, ?it/s]"
      ]
     },
     "metadata": {},
     "output_type": "display_data"
    },
    {
     "name": "stdout",
     "output_type": "stream",
     "text": [
      "Epoch 384 - train loss: 0.3317 - train rmse: 0.1051 - val loss: 0.1625 - val rmse: 0.0639\n",
      "Validation MSE did not improve. Counter: 33/300\n"
     ]
    },
    {
     "data": {
      "application/vnd.jupyter.widget-view+json": {
       "model_id": "c43d8e26053c45f280e4d50fcf2e8e45",
       "version_major": 2,
       "version_minor": 0
      },
      "text/plain": [
       "Train:   0%|          | 0/150 [00:00<?, ?it/s]"
      ]
     },
     "metadata": {},
     "output_type": "display_data"
    },
    {
     "name": "stdout",
     "output_type": "stream",
     "text": [
      "Epoch 385 - train loss: 0.3246 - train rmse: 0.1042 - val loss: 0.1680 - val rmse: 0.0653\n",
      "Validation MSE did not improve. Counter: 34/300\n"
     ]
    },
    {
     "data": {
      "application/vnd.jupyter.widget-view+json": {
       "model_id": "cac970b4b2d0412e8464d8217b2af9ec",
       "version_major": 2,
       "version_minor": 0
      },
      "text/plain": [
       "Train:   0%|          | 0/150 [00:00<?, ?it/s]"
      ]
     },
     "metadata": {},
     "output_type": "display_data"
    },
    {
     "name": "stdout",
     "output_type": "stream",
     "text": [
      "Epoch 386 - train loss: 0.3240 - train rmse: 0.1037 - val loss: 0.1630 - val rmse: 0.0635\n",
      "Validation MSE did not improve. Counter: 35/300\n"
     ]
    },
    {
     "data": {
      "application/vnd.jupyter.widget-view+json": {
       "model_id": "cecb5bbd2b8f4a4890017bcbf9a8b486",
       "version_major": 2,
       "version_minor": 0
      },
      "text/plain": [
       "Train:   0%|          | 0/150 [00:00<?, ?it/s]"
      ]
     },
     "metadata": {},
     "output_type": "display_data"
    },
    {
     "name": "stdout",
     "output_type": "stream",
     "text": [
      "Epoch 387 - train loss: 0.3223 - train rmse: 0.1038 - val loss: 0.1615 - val rmse: 0.0631\n",
      "Validation MSE did not improve. Counter: 36/300\n"
     ]
    },
    {
     "data": {
      "application/vnd.jupyter.widget-view+json": {
       "model_id": "d0bcb17cc7fa4296a32842fe2149f3ff",
       "version_major": 2,
       "version_minor": 0
      },
      "text/plain": [
       "Train:   0%|          | 0/150 [00:00<?, ?it/s]"
      ]
     },
     "metadata": {},
     "output_type": "display_data"
    },
    {
     "name": "stdout",
     "output_type": "stream",
     "text": [
      "Epoch 388 - train loss: 0.3205 - train rmse: 0.1029 - val loss: 0.1660 - val rmse: 0.0649\n",
      "Validation MSE did not improve. Counter: 37/300\n"
     ]
    },
    {
     "data": {
      "application/vnd.jupyter.widget-view+json": {
       "model_id": "5ad7afd9f5094006bc8bb9e7cdbd3892",
       "version_major": 2,
       "version_minor": 0
      },
      "text/plain": [
       "Train:   0%|          | 0/150 [00:00<?, ?it/s]"
      ]
     },
     "metadata": {},
     "output_type": "display_data"
    },
    {
     "name": "stdout",
     "output_type": "stream",
     "text": [
      "Epoch 389 - train loss: 0.3222 - train rmse: 0.1037 - val loss: 0.1671 - val rmse: 0.0652\n",
      "Validation MSE did not improve. Counter: 38/300\n"
     ]
    },
    {
     "data": {
      "application/vnd.jupyter.widget-view+json": {
       "model_id": "0f54afe7d368408b9e35ef7866909904",
       "version_major": 2,
       "version_minor": 0
      },
      "text/plain": [
       "Train:   0%|          | 0/150 [00:00<?, ?it/s]"
      ]
     },
     "metadata": {},
     "output_type": "display_data"
    },
    {
     "name": "stdout",
     "output_type": "stream",
     "text": [
      "Epoch 390 - train loss: 0.3199 - train rmse: 0.1029 - val loss: 0.1646 - val rmse: 0.0643\n",
      "Validation MSE did not improve. Counter: 39/300\n"
     ]
    },
    {
     "data": {
      "application/vnd.jupyter.widget-view+json": {
       "model_id": "1a98a7db0b284893a88b8ef3d49a432e",
       "version_major": 2,
       "version_minor": 0
      },
      "text/plain": [
       "Train:   0%|          | 0/150 [00:00<?, ?it/s]"
      ]
     },
     "metadata": {},
     "output_type": "display_data"
    },
    {
     "name": "stdout",
     "output_type": "stream",
     "text": [
      "Epoch 391 - train loss: 0.3220 - train rmse: 0.1034 - val loss: 0.1651 - val rmse: 0.0638\n",
      "Validation MSE did not improve. Counter: 40/300\n"
     ]
    },
    {
     "data": {
      "application/vnd.jupyter.widget-view+json": {
       "model_id": "2d97fc01975d40ba85759a7791b564dc",
       "version_major": 2,
       "version_minor": 0
      },
      "text/plain": [
       "Train:   0%|          | 0/150 [00:00<?, ?it/s]"
      ]
     },
     "metadata": {},
     "output_type": "display_data"
    },
    {
     "name": "stdout",
     "output_type": "stream",
     "text": [
      "Epoch 392 - train loss: 0.3232 - train rmse: 0.1041 - val loss: 0.1712 - val rmse: 0.0663\n",
      "Validation MSE did not improve. Counter: 41/300\n"
     ]
    },
    {
     "data": {
      "application/vnd.jupyter.widget-view+json": {
       "model_id": "18ea5dce2c1645f89b23af6956ddf14d",
       "version_major": 2,
       "version_minor": 0
      },
      "text/plain": [
       "Train:   0%|          | 0/150 [00:00<?, ?it/s]"
      ]
     },
     "metadata": {},
     "output_type": "display_data"
    },
    {
     "name": "stdout",
     "output_type": "stream",
     "text": [
      "Epoch 393 - train loss: 0.3264 - train rmse: 0.1047 - val loss: 0.1636 - val rmse: 0.0631\n",
      "Validation MSE did not improve. Counter: 42/300\n"
     ]
    },
    {
     "data": {
      "application/vnd.jupyter.widget-view+json": {
       "model_id": "74901b7ae80f4fb8bf69737f7965b190",
       "version_major": 2,
       "version_minor": 0
      },
      "text/plain": [
       "Train:   0%|          | 0/150 [00:00<?, ?it/s]"
      ]
     },
     "metadata": {},
     "output_type": "display_data"
    },
    {
     "name": "stdout",
     "output_type": "stream",
     "text": [
      "Epoch 394 - train loss: 0.3280 - train rmse: 0.1056 - val loss: 0.1668 - val rmse: 0.0638\n",
      "Validation MSE did not improve. Counter: 43/300\n"
     ]
    },
    {
     "data": {
      "application/vnd.jupyter.widget-view+json": {
       "model_id": "e8df4c94ab9246beabaa8a5290355e09",
       "version_major": 2,
       "version_minor": 0
      },
      "text/plain": [
       "Train:   0%|          | 0/150 [00:00<?, ?it/s]"
      ]
     },
     "metadata": {},
     "output_type": "display_data"
    },
    {
     "name": "stdout",
     "output_type": "stream",
     "text": [
      "Epoch 395 - train loss: 0.3215 - train rmse: 0.1039 - val loss: 0.1608 - val rmse: 0.0632\n",
      "Validation MSE did not improve. Counter: 44/300\n"
     ]
    },
    {
     "data": {
      "application/vnd.jupyter.widget-view+json": {
       "model_id": "f56daa9f0040460aaa22f0ef142af04f",
       "version_major": 2,
       "version_minor": 0
      },
      "text/plain": [
       "Train:   0%|          | 0/150 [00:00<?, ?it/s]"
      ]
     },
     "metadata": {},
     "output_type": "display_data"
    },
    {
     "name": "stdout",
     "output_type": "stream",
     "text": [
      "Epoch 396 - train loss: 0.3206 - train rmse: 0.1025 - val loss: 0.1595 - val rmse: 0.0622\n",
      "Validation MSE did not improve. Counter: 45/300\n"
     ]
    },
    {
     "data": {
      "application/vnd.jupyter.widget-view+json": {
       "model_id": "0f8acbdb6c3149b1aa9daae9d8fa1a8d",
       "version_major": 2,
       "version_minor": 0
      },
      "text/plain": [
       "Train:   0%|          | 0/150 [00:00<?, ?it/s]"
      ]
     },
     "metadata": {},
     "output_type": "display_data"
    },
    {
     "name": "stdout",
     "output_type": "stream",
     "text": [
      "Epoch 397 - train loss: 0.3186 - train rmse: 0.1026 - val loss: 0.1669 - val rmse: 0.0651\n",
      "Validation MSE did not improve. Counter: 46/300\n"
     ]
    },
    {
     "data": {
      "application/vnd.jupyter.widget-view+json": {
       "model_id": "a1ee541d248144ec8e2ff35ce88f538d",
       "version_major": 2,
       "version_minor": 0
      },
      "text/plain": [
       "Train:   0%|          | 0/150 [00:00<?, ?it/s]"
      ]
     },
     "metadata": {},
     "output_type": "display_data"
    },
    {
     "name": "stdout",
     "output_type": "stream",
     "text": [
      "Epoch 398 - train loss: 0.3256 - train rmse: 0.1047 - val loss: 0.1698 - val rmse: 0.0655\n",
      "Validation MSE did not improve. Counter: 47/300\n"
     ]
    },
    {
     "data": {
      "application/vnd.jupyter.widget-view+json": {
       "model_id": "a8a793fd63864abab6bb94e451f56e28",
       "version_major": 2,
       "version_minor": 0
      },
      "text/plain": [
       "Train:   0%|          | 0/150 [00:00<?, ?it/s]"
      ]
     },
     "metadata": {},
     "output_type": "display_data"
    },
    {
     "name": "stdout",
     "output_type": "stream",
     "text": [
      "Epoch 399 - train loss: 0.3220 - train rmse: 0.1037 - val loss: 0.1715 - val rmse: 0.0669\n",
      "Validation MSE did not improve. Counter: 48/300\n"
     ]
    },
    {
     "data": {
      "application/vnd.jupyter.widget-view+json": {
       "model_id": "dcc8ff5847a948c3943ba6772509ad10",
       "version_major": 2,
       "version_minor": 0
      },
      "text/plain": [
       "Train:   0%|          | 0/150 [00:00<?, ?it/s]"
      ]
     },
     "metadata": {},
     "output_type": "display_data"
    },
    {
     "name": "stdout",
     "output_type": "stream",
     "text": [
      "Epoch 400 - train loss: 0.3232 - train rmse: 0.1035 - val loss: 0.1647 - val rmse: 0.0646\n",
      "Validation MSE did not improve. Counter: 49/300\n"
     ]
    },
    {
     "data": {
      "application/vnd.jupyter.widget-view+json": {
       "model_id": "99515124bece42efa3c8067044f557b8",
       "version_major": 2,
       "version_minor": 0
      },
      "text/plain": [
       "Train:   0%|          | 0/150 [00:00<?, ?it/s]"
      ]
     },
     "metadata": {},
     "output_type": "display_data"
    },
    {
     "name": "stdout",
     "output_type": "stream",
     "text": [
      "Epoch 401 - train loss: 0.3239 - train rmse: 0.1043 - val loss: 0.1616 - val rmse: 0.0627\n",
      "Validation MSE did not improve. Counter: 50/300\n"
     ]
    },
    {
     "data": {
      "application/vnd.jupyter.widget-view+json": {
       "model_id": "1748b3fb24b94f25bd3b6a7176c1951a",
       "version_major": 2,
       "version_minor": 0
      },
      "text/plain": [
       "Train:   0%|          | 0/150 [00:00<?, ?it/s]"
      ]
     },
     "metadata": {},
     "output_type": "display_data"
    },
    {
     "name": "stdout",
     "output_type": "stream",
     "text": [
      "Epoch 402 - train loss: 0.3182 - train rmse: 0.1020 - val loss: 0.1669 - val rmse: 0.0652\n",
      "Validation MSE did not improve. Counter: 51/300\n"
     ]
    },
    {
     "data": {
      "application/vnd.jupyter.widget-view+json": {
       "model_id": "61f0ebe26c244851b70218700f350ce1",
       "version_major": 2,
       "version_minor": 0
      },
      "text/plain": [
       "Train:   0%|          | 0/150 [00:00<?, ?it/s]"
      ]
     },
     "metadata": {},
     "output_type": "display_data"
    },
    {
     "name": "stdout",
     "output_type": "stream",
     "text": [
      "Epoch 403 - train loss: 0.3227 - train rmse: 0.1032 - val loss: 0.1612 - val rmse: 0.0627\n",
      "Validation MSE did not improve. Counter: 52/300\n"
     ]
    },
    {
     "data": {
      "application/vnd.jupyter.widget-view+json": {
       "model_id": "7c19a353d6bb4f9c964fd6e0c85f05a3",
       "version_major": 2,
       "version_minor": 0
      },
      "text/plain": [
       "Train:   0%|          | 0/150 [00:00<?, ?it/s]"
      ]
     },
     "metadata": {},
     "output_type": "display_data"
    },
    {
     "name": "stdout",
     "output_type": "stream",
     "text": [
      "Epoch 404 - train loss: 0.3228 - train rmse: 0.1032 - val loss: 0.1669 - val rmse: 0.0665\n",
      "Validation MSE did not improve. Counter: 53/300\n"
     ]
    },
    {
     "data": {
      "application/vnd.jupyter.widget-view+json": {
       "model_id": "728b6cc7865943d3a0244b8aeca8d749",
       "version_major": 2,
       "version_minor": 0
      },
      "text/plain": [
       "Train:   0%|          | 0/150 [00:00<?, ?it/s]"
      ]
     },
     "metadata": {},
     "output_type": "display_data"
    },
    {
     "name": "stdout",
     "output_type": "stream",
     "text": [
      "Epoch 405 - train loss: 0.3232 - train rmse: 0.1036 - val loss: 0.1641 - val rmse: 0.0649\n",
      "Validation MSE did not improve. Counter: 54/300\n"
     ]
    },
    {
     "data": {
      "application/vnd.jupyter.widget-view+json": {
       "model_id": "d2d107794bcb419ab06cfafd7a7b50e1",
       "version_major": 2,
       "version_minor": 0
      },
      "text/plain": [
       "Train:   0%|          | 0/150 [00:00<?, ?it/s]"
      ]
     },
     "metadata": {},
     "output_type": "display_data"
    },
    {
     "name": "stdout",
     "output_type": "stream",
     "text": [
      "Epoch 406 - train loss: 0.3237 - train rmse: 0.1038 - val loss: 0.1629 - val rmse: 0.0641\n",
      "Validation MSE did not improve. Counter: 55/300\n"
     ]
    },
    {
     "data": {
      "application/vnd.jupyter.widget-view+json": {
       "model_id": "821c525ec47a42ca83a4d357ad222c38",
       "version_major": 2,
       "version_minor": 0
      },
      "text/plain": [
       "Train:   0%|          | 0/150 [00:00<?, ?it/s]"
      ]
     },
     "metadata": {},
     "output_type": "display_data"
    },
    {
     "name": "stdout",
     "output_type": "stream",
     "text": [
      "Epoch 407 - train loss: 0.3266 - train rmse: 0.1047 - val loss: 0.1653 - val rmse: 0.0646\n",
      "Validation MSE did not improve. Counter: 56/300\n"
     ]
    },
    {
     "data": {
      "application/vnd.jupyter.widget-view+json": {
       "model_id": "68c6badecdf84a6e8f610a674d6fcaff",
       "version_major": 2,
       "version_minor": 0
      },
      "text/plain": [
       "Train:   0%|          | 0/150 [00:00<?, ?it/s]"
      ]
     },
     "metadata": {},
     "output_type": "display_data"
    },
    {
     "name": "stdout",
     "output_type": "stream",
     "text": [
      "Epoch 408 - train loss: 0.3209 - train rmse: 0.1025 - val loss: 0.1649 - val rmse: 0.0653\n",
      "Validation MSE did not improve. Counter: 57/300\n"
     ]
    },
    {
     "data": {
      "application/vnd.jupyter.widget-view+json": {
       "model_id": "b51357187c09448ab1c2b00b1c9e900d",
       "version_major": 2,
       "version_minor": 0
      },
      "text/plain": [
       "Train:   0%|          | 0/150 [00:00<?, ?it/s]"
      ]
     },
     "metadata": {},
     "output_type": "display_data"
    },
    {
     "name": "stdout",
     "output_type": "stream",
     "text": [
      "Epoch 409 - train loss: 0.3201 - train rmse: 0.1028 - val loss: 0.1603 - val rmse: 0.0641\n",
      "Validation MSE did not improve. Counter: 58/300\n"
     ]
    },
    {
     "data": {
      "application/vnd.jupyter.widget-view+json": {
       "model_id": "c06b2f9e7d5245199a07828ec8715ff6",
       "version_major": 2,
       "version_minor": 0
      },
      "text/plain": [
       "Train:   0%|          | 0/150 [00:00<?, ?it/s]"
      ]
     },
     "metadata": {},
     "output_type": "display_data"
    },
    {
     "name": "stdout",
     "output_type": "stream",
     "text": [
      "Epoch 410 - train loss: 0.3178 - train rmse: 0.1025 - val loss: 0.1658 - val rmse: 0.0646\n",
      "Validation MSE did not improve. Counter: 59/300\n"
     ]
    },
    {
     "data": {
      "application/vnd.jupyter.widget-view+json": {
       "model_id": "3e0e6720858d4091bbd67bea2bb56ed9",
       "version_major": 2,
       "version_minor": 0
      },
      "text/plain": [
       "Train:   0%|          | 0/150 [00:00<?, ?it/s]"
      ]
     },
     "metadata": {},
     "output_type": "display_data"
    },
    {
     "name": "stdout",
     "output_type": "stream",
     "text": [
      "Epoch 411 - train loss: 0.3185 - train rmse: 0.1026 - val loss: 0.1674 - val rmse: 0.0655\n",
      "Validation MSE did not improve. Counter: 60/300\n"
     ]
    },
    {
     "data": {
      "application/vnd.jupyter.widget-view+json": {
       "model_id": "1c48b8c5b2d24715afd45cd310dbbd0b",
       "version_major": 2,
       "version_minor": 0
      },
      "text/plain": [
       "Train:   0%|          | 0/150 [00:00<?, ?it/s]"
      ]
     },
     "metadata": {},
     "output_type": "display_data"
    },
    {
     "name": "stdout",
     "output_type": "stream",
     "text": [
      "Epoch 412 - train loss: 0.3248 - train rmse: 0.1049 - val loss: 0.1539 - val rmse: 0.0599\n",
      "Validation MSE improved (0.0038 --> 0.0036). Saving model...\n"
     ]
    },
    {
     "data": {
      "application/vnd.jupyter.widget-view+json": {
       "model_id": "1c0d9bc1f43542b5bbd1b1eeeb214e5d",
       "version_major": 2,
       "version_minor": 0
      },
      "text/plain": [
       "Train:   0%|          | 0/150 [00:00<?, ?it/s]"
      ]
     },
     "metadata": {},
     "output_type": "display_data"
    },
    {
     "name": "stdout",
     "output_type": "stream",
     "text": [
      "Epoch 413 - train loss: 0.3212 - train rmse: 0.1027 - val loss: 0.1618 - val rmse: 0.0638\n",
      "Validation MSE did not improve. Counter: 1/300\n"
     ]
    },
    {
     "data": {
      "application/vnd.jupyter.widget-view+json": {
       "model_id": "07c8975f2b884fb983124f4ffe13e806",
       "version_major": 2,
       "version_minor": 0
      },
      "text/plain": [
       "Train:   0%|          | 0/150 [00:00<?, ?it/s]"
      ]
     },
     "metadata": {},
     "output_type": "display_data"
    },
    {
     "name": "stdout",
     "output_type": "stream",
     "text": [
      "Epoch 414 - train loss: 0.3203 - train rmse: 0.1030 - val loss: 0.1629 - val rmse: 0.0640\n",
      "Validation MSE did not improve. Counter: 2/300\n"
     ]
    },
    {
     "data": {
      "application/vnd.jupyter.widget-view+json": {
       "model_id": "9887012c162748b0a8a627060335cd31",
       "version_major": 2,
       "version_minor": 0
      },
      "text/plain": [
       "Train:   0%|          | 0/150 [00:00<?, ?it/s]"
      ]
     },
     "metadata": {},
     "output_type": "display_data"
    },
    {
     "name": "stdout",
     "output_type": "stream",
     "text": [
      "Epoch 415 - train loss: 0.3192 - train rmse: 0.1024 - val loss: 0.1569 - val rmse: 0.0618\n",
      "Validation MSE did not improve. Counter: 3/300\n"
     ]
    },
    {
     "data": {
      "application/vnd.jupyter.widget-view+json": {
       "model_id": "c12ef179c4d64e1ca5f7ad13e0abbed6",
       "version_major": 2,
       "version_minor": 0
      },
      "text/plain": [
       "Train:   0%|          | 0/150 [00:00<?, ?it/s]"
      ]
     },
     "metadata": {},
     "output_type": "display_data"
    },
    {
     "name": "stdout",
     "output_type": "stream",
     "text": [
      "Epoch 416 - train loss: 0.3148 - train rmse: 0.1014 - val loss: 0.1600 - val rmse: 0.0625\n",
      "Validation MSE did not improve. Counter: 4/300\n"
     ]
    },
    {
     "data": {
      "application/vnd.jupyter.widget-view+json": {
       "model_id": "49cc1d5e5eb04f139859b96c9a7c7392",
       "version_major": 2,
       "version_minor": 0
      },
      "text/plain": [
       "Train:   0%|          | 0/150 [00:00<?, ?it/s]"
      ]
     },
     "metadata": {},
     "output_type": "display_data"
    },
    {
     "name": "stdout",
     "output_type": "stream",
     "text": [
      "Epoch 417 - train loss: 0.3180 - train rmse: 0.1020 - val loss: 0.1568 - val rmse: 0.0615\n",
      "Validation MSE did not improve. Counter: 5/300\n"
     ]
    },
    {
     "data": {
      "application/vnd.jupyter.widget-view+json": {
       "model_id": "bdaed3de3ca548869500141813877989",
       "version_major": 2,
       "version_minor": 0
      },
      "text/plain": [
       "Train:   0%|          | 0/150 [00:00<?, ?it/s]"
      ]
     },
     "metadata": {},
     "output_type": "display_data"
    },
    {
     "name": "stdout",
     "output_type": "stream",
     "text": [
      "Epoch 418 - train loss: 0.3186 - train rmse: 0.1020 - val loss: 0.1612 - val rmse: 0.0640\n",
      "Validation MSE did not improve. Counter: 6/300\n"
     ]
    },
    {
     "data": {
      "application/vnd.jupyter.widget-view+json": {
       "model_id": "0faccba645df4b3aa511a0aad3049b8e",
       "version_major": 2,
       "version_minor": 0
      },
      "text/plain": [
       "Train:   0%|          | 0/150 [00:00<?, ?it/s]"
      ]
     },
     "metadata": {},
     "output_type": "display_data"
    },
    {
     "name": "stdout",
     "output_type": "stream",
     "text": [
      "Epoch 419 - train loss: 0.3172 - train rmse: 0.1026 - val loss: 0.1651 - val rmse: 0.0644\n",
      "Validation MSE did not improve. Counter: 7/300\n"
     ]
    },
    {
     "data": {
      "application/vnd.jupyter.widget-view+json": {
       "model_id": "e3ac3231d4e44455aaf5c16fb8baf338",
       "version_major": 2,
       "version_minor": 0
      },
      "text/plain": [
       "Train:   0%|          | 0/150 [00:00<?, ?it/s]"
      ]
     },
     "metadata": {},
     "output_type": "display_data"
    },
    {
     "name": "stdout",
     "output_type": "stream",
     "text": [
      "Epoch 420 - train loss: 0.3144 - train rmse: 0.1007 - val loss: 0.1585 - val rmse: 0.0627\n",
      "Validation MSE did not improve. Counter: 8/300\n"
     ]
    },
    {
     "data": {
      "application/vnd.jupyter.widget-view+json": {
       "model_id": "cc2513f0c9ea40a3b9c2f5baa0b34c63",
       "version_major": 2,
       "version_minor": 0
      },
      "text/plain": [
       "Train:   0%|          | 0/150 [00:00<?, ?it/s]"
      ]
     },
     "metadata": {},
     "output_type": "display_data"
    },
    {
     "name": "stdout",
     "output_type": "stream",
     "text": [
      "Epoch 421 - train loss: 0.3134 - train rmse: 0.1010 - val loss: 0.1612 - val rmse: 0.0629\n",
      "Validation MSE did not improve. Counter: 9/300\n"
     ]
    },
    {
     "data": {
      "application/vnd.jupyter.widget-view+json": {
       "model_id": "967a2c5ec7cc4bb2a3065e8e836c931d",
       "version_major": 2,
       "version_minor": 0
      },
      "text/plain": [
       "Train:   0%|          | 0/150 [00:00<?, ?it/s]"
      ]
     },
     "metadata": {},
     "output_type": "display_data"
    },
    {
     "name": "stdout",
     "output_type": "stream",
     "text": [
      "Epoch 422 - train loss: 0.3186 - train rmse: 0.1023 - val loss: 0.1630 - val rmse: 0.0648\n",
      "Validation MSE did not improve. Counter: 10/300\n"
     ]
    },
    {
     "data": {
      "application/vnd.jupyter.widget-view+json": {
       "model_id": "584f520d998145d7943e900599a8e178",
       "version_major": 2,
       "version_minor": 0
      },
      "text/plain": [
       "Train:   0%|          | 0/150 [00:00<?, ?it/s]"
      ]
     },
     "metadata": {},
     "output_type": "display_data"
    },
    {
     "name": "stdout",
     "output_type": "stream",
     "text": [
      "Epoch 423 - train loss: 0.3161 - train rmse: 0.1020 - val loss: 0.1613 - val rmse: 0.0642\n",
      "Validation MSE did not improve. Counter: 11/300\n"
     ]
    },
    {
     "data": {
      "application/vnd.jupyter.widget-view+json": {
       "model_id": "4089c46297e843ffb9a6cd467d39457a",
       "version_major": 2,
       "version_minor": 0
      },
      "text/plain": [
       "Train:   0%|          | 0/150 [00:00<?, ?it/s]"
      ]
     },
     "metadata": {},
     "output_type": "display_data"
    },
    {
     "name": "stdout",
     "output_type": "stream",
     "text": [
      "Epoch 424 - train loss: 0.3178 - train rmse: 0.1019 - val loss: 0.1590 - val rmse: 0.0630\n",
      "Validation MSE did not improve. Counter: 12/300\n"
     ]
    },
    {
     "data": {
      "application/vnd.jupyter.widget-view+json": {
       "model_id": "8559b8bade4b4ebdbdd857d94b1cb0b6",
       "version_major": 2,
       "version_minor": 0
      },
      "text/plain": [
       "Train:   0%|          | 0/150 [00:00<?, ?it/s]"
      ]
     },
     "metadata": {},
     "output_type": "display_data"
    },
    {
     "name": "stdout",
     "output_type": "stream",
     "text": [
      "Epoch 425 - train loss: 0.3206 - train rmse: 0.1035 - val loss: 0.1570 - val rmse: 0.0623\n",
      "Validation MSE did not improve. Counter: 13/300\n"
     ]
    },
    {
     "data": {
      "application/vnd.jupyter.widget-view+json": {
       "model_id": "8b31a3455c8545eea31799ab98eefd39",
       "version_major": 2,
       "version_minor": 0
      },
      "text/plain": [
       "Train:   0%|          | 0/150 [00:00<?, ?it/s]"
      ]
     },
     "metadata": {},
     "output_type": "display_data"
    },
    {
     "name": "stdout",
     "output_type": "stream",
     "text": [
      "Epoch 426 - train loss: 0.3199 - train rmse: 0.1026 - val loss: 0.1618 - val rmse: 0.0640\n",
      "Validation MSE did not improve. Counter: 14/300\n"
     ]
    },
    {
     "data": {
      "application/vnd.jupyter.widget-view+json": {
       "model_id": "0a3252bf8a694970b358633647d44341",
       "version_major": 2,
       "version_minor": 0
      },
      "text/plain": [
       "Train:   0%|          | 0/150 [00:00<?, ?it/s]"
      ]
     },
     "metadata": {},
     "output_type": "display_data"
    },
    {
     "name": "stdout",
     "output_type": "stream",
     "text": [
      "Epoch 427 - train loss: 0.3137 - train rmse: 0.1012 - val loss: 0.1592 - val rmse: 0.0630\n",
      "Validation MSE did not improve. Counter: 15/300\n"
     ]
    },
    {
     "data": {
      "application/vnd.jupyter.widget-view+json": {
       "model_id": "53382027ba5643ab8da2fedcca3514e4",
       "version_major": 2,
       "version_minor": 0
      },
      "text/plain": [
       "Train:   0%|          | 0/150 [00:00<?, ?it/s]"
      ]
     },
     "metadata": {},
     "output_type": "display_data"
    },
    {
     "name": "stdout",
     "output_type": "stream",
     "text": [
      "Epoch 428 - train loss: 0.3177 - train rmse: 0.1020 - val loss: 0.1581 - val rmse: 0.0635\n",
      "Validation MSE did not improve. Counter: 16/300\n"
     ]
    },
    {
     "data": {
      "application/vnd.jupyter.widget-view+json": {
       "model_id": "8f4fcf3384e349589236c336122e8411",
       "version_major": 2,
       "version_minor": 0
      },
      "text/plain": [
       "Train:   0%|          | 0/150 [00:00<?, ?it/s]"
      ]
     },
     "metadata": {},
     "output_type": "display_data"
    },
    {
     "name": "stdout",
     "output_type": "stream",
     "text": [
      "Epoch 429 - train loss: 0.3179 - train rmse: 0.1015 - val loss: 0.1576 - val rmse: 0.0632\n",
      "Validation MSE did not improve. Counter: 17/300\n"
     ]
    },
    {
     "data": {
      "application/vnd.jupyter.widget-view+json": {
       "model_id": "e62c3078679341b29eeb8c20011d74c0",
       "version_major": 2,
       "version_minor": 0
      },
      "text/plain": [
       "Train:   0%|          | 0/150 [00:00<?, ?it/s]"
      ]
     },
     "metadata": {},
     "output_type": "display_data"
    },
    {
     "name": "stdout",
     "output_type": "stream",
     "text": [
      "Epoch 430 - train loss: 0.3182 - train rmse: 0.1018 - val loss: 0.1592 - val rmse: 0.0635\n",
      "Validation MSE did not improve. Counter: 18/300\n"
     ]
    },
    {
     "data": {
      "application/vnd.jupyter.widget-view+json": {
       "model_id": "1fd82a356b2a41ffbabf3601b2161284",
       "version_major": 2,
       "version_minor": 0
      },
      "text/plain": [
       "Train:   0%|          | 0/150 [00:00<?, ?it/s]"
      ]
     },
     "metadata": {},
     "output_type": "display_data"
    },
    {
     "name": "stdout",
     "output_type": "stream",
     "text": [
      "Epoch 431 - train loss: 0.3190 - train rmse: 0.1024 - val loss: 0.1611 - val rmse: 0.0635\n",
      "Validation MSE did not improve. Counter: 19/300\n"
     ]
    },
    {
     "data": {
      "application/vnd.jupyter.widget-view+json": {
       "model_id": "d412a43dbd9d42ef9697594cd33d5f6d",
       "version_major": 2,
       "version_minor": 0
      },
      "text/plain": [
       "Train:   0%|          | 0/150 [00:00<?, ?it/s]"
      ]
     },
     "metadata": {},
     "output_type": "display_data"
    },
    {
     "name": "stdout",
     "output_type": "stream",
     "text": [
      "Epoch 432 - train loss: 0.3177 - train rmse: 0.1021 - val loss: 0.1537 - val rmse: 0.0605\n",
      "Validation MSE did not improve. Counter: 20/300\n"
     ]
    },
    {
     "data": {
      "application/vnd.jupyter.widget-view+json": {
       "model_id": "41e5b40c339b4634b7a18a15659ae8de",
       "version_major": 2,
       "version_minor": 0
      },
      "text/plain": [
       "Train:   0%|          | 0/150 [00:00<?, ?it/s]"
      ]
     },
     "metadata": {},
     "output_type": "display_data"
    },
    {
     "name": "stdout",
     "output_type": "stream",
     "text": [
      "Epoch 433 - train loss: 0.3189 - train rmse: 0.1026 - val loss: 0.1614 - val rmse: 0.0640\n",
      "Validation MSE did not improve. Counter: 21/300\n"
     ]
    },
    {
     "data": {
      "application/vnd.jupyter.widget-view+json": {
       "model_id": "0ce5dd02c3d147a3863e523e21d04cee",
       "version_major": 2,
       "version_minor": 0
      },
      "text/plain": [
       "Train:   0%|          | 0/150 [00:00<?, ?it/s]"
      ]
     },
     "metadata": {},
     "output_type": "display_data"
    },
    {
     "name": "stdout",
     "output_type": "stream",
     "text": [
      "Epoch 434 - train loss: 0.3199 - train rmse: 0.1027 - val loss: 0.1569 - val rmse: 0.0623\n",
      "Validation MSE did not improve. Counter: 22/300\n"
     ]
    },
    {
     "data": {
      "application/vnd.jupyter.widget-view+json": {
       "model_id": "6346d23757ca416b9b9503c9690c58d0",
       "version_major": 2,
       "version_minor": 0
      },
      "text/plain": [
       "Train:   0%|          | 0/150 [00:00<?, ?it/s]"
      ]
     },
     "metadata": {},
     "output_type": "display_data"
    },
    {
     "name": "stdout",
     "output_type": "stream",
     "text": [
      "Epoch 435 - train loss: 0.3145 - train rmse: 0.1005 - val loss: 0.1546 - val rmse: 0.0617\n",
      "Validation MSE did not improve. Counter: 23/300\n"
     ]
    },
    {
     "data": {
      "application/vnd.jupyter.widget-view+json": {
       "model_id": "6360c3cedce64478b5220e5e3b49d361",
       "version_major": 2,
       "version_minor": 0
      },
      "text/plain": [
       "Train:   0%|          | 0/150 [00:00<?, ?it/s]"
      ]
     },
     "metadata": {},
     "output_type": "display_data"
    },
    {
     "name": "stdout",
     "output_type": "stream",
     "text": [
      "Epoch 436 - train loss: 0.3175 - train rmse: 0.1019 - val loss: 0.1652 - val rmse: 0.0649\n",
      "Validation MSE did not improve. Counter: 24/300\n"
     ]
    },
    {
     "data": {
      "application/vnd.jupyter.widget-view+json": {
       "model_id": "7f5bfa75d9b842e4bb67416aea00d4ba",
       "version_major": 2,
       "version_minor": 0
      },
      "text/plain": [
       "Train:   0%|          | 0/150 [00:00<?, ?it/s]"
      ]
     },
     "metadata": {},
     "output_type": "display_data"
    },
    {
     "name": "stdout",
     "output_type": "stream",
     "text": [
      "Epoch 437 - train loss: 0.3218 - train rmse: 0.1033 - val loss: 0.1543 - val rmse: 0.0609\n",
      "Validation MSE did not improve. Counter: 25/300\n"
     ]
    },
    {
     "data": {
      "application/vnd.jupyter.widget-view+json": {
       "model_id": "3d676e7f1ad1454dab67338ec6603e97",
       "version_major": 2,
       "version_minor": 0
      },
      "text/plain": [
       "Train:   0%|          | 0/150 [00:00<?, ?it/s]"
      ]
     },
     "metadata": {},
     "output_type": "display_data"
    },
    {
     "name": "stdout",
     "output_type": "stream",
     "text": [
      "Epoch 438 - train loss: 0.3175 - train rmse: 0.1017 - val loss: 0.1569 - val rmse: 0.0623\n",
      "Validation MSE did not improve. Counter: 26/300\n"
     ]
    },
    {
     "data": {
      "application/vnd.jupyter.widget-view+json": {
       "model_id": "d79a243e9b0346558f5fbf48397b6f6f",
       "version_major": 2,
       "version_minor": 0
      },
      "text/plain": [
       "Train:   0%|          | 0/150 [00:00<?, ?it/s]"
      ]
     },
     "metadata": {},
     "output_type": "display_data"
    },
    {
     "name": "stdout",
     "output_type": "stream",
     "text": [
      "Epoch 439 - train loss: 0.3123 - train rmse: 0.1008 - val loss: 0.1543 - val rmse: 0.0615\n",
      "Validation MSE did not improve. Counter: 27/300\n"
     ]
    },
    {
     "data": {
      "application/vnd.jupyter.widget-view+json": {
       "model_id": "547b60cc36714cae99ce85ecb18583e5",
       "version_major": 2,
       "version_minor": 0
      },
      "text/plain": [
       "Train:   0%|          | 0/150 [00:00<?, ?it/s]"
      ]
     },
     "metadata": {},
     "output_type": "display_data"
    },
    {
     "name": "stdout",
     "output_type": "stream",
     "text": [
      "Epoch 440 - train loss: 0.3146 - train rmse: 0.1009 - val loss: 0.1573 - val rmse: 0.0628\n",
      "Validation MSE did not improve. Counter: 28/300\n"
     ]
    },
    {
     "data": {
      "application/vnd.jupyter.widget-view+json": {
       "model_id": "147cd138276741c08f5be947a56e69d5",
       "version_major": 2,
       "version_minor": 0
      },
      "text/plain": [
       "Train:   0%|          | 0/150 [00:00<?, ?it/s]"
      ]
     },
     "metadata": {},
     "output_type": "display_data"
    },
    {
     "name": "stdout",
     "output_type": "stream",
     "text": [
      "Epoch 441 - train loss: 0.3153 - train rmse: 0.1015 - val loss: 0.1575 - val rmse: 0.0625\n",
      "Validation MSE did not improve. Counter: 29/300\n"
     ]
    },
    {
     "data": {
      "application/vnd.jupyter.widget-view+json": {
       "model_id": "5ba8dc2996474dc0b6b29a05aa599413",
       "version_major": 2,
       "version_minor": 0
      },
      "text/plain": [
       "Train:   0%|          | 0/150 [00:00<?, ?it/s]"
      ]
     },
     "metadata": {},
     "output_type": "display_data"
    },
    {
     "name": "stdout",
     "output_type": "stream",
     "text": [
      "Epoch 442 - train loss: 0.3150 - train rmse: 0.1016 - val loss: 0.1529 - val rmse: 0.0608\n",
      "Validation MSE did not improve. Counter: 30/300\n"
     ]
    },
    {
     "data": {
      "application/vnd.jupyter.widget-view+json": {
       "model_id": "01aa302357ac4225b3bf8ebd21f8cd49",
       "version_major": 2,
       "version_minor": 0
      },
      "text/plain": [
       "Train:   0%|          | 0/150 [00:00<?, ?it/s]"
      ]
     },
     "metadata": {},
     "output_type": "display_data"
    },
    {
     "name": "stdout",
     "output_type": "stream",
     "text": [
      "Epoch 443 - train loss: 0.3117 - train rmse: 0.1013 - val loss: 0.1548 - val rmse: 0.0619\n",
      "Validation MSE did not improve. Counter: 31/300\n"
     ]
    },
    {
     "data": {
      "application/vnd.jupyter.widget-view+json": {
       "model_id": "211ce5b3f7b2402a999e834fed8bb587",
       "version_major": 2,
       "version_minor": 0
      },
      "text/plain": [
       "Train:   0%|          | 0/150 [00:00<?, ?it/s]"
      ]
     },
     "metadata": {},
     "output_type": "display_data"
    },
    {
     "name": "stdout",
     "output_type": "stream",
     "text": [
      "Epoch 444 - train loss: 0.3146 - train rmse: 0.1009 - val loss: 0.1568 - val rmse: 0.0625\n",
      "Validation MSE did not improve. Counter: 32/300\n"
     ]
    },
    {
     "data": {
      "application/vnd.jupyter.widget-view+json": {
       "model_id": "18dacb568bfb4f69b76bcaf40a1bbea1",
       "version_major": 2,
       "version_minor": 0
      },
      "text/plain": [
       "Train:   0%|          | 0/150 [00:00<?, ?it/s]"
      ]
     },
     "metadata": {},
     "output_type": "display_data"
    },
    {
     "name": "stdout",
     "output_type": "stream",
     "text": [
      "Epoch 445 - train loss: 0.3177 - train rmse: 0.1024 - val loss: 0.1562 - val rmse: 0.0618\n",
      "Validation MSE did not improve. Counter: 33/300\n"
     ]
    },
    {
     "data": {
      "application/vnd.jupyter.widget-view+json": {
       "model_id": "c0ba10b542134f1d9a8a2880ea28fbec",
       "version_major": 2,
       "version_minor": 0
      },
      "text/plain": [
       "Train:   0%|          | 0/150 [00:00<?, ?it/s]"
      ]
     },
     "metadata": {},
     "output_type": "display_data"
    },
    {
     "name": "stdout",
     "output_type": "stream",
     "text": [
      "Epoch 446 - train loss: 0.3188 - train rmse: 0.1018 - val loss: 0.1549 - val rmse: 0.0614\n",
      "Validation MSE did not improve. Counter: 34/300\n"
     ]
    },
    {
     "data": {
      "application/vnd.jupyter.widget-view+json": {
       "model_id": "7b2a0992bc124f568c89f3d2e7796786",
       "version_major": 2,
       "version_minor": 0
      },
      "text/plain": [
       "Train:   0%|          | 0/150 [00:00<?, ?it/s]"
      ]
     },
     "metadata": {},
     "output_type": "display_data"
    },
    {
     "name": "stdout",
     "output_type": "stream",
     "text": [
      "Epoch 447 - train loss: 0.3099 - train rmse: 0.1000 - val loss: 0.1537 - val rmse: 0.0620\n",
      "Validation MSE did not improve. Counter: 35/300\n"
     ]
    },
    {
     "data": {
      "application/vnd.jupyter.widget-view+json": {
       "model_id": "015d7f005e0c4142909dc2feff869926",
       "version_major": 2,
       "version_minor": 0
      },
      "text/plain": [
       "Train:   0%|          | 0/150 [00:00<?, ?it/s]"
      ]
     },
     "metadata": {},
     "output_type": "display_data"
    },
    {
     "name": "stdout",
     "output_type": "stream",
     "text": [
      "Epoch 448 - train loss: 0.3140 - train rmse: 0.1007 - val loss: 0.1586 - val rmse: 0.0638\n",
      "Validation MSE did not improve. Counter: 36/300\n"
     ]
    },
    {
     "data": {
      "application/vnd.jupyter.widget-view+json": {
       "model_id": "0cce5a5943074696933f5fc1170dc1e6",
       "version_major": 2,
       "version_minor": 0
      },
      "text/plain": [
       "Train:   0%|          | 0/150 [00:00<?, ?it/s]"
      ]
     },
     "metadata": {},
     "output_type": "display_data"
    },
    {
     "name": "stdout",
     "output_type": "stream",
     "text": [
      "Epoch 449 - train loss: 0.3147 - train rmse: 0.1012 - val loss: 0.1530 - val rmse: 0.0613\n",
      "Validation MSE did not improve. Counter: 37/300\n"
     ]
    },
    {
     "data": {
      "application/vnd.jupyter.widget-view+json": {
       "model_id": "2c7ea611d6b84a84954482c2c460e862",
       "version_major": 2,
       "version_minor": 0
      },
      "text/plain": [
       "Train:   0%|          | 0/150 [00:00<?, ?it/s]"
      ]
     },
     "metadata": {},
     "output_type": "display_data"
    },
    {
     "name": "stdout",
     "output_type": "stream",
     "text": [
      "Epoch 450 - train loss: 0.3150 - train rmse: 0.1011 - val loss: 0.1544 - val rmse: 0.0616\n",
      "Validation MSE did not improve. Counter: 38/300\n"
     ]
    },
    {
     "data": {
      "application/vnd.jupyter.widget-view+json": {
       "model_id": "be6d1dfe2bdc4213b926b838538aaacd",
       "version_major": 2,
       "version_minor": 0
      },
      "text/plain": [
       "Train:   0%|          | 0/150 [00:00<?, ?it/s]"
      ]
     },
     "metadata": {},
     "output_type": "display_data"
    },
    {
     "name": "stdout",
     "output_type": "stream",
     "text": [
      "Epoch 451 - train loss: 0.3168 - train rmse: 0.1016 - val loss: 0.1561 - val rmse: 0.0619\n",
      "Validation MSE did not improve. Counter: 39/300\n"
     ]
    },
    {
     "data": {
      "application/vnd.jupyter.widget-view+json": {
       "model_id": "41ddff05ede74e9bb260cf4c17495b0d",
       "version_major": 2,
       "version_minor": 0
      },
      "text/plain": [
       "Train:   0%|          | 0/150 [00:00<?, ?it/s]"
      ]
     },
     "metadata": {},
     "output_type": "display_data"
    },
    {
     "name": "stdout",
     "output_type": "stream",
     "text": [
      "Epoch 452 - train loss: 0.3135 - train rmse: 0.1015 - val loss: 0.1544 - val rmse: 0.0622\n",
      "Validation MSE did not improve. Counter: 40/300\n"
     ]
    },
    {
     "data": {
      "application/vnd.jupyter.widget-view+json": {
       "model_id": "087f09598f1a486080a99301e9d2e709",
       "version_major": 2,
       "version_minor": 0
      },
      "text/plain": [
       "Train:   0%|          | 0/150 [00:00<?, ?it/s]"
      ]
     },
     "metadata": {},
     "output_type": "display_data"
    },
    {
     "name": "stdout",
     "output_type": "stream",
     "text": [
      "Epoch 453 - train loss: 0.3147 - train rmse: 0.1014 - val loss: 0.1534 - val rmse: 0.0620\n",
      "Validation MSE did not improve. Counter: 41/300\n"
     ]
    },
    {
     "data": {
      "application/vnd.jupyter.widget-view+json": {
       "model_id": "74f75cb5136647348dcec4e12345ca2c",
       "version_major": 2,
       "version_minor": 0
      },
      "text/plain": [
       "Train:   0%|          | 0/150 [00:00<?, ?it/s]"
      ]
     },
     "metadata": {},
     "output_type": "display_data"
    },
    {
     "name": "stdout",
     "output_type": "stream",
     "text": [
      "Epoch 454 - train loss: 0.3179 - train rmse: 0.1023 - val loss: 0.1531 - val rmse: 0.0617\n",
      "Validation MSE did not improve. Counter: 42/300\n"
     ]
    },
    {
     "data": {
      "application/vnd.jupyter.widget-view+json": {
       "model_id": "f96dfb4bbab747c397d708a5b240a32f",
       "version_major": 2,
       "version_minor": 0
      },
      "text/plain": [
       "Train:   0%|          | 0/150 [00:00<?, ?it/s]"
      ]
     },
     "metadata": {},
     "output_type": "display_data"
    },
    {
     "name": "stdout",
     "output_type": "stream",
     "text": [
      "Epoch 455 - train loss: 0.3128 - train rmse: 0.1011 - val loss: 0.1536 - val rmse: 0.0615\n",
      "Validation MSE did not improve. Counter: 43/300\n"
     ]
    },
    {
     "data": {
      "application/vnd.jupyter.widget-view+json": {
       "model_id": "4ff5b6d70d854f0d8f069b72bad42cf0",
       "version_major": 2,
       "version_minor": 0
      },
      "text/plain": [
       "Train:   0%|          | 0/150 [00:00<?, ?it/s]"
      ]
     },
     "metadata": {},
     "output_type": "display_data"
    },
    {
     "name": "stdout",
     "output_type": "stream",
     "text": [
      "Epoch 456 - train loss: 0.3155 - train rmse: 0.1014 - val loss: 0.1563 - val rmse: 0.0630\n",
      "Validation MSE did not improve. Counter: 44/300\n"
     ]
    },
    {
     "data": {
      "application/vnd.jupyter.widget-view+json": {
       "model_id": "262f5526006243d09e98efbc1e75e6cc",
       "version_major": 2,
       "version_minor": 0
      },
      "text/plain": [
       "Train:   0%|          | 0/150 [00:00<?, ?it/s]"
      ]
     },
     "metadata": {},
     "output_type": "display_data"
    },
    {
     "name": "stdout",
     "output_type": "stream",
     "text": [
      "Epoch 457 - train loss: 0.3149 - train rmse: 0.1014 - val loss: 0.1521 - val rmse: 0.0616\n",
      "Validation MSE did not improve. Counter: 45/300\n"
     ]
    },
    {
     "data": {
      "application/vnd.jupyter.widget-view+json": {
       "model_id": "dabece0c0aa746a9b616c4ac19f8a1d9",
       "version_major": 2,
       "version_minor": 0
      },
      "text/plain": [
       "Train:   0%|          | 0/150 [00:00<?, ?it/s]"
      ]
     },
     "metadata": {},
     "output_type": "display_data"
    },
    {
     "name": "stdout",
     "output_type": "stream",
     "text": [
      "Epoch 458 - train loss: 0.3075 - train rmse: 0.0998 - val loss: 0.1526 - val rmse: 0.0615\n",
      "Validation MSE did not improve. Counter: 46/300\n"
     ]
    },
    {
     "data": {
      "application/vnd.jupyter.widget-view+json": {
       "model_id": "3ee581a366784165a007f3294bd7fc2f",
       "version_major": 2,
       "version_minor": 0
      },
      "text/plain": [
       "Train:   0%|          | 0/150 [00:00<?, ?it/s]"
      ]
     },
     "metadata": {},
     "output_type": "display_data"
    },
    {
     "name": "stdout",
     "output_type": "stream",
     "text": [
      "Epoch 459 - train loss: 0.3055 - train rmse: 0.0988 - val loss: 0.1532 - val rmse: 0.0616\n",
      "Validation MSE did not improve. Counter: 47/300\n"
     ]
    },
    {
     "data": {
      "application/vnd.jupyter.widget-view+json": {
       "model_id": "0616756eee1a4d018a28bd72f7435853",
       "version_major": 2,
       "version_minor": 0
      },
      "text/plain": [
       "Train:   0%|          | 0/150 [00:00<?, ?it/s]"
      ]
     },
     "metadata": {},
     "output_type": "display_data"
    },
    {
     "name": "stdout",
     "output_type": "stream",
     "text": [
      "Epoch 460 - train loss: 0.3167 - train rmse: 0.1024 - val loss: 0.1557 - val rmse: 0.0622\n",
      "Validation MSE did not improve. Counter: 48/300\n"
     ]
    },
    {
     "data": {
      "application/vnd.jupyter.widget-view+json": {
       "model_id": "7ec70acef9784f829241b12532a62c35",
       "version_major": 2,
       "version_minor": 0
      },
      "text/plain": [
       "Train:   0%|          | 0/150 [00:00<?, ?it/s]"
      ]
     },
     "metadata": {},
     "output_type": "display_data"
    },
    {
     "name": "stdout",
     "output_type": "stream",
     "text": [
      "Epoch 461 - train loss: 0.3081 - train rmse: 0.0998 - val loss: 0.1563 - val rmse: 0.0631\n",
      "Validation MSE did not improve. Counter: 49/300\n"
     ]
    },
    {
     "data": {
      "application/vnd.jupyter.widget-view+json": {
       "model_id": "8a2f379201b443da8a03dbf71a2ff1bf",
       "version_major": 2,
       "version_minor": 0
      },
      "text/plain": [
       "Train:   0%|          | 0/150 [00:00<?, ?it/s]"
      ]
     },
     "metadata": {},
     "output_type": "display_data"
    },
    {
     "name": "stdout",
     "output_type": "stream",
     "text": [
      "Epoch 462 - train loss: 0.3122 - train rmse: 0.1011 - val loss: 0.1526 - val rmse: 0.0621\n",
      "Validation MSE did not improve. Counter: 50/300\n"
     ]
    },
    {
     "data": {
      "application/vnd.jupyter.widget-view+json": {
       "model_id": "02e24aa333cf4de7a05863ca2ea4d053",
       "version_major": 2,
       "version_minor": 0
      },
      "text/plain": [
       "Train:   0%|          | 0/150 [00:00<?, ?it/s]"
      ]
     },
     "metadata": {},
     "output_type": "display_data"
    },
    {
     "name": "stdout",
     "output_type": "stream",
     "text": [
      "Epoch 463 - train loss: 0.3148 - train rmse: 0.1017 - val loss: 0.1529 - val rmse: 0.0616\n",
      "Validation MSE did not improve. Counter: 51/300\n"
     ]
    },
    {
     "data": {
      "application/vnd.jupyter.widget-view+json": {
       "model_id": "4924eae5ebba42d09b3d89674b6ce452",
       "version_major": 2,
       "version_minor": 0
      },
      "text/plain": [
       "Train:   0%|          | 0/150 [00:00<?, ?it/s]"
      ]
     },
     "metadata": {},
     "output_type": "display_data"
    },
    {
     "name": "stdout",
     "output_type": "stream",
     "text": [
      "Epoch 464 - train loss: 0.3105 - train rmse: 0.1002 - val loss: 0.1528 - val rmse: 0.0613\n",
      "Validation MSE did not improve. Counter: 52/300\n"
     ]
    },
    {
     "data": {
      "application/vnd.jupyter.widget-view+json": {
       "model_id": "60f7a8e32a9d4074831c2f81774a5fd4",
       "version_major": 2,
       "version_minor": 0
      },
      "text/plain": [
       "Train:   0%|          | 0/150 [00:00<?, ?it/s]"
      ]
     },
     "metadata": {},
     "output_type": "display_data"
    },
    {
     "name": "stdout",
     "output_type": "stream",
     "text": [
      "Epoch 465 - train loss: 0.3116 - train rmse: 0.1007 - val loss: 0.1495 - val rmse: 0.0603\n",
      "Validation MSE did not improve. Counter: 53/300\n"
     ]
    },
    {
     "data": {
      "application/vnd.jupyter.widget-view+json": {
       "model_id": "c0d9eb0b3dc14346925f78d5039e41a3",
       "version_major": 2,
       "version_minor": 0
      },
      "text/plain": [
       "Train:   0%|          | 0/150 [00:00<?, ?it/s]"
      ]
     },
     "metadata": {},
     "output_type": "display_data"
    },
    {
     "name": "stdout",
     "output_type": "stream",
     "text": [
      "Epoch 466 - train loss: 0.3144 - train rmse: 0.1016 - val loss: 0.1524 - val rmse: 0.0611\n",
      "Validation MSE did not improve. Counter: 54/300\n"
     ]
    },
    {
     "data": {
      "application/vnd.jupyter.widget-view+json": {
       "model_id": "492b16a4b64f4d9f8f8ac56834ac7e58",
       "version_major": 2,
       "version_minor": 0
      },
      "text/plain": [
       "Train:   0%|          | 0/150 [00:00<?, ?it/s]"
      ]
     },
     "metadata": {},
     "output_type": "display_data"
    },
    {
     "name": "stdout",
     "output_type": "stream",
     "text": [
      "Epoch 467 - train loss: 0.3092 - train rmse: 0.1002 - val loss: 0.1542 - val rmse: 0.0621\n",
      "Validation MSE did not improve. Counter: 55/300\n"
     ]
    },
    {
     "data": {
      "application/vnd.jupyter.widget-view+json": {
       "model_id": "fb6d5f47fba1467ba3124418138c6c99",
       "version_major": 2,
       "version_minor": 0
      },
      "text/plain": [
       "Train:   0%|          | 0/150 [00:00<?, ?it/s]"
      ]
     },
     "metadata": {},
     "output_type": "display_data"
    },
    {
     "name": "stdout",
     "output_type": "stream",
     "text": [
      "Epoch 468 - train loss: 0.3088 - train rmse: 0.0996 - val loss: 0.1521 - val rmse: 0.0614\n",
      "Validation MSE did not improve. Counter: 56/300\n"
     ]
    },
    {
     "data": {
      "application/vnd.jupyter.widget-view+json": {
       "model_id": "428978b4e3714df9b0360d42c2c2dbd5",
       "version_major": 2,
       "version_minor": 0
      },
      "text/plain": [
       "Train:   0%|          | 0/150 [00:00<?, ?it/s]"
      ]
     },
     "metadata": {},
     "output_type": "display_data"
    },
    {
     "name": "stdout",
     "output_type": "stream",
     "text": [
      "Epoch 469 - train loss: 0.3094 - train rmse: 0.0998 - val loss: 0.1550 - val rmse: 0.0628\n",
      "Validation MSE did not improve. Counter: 57/300\n"
     ]
    },
    {
     "data": {
      "application/vnd.jupyter.widget-view+json": {
       "model_id": "48054f2beb1649d298dadb6f70d984af",
       "version_major": 2,
       "version_minor": 0
      },
      "text/plain": [
       "Train:   0%|          | 0/150 [00:00<?, ?it/s]"
      ]
     },
     "metadata": {},
     "output_type": "display_data"
    },
    {
     "name": "stdout",
     "output_type": "stream",
     "text": [
      "Epoch 470 - train loss: 0.3192 - train rmse: 0.1026 - val loss: 0.1540 - val rmse: 0.0623\n",
      "Validation MSE did not improve. Counter: 58/300\n"
     ]
    },
    {
     "data": {
      "application/vnd.jupyter.widget-view+json": {
       "model_id": "3133da8150964991a40ec9e9accf8bdb",
       "version_major": 2,
       "version_minor": 0
      },
      "text/plain": [
       "Train:   0%|          | 0/150 [00:00<?, ?it/s]"
      ]
     },
     "metadata": {},
     "output_type": "display_data"
    },
    {
     "name": "stdout",
     "output_type": "stream",
     "text": [
      "Epoch 471 - train loss: 0.3034 - train rmse: 0.0981 - val loss: 0.1542 - val rmse: 0.0625\n",
      "Validation MSE did not improve. Counter: 59/300\n"
     ]
    },
    {
     "data": {
      "application/vnd.jupyter.widget-view+json": {
       "model_id": "5c669d66d2204c76a2606086d8a8adaa",
       "version_major": 2,
       "version_minor": 0
      },
      "text/plain": [
       "Train:   0%|          | 0/150 [00:00<?, ?it/s]"
      ]
     },
     "metadata": {},
     "output_type": "display_data"
    },
    {
     "name": "stdout",
     "output_type": "stream",
     "text": [
      "Epoch 472 - train loss: 0.3113 - train rmse: 0.1001 - val loss: 0.1519 - val rmse: 0.0611\n",
      "Validation MSE did not improve. Counter: 60/300\n"
     ]
    },
    {
     "data": {
      "application/vnd.jupyter.widget-view+json": {
       "model_id": "6179c672068c41a0b1ca678cbb24a89c",
       "version_major": 2,
       "version_minor": 0
      },
      "text/plain": [
       "Train:   0%|          | 0/150 [00:00<?, ?it/s]"
      ]
     },
     "metadata": {},
     "output_type": "display_data"
    },
    {
     "name": "stdout",
     "output_type": "stream",
     "text": [
      "Epoch 473 - train loss: 0.3116 - train rmse: 0.1003 - val loss: 0.1530 - val rmse: 0.0620\n",
      "Validation MSE did not improve. Counter: 61/300\n"
     ]
    },
    {
     "data": {
      "application/vnd.jupyter.widget-view+json": {
       "model_id": "3f765511b6c04136a6fd82e98e0d7dd5",
       "version_major": 2,
       "version_minor": 0
      },
      "text/plain": [
       "Train:   0%|          | 0/150 [00:00<?, ?it/s]"
      ]
     },
     "metadata": {},
     "output_type": "display_data"
    },
    {
     "name": "stdout",
     "output_type": "stream",
     "text": [
      "Epoch 474 - train loss: 0.3076 - train rmse: 0.0994 - val loss: 0.1541 - val rmse: 0.0622\n",
      "Validation MSE did not improve. Counter: 62/300\n"
     ]
    },
    {
     "data": {
      "application/vnd.jupyter.widget-view+json": {
       "model_id": "fea192fe0c274368a8801e7c78018614",
       "version_major": 2,
       "version_minor": 0
      },
      "text/plain": [
       "Train:   0%|          | 0/150 [00:00<?, ?it/s]"
      ]
     },
     "metadata": {},
     "output_type": "display_data"
    },
    {
     "name": "stdout",
     "output_type": "stream",
     "text": [
      "Epoch 475 - train loss: 0.3076 - train rmse: 0.0998 - val loss: 0.1536 - val rmse: 0.0621\n",
      "Validation MSE did not improve. Counter: 63/300\n"
     ]
    },
    {
     "data": {
      "application/vnd.jupyter.widget-view+json": {
       "model_id": "be711d59490b4892957c2cc91639283a",
       "version_major": 2,
       "version_minor": 0
      },
      "text/plain": [
       "Train:   0%|          | 0/150 [00:00<?, ?it/s]"
      ]
     },
     "metadata": {},
     "output_type": "display_data"
    },
    {
     "name": "stdout",
     "output_type": "stream",
     "text": [
      "Epoch 476 - train loss: 0.3114 - train rmse: 0.1006 - val loss: 0.1552 - val rmse: 0.0628\n",
      "Validation MSE did not improve. Counter: 64/300\n"
     ]
    },
    {
     "data": {
      "application/vnd.jupyter.widget-view+json": {
       "model_id": "6ee456e408ad41f5b81a48b0d43e4717",
       "version_major": 2,
       "version_minor": 0
      },
      "text/plain": [
       "Train:   0%|          | 0/150 [00:00<?, ?it/s]"
      ]
     },
     "metadata": {},
     "output_type": "display_data"
    },
    {
     "name": "stdout",
     "output_type": "stream",
     "text": [
      "Epoch 477 - train loss: 0.3105 - train rmse: 0.1004 - val loss: 0.1523 - val rmse: 0.0618\n",
      "Validation MSE did not improve. Counter: 65/300\n"
     ]
    },
    {
     "data": {
      "application/vnd.jupyter.widget-view+json": {
       "model_id": "d4e6455abfa14a3dbf7ed630ce164033",
       "version_major": 2,
       "version_minor": 0
      },
      "text/plain": [
       "Train:   0%|          | 0/150 [00:00<?, ?it/s]"
      ]
     },
     "metadata": {},
     "output_type": "display_data"
    },
    {
     "name": "stdout",
     "output_type": "stream",
     "text": [
      "Epoch 478 - train loss: 0.3051 - train rmse: 0.0988 - val loss: 0.1532 - val rmse: 0.0622\n",
      "Validation MSE did not improve. Counter: 66/300\n"
     ]
    },
    {
     "data": {
      "application/vnd.jupyter.widget-view+json": {
       "model_id": "5da7890ba47044e6b32e8eee4f32940f",
       "version_major": 2,
       "version_minor": 0
      },
      "text/plain": [
       "Train:   0%|          | 0/150 [00:00<?, ?it/s]"
      ]
     },
     "metadata": {},
     "output_type": "display_data"
    },
    {
     "name": "stdout",
     "output_type": "stream",
     "text": [
      "Epoch 479 - train loss: 0.3060 - train rmse: 0.0989 - val loss: 0.1531 - val rmse: 0.0619\n",
      "Validation MSE did not improve. Counter: 67/300\n"
     ]
    },
    {
     "data": {
      "application/vnd.jupyter.widget-view+json": {
       "model_id": "a60be60f31944a92a6ee3f8039e27998",
       "version_major": 2,
       "version_minor": 0
      },
      "text/plain": [
       "Train:   0%|          | 0/150 [00:00<?, ?it/s]"
      ]
     },
     "metadata": {},
     "output_type": "display_data"
    },
    {
     "name": "stdout",
     "output_type": "stream",
     "text": [
      "Epoch 480 - train loss: 0.3067 - train rmse: 0.0995 - val loss: 0.1527 - val rmse: 0.0625\n",
      "Validation MSE did not improve. Counter: 68/300\n"
     ]
    },
    {
     "data": {
      "application/vnd.jupyter.widget-view+json": {
       "model_id": "859400b8ef8a4f1b85ce90363fdc02f3",
       "version_major": 2,
       "version_minor": 0
      },
      "text/plain": [
       "Train:   0%|          | 0/150 [00:00<?, ?it/s]"
      ]
     },
     "metadata": {},
     "output_type": "display_data"
    },
    {
     "name": "stdout",
     "output_type": "stream",
     "text": [
      "Epoch 481 - train loss: 0.3095 - train rmse: 0.0998 - val loss: 0.1509 - val rmse: 0.0618\n",
      "Validation MSE did not improve. Counter: 69/300\n"
     ]
    },
    {
     "data": {
      "application/vnd.jupyter.widget-view+json": {
       "model_id": "8ef8dd19fe9641fe9cfd50b93dc62a4c",
       "version_major": 2,
       "version_minor": 0
      },
      "text/plain": [
       "Train:   0%|          | 0/150 [00:00<?, ?it/s]"
      ]
     },
     "metadata": {},
     "output_type": "display_data"
    },
    {
     "name": "stdout",
     "output_type": "stream",
     "text": [
      "Epoch 482 - train loss: 0.3138 - train rmse: 0.1015 - val loss: 0.1502 - val rmse: 0.0618\n",
      "Validation MSE did not improve. Counter: 70/300\n"
     ]
    },
    {
     "data": {
      "application/vnd.jupyter.widget-view+json": {
       "model_id": "e047157ffd174d1bb3972e34c45d7bbe",
       "version_major": 2,
       "version_minor": 0
      },
      "text/plain": [
       "Train:   0%|          | 0/150 [00:00<?, ?it/s]"
      ]
     },
     "metadata": {},
     "output_type": "display_data"
    },
    {
     "name": "stdout",
     "output_type": "stream",
     "text": [
      "Epoch 483 - train loss: 0.3062 - train rmse: 0.0992 - val loss: 0.1537 - val rmse: 0.0626\n",
      "Validation MSE did not improve. Counter: 71/300\n"
     ]
    },
    {
     "data": {
      "application/vnd.jupyter.widget-view+json": {
       "model_id": "9ca20077a40e469eb49f0c2519ba317b",
       "version_major": 2,
       "version_minor": 0
      },
      "text/plain": [
       "Train:   0%|          | 0/150 [00:00<?, ?it/s]"
      ]
     },
     "metadata": {},
     "output_type": "display_data"
    },
    {
     "name": "stdout",
     "output_type": "stream",
     "text": [
      "Epoch 484 - train loss: 0.3100 - train rmse: 0.0997 - val loss: 0.1484 - val rmse: 0.0606\n",
      "Validation MSE did not improve. Counter: 72/300\n"
     ]
    },
    {
     "data": {
      "application/vnd.jupyter.widget-view+json": {
       "model_id": "602e8017a1154070b0833a091e568410",
       "version_major": 2,
       "version_minor": 0
      },
      "text/plain": [
       "Train:   0%|          | 0/150 [00:00<?, ?it/s]"
      ]
     },
     "metadata": {},
     "output_type": "display_data"
    },
    {
     "name": "stdout",
     "output_type": "stream",
     "text": [
      "Epoch 485 - train loss: 0.3112 - train rmse: 0.1006 - val loss: 0.1501 - val rmse: 0.0612\n",
      "Validation MSE did not improve. Counter: 73/300\n"
     ]
    },
    {
     "data": {
      "application/vnd.jupyter.widget-view+json": {
       "model_id": "27cc43ee48fe4e6cb0f7428f2966b74a",
       "version_major": 2,
       "version_minor": 0
      },
      "text/plain": [
       "Train:   0%|          | 0/150 [00:00<?, ?it/s]"
      ]
     },
     "metadata": {},
     "output_type": "display_data"
    },
    {
     "name": "stdout",
     "output_type": "stream",
     "text": [
      "Epoch 486 - train loss: 0.3089 - train rmse: 0.0998 - val loss: 0.1511 - val rmse: 0.0611\n",
      "Validation MSE did not improve. Counter: 74/300\n"
     ]
    },
    {
     "data": {
      "application/vnd.jupyter.widget-view+json": {
       "model_id": "e98df9327d30412ebef3c414a9937b4b",
       "version_major": 2,
       "version_minor": 0
      },
      "text/plain": [
       "Train:   0%|          | 0/150 [00:00<?, ?it/s]"
      ]
     },
     "metadata": {},
     "output_type": "display_data"
    },
    {
     "name": "stdout",
     "output_type": "stream",
     "text": [
      "Epoch 487 - train loss: 0.3096 - train rmse: 0.1000 - val loss: 0.1491 - val rmse: 0.0606\n",
      "Validation MSE did not improve. Counter: 75/300\n"
     ]
    },
    {
     "data": {
      "application/vnd.jupyter.widget-view+json": {
       "model_id": "ac1cf7e7ca6c4b6597463a61bff221a8",
       "version_major": 2,
       "version_minor": 0
      },
      "text/plain": [
       "Train:   0%|          | 0/150 [00:00<?, ?it/s]"
      ]
     },
     "metadata": {},
     "output_type": "display_data"
    },
    {
     "name": "stdout",
     "output_type": "stream",
     "text": [
      "Epoch 488 - train loss: 0.3086 - train rmse: 0.0999 - val loss: 0.1498 - val rmse: 0.0610\n",
      "Validation MSE did not improve. Counter: 76/300\n"
     ]
    },
    {
     "data": {
      "application/vnd.jupyter.widget-view+json": {
       "model_id": "0971cb6c0f8e44b1bdfc5d56bec55821",
       "version_major": 2,
       "version_minor": 0
      },
      "text/plain": [
       "Train:   0%|          | 0/150 [00:00<?, ?it/s]"
      ]
     },
     "metadata": {},
     "output_type": "display_data"
    },
    {
     "name": "stdout",
     "output_type": "stream",
     "text": [
      "Epoch 489 - train loss: 0.3122 - train rmse: 0.1009 - val loss: 0.1496 - val rmse: 0.0608\n",
      "Validation MSE did not improve. Counter: 77/300\n"
     ]
    },
    {
     "data": {
      "application/vnd.jupyter.widget-view+json": {
       "model_id": "d64c93be4a74469cb8ed18f2f7cde0af",
       "version_major": 2,
       "version_minor": 0
      },
      "text/plain": [
       "Train:   0%|          | 0/150 [00:00<?, ?it/s]"
      ]
     },
     "metadata": {},
     "output_type": "display_data"
    },
    {
     "name": "stdout",
     "output_type": "stream",
     "text": [
      "Epoch 490 - train loss: 0.3144 - train rmse: 0.1016 - val loss: 0.1510 - val rmse: 0.0610\n",
      "Validation MSE did not improve. Counter: 78/300\n"
     ]
    },
    {
     "data": {
      "application/vnd.jupyter.widget-view+json": {
       "model_id": "de29e58a2b7448d1822c2e253648e901",
       "version_major": 2,
       "version_minor": 0
      },
      "text/plain": [
       "Train:   0%|          | 0/150 [00:00<?, ?it/s]"
      ]
     },
     "metadata": {},
     "output_type": "display_data"
    },
    {
     "name": "stdout",
     "output_type": "stream",
     "text": [
      "Epoch 491 - train loss: 0.3117 - train rmse: 0.1005 - val loss: 0.1485 - val rmse: 0.0607\n",
      "Validation MSE did not improve. Counter: 79/300\n"
     ]
    },
    {
     "data": {
      "application/vnd.jupyter.widget-view+json": {
       "model_id": "714f639e4fe742f9b453a8c0cb788bbf",
       "version_major": 2,
       "version_minor": 0
      },
      "text/plain": [
       "Train:   0%|          | 0/150 [00:00<?, ?it/s]"
      ]
     },
     "metadata": {},
     "output_type": "display_data"
    },
    {
     "name": "stdout",
     "output_type": "stream",
     "text": [
      "Epoch 492 - train loss: 0.3051 - train rmse: 0.0990 - val loss: 0.1523 - val rmse: 0.0617\n",
      "Validation MSE did not improve. Counter: 80/300\n"
     ]
    },
    {
     "data": {
      "application/vnd.jupyter.widget-view+json": {
       "model_id": "1592b50381c646699a5a70a33e10c57b",
       "version_major": 2,
       "version_minor": 0
      },
      "text/plain": [
       "Train:   0%|          | 0/150 [00:00<?, ?it/s]"
      ]
     },
     "metadata": {},
     "output_type": "display_data"
    },
    {
     "name": "stdout",
     "output_type": "stream",
     "text": [
      "Epoch 493 - train loss: 0.3090 - train rmse: 0.0998 - val loss: 0.1516 - val rmse: 0.0616\n",
      "Validation MSE did not improve. Counter: 81/300\n"
     ]
    },
    {
     "data": {
      "application/vnd.jupyter.widget-view+json": {
       "model_id": "f83db52279c341fd94dacc6731402228",
       "version_major": 2,
       "version_minor": 0
      },
      "text/plain": [
       "Train:   0%|          | 0/150 [00:00<?, ?it/s]"
      ]
     },
     "metadata": {},
     "output_type": "display_data"
    },
    {
     "name": "stdout",
     "output_type": "stream",
     "text": [
      "Epoch 494 - train loss: 0.3141 - train rmse: 0.1012 - val loss: 0.1476 - val rmse: 0.0606\n",
      "Validation MSE did not improve. Counter: 82/300\n"
     ]
    },
    {
     "data": {
      "application/vnd.jupyter.widget-view+json": {
       "model_id": "7225b32b14c04afcbab7804a8c1b83b4",
       "version_major": 2,
       "version_minor": 0
      },
      "text/plain": [
       "Train:   0%|          | 0/150 [00:00<?, ?it/s]"
      ]
     },
     "metadata": {},
     "output_type": "display_data"
    },
    {
     "name": "stdout",
     "output_type": "stream",
     "text": [
      "Epoch 495 - train loss: 0.3088 - train rmse: 0.0998 - val loss: 0.1487 - val rmse: 0.0608\n",
      "Validation MSE did not improve. Counter: 83/300\n"
     ]
    },
    {
     "data": {
      "application/vnd.jupyter.widget-view+json": {
       "model_id": "15bf1c71f56e4ca3bb482ba5c87a9ef5",
       "version_major": 2,
       "version_minor": 0
      },
      "text/plain": [
       "Train:   0%|          | 0/150 [00:00<?, ?it/s]"
      ]
     },
     "metadata": {},
     "output_type": "display_data"
    },
    {
     "name": "stdout",
     "output_type": "stream",
     "text": [
      "Epoch 496 - train loss: 0.3098 - train rmse: 0.1001 - val loss: 0.1511 - val rmse: 0.0616\n",
      "Validation MSE did not improve. Counter: 84/300\n"
     ]
    },
    {
     "data": {
      "application/vnd.jupyter.widget-view+json": {
       "model_id": "4cd541b29e3b4a81a3bf39a55ff40ccf",
       "version_major": 2,
       "version_minor": 0
      },
      "text/plain": [
       "Train:   0%|          | 0/150 [00:00<?, ?it/s]"
      ]
     },
     "metadata": {},
     "output_type": "display_data"
    },
    {
     "name": "stdout",
     "output_type": "stream",
     "text": [
      "Epoch 497 - train loss: 0.3060 - train rmse: 0.0989 - val loss: 0.1527 - val rmse: 0.0627\n",
      "Validation MSE did not improve. Counter: 85/300\n"
     ]
    },
    {
     "data": {
      "application/vnd.jupyter.widget-view+json": {
       "model_id": "8f14ebe4d2bc45ffadeb011229dd349a",
       "version_major": 2,
       "version_minor": 0
      },
      "text/plain": [
       "Train:   0%|          | 0/150 [00:00<?, ?it/s]"
      ]
     },
     "metadata": {},
     "output_type": "display_data"
    },
    {
     "name": "stdout",
     "output_type": "stream",
     "text": [
      "Epoch 498 - train loss: 0.3084 - train rmse: 0.0995 - val loss: 0.1504 - val rmse: 0.0620\n",
      "Validation MSE did not improve. Counter: 86/300\n"
     ]
    },
    {
     "data": {
      "application/vnd.jupyter.widget-view+json": {
       "model_id": "d1900eb6e6d9456f993f90ffcc67095d",
       "version_major": 2,
       "version_minor": 0
      },
      "text/plain": [
       "Train:   0%|          | 0/150 [00:00<?, ?it/s]"
      ]
     },
     "metadata": {},
     "output_type": "display_data"
    },
    {
     "name": "stdout",
     "output_type": "stream",
     "text": [
      "Epoch 499 - train loss: 0.3065 - train rmse: 0.0987 - val loss: 0.1513 - val rmse: 0.0621\n",
      "Validation MSE did not improve. Counter: 87/300\n"
     ]
    },
    {
     "data": {
      "application/vnd.jupyter.widget-view+json": {
       "model_id": "b916b6b9e9634e8fb2aa46387594cb58",
       "version_major": 2,
       "version_minor": 0
      },
      "text/plain": [
       "Train:   0%|          | 0/150 [00:00<?, ?it/s]"
      ]
     },
     "metadata": {},
     "output_type": "display_data"
    },
    {
     "name": "stdout",
     "output_type": "stream",
     "text": [
      "Epoch 500 - train loss: 0.3137 - train rmse: 0.1014 - val loss: 0.1513 - val rmse: 0.0619\n",
      "Validation MSE did not improve. Counter: 88/300\n"
     ]
    },
    {
     "data": {
      "application/vnd.jupyter.widget-view+json": {
       "model_id": "7d580b4485a4442e91b2d4f78335822d",
       "version_major": 2,
       "version_minor": 0
      },
      "text/plain": [
       "Train:   0%|          | 0/150 [00:00<?, ?it/s]"
      ]
     },
     "metadata": {},
     "output_type": "display_data"
    },
    {
     "name": "stdout",
     "output_type": "stream",
     "text": [
      "Epoch 501 - train loss: 0.3078 - train rmse: 0.0997 - val loss: 0.1507 - val rmse: 0.0618\n",
      "Validation MSE did not improve. Counter: 89/300\n"
     ]
    },
    {
     "data": {
      "application/vnd.jupyter.widget-view+json": {
       "model_id": "ceebe5d2d81c4adaab1f3d2c5880c151",
       "version_major": 2,
       "version_minor": 0
      },
      "text/plain": [
       "Train:   0%|          | 0/150 [00:00<?, ?it/s]"
      ]
     },
     "metadata": {},
     "output_type": "display_data"
    },
    {
     "name": "stdout",
     "output_type": "stream",
     "text": [
      "Epoch 502 - train loss: 0.3111 - train rmse: 0.1006 - val loss: 0.1503 - val rmse: 0.0611\n",
      "Validation MSE did not improve. Counter: 90/300\n"
     ]
    },
    {
     "data": {
      "application/vnd.jupyter.widget-view+json": {
       "model_id": "6237120400d845ee8ed61ad859c3ebf8",
       "version_major": 2,
       "version_minor": 0
      },
      "text/plain": [
       "Train:   0%|          | 0/150 [00:00<?, ?it/s]"
      ]
     },
     "metadata": {},
     "output_type": "display_data"
    },
    {
     "name": "stdout",
     "output_type": "stream",
     "text": [
      "Epoch 503 - train loss: 0.3049 - train rmse: 0.0986 - val loss: 0.1475 - val rmse: 0.0607\n",
      "Validation MSE did not improve. Counter: 91/300\n"
     ]
    },
    {
     "data": {
      "application/vnd.jupyter.widget-view+json": {
       "model_id": "a2899b95ce7c42809e4d411a375480b7",
       "version_major": 2,
       "version_minor": 0
      },
      "text/plain": [
       "Train:   0%|          | 0/150 [00:00<?, ?it/s]"
      ]
     },
     "metadata": {},
     "output_type": "display_data"
    },
    {
     "name": "stdout",
     "output_type": "stream",
     "text": [
      "Epoch 504 - train loss: 0.3098 - train rmse: 0.1007 - val loss: 0.1488 - val rmse: 0.0610\n",
      "Validation MSE did not improve. Counter: 92/300\n"
     ]
    },
    {
     "data": {
      "application/vnd.jupyter.widget-view+json": {
       "model_id": "f43c6a337ce84dcaad78b16d66060c39",
       "version_major": 2,
       "version_minor": 0
      },
      "text/plain": [
       "Train:   0%|          | 0/150 [00:00<?, ?it/s]"
      ]
     },
     "metadata": {},
     "output_type": "display_data"
    },
    {
     "name": "stdout",
     "output_type": "stream",
     "text": [
      "Epoch 505 - train loss: 0.3105 - train rmse: 0.1006 - val loss: 0.1486 - val rmse: 0.0609\n",
      "Validation MSE did not improve. Counter: 93/300\n"
     ]
    },
    {
     "data": {
      "application/vnd.jupyter.widget-view+json": {
       "model_id": "712200742ab74145aa782d2e3683e958",
       "version_major": 2,
       "version_minor": 0
      },
      "text/plain": [
       "Train:   0%|          | 0/150 [00:00<?, ?it/s]"
      ]
     },
     "metadata": {},
     "output_type": "display_data"
    },
    {
     "name": "stdout",
     "output_type": "stream",
     "text": [
      "Epoch 506 - train loss: 0.3121 - train rmse: 0.1011 - val loss: 0.1509 - val rmse: 0.0621\n",
      "Validation MSE did not improve. Counter: 94/300\n"
     ]
    },
    {
     "data": {
      "application/vnd.jupyter.widget-view+json": {
       "model_id": "415a8a6da090452eab41f141f4327bd8",
       "version_major": 2,
       "version_minor": 0
      },
      "text/plain": [
       "Train:   0%|          | 0/150 [00:00<?, ?it/s]"
      ]
     },
     "metadata": {},
     "output_type": "display_data"
    },
    {
     "name": "stdout",
     "output_type": "stream",
     "text": [
      "Epoch 507 - train loss: 0.3054 - train rmse: 0.0985 - val loss: 0.1471 - val rmse: 0.0601\n",
      "Validation MSE did not improve. Counter: 95/300\n"
     ]
    },
    {
     "data": {
      "application/vnd.jupyter.widget-view+json": {
       "model_id": "ecded9e9717c42a9a634e00278b30e8f",
       "version_major": 2,
       "version_minor": 0
      },
      "text/plain": [
       "Train:   0%|          | 0/150 [00:00<?, ?it/s]"
      ]
     },
     "metadata": {},
     "output_type": "display_data"
    },
    {
     "name": "stdout",
     "output_type": "stream",
     "text": [
      "Epoch 508 - train loss: 0.3104 - train rmse: 0.1004 - val loss: 0.1458 - val rmse: 0.0596\n",
      "Validation MSE improved (0.0036 --> 0.0035). Saving model...\n"
     ]
    },
    {
     "data": {
      "application/vnd.jupyter.widget-view+json": {
       "model_id": "3823a512342a4871a4a3b6ce5de68c3d",
       "version_major": 2,
       "version_minor": 0
      },
      "text/plain": [
       "Train:   0%|          | 0/150 [00:00<?, ?it/s]"
      ]
     },
     "metadata": {},
     "output_type": "display_data"
    },
    {
     "name": "stdout",
     "output_type": "stream",
     "text": [
      "Epoch 509 - train loss: 0.3081 - train rmse: 0.0995 - val loss: 0.1508 - val rmse: 0.0611\n",
      "Validation MSE did not improve. Counter: 1/300\n"
     ]
    },
    {
     "data": {
      "application/vnd.jupyter.widget-view+json": {
       "model_id": "1e9941beaace44d0b1ab34fc821bc75c",
       "version_major": 2,
       "version_minor": 0
      },
      "text/plain": [
       "Train:   0%|          | 0/150 [00:00<?, ?it/s]"
      ]
     },
     "metadata": {},
     "output_type": "display_data"
    },
    {
     "name": "stdout",
     "output_type": "stream",
     "text": [
      "Epoch 510 - train loss: 0.3046 - train rmse: 0.0986 - val loss: 0.1504 - val rmse: 0.0613\n",
      "Validation MSE did not improve. Counter: 2/300\n"
     ]
    },
    {
     "data": {
      "application/vnd.jupyter.widget-view+json": {
       "model_id": "92ef2989677d46e29817c539bb8404cd",
       "version_major": 2,
       "version_minor": 0
      },
      "text/plain": [
       "Train:   0%|          | 0/150 [00:00<?, ?it/s]"
      ]
     },
     "metadata": {},
     "output_type": "display_data"
    },
    {
     "name": "stdout",
     "output_type": "stream",
     "text": [
      "Epoch 511 - train loss: 0.3069 - train rmse: 0.0994 - val loss: 0.1470 - val rmse: 0.0603\n",
      "Validation MSE did not improve. Counter: 3/300\n"
     ]
    },
    {
     "data": {
      "application/vnd.jupyter.widget-view+json": {
       "model_id": "472160c118ae48df80e29c40e9485877",
       "version_major": 2,
       "version_minor": 0
      },
      "text/plain": [
       "Train:   0%|          | 0/150 [00:00<?, ?it/s]"
      ]
     },
     "metadata": {},
     "output_type": "display_data"
    },
    {
     "name": "stdout",
     "output_type": "stream",
     "text": [
      "Epoch 512 - train loss: 0.3097 - train rmse: 0.1000 - val loss: 0.1459 - val rmse: 0.0597\n",
      "Validation MSE did not improve. Counter: 4/300\n"
     ]
    },
    {
     "data": {
      "application/vnd.jupyter.widget-view+json": {
       "model_id": "5f305be57f5c4c058a359cf6353a488a",
       "version_major": 2,
       "version_minor": 0
      },
      "text/plain": [
       "Train:   0%|          | 0/150 [00:00<?, ?it/s]"
      ]
     },
     "metadata": {},
     "output_type": "display_data"
    },
    {
     "name": "stdout",
     "output_type": "stream",
     "text": [
      "Epoch 513 - train loss: 0.3104 - train rmse: 0.1000 - val loss: 0.1482 - val rmse: 0.0607\n",
      "Validation MSE did not improve. Counter: 5/300\n"
     ]
    },
    {
     "data": {
      "application/vnd.jupyter.widget-view+json": {
       "model_id": "c16604996e59468788bfa19d974f5190",
       "version_major": 2,
       "version_minor": 0
      },
      "text/plain": [
       "Train:   0%|          | 0/150 [00:00<?, ?it/s]"
      ]
     },
     "metadata": {},
     "output_type": "display_data"
    },
    {
     "name": "stdout",
     "output_type": "stream",
     "text": [
      "Epoch 514 - train loss: 0.3089 - train rmse: 0.1002 - val loss: 0.1477 - val rmse: 0.0602\n",
      "Validation MSE did not improve. Counter: 6/300\n"
     ]
    },
    {
     "data": {
      "application/vnd.jupyter.widget-view+json": {
       "model_id": "50bd62a2dd5347a780653b9de83151e9",
       "version_major": 2,
       "version_minor": 0
      },
      "text/plain": [
       "Train:   0%|          | 0/150 [00:00<?, ?it/s]"
      ]
     },
     "metadata": {},
     "output_type": "display_data"
    },
    {
     "name": "stdout",
     "output_type": "stream",
     "text": [
      "Epoch 515 - train loss: 0.3070 - train rmse: 0.0998 - val loss: 0.1498 - val rmse: 0.0607\n",
      "Validation MSE did not improve. Counter: 7/300\n"
     ]
    },
    {
     "data": {
      "application/vnd.jupyter.widget-view+json": {
       "model_id": "e49ec1b2e742443baf47e52262037df9",
       "version_major": 2,
       "version_minor": 0
      },
      "text/plain": [
       "Train:   0%|          | 0/150 [00:00<?, ?it/s]"
      ]
     },
     "metadata": {},
     "output_type": "display_data"
    },
    {
     "name": "stdout",
     "output_type": "stream",
     "text": [
      "Epoch 516 - train loss: 0.3084 - train rmse: 0.0996 - val loss: 0.1494 - val rmse: 0.0606\n",
      "Validation MSE did not improve. Counter: 8/300\n"
     ]
    },
    {
     "data": {
      "application/vnd.jupyter.widget-view+json": {
       "model_id": "047e62c2d164462c9aa22bcc09ffbe63",
       "version_major": 2,
       "version_minor": 0
      },
      "text/plain": [
       "Train:   0%|          | 0/150 [00:00<?, ?it/s]"
      ]
     },
     "metadata": {},
     "output_type": "display_data"
    },
    {
     "name": "stdout",
     "output_type": "stream",
     "text": [
      "Epoch 517 - train loss: 0.3044 - train rmse: 0.0982 - val loss: 0.1522 - val rmse: 0.0623\n",
      "Validation MSE did not improve. Counter: 9/300\n"
     ]
    },
    {
     "data": {
      "application/vnd.jupyter.widget-view+json": {
       "model_id": "cde008d108794ac9b5acf7bf08ab4ace",
       "version_major": 2,
       "version_minor": 0
      },
      "text/plain": [
       "Train:   0%|          | 0/150 [00:00<?, ?it/s]"
      ]
     },
     "metadata": {},
     "output_type": "display_data"
    },
    {
     "name": "stdout",
     "output_type": "stream",
     "text": [
      "Epoch 518 - train loss: 0.3097 - train rmse: 0.1002 - val loss: 0.1472 - val rmse: 0.0607\n",
      "Validation MSE did not improve. Counter: 10/300\n"
     ]
    },
    {
     "data": {
      "application/vnd.jupyter.widget-view+json": {
       "model_id": "861353bdda5e4d6fbb2703a64b3fe067",
       "version_major": 2,
       "version_minor": 0
      },
      "text/plain": [
       "Train:   0%|          | 0/150 [00:00<?, ?it/s]"
      ]
     },
     "metadata": {},
     "output_type": "display_data"
    },
    {
     "name": "stdout",
     "output_type": "stream",
     "text": [
      "Epoch 519 - train loss: 0.3107 - train rmse: 0.1001 - val loss: 0.1470 - val rmse: 0.0604\n",
      "Validation MSE did not improve. Counter: 11/300\n"
     ]
    },
    {
     "data": {
      "application/vnd.jupyter.widget-view+json": {
       "model_id": "22e69bbe479f4642ab6457102601da4c",
       "version_major": 2,
       "version_minor": 0
      },
      "text/plain": [
       "Train:   0%|          | 0/150 [00:00<?, ?it/s]"
      ]
     },
     "metadata": {},
     "output_type": "display_data"
    },
    {
     "name": "stdout",
     "output_type": "stream",
     "text": [
      "Epoch 520 - train loss: 0.3056 - train rmse: 0.0988 - val loss: 0.1457 - val rmse: 0.0594\n",
      "Validation MSE improved (0.0035 --> 0.0035). Saving model...\n"
     ]
    },
    {
     "data": {
      "application/vnd.jupyter.widget-view+json": {
       "model_id": "0ab20e294e3d484fa5993fc9d4d89cbf",
       "version_major": 2,
       "version_minor": 0
      },
      "text/plain": [
       "Train:   0%|          | 0/150 [00:00<?, ?it/s]"
      ]
     },
     "metadata": {},
     "output_type": "display_data"
    },
    {
     "name": "stdout",
     "output_type": "stream",
     "text": [
      "Epoch 521 - train loss: 0.3106 - train rmse: 0.1004 - val loss: 0.1467 - val rmse: 0.0603\n",
      "Validation MSE did not improve. Counter: 1/300\n"
     ]
    },
    {
     "data": {
      "application/vnd.jupyter.widget-view+json": {
       "model_id": "98b10b60e3a8401bbeda7041fc07f025",
       "version_major": 2,
       "version_minor": 0
      },
      "text/plain": [
       "Train:   0%|          | 0/150 [00:00<?, ?it/s]"
      ]
     },
     "metadata": {},
     "output_type": "display_data"
    },
    {
     "name": "stdout",
     "output_type": "stream",
     "text": [
      "Epoch 522 - train loss: 0.3048 - train rmse: 0.0986 - val loss: 0.1467 - val rmse: 0.0605\n",
      "Validation MSE did not improve. Counter: 2/300\n"
     ]
    },
    {
     "data": {
      "application/vnd.jupyter.widget-view+json": {
       "model_id": "9aa3f75be88d4e728695c880eb972d4c",
       "version_major": 2,
       "version_minor": 0
      },
      "text/plain": [
       "Train:   0%|          | 0/150 [00:00<?, ?it/s]"
      ]
     },
     "metadata": {},
     "output_type": "display_data"
    },
    {
     "name": "stdout",
     "output_type": "stream",
     "text": [
      "Epoch 523 - train loss: 0.3079 - train rmse: 0.0998 - val loss: 0.1488 - val rmse: 0.0605\n",
      "Validation MSE did not improve. Counter: 3/300\n"
     ]
    },
    {
     "data": {
      "application/vnd.jupyter.widget-view+json": {
       "model_id": "5a2d866ec18345bb9454a34cf0042602",
       "version_major": 2,
       "version_minor": 0
      },
      "text/plain": [
       "Train:   0%|          | 0/150 [00:00<?, ?it/s]"
      ]
     },
     "metadata": {},
     "output_type": "display_data"
    },
    {
     "name": "stdout",
     "output_type": "stream",
     "text": [
      "Epoch 524 - train loss: 0.3092 - train rmse: 0.1001 - val loss: 0.1473 - val rmse: 0.0610\n",
      "Validation MSE did not improve. Counter: 4/300\n"
     ]
    },
    {
     "data": {
      "application/vnd.jupyter.widget-view+json": {
       "model_id": "85d8818c69364256974acd3c679a0eea",
       "version_major": 2,
       "version_minor": 0
      },
      "text/plain": [
       "Train:   0%|          | 0/150 [00:00<?, ?it/s]"
      ]
     },
     "metadata": {},
     "output_type": "display_data"
    },
    {
     "name": "stdout",
     "output_type": "stream",
     "text": [
      "Epoch 525 - train loss: 0.3053 - train rmse: 0.0989 - val loss: 0.1453 - val rmse: 0.0599\n",
      "Validation MSE did not improve. Counter: 5/300\n"
     ]
    },
    {
     "data": {
      "application/vnd.jupyter.widget-view+json": {
       "model_id": "7735e62c90f448098015cbdbc12b3d86",
       "version_major": 2,
       "version_minor": 0
      },
      "text/plain": [
       "Train:   0%|          | 0/150 [00:00<?, ?it/s]"
      ]
     },
     "metadata": {},
     "output_type": "display_data"
    },
    {
     "name": "stdout",
     "output_type": "stream",
     "text": [
      "Epoch 526 - train loss: 0.3048 - train rmse: 0.0987 - val loss: 0.1469 - val rmse: 0.0606\n",
      "Validation MSE did not improve. Counter: 6/300\n"
     ]
    },
    {
     "data": {
      "application/vnd.jupyter.widget-view+json": {
       "model_id": "21c702461b11456eb04af7fa2e6017dc",
       "version_major": 2,
       "version_minor": 0
      },
      "text/plain": [
       "Train:   0%|          | 0/150 [00:00<?, ?it/s]"
      ]
     },
     "metadata": {},
     "output_type": "display_data"
    },
    {
     "name": "stdout",
     "output_type": "stream",
     "text": [
      "Epoch 527 - train loss: 0.3109 - train rmse: 0.1002 - val loss: 0.1462 - val rmse: 0.0605\n",
      "Validation MSE did not improve. Counter: 7/300\n"
     ]
    },
    {
     "data": {
      "application/vnd.jupyter.widget-view+json": {
       "model_id": "96ebcb2c053e4db180fd9f1cf7cad0cf",
       "version_major": 2,
       "version_minor": 0
      },
      "text/plain": [
       "Train:   0%|          | 0/150 [00:00<?, ?it/s]"
      ]
     },
     "metadata": {},
     "output_type": "display_data"
    },
    {
     "name": "stdout",
     "output_type": "stream",
     "text": [
      "Epoch 528 - train loss: 0.3117 - train rmse: 0.1007 - val loss: 0.1468 - val rmse: 0.0606\n",
      "Validation MSE did not improve. Counter: 8/300\n"
     ]
    },
    {
     "data": {
      "application/vnd.jupyter.widget-view+json": {
       "model_id": "6f59415fdb3744c191c3eb80ee23da69",
       "version_major": 2,
       "version_minor": 0
      },
      "text/plain": [
       "Train:   0%|          | 0/150 [00:00<?, ?it/s]"
      ]
     },
     "metadata": {},
     "output_type": "display_data"
    },
    {
     "name": "stdout",
     "output_type": "stream",
     "text": [
      "Epoch 529 - train loss: 0.3018 - train rmse: 0.0980 - val loss: 0.1476 - val rmse: 0.0610\n",
      "Validation MSE did not improve. Counter: 9/300\n"
     ]
    },
    {
     "data": {
      "application/vnd.jupyter.widget-view+json": {
       "model_id": "b0156ad2982d4d2d9310aa2207407abc",
       "version_major": 2,
       "version_minor": 0
      },
      "text/plain": [
       "Train:   0%|          | 0/150 [00:00<?, ?it/s]"
      ]
     },
     "metadata": {},
     "output_type": "display_data"
    },
    {
     "name": "stdout",
     "output_type": "stream",
     "text": [
      "Epoch 530 - train loss: 0.3082 - train rmse: 0.0996 - val loss: 0.1473 - val rmse: 0.0608\n",
      "Validation MSE did not improve. Counter: 10/300\n"
     ]
    },
    {
     "data": {
      "application/vnd.jupyter.widget-view+json": {
       "model_id": "399165c26bda4de3bc68f241d791614a",
       "version_major": 2,
       "version_minor": 0
      },
      "text/plain": [
       "Train:   0%|          | 0/150 [00:00<?, ?it/s]"
      ]
     },
     "metadata": {},
     "output_type": "display_data"
    },
    {
     "name": "stdout",
     "output_type": "stream",
     "text": [
      "Epoch 531 - train loss: 0.3079 - train rmse: 0.0997 - val loss: 0.1470 - val rmse: 0.0609\n",
      "Validation MSE did not improve. Counter: 11/300\n"
     ]
    },
    {
     "data": {
      "application/vnd.jupyter.widget-view+json": {
       "model_id": "a7bd4aae71ea4d988298aa8f60431d24",
       "version_major": 2,
       "version_minor": 0
      },
      "text/plain": [
       "Train:   0%|          | 0/150 [00:00<?, ?it/s]"
      ]
     },
     "metadata": {},
     "output_type": "display_data"
    },
    {
     "name": "stdout",
     "output_type": "stream",
     "text": [
      "Epoch 532 - train loss: 0.3129 - train rmse: 0.1012 - val loss: 0.1445 - val rmse: 0.0602\n",
      "Validation MSE did not improve. Counter: 12/300\n"
     ]
    },
    {
     "data": {
      "application/vnd.jupyter.widget-view+json": {
       "model_id": "db660f8af7ea4f89a5ed76adb04f5d87",
       "version_major": 2,
       "version_minor": 0
      },
      "text/plain": [
       "Train:   0%|          | 0/150 [00:00<?, ?it/s]"
      ]
     },
     "metadata": {},
     "output_type": "display_data"
    },
    {
     "name": "stdout",
     "output_type": "stream",
     "text": [
      "Epoch 533 - train loss: 0.3082 - train rmse: 0.0996 - val loss: 0.1454 - val rmse: 0.0604\n",
      "Validation MSE did not improve. Counter: 13/300\n"
     ]
    },
    {
     "data": {
      "application/vnd.jupyter.widget-view+json": {
       "model_id": "ea91ad8ebed248ed90abfcf82958474d",
       "version_major": 2,
       "version_minor": 0
      },
      "text/plain": [
       "Train:   0%|          | 0/150 [00:00<?, ?it/s]"
      ]
     },
     "metadata": {},
     "output_type": "display_data"
    },
    {
     "name": "stdout",
     "output_type": "stream",
     "text": [
      "Epoch 534 - train loss: 0.3058 - train rmse: 0.0990 - val loss: 0.1458 - val rmse: 0.0602\n",
      "Validation MSE did not improve. Counter: 14/300\n"
     ]
    },
    {
     "data": {
      "application/vnd.jupyter.widget-view+json": {
       "model_id": "a72e4df4ab804dc28a8ebcbeb30dd3ea",
       "version_major": 2,
       "version_minor": 0
      },
      "text/plain": [
       "Train:   0%|          | 0/150 [00:00<?, ?it/s]"
      ]
     },
     "metadata": {},
     "output_type": "display_data"
    },
    {
     "name": "stdout",
     "output_type": "stream",
     "text": [
      "Epoch 535 - train loss: 0.3036 - train rmse: 0.0981 - val loss: 0.1467 - val rmse: 0.0612\n",
      "Validation MSE did not improve. Counter: 15/300\n"
     ]
    },
    {
     "data": {
      "application/vnd.jupyter.widget-view+json": {
       "model_id": "56ef6736b2fb438dba024f7de8d5f9fc",
       "version_major": 2,
       "version_minor": 0
      },
      "text/plain": [
       "Train:   0%|          | 0/150 [00:00<?, ?it/s]"
      ]
     },
     "metadata": {},
     "output_type": "display_data"
    },
    {
     "name": "stdout",
     "output_type": "stream",
     "text": [
      "Epoch 536 - train loss: 0.3067 - train rmse: 0.0993 - val loss: 0.1463 - val rmse: 0.0607\n",
      "Validation MSE did not improve. Counter: 16/300\n"
     ]
    },
    {
     "data": {
      "application/vnd.jupyter.widget-view+json": {
       "model_id": "96442619d346493baf8f2c23f3d374eb",
       "version_major": 2,
       "version_minor": 0
      },
      "text/plain": [
       "Train:   0%|          | 0/150 [00:00<?, ?it/s]"
      ]
     },
     "metadata": {},
     "output_type": "display_data"
    },
    {
     "name": "stdout",
     "output_type": "stream",
     "text": [
      "Epoch 537 - train loss: 0.3044 - train rmse: 0.0985 - val loss: 0.1449 - val rmse: 0.0602\n",
      "Validation MSE did not improve. Counter: 17/300\n"
     ]
    },
    {
     "data": {
      "application/vnd.jupyter.widget-view+json": {
       "model_id": "e625f1bb765048058cbad85f97d57b05",
       "version_major": 2,
       "version_minor": 0
      },
      "text/plain": [
       "Train:   0%|          | 0/150 [00:00<?, ?it/s]"
      ]
     },
     "metadata": {},
     "output_type": "display_data"
    },
    {
     "name": "stdout",
     "output_type": "stream",
     "text": [
      "Epoch 538 - train loss: 0.3062 - train rmse: 0.0988 - val loss: 0.1456 - val rmse: 0.0605\n",
      "Validation MSE did not improve. Counter: 18/300\n"
     ]
    },
    {
     "data": {
      "application/vnd.jupyter.widget-view+json": {
       "model_id": "81f731991dbc442c9e84313ec41aa2e4",
       "version_major": 2,
       "version_minor": 0
      },
      "text/plain": [
       "Train:   0%|          | 0/150 [00:00<?, ?it/s]"
      ]
     },
     "metadata": {},
     "output_type": "display_data"
    },
    {
     "name": "stdout",
     "output_type": "stream",
     "text": [
      "Epoch 539 - train loss: 0.3016 - train rmse: 0.0979 - val loss: 0.1466 - val rmse: 0.0607\n",
      "Validation MSE did not improve. Counter: 19/300\n"
     ]
    },
    {
     "data": {
      "application/vnd.jupyter.widget-view+json": {
       "model_id": "f45d2ad9387042b3a83d8936249284ff",
       "version_major": 2,
       "version_minor": 0
      },
      "text/plain": [
       "Train:   0%|          | 0/150 [00:00<?, ?it/s]"
      ]
     },
     "metadata": {},
     "output_type": "display_data"
    },
    {
     "name": "stdout",
     "output_type": "stream",
     "text": [
      "Epoch 540 - train loss: 0.3055 - train rmse: 0.0990 - val loss: 0.1467 - val rmse: 0.0608\n",
      "Validation MSE did not improve. Counter: 20/300\n"
     ]
    },
    {
     "data": {
      "application/vnd.jupyter.widget-view+json": {
       "model_id": "ac7104efa30f49d096f440ff0e486936",
       "version_major": 2,
       "version_minor": 0
      },
      "text/plain": [
       "Train:   0%|          | 0/150 [00:00<?, ?it/s]"
      ]
     },
     "metadata": {},
     "output_type": "display_data"
    },
    {
     "name": "stdout",
     "output_type": "stream",
     "text": [
      "Epoch 541 - train loss: 0.3042 - train rmse: 0.0982 - val loss: 0.1453 - val rmse: 0.0605\n",
      "Validation MSE did not improve. Counter: 21/300\n"
     ]
    },
    {
     "data": {
      "application/vnd.jupyter.widget-view+json": {
       "model_id": "d3ed85a6757a49a0bc9b4b8892d1da23",
       "version_major": 2,
       "version_minor": 0
      },
      "text/plain": [
       "Train:   0%|          | 0/150 [00:00<?, ?it/s]"
      ]
     },
     "metadata": {},
     "output_type": "display_data"
    },
    {
     "name": "stdout",
     "output_type": "stream",
     "text": [
      "Epoch 542 - train loss: 0.3011 - train rmse: 0.0974 - val loss: 0.1466 - val rmse: 0.0609\n",
      "Validation MSE did not improve. Counter: 22/300\n"
     ]
    },
    {
     "data": {
      "application/vnd.jupyter.widget-view+json": {
       "model_id": "5cf023b0dd46439688e8809c9dc3061f",
       "version_major": 2,
       "version_minor": 0
      },
      "text/plain": [
       "Train:   0%|          | 0/150 [00:00<?, ?it/s]"
      ]
     },
     "metadata": {},
     "output_type": "display_data"
    },
    {
     "name": "stdout",
     "output_type": "stream",
     "text": [
      "Epoch 543 - train loss: 0.3067 - train rmse: 0.0987 - val loss: 0.1485 - val rmse: 0.0611\n",
      "Validation MSE did not improve. Counter: 23/300\n"
     ]
    },
    {
     "data": {
      "application/vnd.jupyter.widget-view+json": {
       "model_id": "42109b8388a4489391cfa56373094029",
       "version_major": 2,
       "version_minor": 0
      },
      "text/plain": [
       "Train:   0%|          | 0/150 [00:00<?, ?it/s]"
      ]
     },
     "metadata": {},
     "output_type": "display_data"
    },
    {
     "name": "stdout",
     "output_type": "stream",
     "text": [
      "Epoch 544 - train loss: 0.3044 - train rmse: 0.0983 - val loss: 0.1454 - val rmse: 0.0603\n",
      "Validation MSE did not improve. Counter: 24/300\n"
     ]
    },
    {
     "data": {
      "application/vnd.jupyter.widget-view+json": {
       "model_id": "b7c376c0e7df456cb1a9ec546bd60b4c",
       "version_major": 2,
       "version_minor": 0
      },
      "text/plain": [
       "Train:   0%|          | 0/150 [00:00<?, ?it/s]"
      ]
     },
     "metadata": {},
     "output_type": "display_data"
    },
    {
     "name": "stdout",
     "output_type": "stream",
     "text": [
      "Epoch 545 - train loss: 0.3050 - train rmse: 0.0989 - val loss: 0.1448 - val rmse: 0.0601\n",
      "Validation MSE did not improve. Counter: 25/300\n"
     ]
    },
    {
     "data": {
      "application/vnd.jupyter.widget-view+json": {
       "model_id": "ca3ddd8cb55242b78ccc7be376728f8b",
       "version_major": 2,
       "version_minor": 0
      },
      "text/plain": [
       "Train:   0%|          | 0/150 [00:00<?, ?it/s]"
      ]
     },
     "metadata": {},
     "output_type": "display_data"
    },
    {
     "name": "stdout",
     "output_type": "stream",
     "text": [
      "Epoch 546 - train loss: 0.3062 - train rmse: 0.0997 - val loss: 0.1447 - val rmse: 0.0599\n",
      "Validation MSE did not improve. Counter: 26/300\n"
     ]
    },
    {
     "data": {
      "application/vnd.jupyter.widget-view+json": {
       "model_id": "b3dd020484fb45a08e5f02ccbb7d76dc",
       "version_major": 2,
       "version_minor": 0
      },
      "text/plain": [
       "Train:   0%|          | 0/150 [00:00<?, ?it/s]"
      ]
     },
     "metadata": {},
     "output_type": "display_data"
    },
    {
     "name": "stdout",
     "output_type": "stream",
     "text": [
      "Epoch 547 - train loss: 0.3059 - train rmse: 0.0993 - val loss: 0.1456 - val rmse: 0.0602\n",
      "Validation MSE did not improve. Counter: 27/300\n"
     ]
    },
    {
     "data": {
      "application/vnd.jupyter.widget-view+json": {
       "model_id": "6a3e4d652b9b4324b2e57567a0c9f9ee",
       "version_major": 2,
       "version_minor": 0
      },
      "text/plain": [
       "Train:   0%|          | 0/150 [00:00<?, ?it/s]"
      ]
     },
     "metadata": {},
     "output_type": "display_data"
    },
    {
     "name": "stdout",
     "output_type": "stream",
     "text": [
      "Epoch 548 - train loss: 0.3059 - train rmse: 0.0988 - val loss: 0.1451 - val rmse: 0.0603\n",
      "Validation MSE did not improve. Counter: 28/300\n"
     ]
    },
    {
     "data": {
      "application/vnd.jupyter.widget-view+json": {
       "model_id": "ad12e526f29e4300b2992ecf0417fc61",
       "version_major": 2,
       "version_minor": 0
      },
      "text/plain": [
       "Train:   0%|          | 0/150 [00:00<?, ?it/s]"
      ]
     },
     "metadata": {},
     "output_type": "display_data"
    },
    {
     "name": "stdout",
     "output_type": "stream",
     "text": [
      "Epoch 549 - train loss: 0.3020 - train rmse: 0.0972 - val loss: 0.1453 - val rmse: 0.0605\n",
      "Validation MSE did not improve. Counter: 29/300\n"
     ]
    },
    {
     "data": {
      "application/vnd.jupyter.widget-view+json": {
       "model_id": "dbac128206864f0eb3093e668493bf9d",
       "version_major": 2,
       "version_minor": 0
      },
      "text/plain": [
       "Train:   0%|          | 0/150 [00:00<?, ?it/s]"
      ]
     },
     "metadata": {},
     "output_type": "display_data"
    },
    {
     "name": "stdout",
     "output_type": "stream",
     "text": [
      "Epoch 550 - train loss: 0.3105 - train rmse: 0.1003 - val loss: 0.1454 - val rmse: 0.0606\n",
      "Validation MSE did not improve. Counter: 30/300\n"
     ]
    },
    {
     "data": {
      "application/vnd.jupyter.widget-view+json": {
       "model_id": "baf90bd5301d483995447b243a5464be",
       "version_major": 2,
       "version_minor": 0
      },
      "text/plain": [
       "Train:   0%|          | 0/150 [00:00<?, ?it/s]"
      ]
     },
     "metadata": {},
     "output_type": "display_data"
    },
    {
     "name": "stdout",
     "output_type": "stream",
     "text": [
      "Epoch 551 - train loss: 0.3066 - train rmse: 0.0992 - val loss: 0.1449 - val rmse: 0.0599\n",
      "Validation MSE did not improve. Counter: 31/300\n"
     ]
    },
    {
     "data": {
      "application/vnd.jupyter.widget-view+json": {
       "model_id": "efc36576825444888ac93dd6769fc63d",
       "version_major": 2,
       "version_minor": 0
      },
      "text/plain": [
       "Train:   0%|          | 0/150 [00:00<?, ?it/s]"
      ]
     },
     "metadata": {},
     "output_type": "display_data"
    },
    {
     "name": "stdout",
     "output_type": "stream",
     "text": [
      "Epoch 552 - train loss: 0.3046 - train rmse: 0.0995 - val loss: 0.1451 - val rmse: 0.0601\n",
      "Validation MSE did not improve. Counter: 32/300\n"
     ]
    },
    {
     "data": {
      "application/vnd.jupyter.widget-view+json": {
       "model_id": "2d7691ff15c440428bcc650ccc65dbf8",
       "version_major": 2,
       "version_minor": 0
      },
      "text/plain": [
       "Train:   0%|          | 0/150 [00:00<?, ?it/s]"
      ]
     },
     "metadata": {},
     "output_type": "display_data"
    },
    {
     "name": "stdout",
     "output_type": "stream",
     "text": [
      "Epoch 553 - train loss: 0.3065 - train rmse: 0.0985 - val loss: 0.1458 - val rmse: 0.0604\n",
      "Validation MSE did not improve. Counter: 33/300\n"
     ]
    },
    {
     "data": {
      "application/vnd.jupyter.widget-view+json": {
       "model_id": "c4529a5b0034424f89c66921c410b7ac",
       "version_major": 2,
       "version_minor": 0
      },
      "text/plain": [
       "Train:   0%|          | 0/150 [00:00<?, ?it/s]"
      ]
     },
     "metadata": {},
     "output_type": "display_data"
    },
    {
     "name": "stdout",
     "output_type": "stream",
     "text": [
      "Epoch 554 - train loss: 0.3043 - train rmse: 0.0989 - val loss: 0.1463 - val rmse: 0.0604\n",
      "Validation MSE did not improve. Counter: 34/300\n"
     ]
    },
    {
     "data": {
      "application/vnd.jupyter.widget-view+json": {
       "model_id": "24b5997015d24119b3d250c1ecba7035",
       "version_major": 2,
       "version_minor": 0
      },
      "text/plain": [
       "Train:   0%|          | 0/150 [00:00<?, ?it/s]"
      ]
     },
     "metadata": {},
     "output_type": "display_data"
    },
    {
     "name": "stdout",
     "output_type": "stream",
     "text": [
      "Epoch 555 - train loss: 0.3065 - train rmse: 0.0991 - val loss: 0.1455 - val rmse: 0.0602\n",
      "Validation MSE did not improve. Counter: 35/300\n"
     ]
    },
    {
     "data": {
      "application/vnd.jupyter.widget-view+json": {
       "model_id": "0288fcdc73324e77ac433e91645c0d8f",
       "version_major": 2,
       "version_minor": 0
      },
      "text/plain": [
       "Train:   0%|          | 0/150 [00:00<?, ?it/s]"
      ]
     },
     "metadata": {},
     "output_type": "display_data"
    },
    {
     "name": "stdout",
     "output_type": "stream",
     "text": [
      "Epoch 556 - train loss: 0.3032 - train rmse: 0.0987 - val loss: 0.1461 - val rmse: 0.0604\n",
      "Validation MSE did not improve. Counter: 36/300\n"
     ]
    },
    {
     "data": {
      "application/vnd.jupyter.widget-view+json": {
       "model_id": "99101cca980d4d33af381df0ba3add7c",
       "version_major": 2,
       "version_minor": 0
      },
      "text/plain": [
       "Train:   0%|          | 0/150 [00:00<?, ?it/s]"
      ]
     },
     "metadata": {},
     "output_type": "display_data"
    },
    {
     "name": "stdout",
     "output_type": "stream",
     "text": [
      "Epoch 557 - train loss: 0.3099 - train rmse: 0.1003 - val loss: 0.1458 - val rmse: 0.0604\n",
      "Validation MSE did not improve. Counter: 37/300\n"
     ]
    },
    {
     "data": {
      "application/vnd.jupyter.widget-view+json": {
       "model_id": "b0ab86dcfc524273aed2ecb7831a4804",
       "version_major": 2,
       "version_minor": 0
      },
      "text/plain": [
       "Train:   0%|          | 0/150 [00:00<?, ?it/s]"
      ]
     },
     "metadata": {},
     "output_type": "display_data"
    },
    {
     "name": "stdout",
     "output_type": "stream",
     "text": [
      "Epoch 558 - train loss: 0.3063 - train rmse: 0.0988 - val loss: 0.1451 - val rmse: 0.0603\n",
      "Validation MSE did not improve. Counter: 38/300\n"
     ]
    },
    {
     "data": {
      "application/vnd.jupyter.widget-view+json": {
       "model_id": "cbf50b39021d4aa89d7d56963827542e",
       "version_major": 2,
       "version_minor": 0
      },
      "text/plain": [
       "Train:   0%|          | 0/150 [00:00<?, ?it/s]"
      ]
     },
     "metadata": {},
     "output_type": "display_data"
    },
    {
     "name": "stdout",
     "output_type": "stream",
     "text": [
      "Epoch 559 - train loss: 0.3072 - train rmse: 0.0993 - val loss: 0.1457 - val rmse: 0.0604\n",
      "Validation MSE did not improve. Counter: 39/300\n"
     ]
    },
    {
     "data": {
      "application/vnd.jupyter.widget-view+json": {
       "model_id": "b0fcd631ada24319a0ca8bd42445b452",
       "version_major": 2,
       "version_minor": 0
      },
      "text/plain": [
       "Train:   0%|          | 0/150 [00:00<?, ?it/s]"
      ]
     },
     "metadata": {},
     "output_type": "display_data"
    },
    {
     "name": "stdout",
     "output_type": "stream",
     "text": [
      "Epoch 560 - train loss: 0.3050 - train rmse: 0.0988 - val loss: 0.1446 - val rmse: 0.0601\n",
      "Validation MSE did not improve. Counter: 40/300\n"
     ]
    },
    {
     "data": {
      "application/vnd.jupyter.widget-view+json": {
       "model_id": "8f319c4e44c14066a33f0131b3f3fc1f",
       "version_major": 2,
       "version_minor": 0
      },
      "text/plain": [
       "Train:   0%|          | 0/150 [00:00<?, ?it/s]"
      ]
     },
     "metadata": {},
     "output_type": "display_data"
    },
    {
     "name": "stdout",
     "output_type": "stream",
     "text": [
      "Epoch 561 - train loss: 0.3024 - train rmse: 0.0978 - val loss: 0.1449 - val rmse: 0.0603\n",
      "Validation MSE did not improve. Counter: 41/300\n"
     ]
    },
    {
     "data": {
      "application/vnd.jupyter.widget-view+json": {
       "model_id": "c821a0345ed34ff3b8c0791bfe15b6c1",
       "version_major": 2,
       "version_minor": 0
      },
      "text/plain": [
       "Train:   0%|          | 0/150 [00:00<?, ?it/s]"
      ]
     },
     "metadata": {},
     "output_type": "display_data"
    },
    {
     "name": "stdout",
     "output_type": "stream",
     "text": [
      "Epoch 562 - train loss: 0.3056 - train rmse: 0.0993 - val loss: 0.1449 - val rmse: 0.0603\n",
      "Validation MSE did not improve. Counter: 42/300\n"
     ]
    },
    {
     "data": {
      "application/vnd.jupyter.widget-view+json": {
       "model_id": "d5223b6030524d828180a2318f7597a4",
       "version_major": 2,
       "version_minor": 0
      },
      "text/plain": [
       "Train:   0%|          | 0/150 [00:00<?, ?it/s]"
      ]
     },
     "metadata": {},
     "output_type": "display_data"
    },
    {
     "name": "stdout",
     "output_type": "stream",
     "text": [
      "Epoch 563 - train loss: 0.3052 - train rmse: 0.0985 - val loss: 0.1445 - val rmse: 0.0604\n",
      "Validation MSE did not improve. Counter: 43/300\n"
     ]
    },
    {
     "data": {
      "application/vnd.jupyter.widget-view+json": {
       "model_id": "16ef4fe900d0458dae33b718caa27c17",
       "version_major": 2,
       "version_minor": 0
      },
      "text/plain": [
       "Train:   0%|          | 0/150 [00:00<?, ?it/s]"
      ]
     },
     "metadata": {},
     "output_type": "display_data"
    },
    {
     "name": "stdout",
     "output_type": "stream",
     "text": [
      "Epoch 564 - train loss: 0.3005 - train rmse: 0.0974 - val loss: 0.1448 - val rmse: 0.0602\n",
      "Validation MSE did not improve. Counter: 44/300\n"
     ]
    },
    {
     "data": {
      "application/vnd.jupyter.widget-view+json": {
       "model_id": "8aa6cd8ffeb9451182412d5b1f6169b7",
       "version_major": 2,
       "version_minor": 0
      },
      "text/plain": [
       "Train:   0%|          | 0/150 [00:00<?, ?it/s]"
      ]
     },
     "metadata": {},
     "output_type": "display_data"
    },
    {
     "name": "stdout",
     "output_type": "stream",
     "text": [
      "Epoch 565 - train loss: 0.3051 - train rmse: 0.0984 - val loss: 0.1452 - val rmse: 0.0601\n",
      "Validation MSE did not improve. Counter: 45/300\n"
     ]
    },
    {
     "data": {
      "application/vnd.jupyter.widget-view+json": {
       "model_id": "13bfab10472d439bb622ec9ac1742baa",
       "version_major": 2,
       "version_minor": 0
      },
      "text/plain": [
       "Train:   0%|          | 0/150 [00:00<?, ?it/s]"
      ]
     },
     "metadata": {},
     "output_type": "display_data"
    },
    {
     "name": "stdout",
     "output_type": "stream",
     "text": [
      "Epoch 566 - train loss: 0.3064 - train rmse: 0.0994 - val loss: 0.1449 - val rmse: 0.0602\n",
      "Validation MSE did not improve. Counter: 46/300\n"
     ]
    },
    {
     "data": {
      "application/vnd.jupyter.widget-view+json": {
       "model_id": "a50f7ada5b3a42acae26e00f7a075c62",
       "version_major": 2,
       "version_minor": 0
      },
      "text/plain": [
       "Train:   0%|          | 0/150 [00:00<?, ?it/s]"
      ]
     },
     "metadata": {},
     "output_type": "display_data"
    },
    {
     "name": "stdout",
     "output_type": "stream",
     "text": [
      "Epoch 567 - train loss: 0.3058 - train rmse: 0.0996 - val loss: 0.1464 - val rmse: 0.0603\n",
      "Validation MSE did not improve. Counter: 47/300\n"
     ]
    },
    {
     "data": {
      "application/vnd.jupyter.widget-view+json": {
       "model_id": "e3cb3d3a7abd4f7588a8f98620120ea0",
       "version_major": 2,
       "version_minor": 0
      },
      "text/plain": [
       "Train:   0%|          | 0/150 [00:00<?, ?it/s]"
      ]
     },
     "metadata": {},
     "output_type": "display_data"
    },
    {
     "name": "stdout",
     "output_type": "stream",
     "text": [
      "Epoch 568 - train loss: 0.3064 - train rmse: 0.0986 - val loss: 0.1450 - val rmse: 0.0605\n",
      "Validation MSE did not improve. Counter: 48/300\n"
     ]
    },
    {
     "data": {
      "application/vnd.jupyter.widget-view+json": {
       "model_id": "bea220c33bdb42909aaba8c0a757acc9",
       "version_major": 2,
       "version_minor": 0
      },
      "text/plain": [
       "Train:   0%|          | 0/150 [00:00<?, ?it/s]"
      ]
     },
     "metadata": {},
     "output_type": "display_data"
    },
    {
     "name": "stdout",
     "output_type": "stream",
     "text": [
      "Epoch 569 - train loss: 0.3054 - train rmse: 0.0986 - val loss: 0.1456 - val rmse: 0.0603\n",
      "Validation MSE did not improve. Counter: 49/300\n"
     ]
    },
    {
     "data": {
      "application/vnd.jupyter.widget-view+json": {
       "model_id": "5ffa0c3939f640828f9a0235e435e752",
       "version_major": 2,
       "version_minor": 0
      },
      "text/plain": [
       "Train:   0%|          | 0/150 [00:00<?, ?it/s]"
      ]
     },
     "metadata": {},
     "output_type": "display_data"
    },
    {
     "name": "stdout",
     "output_type": "stream",
     "text": [
      "Epoch 570 - train loss: 0.3021 - train rmse: 0.0978 - val loss: 0.1454 - val rmse: 0.0604\n",
      "Validation MSE did not improve. Counter: 50/300\n"
     ]
    },
    {
     "data": {
      "application/vnd.jupyter.widget-view+json": {
       "model_id": "63f079354da340319ba0cc24e264110d",
       "version_major": 2,
       "version_minor": 0
      },
      "text/plain": [
       "Train:   0%|          | 0/150 [00:00<?, ?it/s]"
      ]
     },
     "metadata": {},
     "output_type": "display_data"
    },
    {
     "name": "stdout",
     "output_type": "stream",
     "text": [
      "Epoch 571 - train loss: 0.3071 - train rmse: 0.0994 - val loss: 0.1451 - val rmse: 0.0603\n",
      "Validation MSE did not improve. Counter: 51/300\n"
     ]
    },
    {
     "data": {
      "application/vnd.jupyter.widget-view+json": {
       "model_id": "8bcbdc21ae6a4d42a6c6c79cb38770d4",
       "version_major": 2,
       "version_minor": 0
      },
      "text/plain": [
       "Train:   0%|          | 0/150 [00:00<?, ?it/s]"
      ]
     },
     "metadata": {},
     "output_type": "display_data"
    },
    {
     "name": "stdout",
     "output_type": "stream",
     "text": [
      "Epoch 572 - train loss: 0.3035 - train rmse: 0.0988 - val loss: 0.1454 - val rmse: 0.0604\n",
      "Validation MSE did not improve. Counter: 52/300\n"
     ]
    },
    {
     "data": {
      "application/vnd.jupyter.widget-view+json": {
       "model_id": "43bffa689491432e8f135be73f6d0cf3",
       "version_major": 2,
       "version_minor": 0
      },
      "text/plain": [
       "Train:   0%|          | 0/150 [00:00<?, ?it/s]"
      ]
     },
     "metadata": {},
     "output_type": "display_data"
    },
    {
     "name": "stdout",
     "output_type": "stream",
     "text": [
      "Epoch 573 - train loss: 0.3099 - train rmse: 0.1007 - val loss: 0.1456 - val rmse: 0.0603\n",
      "Validation MSE did not improve. Counter: 53/300\n"
     ]
    },
    {
     "data": {
      "application/vnd.jupyter.widget-view+json": {
       "model_id": "2f8bc2021f82477da23d366ec206ba28",
       "version_major": 2,
       "version_minor": 0
      },
      "text/plain": [
       "Train:   0%|          | 0/150 [00:00<?, ?it/s]"
      ]
     },
     "metadata": {},
     "output_type": "display_data"
    },
    {
     "name": "stdout",
     "output_type": "stream",
     "text": [
      "Epoch 574 - train loss: 0.3065 - train rmse: 0.0996 - val loss: 0.1454 - val rmse: 0.0603\n",
      "Validation MSE did not improve. Counter: 54/300\n"
     ]
    },
    {
     "data": {
      "application/vnd.jupyter.widget-view+json": {
       "model_id": "68f43b321eca44a0b15b52b6797f4921",
       "version_major": 2,
       "version_minor": 0
      },
      "text/plain": [
       "Train:   0%|          | 0/150 [00:00<?, ?it/s]"
      ]
     },
     "metadata": {},
     "output_type": "display_data"
    },
    {
     "name": "stdout",
     "output_type": "stream",
     "text": [
      "Epoch 575 - train loss: 0.3106 - train rmse: 0.1007 - val loss: 0.1462 - val rmse: 0.0605\n",
      "Validation MSE did not improve. Counter: 55/300\n"
     ]
    },
    {
     "data": {
      "application/vnd.jupyter.widget-view+json": {
       "model_id": "abb33151019c4364bab5fa862fb43267",
       "version_major": 2,
       "version_minor": 0
      },
      "text/plain": [
       "Train:   0%|          | 0/150 [00:00<?, ?it/s]"
      ]
     },
     "metadata": {},
     "output_type": "display_data"
    },
    {
     "name": "stdout",
     "output_type": "stream",
     "text": [
      "Epoch 576 - train loss: 0.3046 - train rmse: 0.0982 - val loss: 0.1461 - val rmse: 0.0605\n",
      "Validation MSE did not improve. Counter: 56/300\n"
     ]
    },
    {
     "data": {
      "application/vnd.jupyter.widget-view+json": {
       "model_id": "6483b1e686aa4f87971010660500aa47",
       "version_major": 2,
       "version_minor": 0
      },
      "text/plain": [
       "Train:   0%|          | 0/150 [00:00<?, ?it/s]"
      ]
     },
     "metadata": {},
     "output_type": "display_data"
    },
    {
     "name": "stdout",
     "output_type": "stream",
     "text": [
      "Epoch 577 - train loss: 0.3085 - train rmse: 0.0992 - val loss: 0.1455 - val rmse: 0.0605\n",
      "Validation MSE did not improve. Counter: 57/300\n"
     ]
    },
    {
     "data": {
      "application/vnd.jupyter.widget-view+json": {
       "model_id": "c6ea8bbc69b3460aa3150a2c07cd08ff",
       "version_major": 2,
       "version_minor": 0
      },
      "text/plain": [
       "Train:   0%|          | 0/150 [00:00<?, ?it/s]"
      ]
     },
     "metadata": {},
     "output_type": "display_data"
    },
    {
     "name": "stdout",
     "output_type": "stream",
     "text": [
      "Epoch 578 - train loss: 0.3040 - train rmse: 0.0980 - val loss: 0.1449 - val rmse: 0.0604\n",
      "Validation MSE did not improve. Counter: 58/300\n"
     ]
    },
    {
     "data": {
      "application/vnd.jupyter.widget-view+json": {
       "model_id": "0099ad13092545bc944720989bda4862",
       "version_major": 2,
       "version_minor": 0
      },
      "text/plain": [
       "Train:   0%|          | 0/150 [00:00<?, ?it/s]"
      ]
     },
     "metadata": {},
     "output_type": "display_data"
    },
    {
     "name": "stdout",
     "output_type": "stream",
     "text": [
      "Epoch 579 - train loss: 0.3026 - train rmse: 0.0978 - val loss: 0.1448 - val rmse: 0.0603\n",
      "Validation MSE did not improve. Counter: 59/300\n"
     ]
    },
    {
     "data": {
      "application/vnd.jupyter.widget-view+json": {
       "model_id": "f310a3e3515f409eb5b38563f84a2571",
       "version_major": 2,
       "version_minor": 0
      },
      "text/plain": [
       "Train:   0%|          | 0/150 [00:00<?, ?it/s]"
      ]
     },
     "metadata": {},
     "output_type": "display_data"
    },
    {
     "name": "stdout",
     "output_type": "stream",
     "text": [
      "Epoch 580 - train loss: 0.3001 - train rmse: 0.0974 - val loss: 0.1446 - val rmse: 0.0604\n",
      "Validation MSE did not improve. Counter: 60/300\n"
     ]
    },
    {
     "data": {
      "application/vnd.jupyter.widget-view+json": {
       "model_id": "49171db7c3c2424dbe9d3f35637511cb",
       "version_major": 2,
       "version_minor": 0
      },
      "text/plain": [
       "Train:   0%|          | 0/150 [00:00<?, ?it/s]"
      ]
     },
     "metadata": {},
     "output_type": "display_data"
    },
    {
     "name": "stdout",
     "output_type": "stream",
     "text": [
      "Epoch 581 - train loss: 0.3044 - train rmse: 0.0987 - val loss: 0.1454 - val rmse: 0.0603\n",
      "Validation MSE did not improve. Counter: 61/300\n"
     ]
    },
    {
     "data": {
      "application/vnd.jupyter.widget-view+json": {
       "model_id": "38ec64ca2088471abd53c73029e3e9bf",
       "version_major": 2,
       "version_minor": 0
      },
      "text/plain": [
       "Train:   0%|          | 0/150 [00:00<?, ?it/s]"
      ]
     },
     "metadata": {},
     "output_type": "display_data"
    },
    {
     "name": "stdout",
     "output_type": "stream",
     "text": [
      "Epoch 582 - train loss: 0.3047 - train rmse: 0.0985 - val loss: 0.1450 - val rmse: 0.0605\n",
      "Validation MSE did not improve. Counter: 62/300\n"
     ]
    },
    {
     "data": {
      "application/vnd.jupyter.widget-view+json": {
       "model_id": "f96d5efb4e2348cfa8f2d7151402ff5e",
       "version_major": 2,
       "version_minor": 0
      },
      "text/plain": [
       "Train:   0%|          | 0/150 [00:00<?, ?it/s]"
      ]
     },
     "metadata": {},
     "output_type": "display_data"
    },
    {
     "name": "stdout",
     "output_type": "stream",
     "text": [
      "Epoch 583 - train loss: 0.3052 - train rmse: 0.0988 - val loss: 0.1453 - val rmse: 0.0604\n",
      "Validation MSE did not improve. Counter: 63/300\n"
     ]
    },
    {
     "data": {
      "application/vnd.jupyter.widget-view+json": {
       "model_id": "69f5c1192d32468e906f92997c055ac3",
       "version_major": 2,
       "version_minor": 0
      },
      "text/plain": [
       "Train:   0%|          | 0/150 [00:00<?, ?it/s]"
      ]
     },
     "metadata": {},
     "output_type": "display_data"
    },
    {
     "name": "stdout",
     "output_type": "stream",
     "text": [
      "Epoch 584 - train loss: 0.3072 - train rmse: 0.0992 - val loss: 0.1453 - val rmse: 0.0605\n",
      "Validation MSE did not improve. Counter: 64/300\n"
     ]
    },
    {
     "data": {
      "application/vnd.jupyter.widget-view+json": {
       "model_id": "71ea6c361dd64ab296c375778b1ab73a",
       "version_major": 2,
       "version_minor": 0
      },
      "text/plain": [
       "Train:   0%|          | 0/150 [00:00<?, ?it/s]"
      ]
     },
     "metadata": {},
     "output_type": "display_data"
    },
    {
     "name": "stdout",
     "output_type": "stream",
     "text": [
      "Epoch 585 - train loss: 0.3022 - train rmse: 0.0979 - val loss: 0.1451 - val rmse: 0.0606\n",
      "Validation MSE did not improve. Counter: 65/300\n"
     ]
    },
    {
     "data": {
      "application/vnd.jupyter.widget-view+json": {
       "model_id": "0e5ee0a3a7044c57acd7072f5a78d842",
       "version_major": 2,
       "version_minor": 0
      },
      "text/plain": [
       "Train:   0%|          | 0/150 [00:00<?, ?it/s]"
      ]
     },
     "metadata": {},
     "output_type": "display_data"
    },
    {
     "name": "stdout",
     "output_type": "stream",
     "text": [
      "Epoch 586 - train loss: 0.3073 - train rmse: 0.0993 - val loss: 0.1457 - val rmse: 0.0606\n",
      "Validation MSE did not improve. Counter: 66/300\n"
     ]
    },
    {
     "data": {
      "application/vnd.jupyter.widget-view+json": {
       "model_id": "95a7e4d457f54e6991f8218e82e37bf5",
       "version_major": 2,
       "version_minor": 0
      },
      "text/plain": [
       "Train:   0%|          | 0/150 [00:00<?, ?it/s]"
      ]
     },
     "metadata": {},
     "output_type": "display_data"
    },
    {
     "name": "stdout",
     "output_type": "stream",
     "text": [
      "Epoch 587 - train loss: 0.3021 - train rmse: 0.0978 - val loss: 0.1461 - val rmse: 0.0605\n",
      "Validation MSE did not improve. Counter: 67/300\n"
     ]
    },
    {
     "data": {
      "application/vnd.jupyter.widget-view+json": {
       "model_id": "89e51061a4fb4bcb8de0f2f957393bbf",
       "version_major": 2,
       "version_minor": 0
      },
      "text/plain": [
       "Train:   0%|          | 0/150 [00:00<?, ?it/s]"
      ]
     },
     "metadata": {},
     "output_type": "display_data"
    },
    {
     "name": "stdout",
     "output_type": "stream",
     "text": [
      "Epoch 588 - train loss: 0.3072 - train rmse: 0.0991 - val loss: 0.1455 - val rmse: 0.0605\n",
      "Validation MSE did not improve. Counter: 68/300\n"
     ]
    },
    {
     "data": {
      "application/vnd.jupyter.widget-view+json": {
       "model_id": "104e1a52a2d847e4a680fedbf0758b84",
       "version_major": 2,
       "version_minor": 0
      },
      "text/plain": [
       "Train:   0%|          | 0/150 [00:00<?, ?it/s]"
      ]
     },
     "metadata": {},
     "output_type": "display_data"
    },
    {
     "name": "stdout",
     "output_type": "stream",
     "text": [
      "Epoch 589 - train loss: 0.3039 - train rmse: 0.0986 - val loss: 0.1449 - val rmse: 0.0606\n",
      "Validation MSE did not improve. Counter: 69/300\n"
     ]
    },
    {
     "data": {
      "application/vnd.jupyter.widget-view+json": {
       "model_id": "4c69463c48404b228378e9ec7eb25d30",
       "version_major": 2,
       "version_minor": 0
      },
      "text/plain": [
       "Train:   0%|          | 0/150 [00:00<?, ?it/s]"
      ]
     },
     "metadata": {},
     "output_type": "display_data"
    },
    {
     "name": "stdout",
     "output_type": "stream",
     "text": [
      "Epoch 590 - train loss: 0.3065 - train rmse: 0.0995 - val loss: 0.1456 - val rmse: 0.0607\n",
      "Validation MSE did not improve. Counter: 70/300\n"
     ]
    },
    {
     "data": {
      "application/vnd.jupyter.widget-view+json": {
       "model_id": "9703403db96e41228a31a761614f7465",
       "version_major": 2,
       "version_minor": 0
      },
      "text/plain": [
       "Train:   0%|          | 0/150 [00:00<?, ?it/s]"
      ]
     },
     "metadata": {},
     "output_type": "display_data"
    },
    {
     "name": "stdout",
     "output_type": "stream",
     "text": [
      "Epoch 591 - train loss: 0.3058 - train rmse: 0.0989 - val loss: 0.1449 - val rmse: 0.0604\n",
      "Validation MSE did not improve. Counter: 71/300\n"
     ]
    },
    {
     "data": {
      "application/vnd.jupyter.widget-view+json": {
       "model_id": "9651b0bbb6ad4f218a025f9235c0a594",
       "version_major": 2,
       "version_minor": 0
      },
      "text/plain": [
       "Train:   0%|          | 0/150 [00:00<?, ?it/s]"
      ]
     },
     "metadata": {},
     "output_type": "display_data"
    },
    {
     "name": "stdout",
     "output_type": "stream",
     "text": [
      "Epoch 592 - train loss: 0.3044 - train rmse: 0.0986 - val loss: 0.1445 - val rmse: 0.0605\n",
      "Validation MSE did not improve. Counter: 72/300\n"
     ]
    },
    {
     "data": {
      "application/vnd.jupyter.widget-view+json": {
       "model_id": "1bc4a4581b5547edbc4751b6b0e3397a",
       "version_major": 2,
       "version_minor": 0
      },
      "text/plain": [
       "Train:   0%|          | 0/150 [00:00<?, ?it/s]"
      ]
     },
     "metadata": {},
     "output_type": "display_data"
    },
    {
     "name": "stdout",
     "output_type": "stream",
     "text": [
      "Epoch 593 - train loss: 0.3014 - train rmse: 0.0982 - val loss: 0.1457 - val rmse: 0.0604\n",
      "Validation MSE did not improve. Counter: 73/300\n"
     ]
    },
    {
     "data": {
      "application/vnd.jupyter.widget-view+json": {
       "model_id": "93342b81c89a4ab596c07abbab155f06",
       "version_major": 2,
       "version_minor": 0
      },
      "text/plain": [
       "Train:   0%|          | 0/150 [00:00<?, ?it/s]"
      ]
     },
     "metadata": {},
     "output_type": "display_data"
    },
    {
     "name": "stdout",
     "output_type": "stream",
     "text": [
      "Epoch 594 - train loss: 0.3026 - train rmse: 0.0983 - val loss: 0.1455 - val rmse: 0.0604\n",
      "Validation MSE did not improve. Counter: 74/300\n"
     ]
    },
    {
     "data": {
      "application/vnd.jupyter.widget-view+json": {
       "model_id": "ef0b774f51a64fd2b73e8d047be42205",
       "version_major": 2,
       "version_minor": 0
      },
      "text/plain": [
       "Train:   0%|          | 0/150 [00:00<?, ?it/s]"
      ]
     },
     "metadata": {},
     "output_type": "display_data"
    },
    {
     "name": "stdout",
     "output_type": "stream",
     "text": [
      "Epoch 595 - train loss: 0.3030 - train rmse: 0.0982 - val loss: 0.1447 - val rmse: 0.0605\n",
      "Validation MSE did not improve. Counter: 75/300\n"
     ]
    },
    {
     "data": {
      "application/vnd.jupyter.widget-view+json": {
       "model_id": "fab47c5c179442d39e724823805e4a13",
       "version_major": 2,
       "version_minor": 0
      },
      "text/plain": [
       "Train:   0%|          | 0/150 [00:00<?, ?it/s]"
      ]
     },
     "metadata": {},
     "output_type": "display_data"
    },
    {
     "name": "stdout",
     "output_type": "stream",
     "text": [
      "Epoch 596 - train loss: 0.3054 - train rmse: 0.0992 - val loss: 0.1464 - val rmse: 0.0604\n",
      "Validation MSE did not improve. Counter: 76/300\n"
     ]
    },
    {
     "data": {
      "application/vnd.jupyter.widget-view+json": {
       "model_id": "43b9feb0b17446db9c4d02e03bd4dbd4",
       "version_major": 2,
       "version_minor": 0
      },
      "text/plain": [
       "Train:   0%|          | 0/150 [00:00<?, ?it/s]"
      ]
     },
     "metadata": {},
     "output_type": "display_data"
    },
    {
     "name": "stdout",
     "output_type": "stream",
     "text": [
      "Epoch 597 - train loss: 0.3004 - train rmse: 0.0979 - val loss: 0.1455 - val rmse: 0.0604\n",
      "Validation MSE did not improve. Counter: 77/300\n"
     ]
    },
    {
     "data": {
      "application/vnd.jupyter.widget-view+json": {
       "model_id": "7c60431ad6d44aecb3632cff59d2d004",
       "version_major": 2,
       "version_minor": 0
      },
      "text/plain": [
       "Train:   0%|          | 0/150 [00:00<?, ?it/s]"
      ]
     },
     "metadata": {},
     "output_type": "display_data"
    },
    {
     "name": "stdout",
     "output_type": "stream",
     "text": [
      "Epoch 598 - train loss: 0.3040 - train rmse: 0.0983 - val loss: 0.1447 - val rmse: 0.0604\n",
      "Validation MSE did not improve. Counter: 78/300\n"
     ]
    },
    {
     "data": {
      "application/vnd.jupyter.widget-view+json": {
       "model_id": "5d9cc2e9aebf4678b79a08b454dfe0be",
       "version_major": 2,
       "version_minor": 0
      },
      "text/plain": [
       "Train:   0%|          | 0/150 [00:00<?, ?it/s]"
      ]
     },
     "metadata": {},
     "output_type": "display_data"
    },
    {
     "name": "stdout",
     "output_type": "stream",
     "text": [
      "Epoch 599 - train loss: 0.3000 - train rmse: 0.0972 - val loss: 0.1445 - val rmse: 0.0604\n",
      "Validation MSE did not improve. Counter: 79/300\n"
     ]
    },
    {
     "data": {
      "application/vnd.jupyter.widget-view+json": {
       "model_id": "547ebb2e68ad4d9e8aa685a3b0633965",
       "version_major": 2,
       "version_minor": 0
      },
      "text/plain": [
       "Train:   0%|          | 0/150 [00:00<?, ?it/s]"
      ]
     },
     "metadata": {},
     "output_type": "display_data"
    },
    {
     "name": "stdout",
     "output_type": "stream",
     "text": [
      "Epoch 600 - train loss: 0.3089 - train rmse: 0.0999 - val loss: 0.1451 - val rmse: 0.0605\n",
      "Validation MSE did not improve. Counter: 80/300\n",
      "Finished Training. Loaded best model.\n"
     ]
    },
    {
     "data": {
      "image/png": "[encoded data removed]",
      "text/plain": [
       "<Figure size 1200x500 with 2 Axes>"
      ]
     },
     "metadata": {},
     "output_type": "display_data"
    }
   ],
   "source": [
    "from cosine_annealing_warmup import CosineAnnealingWarmupRestarts\n",
    "\n",
    "lr = 1e-4\n",
    "epochs = 600\n",
    "optimizer = optim.AdamW(model.parameters(), lr=lr)\n",
    "# criterion = nn.MSELoss().to(device)\n",
    "criterion = WingLoss().to(device)\n",
    "scheduler = torch.optim.lr_scheduler.OneCycleLR(\n",
    "    optimizer,\n",
    "    max_lr=1e-3, \n",
    "    steps_per_epoch=len(train_loader),\n",
    "    epochs=epochs,\n",
    "    pct_start=0.02,\n",
    "    final_div_factor=40000\n",
    ")\n",
    "# scheduler = optim.lr_scheduler.ReduceLROnPlateau(\n",
    "#     optimizer,\n",
    "#     mode='min',      \n",
    "#     factor=0.5,      \n",
    "#     patience=5,       \n",
    "#     min_lr=1e-6,     \n",
    "# )\n",
    "# scheduler = CosineAnnealingWarmupRestarts(\n",
    "#     optimizer,\n",
    "#     first_cycle_steps=20,\n",
    "#     cycle_mult=2,\n",
    "#     max_lr=lr,\n",
    "#     min_lr=lr/1000,\n",
    "#     warmup_steps=6,\n",
    "#     gamma=0.5\n",
    "# )\n",
    "\n",
    "best_val_loss = np.inf\n",
    "best_val_mse = np.inf\n",
    "epochs_no_improve = 0\n",
    "patience = int(epochs/2)\n",
    "#model_path = 'face_points.pth'\n",
    "model_path = 'face_points_b_32_4.pth'\n",
    "\n",
    "train_losses = []\n",
    "train_mses = []\n",
    "val_losses = []\n",
    "val_mses = []\n",
    "\n",
    "for epoch in tqdm(range(epochs), position=0, desc='Epoch'):\n",
    "    model.train()\n",
    "    train_loss = train_mse = train_seen = 0\n",
    "    val_loss = val_mse = val_seen = 0\n",
    "\n",
    "    with tqdm(train_loader, position=1, leave=False, desc='Train') as pbar:\n",
    "        for i, data in enumerate(pbar):\n",
    "            inputs, targets = data[0].to(device), data[1].to(device).float()\n",
    "            optimizer.zero_grad()\n",
    "\n",
    "            outputs = model(inputs)\n",
    "            loss = criterion(outputs, targets)\n",
    "            loss.backward()\n",
    "            optimizer.step()\n",
    "            scheduler.step()\n",
    "            train_loss += loss.item() * batch_size\n",
    "            train_mse += (torch.sum((outputs-targets)**2)/outputs.shape[1]).item()\n",
    "            train_seen += batch_size\n",
    "            pbar.set_postfix(\n",
    "                loss=f'{train_loss/train_seen:.4f}',\n",
    "                rmse=f'{np.sqrt(train_mse/train_seen):.4f}',\n",
    "                lr=f'{optimizer.param_groups[0]['lr']:.6f}'\n",
    "            )\n",
    "\n",
    "    model.eval()\n",
    "    with torch.no_grad():\n",
    "        for data in val_loader:\n",
    "            inputs, targets = data[0].to(device), data[1].to(device).float()\n",
    "            outputs = model(inputs)\n",
    "            val_loss += criterion(outputs, targets).item() * batch_size\n",
    "            val_mse += (torch.sum((outputs-targets)**2)/outputs.shape[1]).item()\n",
    "            val_seen += batch_size\n",
    "    \n",
    "    train_loss /= train_seen\n",
    "    train_mse /= train_seen\n",
    "    val_loss /= val_seen\n",
    "    val_mse /= val_seen\n",
    "    # scheduler.step(val_loss)\n",
    "    \n",
    "    tqdm.write(f'Epoch {epoch+1} - train loss: {train_loss:.4f} - train rmse: {np.sqrt(train_mse):.4f} - val loss: {val_loss:.4f} - val rmse: {np.sqrt(val_mse):.4f}')\n",
    "    train_losses.append(train_loss)\n",
    "    train_mses.append(train_mse)\n",
    "    val_losses.append(val_loss)\n",
    "    val_mses.append(val_mse)\n",
    "\n",
    "    if val_mse < best_val_mse:\n",
    "        tqdm.write(f'Validation MSE improved ({best_val_mse:.4f} --> {val_mse:.4f}). Saving model...')\n",
    "        torch.save(model.state_dict(), model_path)\n",
    "        best_val_mse = val_mse\n",
    "        epochs_no_improve = 0\n",
    "    else:\n",
    "        epochs_no_improve += 1\n",
    "        tqdm.write(f'Validation MSE did not improve. Counter: {epochs_no_improve}/{patience}')\n",
    "\n",
    "    if epochs_no_improve >= patience:\n",
    "        tqdm.write('Early stopping triggered.')\n",
    "        break\n",
    "\n",
    "\n",
    "if os.path.exists(model_path):\n",
    "    model.load_state_dict(torch.load(model_path, weights_only=False))\n",
    "    print('Finished Training. Loaded best model.')\n",
    "else:\n",
    "    print('No improvement during training. Using final model.')\n",
    "\n",
    "plot_metrics(train_losses, val_losses, train_mses, val_mses)\n"
   ]
  },
  {
   "cell_type": "code",
   "execution_count": 51,
   "id": "c5676cb7",
   "metadata": {},
   "outputs": [
    {
     "data": {
      "image/png": "[encoded data removed]",
      "text/plain": [
       "<Figure size 1200x500 with 2 Axes>"
      ]
     },
     "metadata": {},
     "output_type": "display_data"
    }
   ],
   "source": [
    "plot_metrics(train_losses, val_losses, train_mses, val_mses)"
   ]
  },
  {
   "cell_type": "code",
   "execution_count": 56,
   "id": "2a13d56f",
   "metadata": {},
   "outputs": [
    {
     "name": "stdout",
     "output_type": "stream",
     "text": [
      "Validation loss: 0.1441742007277514, validation RMSE: 0.05943501789030148\n"
     ]
    }
   ],
   "source": [
    "# model_path = './face_points.pth'      #pixel error 7.8px: generally better, but worse on rotations\n",
    "# model_path = 'face_points_b_32.pth'   #pixel error 8.9px: better on rotations\n",
    "# model_path = 'face_points_b_32_2.pth'   #pixel error 8.9px: better on rotations\n",
    "# model_path = 'face_points_b_32_3.pth'   #pixel error 6.3px\n",
    "model_path = 'face_points_b_32_4.pth'   #pixel error 5.9px\n",
    "\n",
    "model.load_state_dict(torch.load(model_path, weights_only=False))\n",
    "\n",
    "criterion = WingLoss().to(device)\n",
    "val_loss = val_mse = val_seen = 0\n",
    "\n",
    "model.eval()\n",
    "with torch.no_grad():\n",
    "    for data in val_loader:\n",
    "        inputs, targets = data[0].to(device), data[1].to(device).float()\n",
    "        outputs = model(inputs)\n",
    "        val_loss += criterion(outputs, targets).item() * batch_size\n",
    "        val_mse += (torch.sum((outputs-targets)**2)/outputs.shape[1]).item()\n",
    "        val_seen += batch_size\n",
    "\n",
    "val_loss /= val_seen\n",
    "val_mse /= val_seen\n",
    "print(f'Validation loss: {val_loss}, validation RMSE: {np.sqrt(val_mse)}')"
   ]
  },
  {
   "cell_type": "markdown",
   "id": "c5796437",
   "metadata": {},
   "source": [
    "# Visualize Result"
   ]
  },
  {
   "cell_type": "code",
   "execution_count": 57,
   "id": "6aa4a046",
   "metadata": {},
   "outputs": [],
   "source": [
    "import matplotlib.pyplot as plt\n",
    "import torch\n",
    "\n",
    "def visualize_prediction(image_tensor, predicted_keypoints_tensor, target_size=100):\n",
    "    \"\"\"\n",
    "    Визуализирует одно изображение с предсказанными моделью ключевыми точками.\n",
    "\n",
    "    Args:\n",
    "        image_tensor (torch.Tensor): Тензор изображения в формате [C, H, W].\n",
    "        predicted_keypoints_tensor (torch.Tensor): Тензор предсказанных координат.\n",
    "        target_size (int): Размер изображения, использованный при обучении.\n",
    "    \"\"\"\n",
    "    image = image_tensor.cpu().permute(1, 2, 0)\n",
    "    \n",
    "    mean = torch.tensor([0.485, 0.456, 0.406])\n",
    "    std = torch.tensor([0.229, 0.224, 0.225])\n",
    "    image = image * std + mean\n",
    "    \n",
    "    image = torch.clamp(image, 0, 1)\n",
    "\n",
    "    keypoints = predicted_keypoints_tensor.detach().cpu().numpy()\n",
    "    \n",
    "    keypoints = keypoints.reshape(-1, 2) * target_size\n",
    "\n",
    "    fig, ax = plt.subplots(1, 1, figsize=(8, 8))\n",
    "    ax.imshow(image)\n",
    "    \n",
    "    ax.scatter(keypoints[:, 0], keypoints[:, 1], c='red', s=40)\n",
    "    \n",
    "    # ax.set_title('Model Prediction')\n",
    "    ax.axis('off')\n",
    "    plt.show()\n",
    "\n"
   ]
  },
  {
   "cell_type": "code",
   "execution_count": 58,
   "id": "b96835b0",
   "metadata": {},
   "outputs": [
    {
     "data": {
      "image/png": "[encoded data removed]",
      "text/plain": [
       "<Figure size 800x800 with 1 Axes>"
      ]
     },
     "metadata": {},
     "output_type": "display_data"
    },
    {
     "data": {
      "image/png": "[encoded data removed]",
      "text/plain": [
       "<Figure size 800x800 with 1 Axes>"
      ]
     },
     "metadata": {},
     "output_type": "display_data"
    },
    {
     "data": {
      "image/png": "[encoded data removed]",
      "text/plain": [
       "<Figure size 800x800 with 1 Axes>"
      ]
     },
     "metadata": {},
     "output_type": "display_data"
    },
    {
     "data": {
      "image/png": "[encoded data removed]",
      "text/plain": [
       "<Figure size 800x800 with 1 Axes>"
      ]
     },
     "metadata": {},
     "output_type": "display_data"
    },
    {
     "data": {
      "image/png": "[encoded data removed]",
      "text/plain": [
       "<Figure size 800x800 with 1 Axes>"
      ]
     },
     "metadata": {},
     "output_type": "display_data"
    }
   ],
   "source": [
    "indices_to_visualize = [1, 2, 5, 20, 26] \n",
    "\n",
    "model.eval()\n",
    "\n",
    "with torch.no_grad():\n",
    "    \n",
    "    for idx in indices_to_visualize:\n",
    "        \n",
    "        image_tensor = val_dataset[idx][0]\n",
    "        input_tensor = image_tensor.unsqueeze(0).to(device)\n",
    "        predicted_keypoints = model(input_tensor)\n",
    "        predicted_keypoints = predicted_keypoints[0]\n",
    "        visualize_prediction(image_tensor, predicted_keypoints)"
   ]
  },
  {
   "cell_type": "code",
   "execution_count": null,
   "id": "5057aaee-27a7-4b27-9e8f-9ffbbd57d503",
   "metadata": {},
   "outputs": [],
   "source": []
  }
 ],
 "metadata": {
  "kernelspec": {
   "display_name": "Python 3",
   "language": "python",
   "name": "python3"
  },
  "language_info": {
   "codemirror_mode": {
    "name": "ipython",
    "version": 3
   },
   "file_extension": ".py",
   "mimetype": "text/x-python",
   "name": "python",
   "nbconvert_exporter": "python",
   "pygments_lexer": "ipython3",
   "version": "3.13.5"
  }
 },
 "nbformat": 4,
 "nbformat_minor": 5
}
